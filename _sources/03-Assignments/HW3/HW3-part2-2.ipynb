{
 "cells": [
  {
   "cell_type": "markdown",
   "id": "96b3e9d9-60d6-406b-bedc-fe11d35acf5b",
   "metadata": {},
   "source": [
    "# HW 3 Part 2-2"
   ]
  },
  {
   "cell_type": "markdown",
   "id": "a1255ecf-7e22-4ff4-81ee-ad5b719cfd31",
   "metadata": {},
   "source": [
    "The multivariate normal probability density function is\n",
    "\n",
    "$$\n",
    "p\\left(\\boldsymbol z \\right)=\\left(2\\pi\\right)^{-\\left(\\frac{T}{2}\\right)}\\det\\left(\\Sigma\\right)^{-\\frac{1}{2}}\\exp\\left(-.5\\left(\\boldsymbol z-\\mu\\right)^{\\prime}\\Sigma^{-1}\\left(\\boldsymbol z-\\mu\\right)\\right)\n",
    "\\tag{1}$$\n",
    "\n",
    "* where $ \\boldsymbol \\mu =\\operatorname{E} \\boldsymbol z $ is the mean of the $Tx1$-dimensional random vector $ \\boldsymbol z$ \n",
    "* and\n",
    "$ \\Sigma=\\operatorname{E}\\left(\\boldsymbol z -\\boldsymbol \\mu \\right)\\left(\\boldsymbol z- \\boldsymbol \\mu \\right)^\\prime = \\operatorname{cov}(\\boldsymbol z) $ is the covariance matrix of $ \\boldsymbol z $"
   ]
  },
  {
   "cell_type": "code",
   "execution_count": 1,
   "id": "892aacfe-19c5-42fb-bd79-e76b99732d66",
   "metadata": {},
   "outputs": [],
   "source": [
    "# TODO\n",
    "# import numpy\n"
   ]
  },
  {
   "cell_type": "markdown",
   "id": "8ba61050-9f82-45b8-9fab-7e2bff98533c",
   "metadata": {},
   "source": [
    "__2.1__ Create Mu as\n",
    "\n",
    "$$\n",
    "\\boldsymbol \\mu = \n",
    "    \\begin{bmatrix}\n",
    "      1 \\\\\n",
    "      1\n",
    "    \\end{bmatrix}\n",
    "$$"
   ]
  },
  {
   "cell_type": "code",
   "execution_count": 72,
   "id": "0ead6ab8-fc00-4148-94ea-58b7d344344d",
   "metadata": {},
   "outputs": [],
   "source": [
    "# TODO \n",
    "#MU = ...\n",
    "#assert Mu.shape==(2,1)"
   ]
  },
  {
   "cell_type": "markdown",
   "id": "0523da00-e786-47b0-88a2-b36a97c278c1",
   "metadata": {},
   "source": [
    "__2.2__ Create SIGMA as\n",
    "\n",
    "$$\n",
    "    \\mathbf{\\Sigma} = \n",
    "    \\begin{bmatrix}\n",
    "         1 & 0.9 \\\\\n",
    "         0.9 & 1\n",
    "    \\end{bmatrix}\n",
    "$$"
   ]
  },
  {
   "cell_type": "code",
   "execution_count": 73,
   "id": "a93a57cd-75eb-4eb8-b227-a588c868b9f8",
   "metadata": {},
   "outputs": [],
   "source": [
    "# TODO \n",
    "#SIGMA = ...\n",
    "#assert SIGMA.shape==(2,2)"
   ]
  },
  {
   "cell_type": "markdown",
   "id": "62acd2a7-6be1-4d21-abbe-befac965c762",
   "metadata": {},
   "source": [
    "__2.3__ Compute the determinant of SIGMA \n",
    "\n",
    "$$\\det\\left(\\Sigma\\right)$$\n",
    "\n",
    "__HINT:__ [see here](https://numpy.org/doc/stable/reference/routines.linalg.html)"
   ]
  },
  {
   "cell_type": "code",
   "execution_count": null,
   "id": "83b78c74-5676-4c70-b38c-23cf3ca0ae22",
   "metadata": {},
   "outputs": [],
   "source": [
    "#TODO\n",
    "#detSIGMA = ..."
   ]
  },
  {
   "cell_type": "markdown",
   "id": "442e7335-8e2b-43af-8311-da877177087a",
   "metadata": {},
   "source": [
    "__2.4__ Compute the inverse of SIGMA \n",
    "\n",
    "$$\\Sigma^{-1}$$\n",
    "\n",
    "__HINT:__ [see here](https://numpy.org/doc/stable/reference/routines.linalg.html)"
   ]
  },
  {
   "cell_type": "code",
   "execution_count": null,
   "id": "a383859e-e413-42d3-9abe-71f1f2e3a3ca",
   "metadata": {},
   "outputs": [],
   "source": [
    "#TODO\n",
    "#invSIGMA = ..."
   ]
  },
  {
   "cell_type": "markdown",
   "id": "228e5b81-00c8-44e2-a0c6-b426105c08a1",
   "metadata": {},
   "source": [
    "__2.5__ Generate __1__ draw from bivariate normal distribution with mean Mu and covariance SIGMA, using \n",
    "\n",
    "`gen = np.random.default_rng(100)`\n",
    "\n",
    "__HINT:__ the `multivariate_normal` function expects `mean` as a 1-D array. What is the dimension of Mu?"
   ]
  },
  {
   "cell_type": "code",
   "execution_count": null,
   "id": "f44915aa-a927-4e7c-a61d-b0d8ca5c0578",
   "metadata": {},
   "outputs": [],
   "source": [
    "#TODO\n",
    "# gen = ...\n",
    "# z = \n",
    "# print(z)"
   ]
  },
  {
   "cell_type": "markdown",
   "id": "9861d9d3-2b78-4d08-bec4-0ea967e9cc7c",
   "metadata": {},
   "source": [
    "__2.6__ Compute the difference between z and Mu and assign it to variable `residual` which has the same dimensions as Mu\n",
    "\n",
    "__Hint__ check the `shape` of z"
   ]
  },
  {
   "cell_type": "code",
   "execution_count": null,
   "id": "95eae0c4-c54b-47df-940d-f9bcfbb286d1",
   "metadata": {},
   "outputs": [],
   "source": [
    "#TODO\n",
    "#residual = ..."
   ]
  },
  {
   "cell_type": "markdown",
   "id": "05e1866c-3726-4285-9c73-61b194ffa217",
   "metadata": {},
   "source": [
    "__2.7__ Compute \n",
    "\n",
    "$$\\left(\\boldsymbol z-\\mu\\right)^{\\prime}\\Sigma^{-1}\\left(\\boldsymbol z-\\mu\\right)$$\n",
    "\n",
    "and assign the value to variable `dist`"
   ]
  },
  {
   "cell_type": "code",
   "execution_count": 101,
   "id": "491c4634-59a0-4ef9-b547-5060e096ea07",
   "metadata": {},
   "outputs": [],
   "source": [
    "#TODO\n",
    "#dist = ..."
   ]
  },
  {
   "cell_type": "markdown",
   "id": "2760289e-b7e7-4fb3-bedc-9a895b73fa39",
   "metadata": {},
   "source": [
    "__2.8__ Compute \n",
    "\n",
    "$$ \\left(2\\pi\\right)^{-\\left(\\frac{T}{2}\\right)}\\det\\left(\\Sigma\\right)^{-\\frac{1}{2}} $$\n",
    "\n",
    "and assign ot to variable `const`"
   ]
  },
  {
   "cell_type": "code",
   "execution_count": 103,
   "id": "8f3c7551-ab0b-41f8-a656-c110e78efb4b",
   "metadata": {},
   "outputs": [],
   "source": [
    "#TODO\n",
    "#const = "
   ]
  },
  {
   "cell_type": "markdown",
   "id": "017631a9-9a39-4711-947d-3c54c22e3610",
   "metadata": {},
   "source": [
    "__2.9__ Compute the value probability density function\n",
    "\n",
    "$$\n",
    "p\\left(\\boldsymbol z \\right)=\\left(2\\pi\\right)^{-\\left(\\frac{T}{2}\\right)}\\det\\left(\\Sigma\\right)^{-\\frac{1}{2}}\\exp\\left(-.5\\left(\\boldsymbol z-\\mu\\right)^{\\prime}\\Sigma^{-1}\\left(\\boldsymbol z-\\mu\\right)\\right)\n",
    "\\tag{1}$$\n",
    "\n",
    "and assign it to variable `likelihood`"
   ]
  },
  {
   "cell_type": "code",
   "execution_count": null,
   "id": "5c908d59-47d1-49c2-9943-5a4edc74ec0a",
   "metadata": {},
   "outputs": [],
   "source": [
    "#TODO\n",
    "#likelihood = ..."
   ]
  },
  {
   "cell_type": "markdown",
   "id": "e2fc555d-4830-4cd8-95cf-2021f6ff7579",
   "metadata": {},
   "source": [
    "__2.10__ Compute the log of the likelihood and assign it to variable `log_likelihood`"
   ]
  },
  {
   "cell_type": "code",
   "execution_count": 112,
   "id": "9df998cc-4dc4-4ad0-b5bd-63da7f86f200",
   "metadata": {},
   "outputs": [],
   "source": [
    "#TODO\n",
    "#log_likelihood = ..."
   ]
  },
  {
   "cell_type": "markdown",
   "id": "0280b1de-df6c-4f7f-85ed-73c15b4bf2e7",
   "metadata": {},
   "source": [
    "__2.11__ Write a function which takes a T dimensional vector z, a T-dimensional vector Mu, and a TxT dimensional matrix SIGMA, and returns the value of the gaussian log-likelihood. Test it with the z, Mu, and SIGMA you generated above.\n",
    "\n",
    "__HINT:__ Since we want the log-likelihood, it is not necesary to first compute the likelihood, as you did above. You can apply the log to the expression in (1) (or google gaussian loglikelihood) and implement that formula directly. That would be simpler, but following the same steps as above is also acceptable as a solution."
   ]
  },
  {
   "cell_type": "code",
   "execution_count": 114,
   "id": "e6eea53e-9819-4724-af63-2a060f5598a4",
   "metadata": {},
   "outputs": [],
   "source": [
    "def get_log_lik(z, Mu, SIGMA):\n",
    "    #TODO\n",
    "    # ...\n",
    "    #log_likelihood = ...\n",
    "    return log_likelihood"
   ]
  },
  {
   "cell_type": "code",
   "execution_count": 115,
   "id": "6dc96cef-018a-4742-abce-4ba50cad1097",
   "metadata": {},
   "outputs": [],
   "source": [
    "#log_lik = get_log_lik(z, Mu, SIGMA)\n",
    "#np.testing.assert_almost_equal(log_likelihood, log_lik)"
   ]
  }
 ],
 "metadata": {
  "kernelspec": {
   "display_name": "Python 3 (ipykernel)",
   "language": "python",
   "name": "python3"
  },
  "language_info": {
   "codemirror_mode": {
    "name": "ipython",
    "version": 3
   },
   "file_extension": ".py",
   "mimetype": "text/x-python",
   "name": "python",
   "nbconvert_exporter": "python",
   "pygments_lexer": "ipython3",
   "version": "3.10.2"
  }
 },
 "nbformat": 4,
 "nbformat_minor": 5
}
