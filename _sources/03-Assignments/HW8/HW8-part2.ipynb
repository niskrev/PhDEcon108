{
 "cells": [
  {
   "cell_type": "markdown",
   "id": "7dbd2df4-d644-4cc9-97ec-c2b3536e63cf",
   "metadata": {},
   "source": [
    "# HW8 Part 2"
   ]
  },
  {
   "cell_type": "code",
   "execution_count": 42,
   "id": "c80f3f81-fb27-466e-883b-7cd558d1e1ce",
   "metadata": {},
   "outputs": [],
   "source": [
    "# imports here"
   ]
  },
  {
   "cell_type": "code",
   "execution_count": 3,
   "id": "7f55ce24-b416-4455-bc8f-8f2cbde53a3c",
   "metadata": {},
   "outputs": [],
   "source": [
    "# TODO\n",
    "# import the data from sign_svar_data.txt"
   ]
  },
  {
   "cell_type": "code",
   "execution_count": 20,
   "id": "770f6ab4-7248-4be0-a431-5ce4c52d285e",
   "metadata": {},
   "outputs": [],
   "source": [
    "# TODO\n",
    "# The series are the logs of quarterly US real GDP and CPI, from 1950 until 2009.\n",
    "# Create a pandas dataframe with proper datetime index and column labels\n",
    "# make a plot. "
   ]
  },
  {
   "cell_type": "code",
   "execution_count": 26,
   "id": "d2163982-6968-4413-adc7-c8cd599d61dd",
   "metadata": {},
   "outputs": [],
   "source": [
    "# TODO\n",
    "# Transform the data into annualized growth rates (first difference multiplied by 400)\n",
    "# create a new dataframe with the growth rates, and label the columns accordingly"
   ]
  },
  {
   "cell_type": "code",
   "execution_count": 10,
   "id": "2cdc978b-c6ad-41f5-bab9-b1fcd94c33fb",
   "metadata": {},
   "outputs": [],
   "source": [
    "# TODO\n",
    "# Create a VAR model for the growth rates"
   ]
  },
  {
   "cell_type": "code",
   "execution_count": 30,
   "id": "29ce8eca-3afc-46e7-aa69-36456d093033",
   "metadata": {},
   "outputs": [],
   "source": [
    "# TODO\n",
    "# estimate the model with p=2 including a constant and a time trend "
   ]
  },
  {
   "cell_type": "code",
   "execution_count": 32,
   "id": "579259d9-8eb9-40e4-8ab8-ae60be714296",
   "metadata": {},
   "outputs": [],
   "source": [
    "# TODO\n",
    "# Compute and print the covariance matrix of the residuals, call it Sigma"
   ]
  },
  {
   "cell_type": "code",
   "execution_count": null,
   "id": "de4e7131-b919-4ddb-bb4b-9cece4273292",
   "metadata": {},
   "outputs": [],
   "source": [
    "#Sigma = \n",
    "#array([[12.17167405, -0.30910097],\n",
    "#       [-0.30910097,  5.92258163]])"
   ]
  },
  {
   "cell_type": "code",
   "execution_count": null,
   "id": "a926dd77-7714-46ad-9edd-ed042d3fbdcc",
   "metadata": {},
   "outputs": [],
   "source": [
    "# TODO\n",
    "# Compute the companion matrix of the estimated VAR"
   ]
  },
  {
   "cell_type": "code",
   "execution_count": 70,
   "id": "d9f6ff3c-84d1-41b2-b796-6349f607a0a5",
   "metadata": {},
   "outputs": [],
   "source": [
    "# TODO\n",
    "# Compute and store in variable MA_VAR1 the first 10 coefficients of \n",
    "# the MA representation of the VAR(1) representaton of the estimated VAR\n",
    "\n",
    "# Note: use a loop. The function np.linalg.matrix_power may be helpful. The dimensions of MA_VAR1 must be (10, 4, 4)"
   ]
  },
  {
   "cell_type": "code",
   "execution_count": 59,
   "id": "84e9a7ee-3806-46a7-a8d7-31c192cc614b",
   "metadata": {},
   "outputs": [],
   "source": [
    "# TODO from MA_VAR1 compute the coefficients of the MA representation of the estimated VAR. Store in MA_VAR2\n",
    "\n",
    "# Note: use a selection matrix. The dimensions of MA_VAR2 must be (10, 2, 2)"
   ]
  },
  {
   "cell_type": "code",
   "execution_count": 40,
   "id": "f7b2dfbd-e2b6-480e-bbe6-b42b85cd4310",
   "metadata": {},
   "outputs": [],
   "source": [
    "# TODO\n",
    "# confirm that MA_VAR2 is identical to the output from results.ma_rep(maxn=10) (results is the estimated VAR)\n",
    "\n",
    "# Note: you can use numpy's testing.assert_allclose"
   ]
  },
  {
   "cell_type": "markdown",
   "id": "8e0d8551-f58f-4415-ae5b-8f3d0e3acc05",
   "metadata": {},
   "source": [
    "Suppose that we want to identify aggregate supply and demand shocks.\n",
    "We could impose the following sign restrictions:\n",
    "* a supply shock has a positive effect on output and a negative effect on prices\n",
    "* a demand shock has a positive effect on both output and prices.\n",
    "\n",
    "Note that these are restrictions on the effect of the shocks on the __levels__ of our variable. We can transform impulse responses of growth rates into impulse  responses of levels by computing the cumulative sums. \n",
    "\n",
    "To impose the sign restrictions we need to find an orthogonal matrix $Q$ such that the matrix \n",
    "\n",
    "$$B_0^{-1} = PQ$$ \n",
    "\n",
    "results in reponses with the right signs, where $P$ is any matrix such that $$P P^{\\prime} = \\Sigma$$\n",
    "\n",
    "We can use the Cholesky factor of $\\Sigma$ as our $P$."
   ]
  },
  {
   "cell_type": "code",
   "execution_count": 1,
   "id": "05dcd006-26d5-4b0e-9d2e-be7714066f91",
   "metadata": {},
   "outputs": [],
   "source": [
    "# TODO\n",
    "# One trivial candidate for Q is the identity matrix.\n",
    "# Check if it results in impulse responses satisfying our sign restrictions.\n",
    "\n",
    "# Tip: Remember that we need the cumulative impulse responses. You should make a plot and \n",
    "# think whether the two orthogonal shocks identified with the Cholesky factor satisfy the sign restrictions\n",
    "# Also, make sure you understand the order of variables and shocks in the impulse responses you computed. \n",
    "# At this point we just ask if the shocks could be a supply and a demand shock, but dont impose an order."
   ]
  },
  {
   "cell_type": "markdown",
   "id": "433862ea-efd4-49be-889a-4c9ad05fe0bd",
   "metadata": {},
   "source": [
    "Define $Q(\\theta)$ as\n",
    "\n",
    "$$ Q(\\theta) =  \\left[\\begin{array}{cc}\n",
    "\\cos(\\theta) & \\sin(\\theta)\\\\\n",
    "-\\sin(\\theta) & \\cos(\\theta) \\\\\n",
    "\\end{array}\\right]$$\n",
    "\n",
    "for $\\theta \\in (0, 2 \\pi)$"
   ]
  },
  {
   "cell_type": "code",
   "execution_count": 2,
   "id": "68087937-a0c9-4f4a-83c1-f0adf06f1b9e",
   "metadata": {},
   "outputs": [],
   "source": [
    "# TODO\n",
    "\n",
    "# Compute Q for theta = 0.2*np.pi. Confirm that it is an orthogonal matrix. Confirm that (P@Q)@(P@Q).T = Sigma"
   ]
  },
  {
   "cell_type": "code",
   "execution_count": 3,
   "id": "cc3cddf4-0fb0-4103-8768-d6fdc87aee72",
   "metadata": {},
   "outputs": [],
   "source": [
    "# TODO\n",
    "# Check if this choice of Q results in impulse responses satisfying our sign restrictions.\n",
    "# Again, make sure you understand the order of variables and shocks in the impulse responses you computed. \n",
    "\n",
    "#Tip: You should see responses consistent with our sign restrictions. This can be used to fix the order - which shock is supply and which demand."
   ]
  },
  {
   "cell_type": "markdown",
   "id": "5a7dac68-1d28-4509-a80c-5363330c7c19",
   "metadata": {},
   "source": [
    "Given a 10x2x2 array of impulse responses, we want to be able to check if our sign restroctions are satisfied. That is, see if all responses of output to a supply and demand shocks are positive,  all responses of prices to a supply shock are negative, and all responses of prices to a demand shock are positive.\n",
    "\n",
    "Some ideas for useful ways to index numpy arrays can be explored [here](https://jakevdp.github.io/PythonDataScienceHandbook/02.07-fancy-indexing.html)"
   ]
  },
  {
   "cell_type": "code",
   "execution_count": 4,
   "id": "b6aab97f-fa00-439f-805e-47f6913af447",
   "metadata": {},
   "outputs": [],
   "source": [
    "# TODO\n",
    "\n",
    "#Generate 1000 sets of impulse responses that satisfy the sign restrictions as follows\n",
    "\n",
    "#- draw theta from the interval (0, 2*pi) \n",
    "#- compute Q(theta) \n",
    "#- compute the impulse responses and check if the sign restrictions are satisfied. If yes keep them, otherwise dont.\n",
    "#- continue until you have 1000 valid sets of impulse responses"
   ]
  },
  {
   "cell_type": "code",
   "execution_count": 5,
   "id": "23464992-1f9a-41a4-9c47-57c661b1d9c9",
   "metadata": {},
   "outputs": [],
   "source": [
    "# TODO\n",
    "# Make a 2x2 plot of all impulse responses for each variable and shock. \n",
    "# Label each subplot (which variable and shock)\n",
    "# use the same color for each line, and some small value for transparancy (e.g. alpha=0.01) "
   ]
  },
  {
   "cell_type": "markdown",
   "id": "8da781d1-d5d6-4597-8d44-b39837aebd57",
   "metadata": {},
   "source": [
    "Another method for generating candidates for Q is based on the QR decomposition.\n",
    "One common approach is to apply it to a random matrix $H$ with that $H_{ij} \\sim N(0, 1)$, which guarantees that $H$ is invertable with probability 1. The QR factorization of $H$ will be unique if the diagonal elements of $R$ are positive. This can be enforced by reversing the signs of the elements of the i-th column of $Q$ if the i-th diagonal element of $R$ is negative. Here is one way to generate such $Q$ in python\n",
    "\n",
    "```\n",
    "    [Q,R] = np.linalg.qr(np.random.randn(n,n))\n",
    "\n",
    "    for j in range(n):\n",
    "        if R[j,j]<0:\n",
    "            Q[:,j] = -Q[:,j]\n",
    "```"
   ]
  },
  {
   "cell_type": "code",
   "execution_count": 6,
   "id": "157955a1-d329-4807-8b03-7e84e6a9be06",
   "metadata": {},
   "outputs": [],
   "source": [
    "# TODO\n",
    "# Generate another 1000 sets of impulse responses that satisfy the sign restrictions using the QR approach.\n",
    "# Make another 2x2 plot of all impulse responses for each variable and shock."
   ]
  }
 ],
 "metadata": {
  "kernelspec": {
   "display_name": "Python 3 (ipykernel)",
   "language": "python",
   "name": "python3"
  },
  "language_info": {
   "codemirror_mode": {
    "name": "ipython",
    "version": 3
   },
   "file_extension": ".py",
   "mimetype": "text/x-python",
   "name": "python",
   "nbconvert_exporter": "python",
   "pygments_lexer": "ipython3",
   "version": "3.7.12"
  }
 },
 "nbformat": 4,
 "nbformat_minor": 5
}
