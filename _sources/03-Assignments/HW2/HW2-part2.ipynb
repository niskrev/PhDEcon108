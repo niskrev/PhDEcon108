{
 "cells": [
  {
   "cell_type": "markdown",
   "id": "ebd2956f-5ca0-4c39-960e-5f4aeb4ebe61",
   "metadata": {},
   "source": [
    "# HW 2 Part 2\n",
    "\n",
    "Suppose that you had to redo the work you did in Part 1 for different group of HICP indices. You could duplicate that notebook (right click on the name of a notebook anc choose Duplicate, or press Ctrl+d), replace the list of subindices and then run the remaining cells. However, this is not very efficient and violates a basic principle of programming, known as __DRY__ - don't repeat yourself. A better approach is to write functions and automate, whenever possible, tasks which are repeated.\n",
    "\n",
    "Your task in this part of the homework is to replace parts of the code in Part 1 with functions."
   ]
  },
  {
   "cell_type": "code",
   "execution_count": 1,
   "id": "576e5c23-9844-459d-aea3-db692b2f92b0",
   "metadata": {},
   "outputs": [],
   "source": [
    "# import the necessary packages\n"
   ]
  },
  {
   "cell_type": "markdown",
   "id": "ea9bc933-db13-44f9-9ffe-129413c60971",
   "metadata": {},
   "source": [
    "__2.0__ Get the `hicp_codes` dataframe as in Part 1."
   ]
  },
  {
   "cell_type": "code",
   "execution_count": 4,
   "id": "7773b28d-074b-4a1e-9aed-ff2676c08cb1",
   "metadata": {},
   "outputs": [],
   "source": []
  },
  {
   "cell_type": "markdown",
   "id": "3196f430-dc7a-4d46-95d4-4ebe54fc777e",
   "metadata": {},
   "source": [
    "__2.1__ Write a function which takes as input an `item group code` pattern (a string) and returns two lists - one of the codes and the other - of the code descriptions of all items in that item group. With that function you should be able to get any group of items for any level of aggregation. Test the function for the group of indices you downloaded in Part 1, and several other groups to make sure it returns the correct lists. For example try \"HICP - Overall index\" (one item), all items from \"HICP - FOOD AND NON-ALCOHOLIC BEVERAGES\" (75 items), all items from \"HICP - Food\" (65 items), etc.\n",
    "\n",
    "Use the function to get the codes and descriptions of the item group you got in __1.2__ of Part 1.\n",
    "\n",
    "\n",
    "__Note:__ the function will use `hicp_codes` which you should have created in __2.0__\n"
   ]
  },
  {
   "cell_type": "code",
   "execution_count": null,
   "id": "8d389dee",
   "metadata": {},
   "outputs": [],
   "source": [
    "#TODO"
   ]
  },
  {
   "cell_type": "markdown",
   "id": "2c2c071d-0ea8-4ba4-af16-9fc8e6b16084",
   "metadata": {},
   "source": [
    "__2.2__ Write a function which takes a HICP item code (a string) and returns a dataframe like the one in __1.3__ of Part 1 - datetime index and only one series with the item code as column name."
   ]
  },
  {
   "cell_type": "code",
   "execution_count": null,
   "id": "17436245",
   "metadata": {},
   "outputs": [],
   "source": [
    "## TODO"
   ]
  },
  {
   "cell_type": "markdown",
   "id": "f521789e-cae8-4deb-9b34-307fb068b2ae",
   "metadata": {},
   "source": [
    "__2.3__ Copy the code you wrote in Part 1 for __1.4__ and replace the relevant part in the for loop using the function you created above. Check that it gives you the same dataframe as in Part 1."
   ]
  },
  {
   "cell_type": "code",
   "execution_count": null,
   "id": "20fc925b",
   "metadata": {},
   "outputs": [],
   "source": [
    "## TODO"
   ]
  },
  {
   "cell_type": "markdown",
   "id": "63a93391-6332-4c4d-b100-125dd3e3d23b",
   "metadata": {},
   "source": [
    "__2.4__ create a new dataframe `df_nona` by dropping all columns in `df` that have more than half of their observations missing"
   ]
  },
  {
   "cell_type": "code",
   "execution_count": null,
   "id": "f207c705",
   "metadata": {},
   "outputs": [],
   "source": [
    "## TODO"
   ]
  },
  {
   "cell_type": "markdown",
   "id": "f485425b-6f52-4b4c-955f-5976312abe21",
   "metadata": {},
   "source": [
    "__2.5__ Write a functions which takes a dataframe and two dates (strings) - `start` and `end` as arguments and returns a dictionary with two keys: 'code' and 'std' whose values are the code and standard deviation of the most volatile among the series in the dataframe.\n",
    "\n",
    "Write another function for the least volatile series (with the same arguments and output)\n",
    "\n",
    "Test your functions with the code you used in __1.7__ and __1.8__ in Part 1 as follows\n",
    "\n",
    "a) Find the respective start and end dates for the full period and the last 24 months. See if you can do it programmatically, but if you cant think of how, just type them directly.\n",
    "\n",
    "b) Assign the results to dictionaries such as `dict_max`, `dict_min` (Up to you what names you use)\n",
    "\n",
    "c) Use the function you created in __2.1__ to get the descriptions for the codes in the two dictionaries from (b)\n",
    "\n",
    "d) print the output usig f-strngs as in __1.7__ and __1.8__ from Part 1."
   ]
  },
  {
   "cell_type": "markdown",
   "id": "030204b3-4d9d-4816-9825-72ca7f746c62",
   "metadata": {},
   "source": [
    "__2.6__ Create a function which takes a series (or dataframe with 1 column) and an integer and creates and __saves__ (as a png file) a plot of the rolling window standard deviations of that series, for a window specified by the integer parameter. The name of the file with the figure should change with code of the series and the integer indicating the window length. For example if the code is '011500' and the window is 36, the name of the figure should be something like 'fig_011500_rolling_std_36.png'. The important parts (in this example) are 011500 and 36 - the rest (fixed part of the file name) you choose as you see best. This can be done using f-string.\n",
    "\n",
    "Test that the function produces the the same plots as in __1.10__ of Part 1."
   ]
  }
 ],
 "metadata": {
  "kernelspec": {
   "display_name": "Python 3 (ipykernel)",
   "language": "python",
   "name": "python3"
  },
  "language_info": {
   "codemirror_mode": {
    "name": "ipython",
    "version": 3
   },
   "file_extension": ".py",
   "mimetype": "text/x-python",
   "name": "python",
   "nbconvert_exporter": "python",
   "pygments_lexer": "ipython3",
   "version": "3.10.1"
  }
 },
 "nbformat": 4,
 "nbformat_minor": 5
}
