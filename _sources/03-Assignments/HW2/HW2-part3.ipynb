{
 "cells": [
  {
   "cell_type": "markdown",
   "id": "d99094f7-95de-4017-a28c-77195248583f",
   "metadata": {},
   "source": [
    "# HW 2 Part 3\n",
    "\n",
    "In this notebook you just have to reorganize the content of the notebook for Part 2. Specifically, put all functions in a single cell in the beginning of the notebook, after the cell with imports, and in the cell or cells below copy and paste the rest of the content from the previous notebook, so that you will be able to produce the plots from task 2.6. That means that if you delete the png files produced in Part 2, and then click on Kernel -> `Restart Kernel and Run All Cells`, the same two files with rolling standard deviations plots should be recreated."
   ]
  },
  {
   "cell_type": "code",
   "execution_count": null,
   "id": "c5d815ce-3f2b-4417-9c6e-47edbb4bf1fa",
   "metadata": {},
   "outputs": [],
   "source": []
  }
 ],
 "metadata": {
  "kernelspec": {
   "display_name": "Python 3 (ipykernel)",
   "language": "python",
   "name": "python3"
  },
  "language_info": {
   "codemirror_mode": {
    "name": "ipython",
    "version": 3
   },
   "file_extension": ".py",
   "mimetype": "text/x-python",
   "name": "python",
   "nbconvert_exporter": "python",
   "pygments_lexer": "ipython3",
   "version": "3.10.1"
  }
 },
 "nbformat": 4,
 "nbformat_minor": 5
}
