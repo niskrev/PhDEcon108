{
 "cells": [
  {
   "cell_type": "markdown",
   "id": "996e5be2-0e19-4737-8c04-117d05e84e11",
   "metadata": {},
   "source": [
    "# HW 2 Part 1"
   ]
  },
  {
   "cell_type": "code",
   "execution_count": 1,
   "id": "576e5c23-9844-459d-aea3-db692b2f92b0",
   "metadata": {},
   "outputs": [],
   "source": [
    "# TODO\n",
    "# import the necessary packages\n",
    "\n"
   ]
  },
  {
   "cell_type": "markdown",
   "id": "3196f430-dc7a-4d46-95d4-4ebe54fc777e",
   "metadata": {},
   "source": [
    "__1.1__ Following the example from the [Data/1. APIs/Download data from ECB’s SDW](../../00-Data/01-ECB.ipynb) notebook, fetch the table from [ECB SDW link](https://sdw.ecb.europa.eu/datastructure.do?conceptMnemonic=ICP_ITEM&datasetinstanceid=122#cl) into a dataframe called hicp_codes. Set the index of the dataframe to the \"Codes\" column."
   ]
  },
  {
   "cell_type": "code",
   "execution_count": 2,
   "id": "3a5528a5-be4b-4465-999d-cf60a33a06aa",
   "metadata": {},
   "outputs": [],
   "source": [
    "# TODO\n",
    "\n",
    "#hicp_codes = ..."
   ]
  },
  {
   "cell_type": "markdown",
   "id": "e76aedfb-2e2a-414e-b9ca-e1c8384d2b75",
   "metadata": {},
   "source": [
    "__1.2__ extract from `hicp_codes` a list of the codes of the same level 3 subindices assigned to you in HW1\n",
    "\n",
    "__Hint:__ a list comprehension may be useful here"
   ]
  },
  {
   "cell_type": "code",
   "execution_count": 2,
   "id": "28fe3d50-0001-4d12-b5c8-3863148e38f4",
   "metadata": {},
   "outputs": [],
   "source": [
    "## TODO\n",
    "\n",
    "#codes = ..."
   ]
  },
  {
   "cell_type": "markdown",
   "id": "a4906f89-0ff7-481c-aa81-d58abf548b37",
   "metadata": {},
   "source": [
    "__1.3__ Following the example from the [Data/1. APIs/Download data from ECB’s SDW](../../00-Data/01-ECB.ipynb) notebook, download the first series from your `codes` list into a dataframe. Rename the columns to `date` and the string in code[0]. Set `date` to be a datetime index and remove `date` from the dataframe columns."
   ]
  },
  {
   "cell_type": "code",
   "execution_count": 3,
   "id": "15254fa7-3167-4ee6-a76a-c991ea70d642",
   "metadata": {},
   "outputs": [],
   "source": [
    "## TODO\n",
    "\n",
    "# code = codes[0]"
   ]
  },
  {
   "cell_type": "markdown",
   "id": "f521789e-cae8-4deb-9b34-307fb068b2ae",
   "metadata": {},
   "source": [
    "__1.4__  Download the rest of the series from the list of `codes` into a single dataframe with index - the dates and column names given by the respective codes\n",
    "\n",
    "__Hint:__ this will (probably) require a loop. It may be a good idea to first try with only one additional series (e.g. code[1]) and see how to make sure that the merging works. And only then run the full loop. Following this approach, is often easier to discover errors in the code and fix them (i.e. to __debug__)"
   ]
  },
  {
   "cell_type": "code",
   "execution_count": 4,
   "id": "7e04a5a2-5699-440c-aae3-7a4947942254",
   "metadata": {},
   "outputs": [],
   "source": [
    "## TODO\n"
   ]
  },
  {
   "cell_type": "markdown",
   "id": "25ee3270-57d6-45e1-813f-6302f94494d9",
   "metadata": {},
   "source": [
    "__1.5__ for each series, print the fraction of missing values."
   ]
  },
  {
   "cell_type": "code",
   "execution_count": 5,
   "id": "2196ad04-4d54-498f-a75f-5380b0e3c47d",
   "metadata": {},
   "outputs": [],
   "source": [
    "## TODO\n"
   ]
  },
  {
   "cell_type": "markdown",
   "id": "63a93391-6332-4c4d-b100-125dd3e3d23b",
   "metadata": {},
   "source": [
    "__1.6__ create a new dataframe `df_nona` by dropping all columns in `df` that have more than half of their observations missing"
   ]
  },
  {
   "cell_type": "code",
   "execution_count": 11,
   "id": "e6af304d-d6ae-4ce3-bc9e-f6c1b4f4fc4d",
   "metadata": {},
   "outputs": [],
   "source": [
    "## TODO\n",
    "\n",
    "#df_nona = ..."
   ]
  },
  {
   "cell_type": "markdown",
   "id": "f485425b-6f52-4b4c-955f-5976312abe21",
   "metadata": {},
   "source": [
    "__1.7__ which items were most and least volatile (i.e. max and min standard deviations) over the full sample period? Print their codes, code descriptions and the values of std for those items\n",
    "\n",
    "__Hint:__ use f-string and the hicp_codes dataframe you created earlier. Examples and information about f-strings can be found in the [02-Pandas-for-time-series notebook](https://niskrev.github.io/PhDEcon108/02-Tutorials/02-Pandas/02-Pandas-for-time-series.html)"
   ]
  },
  {
   "cell_type": "code",
   "execution_count": 7,
   "id": "b5d38152-68a2-43c9-9f24-9e2cd84ea5b9",
   "metadata": {},
   "outputs": [],
   "source": [
    "## TODO\n",
    "\n",
    "#item_code = ...\n",
    "#item_code_descr = ...\n",
    "#item_std =\n",
    "\n",
    "#print(f-string here)"
   ]
  },
  {
   "cell_type": "markdown",
   "id": "6f1f79a6-9dd1-4ac9-a3d9-f4fcae719105",
   "metadata": {},
   "source": [
    "__1.8__ which items were most and least volatile over the last 24 months? Print their codes, code descriptions and the values of std for those items"
   ]
  },
  {
   "cell_type": "code",
   "execution_count": 8,
   "id": "940657ed-b41d-4ce1-b450-e0a632f9baec",
   "metadata": {},
   "outputs": [],
   "source": [
    "## TODO\n"
   ]
  },
  {
   "cell_type": "markdown",
   "id": "ad8dea40-03a0-4f73-a321-3f3a196a80cf",
   "metadata": {},
   "source": [
    "__1.9__ from `df_nona` compute the rolling window standard deviations for a window of 24 months, drop the missing values in the beginning of the sample and assign to a dataframe `df_nona_roll_std`"
   ]
  },
  {
   "cell_type": "code",
   "execution_count": 9,
   "id": "ec68cd93-9627-4f2c-9da4-6436136415c0",
   "metadata": {},
   "outputs": [],
   "source": [
    "## TODO\n",
    "\n",
    "#df_nona_roll_std = ..."
   ]
  },
  {
   "cell_type": "markdown",
   "id": "42d47461-402d-4b5c-917d-b1fdf7ecb1d7",
   "metadata": {},
   "source": [
    "__1.10__ plot in two separate plots the rolling window standard deviations for the most volatile items you identified above (full period and last 24 months)"
   ]
  },
  {
   "cell_type": "code",
   "execution_count": 12,
   "id": "a15736be-d61c-402c-8902-1e6e67bff9b6",
   "metadata": {},
   "outputs": [],
   "source": [
    "## TODO\n",
    "\n"
   ]
  }
 ],
 "metadata": {
  "kernelspec": {
   "display_name": "Python 3 (ipykernel)",
   "language": "python",
   "name": "python3"
  },
  "language_info": {
   "codemirror_mode": {
    "name": "ipython",
    "version": 3
   },
   "file_extension": ".py",
   "mimetype": "text/x-python",
   "name": "python",
   "nbconvert_exporter": "python",
   "pygments_lexer": "ipython3",
   "version": "3.10.2"
  }
 },
 "nbformat": 4,
 "nbformat_minor": 5
}
