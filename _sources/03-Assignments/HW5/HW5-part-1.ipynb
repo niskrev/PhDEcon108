{
 "cells": [
  {
   "cell_type": "markdown",
   "id": "1c24e7d5-460d-4bd4-b15f-c7cee9ca7919",
   "metadata": {},
   "source": [
    "# HW 5 part 1"
   ]
  },
  {
   "cell_type": "markdown",
   "id": "21f6cc1a-49fc-435b-ba7d-975b1b30146a",
   "metadata": {},
   "source": [
    "Import what is needed here (first read what follows)"
   ]
  },
  {
   "cell_type": "code",
   "execution_count": 2,
   "id": "c7128dd6-f61d-4919-b9e3-fa058c714376",
   "metadata": {},
   "outputs": [],
   "source": [
    "# import ..."
   ]
  },
  {
   "cell_type": "markdown",
   "id": "39e93dd0-4d93-4b25-bfb6-a58b0422bf6e",
   "metadata": {},
   "source": [
    "Set `gen = np.random.default_rng(seed)`, with the seed assigned to you."
   ]
  },
  {
   "cell_type": "code",
   "execution_count": 3,
   "id": "0707bd28-c797-41b3-bb38-40aef05191ba",
   "metadata": {},
   "outputs": [],
   "source": [
    "#TODO\n"
   ]
  },
  {
   "cell_type": "markdown",
   "id": "0d798775-3190-4a3b-aabd-38a889481af5",
   "metadata": {},
   "source": [
    "Simulate `n_rep=500` samples of `n_obs=100` observations from a AR(1) process \n",
    "\n",
    "$$ z_t = \\alpha_0 + \\alpha_1 z_{t-1} + \\varepsilon_t$$\n",
    "\n",
    "where $\\alpha_0=1$, $\\alpha_1=.5$ and the variance of $\\varepsilon_t$ is $\\sigma^2 = 1.5$"
   ]
  },
  {
   "cell_type": "code",
   "execution_count": null,
   "id": "dfd7998e-84c6-4ea4-98e7-54329a9aa28d",
   "metadata": {},
   "outputs": [],
   "source": [
    "# TODO\n",
    "\n",
    "# data = "
   ]
  },
  {
   "cell_type": "markdown",
   "id": "c17d85b0-d78c-4a6b-8f91-c88123eb73b2",
   "metadata": {},
   "source": [
    "Estimate the correct model specification using OLS and MLE for each one of the `n_rep` samples and save the parameter estimates from each method in two `n_rep` $\\times 3 $ arrays, called `thetaOLS` (for OLS) and `thetaMLE` (for MLE)\n",
    "\n",
    "__Hint:__ Probably want to use a for loop..."
   ]
  },
  {
   "cell_type": "code",
   "execution_count": 4,
   "id": "ee0d7d57-3212-4809-985f-e149a77cc32f",
   "metadata": {},
   "outputs": [],
   "source": [
    "## TODO"
   ]
  },
  {
   "cell_type": "markdown",
   "id": "fb818050-6380-4b62-83fb-f515ae3e2d66",
   "metadata": {},
   "source": [
    "Print the means and standard deviations of the parameter estimates"
   ]
  },
  {
   "cell_type": "code",
   "execution_count": 5,
   "id": "6fd873ef-8ab6-43da-9f6d-ee3c97901124",
   "metadata": {},
   "outputs": [],
   "source": [
    "#TODO"
   ]
  },
  {
   "cell_type": "markdown",
   "id": "b0142e39-4384-4d9a-8e8b-ac0170831bd7",
   "metadata": {},
   "source": [
    "Compute and print the biases and mean squared errors of the parameter estimates"
   ]
  },
  {
   "cell_type": "code",
   "execution_count": 8,
   "id": "c3f8f028-5075-4efd-b2f7-d946026126b7",
   "metadata": {},
   "outputs": [],
   "source": [
    "#TODO"
   ]
  },
  {
   "cell_type": "markdown",
   "id": "e0d708ec-a9e3-4e89-8bf1-3fe57ee012b5",
   "metadata": {},
   "source": [
    "Comment briefly on the relative performance of OLS and MLE for this model"
   ]
  },
  {
   "cell_type": "code",
   "execution_count": null,
   "id": "ea8f266a-2aab-4efb-9b55-c83acb7897c2",
   "metadata": {},
   "outputs": [],
   "source": []
  }
 ],
 "metadata": {
  "kernelspec": {
   "display_name": "Python 3 (ipykernel)",
   "language": "python",
   "name": "python3"
  },
  "language_info": {
   "codemirror_mode": {
    "name": "ipython",
    "version": 3
   },
   "file_extension": ".py",
   "mimetype": "text/x-python",
   "name": "python",
   "nbconvert_exporter": "python",
   "pygments_lexer": "ipython3",
   "version": "3.10.2"
  }
 },
 "nbformat": 4,
 "nbformat_minor": 5
}
