{
 "cells": [
  {
   "cell_type": "markdown",
   "id": "84ffeb57-a70d-4098-97dd-6db16d6b0878",
   "metadata": {},
   "source": [
    "## Part 1\n",
    "\n",
    "### In this part you will simulate a sample of 4 observations from a stationary AR(1) process with $\\alpha=0.8$, $\\sigma^2 = 1$"
   ]
  },
  {
   "cell_type": "code",
   "execution_count": 1,
   "id": "9280925e-0866-4551-a612-8116e951861b",
   "metadata": {},
   "outputs": [],
   "source": [
    "# TODO\n",
    "# import numpy\n"
   ]
  },
  {
   "cell_type": "markdown",
   "id": "5f83baae-de32-4dab-97dc-f09eb9c17c9f",
   "metadata": {},
   "source": [
    "Generate a $4D$ vector of innovations using `gen = np.random.default_rng(100)`"
   ]
  },
  {
   "cell_type": "code",
   "execution_count": 2,
   "id": "1059b89b-4c2e-4ae3-b3e1-22ddf78aed00",
   "metadata": {},
   "outputs": [],
   "source": [
    "# TODO\n",
    "#eps = ..."
   ]
  },
  {
   "cell_type": "markdown",
   "id": "89118364-7d06-465e-b3ef-f4f3a3b9ab8b",
   "metadata": {},
   "source": [
    "Using $\\varepsilon_0$, generate $z_0$ from the stationary distribution of $\\mathbf{z}$\n",
    "\n",
    "__Hint:__ see [here](https://niskrev.github.io/PhDEcon108/01-Lectures/04-ARMA/01-ARMA-part-1.html)"
   ]
  },
  {
   "cell_type": "markdown",
   "id": "c1912545-e2ba-4a49-9231-5bd6b30dc3bc",
   "metadata": {},
   "source": [
    "Using a `for` loop, generate the remaining 3 realizations of $\\mathbf{z}$"
   ]
  },
  {
   "cell_type": "code",
   "execution_count": 3,
   "id": "2fdafba0-9520-4dec-8bdf-0a7d741d8c84",
   "metadata": {},
   "outputs": [],
   "source": [
    "# TODO\n",
    "#for ....\n"
   ]
  },
  {
   "cell_type": "markdown",
   "id": "c2f4152b-d593-49c6-a3eb-71acf5e4f68f",
   "metadata": {},
   "source": [
    "As discussed in a lecture (see again [here](https://niskrev.github.io/PhDEcon108/01-Lectures/04-ARMA/01-ARMA-part-1.html)) there is a linear relationship between $\\mathbf{z}$ and $\\boldsymbol \\varepsilon$, In particular, there is a $(T+1)\\times(T+1)$ matrix $\\boldsymbol A$ such that\n",
    "\n",
    "$$\n",
    "\\underset{\\mathbf{z}}{\\underbrace{\\left[\\begin{array}{c}\n",
    "z_{0}\\\\\n",
    "z_{1}\\\\\n",
    "z_{2}\\\\\n",
    "z_{3}\\\\\n",
    "z_{4}\\\\\n",
    "\\vdots\\\\\n",
    "z_{T}\n",
    "\\end{array}\\right]}}\n",
    "=\n",
    "\\underset{\\boldsymbol A}{\\underbrace{\\left[\\begin{array}{cccccccc}\n",
    "\\frac{1}{\\sqrt{1-\\alpha^2}} & 0 & 0 & 0 & \\cdots & 0 & 0 & 0\\\\\n",
    "\\frac{\\alpha}{\\sqrt{1-\\alpha^2}} & 1 & 0 & 0 & \\cdots & 0 & 0 & 0\\\\\n",
    "\\frac{\\alpha^2}{\\sqrt{1-\\alpha^2}} & \\alpha & 1 & 0 & \\cdots & 0 & 0 & 0\\\\\n",
    "\\vdots & \\vdots & \\vdots & \\vdots & \\cdots & \\vdots & \\vdots & \\vdots\\\\\n",
    "\\frac{\\alpha^T}{\\sqrt{1-\\alpha^2}} & \\alpha^{T-1}  & \\alpha^{T-2} & \\alpha^{T-3} & \\cdots & \\alpha^2 & \\alpha & 1\n",
    "\\end{array}\\right]}}\n",
    "\\underset{\\boldsymbol\\varepsilon}{\\underbrace{\n",
    "\\left[\\begin{array}{c}\n",
    "\\varepsilon_{0}\\\\\n",
    "\\varepsilon_{1}\\\\\n",
    "\\varepsilon_{2}\\\\\n",
    "\\varepsilon_{3}\\\\\n",
    "\\vdots\\\\\n",
    "\\varepsilon_{T-1}\\\\\n",
    "\\varepsilon_{T}\n",
    "\\end{array}\\right]\n",
    "}}\n",
    "$$\n",
    "\n",
    "Build the $4x4$ matrix $\\boldsymbol A$, and confirm that the equality $\\mathbf{z} = \\boldsymbol A \\boldsymbol\\varepsilon$ holds"
   ]
  },
  {
   "cell_type": "code",
   "execution_count": 4,
   "id": "c63f3c93-0ba5-464e-8735-0861bd628fad",
   "metadata": {},
   "outputs": [],
   "source": [
    "# TODO\n",
    "#A =\n",
    "\n",
    "#np.testing.assert_array_almost_equal(z, A @ eps)"
   ]
  },
  {
   "cell_type": "markdown",
   "id": "7e3728ea-557c-41b0-b021-415c30ab0add",
   "metadata": {},
   "source": [
    "An alternative (and perhaps simpler) way to represent the linear relationship between $\\mathbf{z}$ and $\\boldsymbol\\varepsilon$, is with a matrix $\\boldsymbol B$, such that\n",
    "\n",
    "$$\n",
    "\\underset{\\boldsymbol B}{\\underbrace{\\left[\n",
    "\\begin{array}{cccccccc}\n",
    "\\sqrt{1-\\alpha^2} & 0 & 0 & 0 & \\cdots & 0 & 0 & 0\\\\\n",
    "-\\alpha & 1 & 0 & 0 & \\cdots & 0 & 0 & 0\\\\\n",
    "0 & -\\alpha  & 1 & 0 & \\cdots & 0 & 0 & 0\\\\\n",
    "\\vdots & \\vdots & \\vdots & \\vdots & \\cdots & \\vdots & \\vdots & \\vdots\\\\\n",
    "0 & 0  & 0 & 0 & \\cdots & 0 & -\\alpha & 1\n",
    "\\end{array}\\right]}}\n",
    "\\underset{\\boldsymbol z}{\\underbrace{\n",
    "\\left[\n",
    "\\begin{array}{c}\n",
    "z_{0}\\\\\n",
    "z_{1}\\\\\n",
    "z_{2}\\\\\n",
    "\\vdots\\\\\n",
    "z_{T}\n",
    "\\end{array}\n",
    "\\right]\n",
    "}}\n",
    "=\n",
    "\\underset{\\mathbf{\\varepsilon}}{\\underbrace{\\left[\n",
    "\\begin{array}{c}\n",
    "\\varepsilon_{0}\\\\\n",
    "\\varepsilon_{1}\\\\\n",
    "\\varepsilon_{2}\\\\\n",
    "\\vdots\\\\\n",
    "\\varepsilon_{T}\n",
    "\\end{array}\n",
    "\\right]\n",
    "}}\n",
    "$$\n",
    "\n",
    "Using pen and paper, confirm for yourself that this relationship indeed holds. Then, build the matrix $\\boldsymbol B$ and check programmatically if it is invertible (the matrix rank is equal to the number of columns/rows, i.e. it is full rank)\n",
    "\n",
    "__Hint:__ check the documentation of [Numpy](https://numpy.org/doc/stable/index.html) for a function that returns the rank of a matrix. Use an assertion to confirm that $\\boldsymbol B$ is full rank."
   ]
  },
  {
   "cell_type": "code",
   "execution_count": 5,
   "id": "9a472619-bd53-4623-8391-cb6a9703146d",
   "metadata": {},
   "outputs": [],
   "source": [
    "# TODO\n",
    "#B =\n",
    "\n",
    "# assert full rank..."
   ]
  },
  {
   "cell_type": "markdown",
   "id": "7a8f6098",
   "metadata": {},
   "source": [
    "There are other ways to quickly build such matrices. If you are interested, check the [documentation](https://docs.scipy.org/doc/scipy/reference/generated/scipy.linalg.toeplitz.html) of the `toeplitz()` function from the `scipy.linalg` package"
   ]
  },
  {
   "cell_type": "markdown",
   "id": "8249aa43-7508-462d-913d-606dc1ff8336",
   "metadata": {},
   "source": [
    "Verify that the equality $\\mathbf{z} = \\boldsymbol B^{-1} \\boldsymbol\\varepsilon$ holds"
   ]
  },
  {
   "cell_type": "code",
   "execution_count": 6,
   "id": "3ce39ce5-8a05-4baf-82bf-80a71b46c3ab",
   "metadata": {},
   "outputs": [],
   "source": [
    "# TODO\n",
    "#np.testing.assert_array_almost_equal(...)"
   ]
  },
  {
   "cell_type": "markdown",
   "id": "d51113bf-2b4a-468a-9bf1-ddf7648026e4",
   "metadata": {},
   "source": []
  }
 ],
 "metadata": {
  "kernelspec": {
   "display_name": "Python 3 (ipykernel)",
   "language": "python",
   "name": "python3"
  },
  "language_info": {
   "codemirror_mode": {
    "name": "ipython",
    "version": 3
   },
   "file_extension": ".py",
   "mimetype": "text/x-python",
   "name": "python",
   "nbconvert_exporter": "python",
   "pygments_lexer": "ipython3",
   "version": "3.10.2"
  }
 },
 "nbformat": 4,
 "nbformat_minor": 5
}
