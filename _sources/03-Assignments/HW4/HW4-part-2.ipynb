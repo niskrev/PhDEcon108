{
 "cells": [
  {
   "cell_type": "markdown",
   "id": "84ffeb57-a70d-4098-97dd-6db16d6b0878",
   "metadata": {},
   "source": [
    "## Part 2 \n",
    "\n",
    "### In this part you will simulate a sample of T = 100 observations from a stationary AR(1) process with $\\alpha=0.8$, $\\sigma^2 = 1$"
   ]
  },
  {
   "cell_type": "code",
   "execution_count": 1,
   "id": "9280925e-0866-4551-a612-8116e951861b",
   "metadata": {},
   "outputs": [],
   "source": [
    "# TODO\n",
    "# import numpy"
   ]
  },
  {
   "cell_type": "markdown",
   "id": "5f83baae-de32-4dab-97dc-f09eb9c17c9f",
   "metadata": {},
   "source": [
    "Generate a $T$ vector of innovations using `gen = np.random.default_rng(100)`"
   ]
  },
  {
   "cell_type": "code",
   "execution_count": 2,
   "id": "1059b89b-4c2e-4ae3-b3e1-22ddf78aed00",
   "metadata": {},
   "outputs": [],
   "source": [
    "# TODO\n",
    "#eps = ..."
   ]
  },
  {
   "cell_type": "markdown",
   "id": "5e85aaf1-db7d-4d27-adbc-4c2fb750425d",
   "metadata": {},
   "source": [
    "Using $\\varepsilon_0$, generate $z_0$ from the stationary distribution of $\\mathbf{z}$. Then, using a `for` loop, generate the remaining 3 realizations of $\\mathbf{z}$"
   ]
  },
  {
   "cell_type": "code",
   "execution_count": 3,
   "id": "e1523430-5a0f-4387-8bf2-403dc67c8580",
   "metadata": {},
   "outputs": [],
   "source": [
    "# TODO\n",
    "#for ...."
   ]
  },
  {
   "cell_type": "markdown",
   "id": "7e3728ea-557c-41b0-b021-415c30ab0add",
   "metadata": {},
   "source": [
    "\n",
    "It would be nice if we could more easily build matrices with simple structure like that of $\\boldsymbol B$ without having the specify each element individually.\n",
    "\n",
    "$$\n",
    "\\underset{\\boldsymbol B}{\\underbrace{\\left[\n",
    "\\begin{array}{cccccccc}\n",
    "\\sqrt{1-\\alpha^2} & 0 & 0 & 0 & \\cdots & 0 & 0 & 0\\\\\n",
    "-\\alpha & 1 & 0 & 0 & \\cdots & 0 & 0 & 0\\\\\n",
    "0 & -\\alpha  & 1 & 0 & \\cdots & 0 & 0 & 0\\\\\n",
    "\\vdots & \\vdots & \\vdots & \\vdots & \\cdots & \\vdots & \\vdots & \\vdots\\\\\n",
    "0 & 0  & 0 & 0 & \\cdots & 0 & -\\alpha & 1\n",
    "\\end{array}\\right]}}\n",
    "\\underset{\\boldsymbol z}{\\underbrace{\n",
    "\\left[\n",
    "\\begin{array}{c}\n",
    "z_{0}\\\\\n",
    "z_{1}\\\\\n",
    "z_{2}\\\\\n",
    "\\vdots\\\\\n",
    "z_{T}\n",
    "\\end{array}\n",
    "\\right]\n",
    "}}\n",
    "=\n",
    "\\underset{\\mathbf{\\varepsilon}}{\\underbrace{\\left[\n",
    "\\begin{array}{c}\n",
    "\\varepsilon_{0}\\\\\n",
    "\\varepsilon_{1}\\\\\n",
    "\\varepsilon_{2}\\\\\n",
    "\\vdots\\\\\n",
    "\\varepsilon_{T}\n",
    "\\end{array}\n",
    "\\right]\n",
    "}}\n",
    "$$\n",
    "\n",
    "Fortunately, we can. Ignoring the the (0,0) element for a moment, the rest of $\\boldsymbol B$ can be created using `np.eye()`, `np.diag()` and `np.tile()` functions. After that, the (0,0) element can be added manually. Check these functions' [documentation](https://numpy.org/doc/stable/index.html) and create the $T \\times T$ matrix $\\boldsymbol B$."
   ]
  },
  {
   "cell_type": "code",
   "execution_count": null,
   "id": "4670dd3b-8ce0-4728-b1c7-6c872fcf33f4",
   "metadata": {},
   "outputs": [],
   "source": [
    "# TODO\n",
    "#B =\n"
   ]
  },
  {
   "cell_type": "markdown",
   "id": "a67a33c6",
   "metadata": {},
   "source": [
    "There are other ways to quickly build such matrices. If you are interested, check the [documentation](https://docs.scipy.org/doc/scipy/reference/generated/scipy.linalg.toeplitz.html) of the `toeplitz()` function from the `scipy.linalg` package"
   ]
  },
  {
   "cell_type": "markdown",
   "id": "1484dcd3-a324-41ba-94bd-75019dfb6fc0",
   "metadata": {},
   "source": [
    "Verify that the equality $\\mathbf{z} = \\boldsymbol B^{-1} \\boldsymbol\\varepsilon$ holds"
   ]
  },
  {
   "cell_type": "code",
   "execution_count": null,
   "id": "1e6fa49e-572f-4542-89cf-7042d5f773a8",
   "metadata": {},
   "outputs": [],
   "source": [
    "# TODO\n",
    "#np.testing.assert_array_almost_equal(...)"
   ]
  },
  {
   "cell_type": "markdown",
   "id": "fb15cdbf-2e72-4a8a-bc65-06d6930f8240",
   "metadata": {},
   "source": [
    "Using $\\boldsymbol B$, compute the first T theoretical autocovariances of $z_t$"
   ]
  },
  {
   "cell_type": "code",
   "execution_count": null,
   "id": "fdb72233-e8e4-4b4a-a5a1-05ca6e0645da",
   "metadata": {},
   "outputs": [],
   "source": [
    "#TODO\n",
    "#ar1_acov1 = ...\n",
    "#assert len(ar1_acov1) == T"
   ]
  },
  {
   "cell_type": "markdown",
   "id": "3770b95b-7aa0-462c-9f77-140ccc7f2a8c",
   "metadata": {},
   "source": [
    "Using `statsmodels`, define an AR(1) object with the same parameters as given above, and compute the T theoretical autocovariances"
   ]
  },
  {
   "cell_type": "code",
   "execution_count": null,
   "id": "db781ce7-fb63-4970-90ba-35ace86a41d6",
   "metadata": {},
   "outputs": [],
   "source": [
    "#TODO\n",
    "#from statsmodels....\n",
    "#ar1_process = ...\n",
    "#ar1_acov2 = ar1_process...."
   ]
  },
  {
   "cell_type": "markdown",
   "id": "89703f4e-21f8-4de9-af90-90739b6fe4dd",
   "metadata": {},
   "source": [
    "Confirm that `ar1_acov1` and `ar1_acov2` are the same (or numerically very close)"
   ]
  },
  {
   "cell_type": "code",
   "execution_count": 4,
   "id": "6051c5a8-1725-4c99-83db-4e8375baa978",
   "metadata": {},
   "outputs": [],
   "source": [
    "#TODO\n"
   ]
  }
 ],
 "metadata": {
  "kernelspec": {
   "display_name": "Python 3 (ipykernel)",
   "language": "python",
   "name": "python3"
  },
  "language_info": {
   "codemirror_mode": {
    "name": "ipython",
    "version": 3
   },
   "file_extension": ".py",
   "mimetype": "text/x-python",
   "name": "python",
   "nbconvert_exporter": "python",
   "pygments_lexer": "ipython3",
   "version": "3.10.2"
  }
 },
 "nbformat": 4,
 "nbformat_minor": 5
}
