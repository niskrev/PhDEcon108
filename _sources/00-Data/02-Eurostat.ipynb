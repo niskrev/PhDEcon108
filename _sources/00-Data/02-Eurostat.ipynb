{
 "cells": [
  {
   "cell_type": "markdown",
   "id": "41f6a5e2-af3e-48cc-a974-d3dd8b305761",
   "metadata": {},
   "source": [
    "# Download data from EUROSTAT\n",
    "\n",
    "see Eurostat [query builder](https://ec.europa.eu/eurostat/web/json-and-unicode-web-services/getting-started/query-builder)\n",
    "\n",
    "* for HICP \"prc_hicp_midx\"\n",
    "* for rGDP \"namq_10_gdp\"\n",
    "* for Employment \"namq_10_a10_e\"\n",
    "* for Unemployment \"une_rt_m\"\n",
    "* etc."
   ]
  },
  {
   "cell_type": "code",
   "execution_count": 1,
   "id": "83785d17-783f-47cf-8a3b-24fd8ff6f9ab",
   "metadata": {},
   "outputs": [],
   "source": [
    "import requests\n",
    "import numpy as np\n",
    "import pandas as pd"
   ]
  },
  {
   "cell_type": "code",
   "execution_count": 2,
   "id": "5556cba3-ae68-4681-9355-895bbc3fa80a",
   "metadata": {},
   "outputs": [],
   "source": [
    "COMMON_URL = \"http://ec.europa.eu/eurostat/wdds/rest/data/v2.1/json/en/\""
   ]
  },
  {
   "cell_type": "code",
   "execution_count": 5,
   "id": "6f1c88f1-3a04-41d7-81fa-684684152f5e",
   "metadata": {},
   "outputs": [],
   "source": [
    "# select \"hicp\" or \"gdp\"\n",
    "variable_to_fetch = 'gdp'"
   ]
  },
  {
   "cell_type": "code",
   "execution_count": 6,
   "id": "f57c50b6-e9de-47e5-91b4-8bd182c82289",
   "metadata": {},
   "outputs": [],
   "source": [
    "geo = \"EA19\"\n",
    "\n",
    "if variable_to_fetch == 'gdp':\n",
    "    ind_url = f\"namq_10_gdp?na_item=B1GQ&sinceTimePeriod=1995Q1&precision=1&geo={geo}&unit=CLV10_MEUR&s_adj=SCA\"\n",
    "    freq = 'Qs'\n",
    "elif variable_to_fetch == 'hicp':\n",
    "    ind_url = f\"prc_hicp_midx?sinceTimePeriod=1996M01&precision=3&geo={geo}&unit=I96&coicop=CP00\"\n",
    "    freq = 'MS'"
   ]
  },
  {
   "cell_type": "code",
   "execution_count": 9,
   "id": "8ba5f798-8b68-4051-9ec2-0d1e4bda2a88",
   "metadata": {},
   "outputs": [],
   "source": [
    "series_url = f\"{COMMON_URL}{ind_url}\"\n",
    "\n",
    "response  = requests.get(series_url, headers=None)    \n",
    "                      )\n",
    "assert response.status_code == 200    "
   ]
  },
  {
   "cell_type": "code",
   "execution_count": 10,
   "id": "e3384ea9-2d09-4d17-8a6d-5d8e6792394a",
   "metadata": {},
   "outputs": [],
   "source": [
    "response_dictionary = response.json()"
   ]
  },
  {
   "cell_type": "code",
   "execution_count": 11,
   "id": "cf386a07-708b-4dea-a4d8-366c93e845c8",
   "metadata": {},
   "outputs": [
    {
     "data": {
      "text/plain": [
       "dict_keys(['version', 'label', 'href', 'source', 'updated', 'extension', 'class', 'value', 'dimension', 'id', 'size'])"
      ]
     },
     "execution_count": 11,
     "metadata": {},
     "output_type": "execute_result"
    }
   ],
   "source": [
    "response_dictionary.keys()"
   ]
  },
  {
   "cell_type": "code",
   "execution_count": 12,
   "id": "de7905fc-0cab-45f2-90b9-aca2debfbce4",
   "metadata": {},
   "outputs": [
    {
     "data": {
      "text/plain": [
       "{'label': 'unit',\n",
       " 'category': {'index': {'CLV10_MEUR': 0},\n",
       "  'label': {'CLV10_MEUR': 'Chain linked volumes (2010), million euro'}}}"
      ]
     },
     "execution_count": 12,
     "metadata": {},
     "output_type": "execute_result"
    }
   ],
   "source": [
    "response_dictionary['dimension']['unit']"
   ]
  },
  {
   "cell_type": "code",
   "execution_count": 13,
   "id": "ce4038bd-6d8e-4f25-b9a0-b1f6502d7c34",
   "metadata": {},
   "outputs": [
    {
     "data": {
      "text/plain": [
       "'EA19'"
      ]
     },
     "execution_count": 13,
     "metadata": {},
     "output_type": "execute_result"
    }
   ],
   "source": [
    "# check geo\n",
    "[k for k in response_dictionary[\"dimension\"][\"geo\"][\"category\"][\"label\"].keys()][0]"
   ]
  },
  {
   "cell_type": "code",
   "execution_count": 14,
   "id": "87dffbd9-71c4-4a75-8af8-d0522ae5f13c",
   "metadata": {},
   "outputs": [],
   "source": [
    "time = np.array([x for x in response_dictionary[\"dimension\"][\"time\"][\"category\"][\"index\"].keys()])\n",
    "values = np.array([x for x in response_dictionary[\"value\"].values()])"
   ]
  },
  {
   "cell_type": "code",
   "execution_count": 15,
   "id": "bf852a04-d7d6-4f17-b903-fd071b3f52eb",
   "metadata": {},
   "outputs": [],
   "source": [
    "if len(time) > len(values):\n",
    "    time = time[-len(values) :].copy()"
   ]
  },
  {
   "cell_type": "code",
   "execution_count": 16,
   "id": "c946a772-64a2-42d0-afe9-024e86ed8601",
   "metadata": {},
   "outputs": [],
   "source": [
    "data = np.vstack([time, values])\n",
    "df = pd.DataFrame(data=data.T, columns=[\"time\", \"value\"])"
   ]
  },
  {
   "cell_type": "code",
   "execution_count": 17,
   "id": "b580c217-23ef-4d61-b4ec-5060174fc8fb",
   "metadata": {},
   "outputs": [],
   "source": [
    "df.time = pd.to_datetime(df.time.str.replace(\"M\", \"-\"))"
   ]
  },
  {
   "cell_type": "code",
   "execution_count": 18,
   "id": "75a76fba-2c8e-4202-9066-54f2872088da",
   "metadata": {},
   "outputs": [
    {
     "data": {
      "text/html": [
       "<div>\n",
       "<style scoped>\n",
       "    .dataframe tbody tr th:only-of-type {\n",
       "        vertical-align: middle;\n",
       "    }\n",
       "\n",
       "    .dataframe tbody tr th {\n",
       "        vertical-align: top;\n",
       "    }\n",
       "\n",
       "    .dataframe thead th {\n",
       "        text-align: right;\n",
       "    }\n",
       "</style>\n",
       "<table border=\"1\" class=\"dataframe\">\n",
       "  <thead>\n",
       "    <tr style=\"text-align: right;\">\n",
       "      <th></th>\n",
       "      <th>value</th>\n",
       "    </tr>\n",
       "    <tr>\n",
       "      <th>time</th>\n",
       "      <th></th>\n",
       "    </tr>\n",
       "  </thead>\n",
       "  <tbody>\n",
       "    <tr>\n",
       "      <th>1995-01-01</th>\n",
       "      <td>1837419.9</td>\n",
       "    </tr>\n",
       "    <tr>\n",
       "      <th>1995-04-01</th>\n",
       "      <td>1847658.7</td>\n",
       "    </tr>\n",
       "    <tr>\n",
       "      <th>1995-07-01</th>\n",
       "      <td>1851717.6</td>\n",
       "    </tr>\n",
       "    <tr>\n",
       "      <th>1995-10-01</th>\n",
       "      <td>1858277.7</td>\n",
       "    </tr>\n",
       "    <tr>\n",
       "      <th>1996-01-01</th>\n",
       "      <td>1861887.8</td>\n",
       "    </tr>\n",
       "    <tr>\n",
       "      <th>...</th>\n",
       "      <td>...</td>\n",
       "    </tr>\n",
       "    <tr>\n",
       "      <th>2020-10-01</th>\n",
       "      <td>2569399.0</td>\n",
       "    </tr>\n",
       "    <tr>\n",
       "      <th>2021-01-01</th>\n",
       "      <td>2564113.0</td>\n",
       "    </tr>\n",
       "    <tr>\n",
       "      <th>2021-04-01</th>\n",
       "      <td>2620528.3</td>\n",
       "    </tr>\n",
       "    <tr>\n",
       "      <th>2021-07-01</th>\n",
       "      <td>2679880.7</td>\n",
       "    </tr>\n",
       "    <tr>\n",
       "      <th>2021-10-01</th>\n",
       "      <td>2687644.7</td>\n",
       "    </tr>\n",
       "  </tbody>\n",
       "</table>\n",
       "<p>108 rows × 1 columns</p>\n",
       "</div>"
      ],
      "text/plain": [
       "                value\n",
       "time                 \n",
       "1995-01-01  1837419.9\n",
       "1995-04-01  1847658.7\n",
       "1995-07-01  1851717.6\n",
       "1995-10-01  1858277.7\n",
       "1996-01-01  1861887.8\n",
       "...               ...\n",
       "2020-10-01  2569399.0\n",
       "2021-01-01  2564113.0\n",
       "2021-04-01  2620528.3\n",
       "2021-07-01  2679880.7\n",
       "2021-10-01  2687644.7\n",
       "\n",
       "[108 rows x 1 columns]"
      ]
     },
     "execution_count": 18,
     "metadata": {},
     "output_type": "execute_result"
    }
   ],
   "source": [
    "df.set_index(pd.to_datetime(df.time), inplace=True)\n",
    "df = df.drop('time', axis=1)\n",
    "df"
   ]
  },
  {
   "cell_type": "code",
   "execution_count": 19,
   "id": "57c09177-1cc8-4646-b1b3-cba5526a4afc",
   "metadata": {},
   "outputs": [
    {
     "data": {
      "text/html": [
       "<div>\n",
       "<style scoped>\n",
       "    .dataframe tbody tr th:only-of-type {\n",
       "        vertical-align: middle;\n",
       "    }\n",
       "\n",
       "    .dataframe tbody tr th {\n",
       "        vertical-align: top;\n",
       "    }\n",
       "\n",
       "    .dataframe thead th {\n",
       "        text-align: right;\n",
       "    }\n",
       "</style>\n",
       "<table border=\"1\" class=\"dataframe\">\n",
       "  <thead>\n",
       "    <tr style=\"text-align: right;\">\n",
       "      <th></th>\n",
       "      <th>value</th>\n",
       "    </tr>\n",
       "    <tr>\n",
       "      <th>time</th>\n",
       "      <th></th>\n",
       "    </tr>\n",
       "  </thead>\n",
       "  <tbody>\n",
       "    <tr>\n",
       "      <th>2020-10-01</th>\n",
       "      <td>2569399.0</td>\n",
       "    </tr>\n",
       "    <tr>\n",
       "      <th>2021-01-01</th>\n",
       "      <td>2564113.0</td>\n",
       "    </tr>\n",
       "    <tr>\n",
       "      <th>2021-04-01</th>\n",
       "      <td>2620528.3</td>\n",
       "    </tr>\n",
       "    <tr>\n",
       "      <th>2021-07-01</th>\n",
       "      <td>2679880.7</td>\n",
       "    </tr>\n",
       "    <tr>\n",
       "      <th>2021-10-01</th>\n",
       "      <td>2687644.7</td>\n",
       "    </tr>\n",
       "  </tbody>\n",
       "</table>\n",
       "</div>"
      ],
      "text/plain": [
       "                value\n",
       "time                 \n",
       "2020-10-01  2569399.0\n",
       "2021-01-01  2564113.0\n",
       "2021-04-01  2620528.3\n",
       "2021-07-01  2679880.7\n",
       "2021-10-01  2687644.7"
      ]
     },
     "execution_count": 19,
     "metadata": {},
     "output_type": "execute_result"
    }
   ],
   "source": [
    "df = df.asfreq(freq)\n",
    "df.tail()"
   ]
  }
 ],
 "metadata": {
  "kernelspec": {
   "display_name": "Python 3 (ipykernel)",
   "language": "python",
   "name": "python3"
  },
  "language_info": {
   "codemirror_mode": {
    "name": "ipython",
    "version": 3
   },
   "file_extension": ".py",
   "mimetype": "text/x-python",
   "name": "python",
   "nbconvert_exporter": "python",
   "pygments_lexer": "ipython3",
   "version": "3.10.2"
  }
 },
 "nbformat": 4,
 "nbformat_minor": 5
}
