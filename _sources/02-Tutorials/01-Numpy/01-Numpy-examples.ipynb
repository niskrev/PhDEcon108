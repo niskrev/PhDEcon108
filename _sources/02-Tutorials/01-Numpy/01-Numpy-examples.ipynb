{
 "cells": [
  {
   "cell_type": "markdown",
   "id": "55c77579",
   "metadata": {},
   "source": [
    "# Numpy examples"
   ]
  },
  {
   "cell_type": "code",
   "execution_count": 1,
   "id": "1f503fa2-081c-4721-929b-21dacc8be556",
   "metadata": {},
   "outputs": [],
   "source": [
    "import numpy as np"
   ]
  },
  {
   "cell_type": "markdown",
   "id": "5703dbe1-0cc9-4f88-ace8-908f35caeba0",
   "metadata": {},
   "source": [
    "## some handy functions\n",
    "\n",
    "* arange\n",
    "* linspace"
   ]
  },
  {
   "cell_type": "code",
   "execution_count": 5,
   "id": "353976fe-3541-40f7-b482-628d0f14eaf6",
   "metadata": {},
   "outputs": [
    {
     "name": "stdout",
     "output_type": "stream",
     "text": [
      "[0 1 2 3 4 5 6 7 8 9]\n",
      "[0 1 2 3 4 5 6 7 8 9]\n"
     ]
    }
   ],
   "source": [
    "a = np.arange(start=0, stop=10) \n",
    "print(a)## Note start value included, stop value excluded\n",
    "b = np.arange(10) \n",
    "print(b)"
   ]
  },
  {
   "cell_type": "code",
   "execution_count": 15,
   "id": "b8967110-49e6-484a-98a6-be83162606b6",
   "metadata": {},
   "outputs": [
    {
     "name": "stdout",
     "output_type": "stream",
     "text": [
      "[ 0.          1.11111111  2.22222222  3.33333333  4.44444444  5.55555556\n",
      "  6.66666667  7.77777778  8.88888889 10.        ]\n",
      "[0. 1. 2. 3. 4. 5. 6. 7. 8. 9.]\n"
     ]
    }
   ],
   "source": [
    "a = np.linspace(start=0, stop=10, num=10, endpoint=True)\n",
    "print(a) # Note: Note start value included, stop value included, num=10 evenly spaced numbers \n",
    "\n",
    "b = np.linspace(start=0, stop=10, num=10, endpoint=False)\n",
    "print(b) # Note: Note start value included, stop value excluded, num=10 evenly spaced numbers "
   ]
  },
  {
   "cell_type": "code",
   "execution_count": 16,
   "id": "bbd166d8-fd41-47a1-853b-c1821d39929d",
   "metadata": {},
   "outputs": [
    {
     "name": "stdout",
     "output_type": "stream",
     "text": [
      "1.1111111111111112\n",
      "1.0\n"
     ]
    }
   ],
   "source": [
    "a, step = np.linspace(start=0, stop=10, num=10, endpoint=True, retstep=True)\n",
    "\n",
    "print(step) # step when endpoint included\n",
    "\n",
    "b, step = np.linspace(start=0, stop=10, num=10, endpoint=False, retstep=True)\n",
    "\n",
    "print(step) # step when endpoint excluded"
   ]
  },
  {
   "cell_type": "markdown",
   "id": "72c5a7d5-bb59-4b21-8d00-e3b5c81a5182",
   "metadata": {},
   "source": [
    "## vectors"
   ]
  },
  {
   "cell_type": "code",
   "execution_count": 3,
   "id": "c3be85db-088f-424c-934c-99fe8b37f376",
   "metadata": {},
   "outputs": [
    {
     "name": "stdout",
     "output_type": "stream",
     "text": [
      "(5,)\n",
      "(1, 5)\n",
      "(5, 1)\n"
     ]
    }
   ],
   "source": [
    "vector = np.array([1,2,3,4,5])\n",
    "vector_row = np.array([[1, 2, 3, 4, 5]])\n",
    "vector_column = np.array([[1],[2],[3],[4], [5]])\n",
    "\n",
    "\n",
    "print(vector.shape)\n",
    "print(vector_row.shape)\n",
    "print(vector_column.shape)"
   ]
  },
  {
   "cell_type": "code",
   "execution_count": 9,
   "id": "c520ddda-e4a5-45e8-b307-a047f4255685",
   "metadata": {},
   "outputs": [
    {
     "name": "stdout",
     "output_type": "stream",
     "text": [
      "(5, 1)\n",
      "(5, 1)\n",
      "(5, 1)\n"
     ]
    }
   ],
   "source": [
    "print(vector.reshape(5,1).shape)\n",
    "print(vector.reshape(-1,1).shape)\n",
    "print(vector_row.T.shape)"
   ]
  },
  {
   "cell_type": "markdown",
   "id": "a704a16a-5b11-45ab-a0b9-cbbe47e09488",
   "metadata": {},
   "source": [
    "## matrices"
   ]
  },
  {
   "cell_type": "code",
   "execution_count": 29,
   "id": "adea2872-320d-431e-905f-17d33caeb64c",
   "metadata": {},
   "outputs": [
    {
     "name": "stdout",
     "output_type": "stream",
     "text": [
      "(3, 2)\n",
      "(2, 3)\n",
      "(2, 3)\n",
      "********************\n",
      "[[1 2]\n",
      " [3 4]\n",
      " [5 6]]\n",
      "********************\n",
      "[[1 3 5]\n",
      " [2 4 6]]\n",
      "********************\n",
      "[[1 2 3]\n",
      " [4 5 6]]\n"
     ]
    }
   ],
   "source": [
    "A = np.array([[1,2], [3,4], [5, 6]])\n",
    "\n",
    "print(A.shape)\n",
    "print(A.T.shape)\n",
    "print(A.reshape(2,3).shape)\n",
    "print('*'*20)\n",
    "print(A)\n",
    "print('*'*20)\n",
    "print(A.T)\n",
    "print('*'*20)\n",
    "print(A.reshape(2,3))"
   ]
  },
  {
   "cell_type": "markdown",
   "id": "b2686e7d-2035-41c3-badc-9ef6db69081d",
   "metadata": {},
   "source": [
    "### some special matrices"
   ]
  },
  {
   "cell_type": "code",
   "execution_count": 49,
   "id": "9dac10b3-dcc1-4eb6-b7e3-079ee5111eb3",
   "metadata": {},
   "outputs": [
    {
     "name": "stdout",
     "output_type": "stream",
     "text": [
      "[[1. 0. 0.]\n",
      " [0. 1. 0.]\n",
      " [0. 0. 1.]]\n",
      "********************\n",
      "[[0. 0. 0.]\n",
      " [0. 0. 0.]\n",
      " [0. 0. 0.]]\n",
      "********************\n",
      "[[1 0 0]\n",
      " [0 2 0]\n",
      " [0 0 3]]\n"
     ]
    }
   ],
   "source": [
    "identity = np.eye(3)\n",
    "zeros = np.zeros((3,3))\n",
    "diagonal = np.diag(np.array([1,2,3]))\n",
    "\n",
    "print(identity)\n",
    "print('*'*20)\n",
    "print(zeros)\n",
    "print('*'*20)\n",
    "print(diagonal)"
   ]
  },
  {
   "cell_type": "markdown",
   "id": "ee767c84-8642-4e3c-858c-1c3d745c8dfd",
   "metadata": {},
   "source": [
    "## data types"
   ]
  },
  {
   "cell_type": "code",
   "execution_count": 62,
   "id": "4f3611b8-b2d3-40be-aa85-b0eba89fb3af",
   "metadata": {},
   "outputs": [
    {
     "name": "stdout",
     "output_type": "stream",
     "text": [
      "[[1 0 0]\n",
      " [0 1 0]\n",
      " [0 0 1]]\n",
      "********************\n",
      "[[1. 0. 0.]\n",
      " [0. 1. 0.]\n",
      " [0. 0. 1.]]\n",
      "Are A and B the same?\n",
      "********************\n",
      "the data in A is int32\n",
      "the data in B is float64\n"
     ]
    }
   ],
   "source": [
    "A = np.diag(np.array([1,1,1]))\n",
    "B = np.eye(3)\n",
    "\n",
    "print(A)\n",
    "print('*'*20)\n",
    "print(B)\n",
    "\n",
    "print(\"Are A and B the same?\")\n",
    "print('*'*20)\n",
    "print(f'the data in A is {A.dtype}')\n",
    "print(f'the data in B is {B.dtype}')"
   ]
  },
  {
   "cell_type": "code",
   "execution_count": 74,
   "id": "21664de9-c51c-4885-8a43-92c856ca533c",
   "metadata": {},
   "outputs": [
    {
     "name": "stdout",
     "output_type": "stream",
     "text": [
      "[[1. 0. 0.]\n",
      " [0. 1. 0.]\n",
      " [0. 0. 1.]]\n",
      "********************\n",
      "[[1. 0. 0.]\n",
      " [0. 1. 0.]\n",
      " [0. 0. 1.]]\n",
      "********************\n"
     ]
    },
    {
     "data": {
      "text/plain": [
       "(dtype('int32'), dtype('float64'))"
      ]
     },
     "execution_count": 74,
     "metadata": {},
     "output_type": "execute_result"
    }
   ],
   "source": [
    "## to specify the data type \n",
    "\n",
    "A = np.diag(np.array([1,1,1], dtype='float64'))\n",
    "print(A)\n",
    "print('*'*20)\n",
    "# alternatively\n",
    "\n",
    "A = np.diag(np.array([1.,1,1]))\n",
    "print(A)\n",
    "\n",
    "print('*'*20)\n",
    "np.array(1).dtype, np.array(1.).dtype"
   ]
  },
  {
   "cell_type": "code",
   "execution_count": null,
   "id": "2724b849-af23-4068-adde-89d9a75f4435",
   "metadata": {},
   "outputs": [],
   "source": []
  }
 ],
 "metadata": {
  "kernelspec": {
   "display_name": "Python 3 (ipykernel)",
   "language": "python",
   "name": "python3"
  },
  "language_info": {
   "codemirror_mode": {
    "name": "ipython",
    "version": 3
   },
   "file_extension": ".py",
   "mimetype": "text/x-python",
   "name": "python",
   "nbconvert_exporter": "python",
   "pygments_lexer": "ipython3",
   "version": "3.10.2"
  }
 },
 "nbformat": 4,
 "nbformat_minor": 5
}
