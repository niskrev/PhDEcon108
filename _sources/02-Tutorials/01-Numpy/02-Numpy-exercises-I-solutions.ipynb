{
 "cells": [
  {
   "cell_type": "markdown",
   "id": "70d736c3",
   "metadata": {},
   "source": [
    "# Numpy exercises"
   ]
  },
  {
   "cell_type": "code",
   "execution_count": null,
   "id": "a6736d5b-d76a-4fe1-8b4b-32c04f96674a",
   "metadata": {},
   "outputs": [],
   "source": [
    "# impoprt numpy"
   ]
  },
  {
   "cell_type": "code",
   "execution_count": null,
   "id": "8fbac115-24c1-4ea2-b7cc-5cc6f8a81a5e",
   "metadata": {
    "tags": [
     "hide-input"
    ]
   },
   "outputs": [],
   "source": [
    "import numpy as np"
   ]
  },
  {
   "cell_type": "code",
   "execution_count": null,
   "id": "653c6cb5-4037-47ca-b2c2-924eb87836db",
   "metadata": {},
   "outputs": [],
   "source": [
    "# Create an arbitrary one dimensional array called x"
   ]
  },
  {
   "cell_type": "code",
   "execution_count": null,
   "id": "a1db6070-6e77-44dc-b3b5-1567d3bad2e7",
   "metadata": {
    "tags": [
     "hide-input"
    ]
   },
   "outputs": [],
   "source": [
    "x = np.array([1,4,0,10,8])"
   ]
  },
  {
   "cell_type": "code",
   "execution_count": null,
   "id": "c1a70bbb-6f17-454a-bd3c-01911950f971",
   "metadata": {},
   "outputs": [],
   "source": [
    "# Create a new array which consists of the even indices of x you created before"
   ]
  },
  {
   "cell_type": "code",
   "execution_count": null,
   "id": "5eda0a3f-357c-414b-be28-94ed1aacba33",
   "metadata": {
    "tags": [
     "hide-input"
    ]
   },
   "outputs": [],
   "source": [
    "y = x[::2]\n",
    "y"
   ]
  },
  {
   "cell_type": "code",
   "execution_count": null,
   "id": "3c957244-701c-4a7a-8e19-1d15c0f9587a",
   "metadata": {},
   "outputs": [],
   "source": [
    "# Create a new array in backwards ordering from x"
   ]
  },
  {
   "cell_type": "code",
   "execution_count": null,
   "id": "c495f88e-4a5e-41bd-b0e9-067250c1af50",
   "metadata": {
    "tags": [
     "hide-input"
    ]
   },
   "outputs": [],
   "source": [
    "z = x[::-1]\n",
    "z"
   ]
  },
  {
   "cell_type": "code",
   "execution_count": null,
   "id": "87558da6-42df-4d2a-b14b-6d1af6b4d64e",
   "metadata": {
    "tags": [
     "hide-input"
    ]
   },
   "outputs": [],
   "source": [
    "x = np.array([3, 10, 1, 9, 21, 13])\n",
    "y = x[2:5]\n",
    "y[0] = 0\n",
    "print(x[2])"
   ]
  },
  {
   "cell_type": "code",
   "execution_count": null,
   "id": "d024efd9-e9ca-42bd-820f-f43cd5d78f04",
   "metadata": {},
   "outputs": [],
   "source": [
    "#5) Create a two dimensional array called x"
   ]
  },
  {
   "cell_type": "code",
   "execution_count": null,
   "id": "3240285f-e8bc-4ea3-b86a-d02d5b5e296c",
   "metadata": {
    "tags": [
     "hide-input"
    ]
   },
   "outputs": [],
   "source": [
    "m = np.random.randn(3,4)\n",
    "m"
   ]
  },
  {
   "cell_type": "code",
   "execution_count": null,
   "id": "dcc84871-ab2a-492b-a435-4742f1ed0989",
   "metadata": {},
   "outputs": [],
   "source": [
    "# Create a new array from m, in which the elements of each row are in reverse order."
   ]
  },
  {
   "cell_type": "code",
   "execution_count": null,
   "id": "a2859fd4-3213-4367-93be-4fac100f367f",
   "metadata": {
    "tags": [
     "hide-input"
    ]
   },
   "outputs": [],
   "source": [
    "n = m[:,::-1]\n",
    "n"
   ]
  },
  {
   "cell_type": "code",
   "execution_count": null,
   "id": "2896bd37-eb30-4bef-a1ac-04a0d777c469",
   "metadata": {},
   "outputs": [],
   "source": [
    "# Another one, where the rows are in reverse order."
   ]
  },
  {
   "cell_type": "code",
   "execution_count": null,
   "id": "a286db72-75e3-496f-9c1c-0e7955221f61",
   "metadata": {
    "tags": [
     "hide-input"
    ]
   },
   "outputs": [],
   "source": [
    "k = m[::-1,:]\n",
    "k"
   ]
  },
  {
   "cell_type": "code",
   "execution_count": null,
   "id": "189934a2-8900-4a5c-b818-39aceec53b4f",
   "metadata": {},
   "outputs": [],
   "source": [
    "# Create an array from m, where columns and rows are in reverse order."
   ]
  },
  {
   "cell_type": "code",
   "execution_count": null,
   "id": "f5ca6e02-7271-4dba-8238-00572919b71a",
   "metadata": {
    "tags": [
     "hide-input"
    ]
   },
   "outputs": [],
   "source": [
    "l = m[::-1,::-1]\n",
    "l"
   ]
  },
  {
   "cell_type": "code",
   "execution_count": null,
   "id": "c5dd8df9-d079-447f-8532-201912384cec",
   "metadata": {},
   "outputs": [],
   "source": [
    "# Cut of the first and last row and the first and last column."
   ]
  },
  {
   "cell_type": "code",
   "execution_count": null,
   "id": "4f81c5b9-6059-4a64-af1f-edba264c12ff",
   "metadata": {
    "tags": [
     "hide-input"
    ]
   },
   "outputs": [],
   "source": [
    "m[1:-1,1:-1]"
   ]
  }
 ],
 "metadata": {
  "kernelspec": {
   "display_name": "Python 3 (ipykernel)",
   "language": "python",
   "name": "python3"
  },
  "language_info": {
   "codemirror_mode": {
    "name": "ipython",
    "version": 3
   },
   "file_extension": ".py",
   "mimetype": "text/x-python",
   "name": "python",
   "nbconvert_exporter": "python",
   "pygments_lexer": "ipython3",
   "version": "3.10.2"
  }
 },
 "nbformat": 4,
 "nbformat_minor": 5
}
