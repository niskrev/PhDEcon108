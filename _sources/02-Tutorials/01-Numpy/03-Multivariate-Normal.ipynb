{
 "cells": [
  {
   "cell_type": "markdown",
   "id": "c4874671-0479-4711-9ca4-d4f951ec2d13",
   "metadata": {
    "tags": []
   },
   "source": [
    "# Multivariate Normal in Python"
   ]
  },
  {
   "cell_type": "code",
   "execution_count": 1,
   "id": "c75cb45c-d102-49ba-aa2f-970967abab04",
   "metadata": {
    "tags": []
   },
   "outputs": [],
   "source": [
    "import numpy as np"
   ]
  },
  {
   "cell_type": "markdown",
   "id": "12885f15-780a-40e3-ae2b-a9b93592e74c",
   "metadata": {},
   "source": [
    "## Generating random variables"
   ]
  },
  {
   "cell_type": "markdown",
   "id": "e6be24eb-396c-4ec2-a87f-2b24fd5bcbd1",
   "metadata": {},
   "source": [
    "### Univariate Normal"
   ]
  },
  {
   "cell_type": "code",
   "execution_count": 2,
   "id": "80735c69-688c-4b26-8c29-71f4d2476ea6",
   "metadata": {},
   "outputs": [],
   "source": [
    "from numpy.random import default_rng"
   ]
  },
  {
   "cell_type": "code",
   "execution_count": 3,
   "id": "ff2a27fb-8f8b-46a4-b1bb-783105099b8b",
   "metadata": {},
   "outputs": [],
   "source": [
    "gen = default_rng(100) ## manually setting the seed"
   ]
  },
  {
   "cell_type": "code",
   "execution_count": 4,
   "id": "bd4207cd-1e1d-41ae-a1d2-1778ffbe7790",
   "metadata": {},
   "outputs": [
    {
     "data": {
      "text/plain": [
       "numpy.random._generator.Generator"
      ]
     },
     "execution_count": 4,
     "metadata": {},
     "output_type": "execute_result"
    }
   ],
   "source": [
    "type(gen)"
   ]
  },
  {
   "cell_type": "code",
   "execution_count": 5,
   "id": "3a9ce50c-4083-4905-b7da-9eb6f0e22480",
   "metadata": {},
   "outputs": [
    {
     "data": {
      "text/plain": [
       "{'bit_generator': 'PCG64',\n",
       " 'state': {'state': 303569912328666541443949327325712330023,\n",
       "  'inc': 283482735468249341487105010547600403213},\n",
       " 'has_uint32': 0,\n",
       " 'uinteger': 0}"
      ]
     },
     "execution_count": 5,
     "metadata": {},
     "output_type": "execute_result"
    }
   ],
   "source": [
    "gen = default_rng() # random seed\n",
    "state = gen.bit_generator.state ## generating the state\n",
    "state"
   ]
  },
  {
   "cell_type": "markdown",
   "id": "d5974eb4-3bcd-4870-a3a7-d3c869f80d3e",
   "metadata": {},
   "source": [
    "We can save that state to a file and then use it again as follows"
   ]
  },
  {
   "cell_type": "code",
   "execution_count": 6,
   "id": "b036dd98-087e-43a8-825b-5e3974facd50",
   "metadata": {},
   "outputs": [],
   "source": [
    "gen.bit_generator.state = state"
   ]
  },
  {
   "cell_type": "code",
   "execution_count": 7,
   "id": "b81a9deb-0773-4e9f-96e6-94c21fc74761",
   "metadata": {},
   "outputs": [],
   "source": [
    "x = gen.standard_normal((100_000, 5))"
   ]
  },
  {
   "cell_type": "code",
   "execution_count": 8,
   "id": "9c2d7c92-d5d9-4b3c-b6d0-28e1b6d4e825",
   "metadata": {},
   "outputs": [
    {
     "data": {
      "text/plain": [
       "(100000, 5)"
      ]
     },
     "execution_count": 8,
     "metadata": {},
     "output_type": "execute_result"
    }
   ],
   "source": [
    "x.shape"
   ]
  },
  {
   "cell_type": "code",
   "execution_count": 9,
   "id": "614448ac-6b98-4cf9-8993-47e4b3f1b1e8",
   "metadata": {},
   "outputs": [
    {
     "data": {
      "text/plain": [
       "(-0.002625803489919437, 0.9987820113920508)"
      ]
     },
     "execution_count": 9,
     "metadata": {},
     "output_type": "execute_result"
    }
   ],
   "source": [
    "x[:,0].mean(), x[:,0].std()"
   ]
  },
  {
   "cell_type": "code",
   "execution_count": 10,
   "id": "ac78b79a-533a-468b-9df7-5bbf5056b563",
   "metadata": {},
   "outputs": [
    {
     "data": {
      "text/plain": [
       "array([-2.62580349e-03,  2.80629830e-04, -4.06825538e-05,  1.85665784e-03,\n",
       "       -1.43839915e-03])"
      ]
     },
     "execution_count": 10,
     "metadata": {},
     "output_type": "execute_result"
    }
   ],
   "source": [
    "x.mean(axis=0)"
   ]
  },
  {
   "cell_type": "code",
   "execution_count": 11,
   "id": "5a750f62-1e35-4aa7-a8ea-cf1e99db8bd6",
   "metadata": {},
   "outputs": [
    {
     "data": {
      "text/plain": [
       "array([0.99878201, 1.00062503, 0.99844802, 1.00205125, 1.00131516])"
      ]
     },
     "execution_count": 11,
     "metadata": {},
     "output_type": "execute_result"
    }
   ],
   "source": [
    "x.std(axis=0)"
   ]
  },
  {
   "cell_type": "code",
   "execution_count": 12,
   "id": "d79e1ffd-b280-489f-af83-166e637f87ac",
   "metadata": {},
   "outputs": [],
   "source": [
    "x = gen.normal(1.5, 2, (100_000, 5))"
   ]
  },
  {
   "cell_type": "code",
   "execution_count": 13,
   "id": "07f0441e-6900-4154-aa75-62761cdf24e3",
   "metadata": {},
   "outputs": [
    {
     "data": {
      "text/plain": [
       "array([1.49842377, 1.50102508, 1.50276884, 1.49446717, 1.49841479])"
      ]
     },
     "execution_count": 13,
     "metadata": {},
     "output_type": "execute_result"
    }
   ],
   "source": [
    "x.mean(axis=0)"
   ]
  },
  {
   "cell_type": "code",
   "execution_count": 14,
   "id": "76b866e4-605b-43a3-9d70-e222badc2760",
   "metadata": {},
   "outputs": [
    {
     "data": {
      "text/plain": [
       "array([1.99517824, 2.00016565, 1.99875554, 1.9995485 , 1.99662529])"
      ]
     },
     "execution_count": 14,
     "metadata": {},
     "output_type": "execute_result"
    }
   ],
   "source": [
    "x.std(axis=0)"
   ]
  },
  {
   "cell_type": "markdown",
   "id": "7a1ad147-7c8b-4068-871d-90b35f3e24cc",
   "metadata": {},
   "source": [
    "### Multivariate Normal"
   ]
  },
  {
   "cell_type": "code",
   "execution_count": 15,
   "id": "9682ec9d-3777-4b99-8207-69b63a5e0788",
   "metadata": {},
   "outputs": [],
   "source": [
    "mu = np.zeros((5))"
   ]
  },
  {
   "cell_type": "code",
   "execution_count": 16,
   "id": "d5b13746-a1ea-4244-8370-9103a4b6453d",
   "metadata": {},
   "outputs": [],
   "source": [
    "# generate a random A, and compute Sigma as the outer product\n",
    "A = gen.normal(1, 1, (5,5))\n",
    "Sigma = A@A.T"
   ]
  },
  {
   "cell_type": "code",
   "execution_count": 17,
   "id": "58c5b7e0-c102-4423-8f19-7d5259a5e4ed",
   "metadata": {},
   "outputs": [
    {
     "data": {
      "text/plain": [
       "array([[ 7.16728024,  0.68257781,  8.56618681,  3.08237592,  4.65587799],\n",
       "       [ 0.68257781,  8.98253061,  1.23792905, -6.24665935, -2.44137091],\n",
       "       [ 8.56618681,  1.23792905, 13.18128218,  0.72701952,  4.38754789],\n",
       "       [ 3.08237592, -6.24665935,  0.72701952, 12.25399676,  6.15596626],\n",
       "       [ 4.65587799, -2.44137091,  4.38754789,  6.15596626,  4.65355445]])"
      ]
     },
     "execution_count": 17,
     "metadata": {},
     "output_type": "execute_result"
    }
   ],
   "source": [
    "Sigma"
   ]
  },
  {
   "cell_type": "code",
   "execution_count": 18,
   "id": "40d767dc-fc00-4f7b-b878-aca80ce80cf3",
   "metadata": {},
   "outputs": [],
   "source": [
    "z = gen.multivariate_normal(mean=mu,  cov=Sigma, size=1_000_000)"
   ]
  },
  {
   "cell_type": "code",
   "execution_count": 19,
   "id": "6988e51d-af50-436c-95dc-c76e5ddb4eb1",
   "metadata": {},
   "outputs": [
    {
     "data": {
      "text/plain": [
       "(1000000, 5)"
      ]
     },
     "execution_count": 19,
     "metadata": {},
     "output_type": "execute_result"
    }
   ],
   "source": [
    "z.shape"
   ]
  },
  {
   "cell_type": "code",
   "execution_count": 20,
   "id": "00843066-28b6-46a6-baed-5d4ed6fc06f6",
   "metadata": {},
   "outputs": [
    {
     "data": {
      "text/plain": [
       "array([-0.00101216,  0.0019855 , -0.00221562, -0.00039861, -0.00081751])"
      ]
     },
     "execution_count": 20,
     "metadata": {},
     "output_type": "execute_result"
    }
   ],
   "source": [
    "z.mean(axis=0)"
   ]
  },
  {
   "cell_type": "code",
   "execution_count": 21,
   "id": "e79c3f01-3f5b-4a4a-b542-b6236b124054",
   "metadata": {},
   "outputs": [
    {
     "data": {
      "text/plain": [
       "array([ 7.17771668,  8.97148621, 13.19093883, 12.24809059,  4.65681377])"
      ]
     },
     "execution_count": 21,
     "metadata": {},
     "output_type": "execute_result"
    }
   ],
   "source": [
    "z.var(axis=0)"
   ]
  },
  {
   "cell_type": "code",
   "execution_count": 22,
   "id": "45b9edb6-5a7a-4381-ab24-1c16f1d1e7a2",
   "metadata": {},
   "outputs": [
    {
     "data": {
      "text/plain": [
       "array([ 7.16728024,  8.98253061, 13.18128218, 12.25399676,  4.65355445])"
      ]
     },
     "execution_count": 22,
     "metadata": {},
     "output_type": "execute_result"
    }
   ],
   "source": [
    "Sigma.diagonal()"
   ]
  },
  {
   "cell_type": "code",
   "execution_count": 23,
   "id": "5676fd08-5f7c-4e97-acfb-ddb3a5bdb15f",
   "metadata": {},
   "outputs": [
    {
     "data": {
      "text/plain": [
       "array([[ 7.16728024,  0.        ,  0.        ,  0.        ,  0.        ],\n",
       "       [ 0.        ,  8.98253061,  0.        ,  0.        ,  0.        ],\n",
       "       [ 0.        ,  0.        , 13.18128218,  0.        ,  0.        ],\n",
       "       [ 0.        ,  0.        ,  0.        , 12.25399676,  0.        ],\n",
       "       [ 0.        ,  0.        ,  0.        ,  0.        ,  4.65355445]])"
      ]
     },
     "execution_count": 23,
     "metadata": {},
     "output_type": "execute_result"
    }
   ],
   "source": [
    "np.diag(Sigma.diagonal())"
   ]
  },
  {
   "cell_type": "markdown",
   "id": "1faeb2aa-7fb3-4e5c-b43f-b98875d5aa18",
   "metadata": {},
   "source": [
    "### Legacy approach to setting state"
   ]
  },
  {
   "cell_type": "code",
   "execution_count": 24,
   "id": "521badab-1448-45b2-b3e4-11ceb3c38e1a",
   "metadata": {},
   "outputs": [],
   "source": [
    "np.random.seed(42)"
   ]
  },
  {
   "cell_type": "code",
   "execution_count": 25,
   "id": "c9b09a68-eee0-4793-838c-de46eb430a46",
   "metadata": {},
   "outputs": [],
   "source": [
    "st = np.random.get_state()"
   ]
  },
  {
   "cell_type": "code",
   "execution_count": 26,
   "id": "f8f30c0f-94fc-473b-b7d5-8a34369d014f",
   "metadata": {},
   "outputs": [],
   "source": [
    "np.random.set_state(st)"
   ]
  },
  {
   "cell_type": "code",
   "execution_count": 27,
   "id": "c47c6751-6aa4-4855-a2e9-f582d5e4826b",
   "metadata": {},
   "outputs": [],
   "source": [
    "z2 = np.random.multivariate_normal(mean=mu, cov=Sigma, size=10000)"
   ]
  },
  {
   "cell_type": "code",
   "execution_count": 28,
   "id": "8305b2cf-abd7-48b5-8ad8-d1f47517d9c7",
   "metadata": {},
   "outputs": [
    {
     "data": {
      "text/plain": [
       "array([-0.07680725,  1.64047347, -2.14777747, -1.39090491, -0.44627057])"
      ]
     },
     "execution_count": 28,
     "metadata": {},
     "output_type": "execute_result"
    }
   ],
   "source": [
    "z2[0]"
   ]
  },
  {
   "cell_type": "code",
   "execution_count": 29,
   "id": "d7e89450-bd16-4d00-984a-3a18627bc410",
   "metadata": {},
   "outputs": [
    {
     "data": {
      "text/plain": [
       "array([-0.07680725,  1.64047347, -2.14777747, -1.39090491, -0.44627057])"
      ]
     },
     "execution_count": 29,
     "metadata": {},
     "output_type": "execute_result"
    }
   ],
   "source": [
    "z2[0]"
   ]
  },
  {
   "cell_type": "code",
   "execution_count": 30,
   "id": "306d1656-fbe9-4077-b498-084f8fdca172",
   "metadata": {},
   "outputs": [
    {
     "data": {
      "text/plain": [
       "array([-0.02184029, -0.04967203, -0.02203345,  0.02557707,  0.00058157])"
      ]
     },
     "execution_count": 30,
     "metadata": {},
     "output_type": "execute_result"
    }
   ],
   "source": [
    "z2.mean(axis=0)"
   ]
  },
  {
   "cell_type": "code",
   "execution_count": 31,
   "id": "81c1d1fe-cbe8-4bfc-8f47-f36789e0f7fd",
   "metadata": {},
   "outputs": [
    {
     "data": {
      "text/plain": [
       "array([ 7.34450447,  9.07011249, 13.51425697, 12.22751783,  4.73572826])"
      ]
     },
     "execution_count": 31,
     "metadata": {},
     "output_type": "execute_result"
    }
   ],
   "source": [
    "z2.var(axis=0)"
   ]
  },
  {
   "cell_type": "markdown",
   "id": "51947241-9ade-4f4a-8bc8-c313c7e211d7",
   "metadata": {
    "tags": []
   },
   "source": [
    "## Task 1\n",
    "Set `gen = default_rng(100)`, and generate 10000 samples from bivariate normal with mean (10, 10) and variances 3 and 1 and covariance 1. Compute the sample covariance matrix __without__ using the `np.cov()` method. Compare the result with the obtained using `np.cov`."
   ]
  },
  {
   "cell_type": "code",
   "execution_count": 32,
   "id": "73348387-7911-406d-a1f1-f749cb1b0a61",
   "metadata": {
    "tags": [
     "hide-input",
     "hide-output"
    ]
   },
   "outputs": [
    {
     "name": "stdout",
     "output_type": "stream",
     "text": [
      "[[2.96065507 1.00828446]\n",
      " [1.00828446 5.03174172]]\n",
      "******************************\n",
      "[[2.96065507 1.00828446]\n",
      " [1.00828446 5.03174172]]\n",
      "******************************\n"
     ]
    }
   ],
   "source": [
    "gen = default_rng(100)\n",
    "N = 10_000\n",
    "\n",
    "mean = np.array([10,10])\n",
    "cov = np.array([[3,1],[1,5]])\n",
    "\n",
    "x = gen.multivariate_normal(mean=mean, cov=cov, size=N)\n",
    "\n",
    "u = x - x.mean(0)\n",
    "cov = u.T@u/(N-1)\n",
    "\n",
    "print(cov)\n",
    "print('*'*30)\n",
    "print(np.cov(x, rowvar=False))\n",
    "print('*'*30)\n",
    "np.testing.assert_almost_equal(cov, np.cov(x, rowvar=False))"
   ]
  },
  {
   "cell_type": "markdown",
   "id": "2a4aac33-f871-4249-8c16-2f0460dcf112",
   "metadata": {},
   "source": [
    "## Task 2\n",
    "Let $z_1$ and $z_2$ be bivariate normal with means 0, variances 1, and covariance .9. Compute the conditional mean and variance of $z_1$, given that $z_2=1$.\n",
    "\n",
    "$$\n",
    "p(z_1 | z_2) = \\mathcal{N}\\left(\\mu_1 + \\frac{\\rho \\sigma_{1}}{\\sigma_{2}} (z_2 - \\mu_2), (1 - \\rho^2)\\sigma_1^2\\right)\n",
    "$$\n"
   ]
  },
  {
   "cell_type": "code",
   "execution_count": 33,
   "id": "7178667a-c2c8-4b60-bf11-b7db4038938e",
   "metadata": {
    "tags": [
     "hide-input",
     "hide-output"
    ]
   },
   "outputs": [
    {
     "data": {
      "text/plain": [
       "(0.9, 0.18999999999999995)"
      ]
     },
     "execution_count": 33,
     "metadata": {},
     "output_type": "execute_result"
    }
   ],
   "source": [
    "rho=.9\n",
    "sigma1 = 1\n",
    "sigma2 = 1\n",
    "mu1=0\n",
    "mu2=0\n",
    "\n",
    "z2 = 1\n",
    "\n",
    "(\n",
    "mu1 + (z2 - mu2)*(rho*sigma1)/(sigma2), \n",
    "(1 - rho**2)*sigma1**2\n",
    ")"
   ]
  },
  {
   "cell_type": "markdown",
   "id": "641a257a-84f9-421f-9890-98519b0274ff",
   "metadata": {},
   "source": [
    "## General case\n",
    "\n",
    "$$\n",
    "\\begin{align}\n",
    "\\operatorname{E}(\\mathbf{z}_1 | \\mathbf{z}_2) &= \\boldsymbol \\mu_1 + \\mathbf{\\Sigma}_{1 2} \\mathbf{\\Sigma}^{-1}_{2 2} (\\mathbf{z}_2 - \\boldsymbol \\mu_2) \\\\\n",
    "\\operatorname{cov}(\\mathbf{z}_1 | \\mathbf{z}_2) &= \\mathbf{\\Sigma}_{1 1} - \\mathbf{\\Sigma}_{1 2}\\mathbf{\\Sigma}_{2 2}^{-1}\\mathbf{\\Sigma}_{2 1}\n",
    "\\end{align}\n",
    "$$"
   ]
  },
  {
   "cell_type": "markdown",
   "id": "cb288783-ec43-4c9c-971c-970a0fcac466",
   "metadata": {},
   "source": [
    "## Task 3\n",
    "Compute the conditional mean and variance of $z_1$, given that $z_2=1$ Using\n"
   ]
  },
  {
   "cell_type": "code",
   "execution_count": 34,
   "id": "64c41fba-f1b0-4cea-b994-fc20c8987244",
   "metadata": {},
   "outputs": [],
   "source": [
    "Sigma12 = np.array([[0.1]])\n",
    "Sigma22 = np.array([[1.0]])\n",
    "Sigma21 = np.array([[0.1]])\n",
    "Sigma11 = np.array([[1.0]])\n",
    "\n",
    "mu1 = np.array([0])\n",
    "mu2 = np.array([0])"
   ]
  },
  {
   "cell_type": "code",
   "execution_count": 35,
   "id": "49ff11c0-e198-4e4c-a533-d4d6c80b7c48",
   "metadata": {
    "tags": [
     "hide-input",
     "hide-output"
    ]
   },
   "outputs": [
    {
     "data": {
      "text/plain": [
       "array([[0.1]])"
      ]
     },
     "execution_count": 35,
     "metadata": {},
     "output_type": "execute_result"
    }
   ],
   "source": [
    "z2 = np.array([1])\n",
    "\n",
    "cond_mu = mu1 + (Sigma12 / np.linalg.inv(Sigma22)) * (z2 - mu2)\n",
    "cond_mu"
   ]
  },
  {
   "cell_type": "code",
   "execution_count": 36,
   "id": "486e6cdb-cce7-40aa-8133-06991f76d29b",
   "metadata": {
    "tags": [
     "hide-input",
     "hide-output"
    ]
   },
   "outputs": [
    {
     "data": {
      "text/plain": [
       "array([[0.99]])"
      ]
     },
     "execution_count": 36,
     "metadata": {},
     "output_type": "execute_result"
    }
   ],
   "source": [
    "cond_cov = Sigma11 - Sigma12 @ np.linalg.inv(Sigma22) @ Sigma21\n",
    "cond_cov"
   ]
  },
  {
   "cell_type": "markdown",
   "id": "7d983d11-ba7b-4db1-a852-3e5dbf6fa6aa",
   "metadata": {},
   "source": [
    "Instead of computing the inverse $\\mathbf{\\Sigma}^{-1}_{2 2}$, it is recommended to get $\\mathbf{\\Sigma}^{-1}_{2 2} (\\mathbf{z}_2 - \\boldsymbol \\mu_2)$, by solving the matrix equation\n",
    "\n",
    "$$\\mathbf{\\Sigma}^{-1}_{2 2} B = (\\mathbf{z}_2 - \\boldsymbol \\mu_2) $$\n",
    "\n",
    "using the `linalg.solve()` function. Similarly, for $\\mathbf{\\Sigma}^{-1}_{2 2} \\mathbf{\\Sigma}_{2 1}$"
   ]
  },
  {
   "cell_type": "code",
   "execution_count": 37,
   "id": "1e6a5e18-a4ab-42d4-acb7-00d1e661cc6b",
   "metadata": {
    "tags": [
     "hide-input",
     "hide-output"
    ]
   },
   "outputs": [
    {
     "data": {
      "text/plain": [
       "(array([0.1]), array([[0.99]]))"
      ]
     },
     "execution_count": 37,
     "metadata": {},
     "output_type": "execute_result"
    }
   ],
   "source": [
    "cond_mu = mu1 + Sigma12 @ np.linalg.solve(Sigma22, z2 - mu2)\n",
    "\n",
    "cond_cov = Sigma11 - Sigma12 @ np.linalg.solve(Sigma22, Sigma21)\n",
    "\n",
    "cond_mu, cond_cov"
   ]
  },
  {
   "cell_type": "markdown",
   "id": "5aec2991-51dc-4609-961c-1b63a700299c",
   "metadata": {},
   "source": [
    "## Task 4\n",
    "Compute the conditional mean and variance of $z_1$, given that $z_2=1$ Using\n"
   ]
  },
  {
   "cell_type": "code",
   "execution_count": 38,
   "id": "aeda42c6-0c45-4677-a991-d1313fddd3db",
   "metadata": {},
   "outputs": [],
   "source": [
    "Sigma12 = np.array([[0.9]])\n",
    "Sigma22 = np.array([[1.0]])\n",
    "Sigma21 = np.array([[0.9]])\n",
    "\n",
    "mu1 = np.array([0])\n",
    "mu1 = np.array([0])"
   ]
  },
  {
   "cell_type": "code",
   "execution_count": 39,
   "id": "7cc86da4-9034-45ac-b328-b6d60d4b2446",
   "metadata": {
    "tags": [
     "hide-input",
     "hide-output"
    ]
   },
   "outputs": [
    {
     "data": {
      "text/plain": [
       "(array([0.9]), array([[0.19]]))"
      ]
     },
     "execution_count": 39,
     "metadata": {},
     "output_type": "execute_result"
    }
   ],
   "source": [
    "z2 = np.array([1])\n",
    "cond_mu = mu1 + Sigma12 @ np.linalg.solve(Sigma22, z2 - mu2)\n",
    "\n",
    "cond_cov = Sigma11 - Sigma12 @ np.linalg.solve(Sigma22, Sigma21)\n",
    "\n",
    "cond_mu, cond_cov"
   ]
  },
  {
   "cell_type": "markdown",
   "id": "14b63faa-a620-461c-8e1f-830e62bc3fbc",
   "metadata": {},
   "source": [
    "## Task 5\n",
    "\n",
    "Use `A = gen.normal(1, 1, (4,4))` to compute `Sigma = A@A.T` Let $z$ be 4D Normal with covariance `Sigma` and partition it into $z_1$ and $z_2$ both of which are 2D.\n",
    "Compute the conditional variance of $z_1$ given $z_2$\n"
   ]
  },
  {
   "cell_type": "code",
   "execution_count": 40,
   "id": "458d71ec-f0ea-449a-8c64-5a8eb754adbb",
   "metadata": {
    "tags": [
     "hide-input",
     "hide-output"
    ]
   },
   "outputs": [
    {
     "data": {
      "text/plain": [
       "array([[ 3.95231817, -1.35320667],\n",
       "       [-1.35320667,  0.62295154]])"
      ]
     },
     "execution_count": 40,
     "metadata": {},
     "output_type": "execute_result"
    }
   ],
   "source": [
    "A = gen.normal(1, 1, (4,4))\n",
    "Sigma = A@A.T\n",
    "\n",
    "indices_1 = [0, 1]\n",
    "indices_2 = [2, 3]\n",
    "\n",
    "z2indices = np.zeros(4, bool)\n",
    "z1indices = z2indices.copy()\n",
    "\n",
    "z2indices[indices_2] = 1\n",
    "z1indices[indices_1] = 1\n",
    "\n",
    "Sigma11 = Sigma[z1indices, :][:, z1indices]\n",
    "Sigma12 = Sigma[z1indices, :][:, z2indices]\n",
    "Sigma21 = Sigma[z2indices, :][:, z1indices]\n",
    "Sigma22 = Sigma[z2indices, :][:, z2indices]\n",
    "\n",
    "cond_cov = Sigma11 - Sigma12 @ np.linalg.solve(Sigma22, Sigma21)\n",
    "cond_cov"
   ]
  }
 ],
 "metadata": {
  "kernelspec": {
   "display_name": "Python 3 (ipykernel)",
   "language": "python",
   "name": "python3"
  },
  "language_info": {
   "codemirror_mode": {
    "name": "ipython",
    "version": 3
   },
   "file_extension": ".py",
   "mimetype": "text/x-python",
   "name": "python",
   "nbconvert_exporter": "python",
   "pygments_lexer": "ipython3",
   "version": "3.10.2"
  }
 },
 "nbformat": 4,
 "nbformat_minor": 5
}
