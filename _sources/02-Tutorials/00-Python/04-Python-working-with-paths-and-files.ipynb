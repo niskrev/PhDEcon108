{
 "cells": [
  {
   "cell_type": "markdown",
   "id": "e359149d-647f-4a1e-b3a9-3f6b99994ef5",
   "metadata": {},
   "source": [
    "# Working with paths and files"
   ]
  },
  {
   "cell_type": "code",
   "execution_count": 1,
   "id": "7ffe0146-91e6-4efc-a9bb-2ce942e6abe6",
   "metadata": {},
   "outputs": [],
   "source": [
    "from pathlib import Path"
   ]
  },
  {
   "cell_type": "code",
   "execution_count": 2,
   "id": "82d2cf99-d271-40e7-98c2-0d446e4a05c6",
   "metadata": {},
   "outputs": [
    {
     "data": {
      "text/plain": [
       "WindowsPath('C:/Users/eeu227/Documents/PROJECTS/PhDEcon108/docs/02-Tutorials/00-Python')"
      ]
     },
     "execution_count": 2,
     "metadata": {},
     "output_type": "execute_result"
    }
   ],
   "source": [
    "current_path = Path.cwd()\n",
    "current_path"
   ]
  },
  {
   "cell_type": "code",
   "execution_count": 3,
   "id": "0702995d-7353-4981-abe3-2ead5ed0f16f",
   "metadata": {},
   "outputs": [
    {
     "data": {
      "text/plain": [
       "pathlib.WindowsPath"
      ]
     },
     "execution_count": 3,
     "metadata": {},
     "output_type": "execute_result"
    }
   ],
   "source": [
    "type(current_path)"
   ]
  },
  {
   "cell_type": "code",
   "execution_count": 4,
   "id": "e7ba6999-5fd7-4830-8c77-436f77ac237a",
   "metadata": {},
   "outputs": [
    {
     "data": {
      "text/plain": [
       "True"
      ]
     },
     "execution_count": 4,
     "metadata": {},
     "output_type": "execute_result"
    }
   ],
   "source": [
    "current_path.exists()"
   ]
  },
  {
   "cell_type": "code",
   "execution_count": 5,
   "id": "93608da0-ca35-4aae-b7aa-e8d6af7b17ab",
   "metadata": {},
   "outputs": [
    {
     "data": {
      "text/plain": [
       "['absolute',\n",
       " 'anchor',\n",
       " 'as_posix',\n",
       " 'as_uri',\n",
       " 'chmod',\n",
       " 'cwd',\n",
       " 'drive',\n",
       " 'exists',\n",
       " 'expanduser',\n",
       " 'glob',\n",
       " 'group',\n",
       " 'hardlink_to',\n",
       " 'home',\n",
       " 'is_absolute',\n",
       " 'is_block_device',\n",
       " 'is_char_device',\n",
       " 'is_dir',\n",
       " 'is_fifo',\n",
       " 'is_file',\n",
       " 'is_mount',\n",
       " 'is_relative_to',\n",
       " 'is_reserved',\n",
       " 'is_socket',\n",
       " 'is_symlink',\n",
       " 'iterdir',\n",
       " 'joinpath',\n",
       " 'lchmod',\n",
       " 'link_to',\n",
       " 'lstat',\n",
       " 'match',\n",
       " 'mkdir',\n",
       " 'name',\n",
       " 'open',\n",
       " 'owner',\n",
       " 'parent',\n",
       " 'parents',\n",
       " 'parts',\n",
       " 'read_bytes',\n",
       " 'read_text',\n",
       " 'readlink',\n",
       " 'relative_to',\n",
       " 'rename',\n",
       " 'replace',\n",
       " 'resolve',\n",
       " 'rglob',\n",
       " 'rmdir',\n",
       " 'root',\n",
       " 'samefile',\n",
       " 'stat',\n",
       " 'stem',\n",
       " 'suffix',\n",
       " 'suffixes',\n",
       " 'symlink_to',\n",
       " 'touch',\n",
       " 'unlink',\n",
       " 'with_name',\n",
       " 'with_stem',\n",
       " 'with_suffix',\n",
       " 'write_bytes',\n",
       " 'write_text']"
      ]
     },
     "execution_count": 5,
     "metadata": {},
     "output_type": "execute_result"
    }
   ],
   "source": [
    "[x for x in dir(current_path) if not x.startswith('_')]"
   ]
  },
  {
   "cell_type": "code",
   "execution_count": 6,
   "id": "dee9663c-e27e-4bae-8289-388495af8b78",
   "metadata": {},
   "outputs": [],
   "source": [
    "list_of_files_and_dirs = list(current_path.glob(\"*.*\"))"
   ]
  },
  {
   "cell_type": "code",
   "execution_count": 7,
   "id": "5e197f3c-aad5-4f69-bdbb-1e1f8c569e65",
   "metadata": {},
   "outputs": [
    {
     "data": {
      "text/plain": [
       "[WindowsPath('C:/Users/eeu227/Documents/PROJECTS/PhDEcon108/docs/02-Tutorials/00-Python/.ipynb_checkpoints'),\n",
       " WindowsPath('C:/Users/eeu227/Documents/PROJECTS/PhDEcon108/docs/02-Tutorials/00-Python/00-Python.md'),\n",
       " WindowsPath('C:/Users/eeu227/Documents/PROJECTS/PhDEcon108/docs/02-Tutorials/00-Python/01-Python-examples-Copy1.ipynb'),\n",
       " WindowsPath('C:/Users/eeu227/Documents/PROJECTS/PhDEcon108/docs/02-Tutorials/00-Python/01-Python-intro.ipynb'),\n",
       " WindowsPath('C:/Users/eeu227/Documents/PROJECTS/PhDEcon108/docs/02-Tutorials/00-Python/02-Python-examples-II.ipynb'),\n",
       " WindowsPath('C:/Users/eeu227/Documents/PROJECTS/PhDEcon108/docs/02-Tutorials/00-Python/02-Python-functions.ipynb'),\n",
       " WindowsPath('C:/Users/eeu227/Documents/PROJECTS/PhDEcon108/docs/02-Tutorials/00-Python/03-Python-modules.ipynb'),\n",
       " WindowsPath('C:/Users/eeu227/Documents/PROJECTS/PhDEcon108/docs/02-Tutorials/00-Python/04-Python-working-with-paths-and-files.ipynb'),\n",
       " WindowsPath('C:/Users/eeu227/Documents/PROJECTS/PhDEcon108/docs/02-Tutorials/00-Python/l03_variables_operators_types.ipynb'),\n",
       " WindowsPath('C:/Users/eeu227/Documents/PROJECTS/PhDEcon108/docs/02-Tutorials/00-Python/l04_more_operators_and_conditionals.ipynb')]"
      ]
     },
     "execution_count": 7,
     "metadata": {},
     "output_type": "execute_result"
    }
   ],
   "source": [
    "list_of_files_and_dirs"
   ]
  },
  {
   "cell_type": "code",
   "execution_count": 8,
   "id": "81397c36-528d-4d1f-9cb0-4db7ca53ae3a",
   "metadata": {},
   "outputs": [
    {
     "name": "stdout",
     "output_type": "stream",
     "text": [
      ".ipynb_checkpoints\n",
      "00-Python.md\n",
      "01-Python-examples-Copy1.ipynb\n",
      "01-Python-intro.ipynb\n",
      "02-Python-examples-II.ipynb\n",
      "02-Python-functions.ipynb\n",
      "03-Python-modules.ipynb\n",
      "04-Python-working-with-paths-and-files.ipynb\n",
      "l03_variables_operators_types.ipynb\n",
      "l04_more_operators_and_conditionals.ipynb\n"
     ]
    }
   ],
   "source": [
    "for f in list_of_files_and_dirs:\n",
    "    print(f.name)"
   ]
  },
  {
   "cell_type": "code",
   "execution_count": 9,
   "id": "0eb4969c-64b8-4a00-b362-fcb5934925b9",
   "metadata": {},
   "outputs": [
    {
     "data": {
      "text/plain": [
       "WindowsPath('C:/Users/eeu227/Documents/PROJECTS/PhDEcon108/docs/02-Tutorials/00-Python/.ipynb_checkpoints')"
      ]
     },
     "execution_count": 9,
     "metadata": {},
     "output_type": "execute_result"
    }
   ],
   "source": [
    "list_of_files_and_dirs[0]"
   ]
  },
  {
   "cell_type": "code",
   "execution_count": 10,
   "id": "500e7359-8ccf-421a-8151-fc2d7173d241",
   "metadata": {},
   "outputs": [
    {
     "data": {
      "text/plain": [
       "False"
      ]
     },
     "execution_count": 10,
     "metadata": {},
     "output_type": "execute_result"
    }
   ],
   "source": [
    "list_of_files_and_dirs[0].is_file()"
   ]
  },
  {
   "cell_type": "code",
   "execution_count": 11,
   "id": "ba5cbf2e-9ba8-4085-b64d-38a92057a74d",
   "metadata": {},
   "outputs": [
    {
     "data": {
      "text/plain": [
       "True"
      ]
     },
     "execution_count": 11,
     "metadata": {},
     "output_type": "execute_result"
    }
   ],
   "source": [
    "list_of_files_and_dirs[0].is_dir()"
   ]
  },
  {
   "cell_type": "markdown",
   "id": "cbc73d01-ab02-4df9-9342-38152870085b",
   "metadata": {},
   "source": [
    "## Building paths"
   ]
  },
  {
   "cell_type": "code",
   "execution_count": 12,
   "id": "2d0ae3d3-9ba4-4772-b0c4-1f0fff4b1376",
   "metadata": {},
   "outputs": [
    {
     "data": {
      "text/plain": [
       "WindowsPath('C:/Users/eeu227/Documents/PROJECTS/PhDEcon108/docs/02-Tutorials')"
      ]
     },
     "execution_count": 12,
     "metadata": {},
     "output_type": "execute_result"
    }
   ],
   "source": [
    "parent_path = current_path.parent\n",
    "parent_path"
   ]
  },
  {
   "cell_type": "code",
   "execution_count": 13,
   "id": "b7b1de72-e97c-49e3-821e-e795a9e1e4a2",
   "metadata": {},
   "outputs": [
    {
     "data": {
      "text/plain": [
       "WindowsPath('C:/Users/eeu227/Documents/PROJECTS/PhDEcon108/docs/02-Tutorials/00-Python')"
      ]
     },
     "execution_count": 13,
     "metadata": {},
     "output_type": "execute_result"
    }
   ],
   "source": [
    "parent_path.joinpath('00-Python')"
   ]
  },
  {
   "cell_type": "code",
   "execution_count": 14,
   "id": "303ab729-efbc-46ea-9095-2dd542d4caa6",
   "metadata": {},
   "outputs": [
    {
     "data": {
      "text/plain": [
       "True"
      ]
     },
     "execution_count": 14,
     "metadata": {},
     "output_type": "execute_result"
    }
   ],
   "source": [
    "parent_path.joinpath('00-Python').exists()"
   ]
  },
  {
   "cell_type": "code",
   "execution_count": 15,
   "id": "26235384-b46e-4e83-8098-4ad7fae30747",
   "metadata": {},
   "outputs": [],
   "source": [
    "assert parent_path.joinpath('00-Python/00-Python.md').exists()"
   ]
  },
  {
   "cell_type": "code",
   "execution_count": 16,
   "id": "c252f3a3-4faa-4743-b1cd-1d1a0a17815f",
   "metadata": {},
   "outputs": [],
   "source": [
    "assert parent_path.joinpath('00-Python/00-Python.md').is_file()"
   ]
  },
  {
   "cell_type": "code",
   "execution_count": 17,
   "id": "f53da0a7-e4bc-4558-8072-630d4442cc54",
   "metadata": {},
   "outputs": [
    {
     "data": {
      "text/plain": [
       "True"
      ]
     },
     "execution_count": 17,
     "metadata": {},
     "output_type": "execute_result"
    }
   ],
   "source": [
    "parent_path.is_dir()"
   ]
  },
  {
   "cell_type": "markdown",
   "id": "3f9aacf6-ed0b-4f28-a7e1-0fd633a0ef33",
   "metadata": {
    "tags": []
   },
   "source": [
    "## Task 1\n",
    "\n",
    "Get a list of the files in the current directory"
   ]
  },
  {
   "cell_type": "code",
   "execution_count": 18,
   "id": "94cf72ef-ea65-4c21-830a-2f6e25ebd799",
   "metadata": {
    "tags": [
     "hide-input",
     "hide-output"
    ]
   },
   "outputs": [
    {
     "data": {
      "text/plain": [
       "[WindowsPath('C:/Users/eeu227/Documents/PROJECTS/PhDEcon108/docs/02-Tutorials/00-Python/00-Python.md'),\n",
       " WindowsPath('C:/Users/eeu227/Documents/PROJECTS/PhDEcon108/docs/02-Tutorials/00-Python/01-Python-examples-Copy1.ipynb'),\n",
       " WindowsPath('C:/Users/eeu227/Documents/PROJECTS/PhDEcon108/docs/02-Tutorials/00-Python/01-Python-intro.ipynb'),\n",
       " WindowsPath('C:/Users/eeu227/Documents/PROJECTS/PhDEcon108/docs/02-Tutorials/00-Python/02-Python-examples-II.ipynb'),\n",
       " WindowsPath('C:/Users/eeu227/Documents/PROJECTS/PhDEcon108/docs/02-Tutorials/00-Python/02-Python-functions.ipynb'),\n",
       " WindowsPath('C:/Users/eeu227/Documents/PROJECTS/PhDEcon108/docs/02-Tutorials/00-Python/03-Python-modules.ipynb'),\n",
       " WindowsPath('C:/Users/eeu227/Documents/PROJECTS/PhDEcon108/docs/02-Tutorials/00-Python/04-Python-working-with-paths-and-files.ipynb'),\n",
       " WindowsPath('C:/Users/eeu227/Documents/PROJECTS/PhDEcon108/docs/02-Tutorials/00-Python/l03_variables_operators_types.ipynb'),\n",
       " WindowsPath('C:/Users/eeu227/Documents/PROJECTS/PhDEcon108/docs/02-Tutorials/00-Python/l04_more_operators_and_conditionals.ipynb')]"
      ]
     },
     "execution_count": 18,
     "metadata": {},
     "output_type": "execute_result"
    }
   ],
   "source": [
    "[x for x in list(current_path.glob('*.*')) if x.is_file()]"
   ]
  }
 ],
 "metadata": {
  "kernelspec": {
   "display_name": "Python 3 (ipykernel)",
   "language": "python",
   "name": "python3"
  },
  "language_info": {
   "codemirror_mode": {
    "name": "ipython",
    "version": 3
   },
   "file_extension": ".py",
   "mimetype": "text/x-python",
   "name": "python",
   "nbconvert_exporter": "python",
   "pygments_lexer": "ipython3",
   "version": "3.10.2"
  }
 },
 "nbformat": 4,
 "nbformat_minor": 5
}
