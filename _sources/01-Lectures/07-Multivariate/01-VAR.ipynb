{
 "cells": [
  {
   "cell_type": "markdown",
   "id": "f8b384c7",
   "metadata": {
    "slideshow": {
     "slide_type": "slide"
    }
   },
   "source": [
    "# Multivariate time series"
   ]
  },
  {
   "cell_type": "markdown",
   "id": "9b20c9cc",
   "metadata": {
    "slideshow": {
     "slide_type": "fragment"
    }
   },
   "source": [
    "* univariate - temporal dependence between components of a single series \n",
    "* multivariate - temporal (inter)-dependence between components of different series"
   ]
  },
  {
   "cell_type": "markdown",
   "id": "c52c0ef6",
   "metadata": {
    "slideshow": {
     "slide_type": "subslide"
    }
   },
   "source": [
    "__Definition__: A time series process is a sequence of random __vectors__ indexed by time:\n",
    "\n",
    "$$\n",
    "\\{\\mathbf{z}_t: t =~ ..., -2, -1, ~0,~1, ~2,~ ... \\} = \\{\\mathbf{z}_t \\}_{t=-\\infty}^{\\infty} \\tag{1}\n",
    "$$\n",
    "\n",
    "where $\\mathbf{z}_t$ is $n \\geq 1$-dimensional vector"
   ]
  },
  {
   "cell_type": "markdown",
   "id": "1a51f547",
   "metadata": {
    "slideshow": {
     "slide_type": "subslide"
    }
   },
   "source": [
    "## Stationarity"
   ]
  },
  {
   "cell_type": "markdown",
   "id": "f30fd89b",
   "metadata": {
    "slideshow": {
     "slide_type": "fragment"
    }
   },
   "source": [
    "__Definition__:  The process $\\{\\mathbf{z}_t\\}_{t=-\\infty}^{\\infty}$ is ___covariance stationary___ if the first two moments of the joint distribution <u>exist</u> and are <u>time-invariant</u>"
   ]
  },
  {
   "cell_type": "markdown",
   "id": "d481d8b8",
   "metadata": {
    "slideshow": {
     "slide_type": "subslide"
    }
   },
   "source": [
    "* mean\n",
    "\n",
    "$$\n",
    "\\operatorname{E}\\mathbf{z}_t = \\mathbf{\\mu}_t = \\begin{bmatrix} \\mu_{1t} \\\\ \\mu_{2t} \\\\\\vdots  \\\\\\mu_{nt} \\end{bmatrix}\n",
    "$$"
   ]
  },
  {
   "cell_type": "markdown",
   "id": "1515c232",
   "metadata": {
    "slideshow": {
     "slide_type": "fragment"
    }
   },
   "source": [
    "* covariance \n",
    "\n",
    "$$ \n",
    "\\begin{align}\n",
    "\\operatorname{cov}(\\mathbf{z}_t, \\mathbf{z}_{t-k})  & = \\operatorname{E}(\\mathbf{z}_t - \\mathbf{\\mu}_t)(\\mathbf{z}_{t-k} - \\mathbf{\\mu}_{t-k} )'\\\\\\\\ & = \\Gamma(t, t-k) =\n",
    "\\begin{pmatrix}\n",
    "\\gamma_{11}(t, t-k) &  \\cdots & \\gamma_{1n}(t, t-k)\\\\\n",
    "\\vdots &  \\ddots &  \\vdots\\\\ \n",
    "\\gamma_{n1}(t, t-k) &   \\cdots & \\gamma_{nn}(t, t-k)\\\\\n",
    "\\end{pmatrix}\n",
    "\\end{align}\n",
    "$$"
   ]
  },
  {
   "cell_type": "markdown",
   "id": "675e7dd5",
   "metadata": {
    "slideshow": {
     "slide_type": "subslide"
    }
   },
   "source": [
    "* $\\{\\mathbf{z}_t\\}_{t=-\\infty}^{\\infty}$ is ___covariance stationary___ if \n",
    "\n",
    "$$\n",
    "\\begin{align}\n",
    "\\mathbf{\\mu}_t & = \\mathbf{\\mu}\n",
    "\\\\\n",
    "\\Gamma(t, t-k) & = \\Gamma(k) \n",
    "\\end{align}\n",
    "$$\n",
    "\n",
    "are __not__ functions of $t$"
   ]
  },
  {
   "cell_type": "markdown",
   "id": "0641b745",
   "metadata": {
    "slideshow": {
     "slide_type": "subslide"
    }
   },
   "source": [
    "__Note__:\n",
    "    \n",
    "$$    \n",
    "    \\Gamma(k) = \\operatorname{cov}(\\mathbf{z}_t, \\mathbf{z}_{t-k}) = \\operatorname{cov}(\\mathbf{z}_{t+k}, \\mathbf{z}_{t}) \\neq \n",
    "    \\operatorname{cov}(\\mathbf{z}_{t}, \\mathbf{z}_{t+k}) = \\Gamma(-k)\n",
    "$$    \n",
    "\n",
    "* $\\Gamma(k)$ is __not__ symmetric (unless $k=0$)\n",
    "\n",
    "* but since $\\operatorname{cov}(\\mathbf{z}_{t+k}, \\mathbf{z}_{t})' = \\operatorname{cov}(\\mathbf{z}_{t}, \\mathbf{z}_{t+k})$    \n",
    "\n",
    "$$    \n",
    "    \\Gamma(k) = \\Gamma(-k)'\n",
    "$$\n",
    "\n",
    "follows from (set $\\mathbf{\\mu}=0$ w.l.g.)\n",
    "\n",
    "$$\\Gamma(k) =\\operatorname{cov}(\\mathbf{z}_{t+k}, \\mathbf{z}_{t}) = \\operatorname{E}(\\mathbf{z}_{t+k} \\mathbf{z}_{t}')= \\operatorname{E}(\\mathbf{z}_{t}\\mathbf{z}_{t+k}')' = \\left(\\operatorname{cov}(\\mathbf{z}_{t}, \\mathbf{z}_{t+k}) \\right)'=\\Gamma(-k)' \n",
    "$$\n"
   ]
  },
  {
   "cell_type": "markdown",
   "id": "9390d675",
   "metadata": {
    "slideshow": {
     "slide_type": "subslide"
    }
   },
   "source": [
    "If\n",
    "\n",
    "$$\\mathbf{Z}_T =  \\begin{bmatrix}\\mathbf{z}_{1}\\\\ \\mathbf{z}_{2}\\\\ \\vdots\\\\ \\mathbf{z}_{T}\\end{bmatrix}$$\n",
    "\n",
    "then\n",
    "\n",
    "$$\\operatorname{E}(\\mathbf{Z}_T) =  \\begin{bmatrix}\\mathbf{\\mu}\\\\ \\mathbf{\\mu}\\\\ \\vdots\\\\ \\mathbf{\\mu}\\end{bmatrix},\\;\\;\\;\\;\\;\n",
    "\\operatorname{cov}(\\mathbf{Z}_T) =  \n",
    "\\begin{pmatrix}\n",
    "\\Gamma(0) &  \\Gamma(1)' & \\cdots & \\Gamma(T-1)'\\\\\n",
    "\\Gamma(1) & \\Gamma(0) & \\cdots & \\Gamma(T-2)'\\\\\n",
    "\\vdots &  \\vdots &  \\vdots&  \\vdots\\\\ \n",
    "\\Gamma(T-1) & \\Gamma(T-2) & \\cdots & \\Gamma(0)\\\\\n",
    "\\end{pmatrix} \\;\\;\\; (\\text{symmetric block Toeplitz matrix})\n",
    "$$"
   ]
  },
  {
   "cell_type": "markdown",
   "id": "f5e34eba",
   "metadata": {
    "slideshow": {
     "slide_type": "subslide"
    }
   },
   "source": [
    "* Multivariate Gaussian tme series\n",
    "\n",
    "$$ \\mathbf{Z}_T \\sim \\mathcal{N} \\left(\\boldsymbol \\mu, \\boldsymbol \\Sigma \\right) $$\n",
    "\n",
    "$$ $$\n",
    "\n",
    "$$ \\begin{bmatrix}\\mathbf{z}_{1}\\\\ \\mathbf{z}_{2}\\\\ \\vdots\\\\ \\mathbf{z}_{T}\\end{bmatrix}\n",
    "\\sim \\mathcal{N} \\left(\n",
    "\\begin{bmatrix}\\mathbf{\\mu}\\\\ \\mathbf{\\mu}\\\\ \\vdots\\\\ \\mathbf{\\mu}\\end{bmatrix},\n",
    "\\begin{pmatrix}\n",
    "\\Gamma(0) &  \\Gamma(1)' & \\cdots & \\Gamma(T-1)'\\\\\n",
    "\\Gamma(1) & \\Gamma(0) & \\cdots & \\Gamma(T-2)'\\\\\n",
    "\\vdots &  \\vdots &  \\vdots&  \\vdots\\\\ \n",
    "\\Gamma(T-1) & \\Gamma(T-2) & \\cdots & \\Gamma(0)\\\\\n",
    "\\end{pmatrix}\n",
    "\\right)\n",
    "$$"
   ]
  },
  {
   "cell_type": "markdown",
   "id": "51141a97",
   "metadata": {
    "slideshow": {
     "slide_type": "subslide"
    }
   },
   "source": [
    "Number of unique parameters"
   ]
  },
  {
   "cell_type": "markdown",
   "id": "29ea617f",
   "metadata": {
    "slideshow": {
     "slide_type": "fragment"
    }
   },
   "source": [
    "$$\n",
    "\\begin{align}\n",
    "\\Gamma(0) & : n(n+1)/2 \\\\\n",
    "    &+\\\\\n",
    "\\Gamma(1) & : n^2 \\\\\n",
    "    &+\\\\\n",
    " & \\vdots \\\\\n",
    "     &+\\\\\n",
    "\\Gamma(T-1) & : n^2\n",
    "\\end{align}\n",
    "$$\n",
    "\n",
    "with $n = 5, T = 200 => 4990$"
   ]
  },
  {
   "cell_type": "markdown",
   "id": "aea48388",
   "metadata": {
    "slideshow": {
     "slide_type": "subslide"
    }
   },
   "source": [
    "* time series __models__ allow to represent temporal (inter)dependence parsimoniously\n",
    "* by imposing restrictions - reducing the number of unique parameters\n",
    "* making estimation feasible"
   ]
  },
  {
   "cell_type": "markdown",
   "id": "017a803a",
   "metadata": {
    "slideshow": {
     "slide_type": "subslide"
    }
   },
   "source": [
    "## VARMA(p, q) model\n",
    "\n",
    "$$ \n",
    "\\begin{align}\n",
    " A(L) \\mathbf{z}_t &=  B(L) \\boldsymbol \\varepsilon_t, \\;\\;\\;\\;\\; \\boldsymbol \\varepsilon_t \\sim \\operatorname{WN} \\left( 0, \\;\\mathbf{\\Sigma}\\right) \\;\\;\\; (\\text{vector white noise, i.e. } \\operatorname{E}(\\boldsymbol \\varepsilon_t, \\boldsymbol \\varepsilon_{t-k}') = 0)\\\\\\\\\n",
    " A(L) &=  I  -  A_1 L - \\cdots -  A_p L^p \\\\\n",
    " B(L) &=  I  +  B_1 L + \\cdots +  B_q L^q \\\\\n",
    "\\end{align}\n",
    "$$"
   ]
  },
  {
   "cell_type": "markdown",
   "id": "c93b2afd",
   "metadata": {
    "slideshow": {
     "slide_type": "notes"
    }
   },
   "source": [
    "zero auto and cross-auto correlations of the innovations"
   ]
  },
  {
   "cell_type": "markdown",
   "id": "e31cd21f",
   "metadata": {
    "slideshow": {
     "slide_type": "fragment"
    }
   },
   "source": [
    "$$\n",
    " A_i = \n",
    "\\begin{pmatrix}\n",
    "a_{11, i} &  \\cdots & a_{1n, i}\\\\\n",
    "\\vdots &  \\ddots &  \\vdots\\\\ \n",
    "a_{n1, i} &  \\cdots & a_{nn, i}\\\\\n",
    "\\end{pmatrix}, \\;\\;\\;\n",
    " B_j = \n",
    "\\begin{pmatrix}\n",
    "b_{11, j} &  \\cdots & b_{1n, j}\\\\\n",
    "\\vdots &  \\ddots &  \\vdots\\\\ \n",
    "b_{n1, j} &  \\cdots & b_{nn, j}\\\\\n",
    "\\end{pmatrix}\n",
    "$$\n",
    "\n",
    "* $n^2(p+q) + n(n+1)/2$ unknown parameters"
   ]
  },
  {
   "cell_type": "markdown",
   "id": "2af67a35",
   "metadata": {
    "slideshow": {
     "slide_type": "fragment"
    }
   },
   "source": [
    "* in general, difficult to estimate \n",
    "    * not all parameters are identified\n",
    "    * have to use numerical optimization\n"
   ]
  },
  {
   "cell_type": "markdown",
   "id": "9ef750c2",
   "metadata": {
    "slideshow": {
     "slide_type": "subslide"
    }
   },
   "source": [
    "## VAR(p) model\n",
    "\n",
    "$$ \n",
    "\\begin{align}\n",
    "\\mathbf{z}_t =  A_1 \\mathbf{z}_{t-1} + \\cdots +  A_p \\mathbf{z}_{t-p} +  \\boldsymbol \\varepsilon_t, \\;\\;\\;\\;\\; \\boldsymbol \\varepsilon_t \\sim \\operatorname{WN} \\left( 0, \\;\\mathbf{\\Sigma}\\right)\\\\\\\\\n",
    "\\end{align}\n",
    "$$"
   ]
  },
  {
   "cell_type": "markdown",
   "id": "5bbed622",
   "metadata": {
    "slideshow": {
     "slide_type": "fragment"
    }
   },
   "source": [
    "$$ \n",
    "\\begin{align}\n",
    " A(L) \\mathbf{z}_t &=  \\boldsymbol \\varepsilon_t, \\;\\;\\;\\;\\; \\boldsymbol \\varepsilon_t \\sim \\operatorname{WN} \\left( 0, \\;\\mathbf{\\Sigma}\\right)\\\\\\\\\n",
    " A(L) =  I & -  A_1 L - \\cdots -  A_p L^p \\\\\n",
    "\\end{align}\n",
    "$$"
   ]
  },
  {
   "cell_type": "markdown",
   "id": "2ccc1c6a",
   "metadata": {
    "slideshow": {
     "slide_type": "fragment"
    }
   },
   "source": [
    "* $\\mathbf{\\Sigma}_{ij}$ captures all contemporaneous (time $t$) relationships between $z_i$ and $z_j$\n",
    "* $\\boldsymbol \\{A_k\\}_{ij}$ captures all dynamic interactions between $z_{it}$ and $z_{j, t-k}$"
   ]
  },
  {
   "cell_type": "markdown",
   "id": "224b537b",
   "metadata": {
    "slideshow": {
     "slide_type": "subslide"
    }
   },
   "source": [
    "### Stationarity"
   ]
  },
  {
   "cell_type": "markdown",
   "id": "8105210c",
   "metadata": {
    "slideshow": {
     "slide_type": "fragment"
    }
   },
   "source": [
    "VAR(p) is __stationary__ if all roots of the equation\n",
    "\n",
    "$$| A(x)| = | I -  A_1 x - \\cdots -  A_p x^p|=0$$\n",
    "\n",
    "\n",
    "are outside the unit circle ($|x|>1$)"
   ]
  },
  {
   "cell_type": "markdown",
   "id": "cc56f039",
   "metadata": {
    "slideshow": {
     "slide_type": "subslide"
    }
   },
   "source": [
    "#### VAR(1) representation of VAR(p) process\n",
    "\n",
    "$$\n",
    "\\mathbf{Z}_{t} =  \\boldsymbol \\Phi \\mathbf{Z}_{t-1}  +  \\boldsymbol E_t\n",
    "$$\n",
    "\n",
    "\n",
    "$$\n",
    "\\underset{\\mathbf{Z}_t}{\\underbrace{\\left[\\begin{array}{c}\n",
    "\\mathbf{z}_{t}\\\\\n",
    "\\mathbf{z}_{t-1}\\\\\n",
    "\\vdots\\\\\n",
    "\\mathbf{z}_{t-p+1}\n",
    "\\end{array}\\right]}}\n",
    "=\n",
    "\\underset{ \\boldsymbol \\Phi}{\\underbrace{\\left[\\begin{array}{cccccccc}\n",
    " A_1 &  A_2 & \\cdots &  A_{p-1} &  A_p\\\\\n",
    " I &  0 & \\cdots & 0 & 0\\\\\n",
    "\\vdots & \\vdots & \\vdots & \\vdots \\\\\n",
    "0  & 0  & \\cdots &  I & 0\n",
    "\\end{array}\\right]}}\n",
    "\\underset{\\mathbf{Z}_{t-1}}{\\underbrace{\\left[\\begin{array}{c}\n",
    "\\mathbf{z}_{t-1}\\\\\n",
    "\\mathbf{z}_{t-2}\\\\\n",
    "\\vdots\\\\\n",
    "\\mathbf{z}_{t-p}\n",
    "\\end{array}\\right]}}\n",
    "+\n",
    "\\underset{ \\boldsymbol E_{t}}{\\underbrace{\\left[\\begin{array}{c}\n",
    " \\varepsilon_{t}\\\\\n",
    "0\\\\\n",
    "\\vdots\\\\\n",
    "0\n",
    "\\end{array}\\right]}}\n",
    "$$\n",
    "\n",
    "* $ \\boldsymbol \\Phi$ - companion matrix"
   ]
  },
  {
   "cell_type": "markdown",
   "id": "eab35a36",
   "metadata": {
    "slideshow": {
     "slide_type": "subslide"
    }
   },
   "source": [
    "$\\mathbf{Z}_{t}$ is stationary if all roots $x$ of\n",
    "\n",
    "$$|\\boldsymbol I - \\boldsymbol \\Phi x|=0$$\n",
    "\n",
    "are outside the unit circle ($|x|>1$), which is equivalent to all solutions of\n",
    "\n",
    "$$|\\boldsymbol I \\lambda - \\boldsymbol \\Phi|=0$$\n",
    "\n",
    "being $|\\lambda|<1$, i.e. all __eigenvalues__ of $\\boldsymbol \\Phi$ being less than 1 in absolute value."
   ]
  },
  {
   "cell_type": "markdown",
   "id": "f8783eb6",
   "metadata": {
    "slideshow": {
     "slide_type": "subslide"
    }
   },
   "source": [
    "### Eigenvalue decomposition\n",
    "\n",
    "* $ \\Lambda$ - diagonal matrix of the eigenvalues of $ A$ \n",
    "* $ V$ - matrix of the eigenvectors of $ A$ \n",
    "\n",
    "from \n",
    "\n",
    "$$  A  V =  V  \\Lambda $$"
   ]
  },
  {
   "cell_type": "markdown",
   "id": "953cc5ab",
   "metadata": {
    "slideshow": {
     "slide_type": "fragment"
    }
   },
   "source": [
    "we have\n",
    "\n",
    "$$\n",
    "\\begin{align}\n",
    " A & =  V  \\Lambda  V^{-1}\\\\\n",
    " A^2 & =  A  A =  V  \\Lambda  V^{-1}  V  \\Lambda  V^{-1} =  V  \\Lambda^2  V^{-1}\\\\\n",
    " A^h & =  V  \\Lambda^h  V^{-1}\\\\\n",
    "\\end{align}\n",
    "$$"
   ]
  },
  {
   "cell_type": "markdown",
   "id": "984dcc3b",
   "metadata": {
    "slideshow": {
     "slide_type": "subslide"
    }
   },
   "source": [
    "if for all eigenvalues $|\\lambda_i| < 1$, \n",
    "\n",
    "$$ \\Lambda^h \\longrightarrow 0 \\;\\; \\text{  and  } \\;\\;  A^h \\longrightarrow 0 \\;\\;\\; \\text{as } h \\longrightarrow \\infty$$\n",
    "\n",
    "\n",
    "\n",
    "* similar to $|\\alpha|<1$ in $z_t = \\alpha z_{t-1} + \\varepsilon_t$"
   ]
  },
  {
   "cell_type": "markdown",
   "id": "0006b81e",
   "metadata": {
    "slideshow": {
     "slide_type": "subslide"
    }
   },
   "source": [
    "#### VAR(1) process\n",
    "\n",
    "$$\n",
    "\\mathbf{z}_{t} =  A \\mathbf{z}_{t-1}  + \\boldsymbol \\varepsilon_{t}\n",
    "$$"
   ]
  },
  {
   "cell_type": "markdown",
   "id": "4779d8f2",
   "metadata": {
    "slideshow": {
     "slide_type": "fragment"
    }
   },
   "source": [
    "#### From VAR parameters to moments of $\\mathbf{z}_t$"
   ]
  },
  {
   "cell_type": "markdown",
   "id": "ad541126",
   "metadata": {
    "slideshow": {
     "slide_type": "fragment"
    }
   },
   "source": [
    "* what are the VAR parameters?"
   ]
  },
  {
   "cell_type": "markdown",
   "id": "5f089c7b",
   "metadata": {
    "slideshow": {
     "slide_type": "subslide"
    }
   },
   "source": [
    "* __mean__\n",
    "\n",
    "$$\n",
    "\\begin{align}\n",
    "\\operatorname{E} \\mathbf{z}_{t} &=  A \\operatorname{E} \\mathbf{z}_{t-1}  + \\operatorname{E} \\boldsymbol \\varepsilon_{t}\\\\\n",
    "& = 0\n",
    "\\end{align}\n",
    "$$"
   ]
  },
  {
   "cell_type": "markdown",
   "id": "5b7b6fb9",
   "metadata": {
    "slideshow": {
     "slide_type": "subslide"
    }
   },
   "source": [
    "* __covariance__\n",
    "\n",
    "$$\\mathbf{z}_{t} = A \\mathbf{z}_{t-1}  + \\boldsymbol \\varepsilon_{t} \\;\\; \\Rightarrow \\;\\; \\mathbf{z}_{t}\\mathbf{z}_{t}^{\\prime} =  \\left(A \\mathbf{z}_{t-1}  + \\boldsymbol \\varepsilon_{t}\\right)\\left(A \\mathbf{z}_{t-1}  + \\boldsymbol \\varepsilon_{t}\\right)^{\\prime}$$\n",
    "\n",
    "Since $\\operatorname{E}(\\mathbf{z}_{t-1} \\varepsilon_{t}') = 0 $\n",
    "\n",
    "$$\n",
    "\\operatorname{E}(\\mathbf{z}_{t} \\mathbf{z}'_{t}) =  A \\operatorname{E}(\\mathbf{z}_{t-1} \\mathbf{z}^{\\prime}_{t-1})  A'  + \\operatorname{E}( \\varepsilon_{t} \\varepsilon_{t}')\n",
    "$$\n",
    "\n",
    "or\n",
    "\n",
    "$$\n",
    "\\begin{align}\n",
    "\\Gamma(0) =\\; &  A \\Gamma(0)   A ' + \\Sigma\\\\\\\\\n",
    "\\;\\;\\; &\\text{and}\\\\\\\\\n",
    "\\operatorname{vec}\\left(\\Gamma(0) \\right) =\\; &  \\left( I -  A \\otimes  A  \\right)^{-1} \\operatorname{vec}( \\Sigma)\\\\\n",
    "\\end{align}\n",
    "$$\n",
    "\n",
    "* follows from $\\operatorname{vec}(ABC) = (C' \\otimes A) \\operatorname{vec}(B)$"
   ]
  },
  {
   "cell_type": "markdown",
   "id": "cbc68ba9",
   "metadata": {
    "slideshow": {
     "slide_type": "subslide"
    }
   },
   "source": [
    "* __autocovariances__\n",
    "\n",
    "$$\n",
    "\\operatorname{E}(\\mathbf{z}_{t} \\mathbf{z}'_{t-1}) =  A \\operatorname{E}(\\mathbf{z}_{t-1} \\mathbf{z}^{\\prime}_{t-1})  + \\operatorname{E}( \\varepsilon_{t} \\mathbf{z}_{t-1}')\n",
    "$$\n",
    "\n",
    "* lag 1\n",
    "\n",
    "$$ \\Gamma(1) =  A \\Gamma(0) $$\n",
    "\n",
    "* lag 2\n",
    "\n",
    "$$ \\Gamma(2) =  A \\Gamma(1) =  A^2 \\Gamma(0)  $$\n",
    "\n",
    "* lag h\n",
    "\n",
    "$$ \\Gamma(h) =  A^h \\Gamma(0)  $$"
   ]
  },
  {
   "cell_type": "markdown",
   "id": "2085c3cd",
   "metadata": {
    "slideshow": {
     "slide_type": "subslide"
    }
   },
   "source": [
    "#### From moments of $\\mathbf{z}_t$ to VAR parameters\n",
    "\n",
    "$$ \n",
    "\\begin{align}\n",
    "\\Gamma(1) =  A \\Gamma(0)  \\;\\;\\;  & \\Rightarrow \\;\\;\\;  A = \\Gamma(1)\\Gamma(0)^{-1}\n",
    "\\\\\\\\\n",
    "\\Gamma(0) =  A \\Gamma(0)   A ' + \\Sigma  \\;\\;\\;  & \\Rightarrow  \\;\\;\\;  \\Sigma = \\Gamma(0)-\\Gamma(1)\\Gamma(0)^{-1} \\Gamma(1)'\n",
    "\\end{align}\n",
    "$$"
   ]
  },
  {
   "cell_type": "markdown",
   "id": "ca1bdfe7",
   "metadata": {
    "slideshow": {
     "slide_type": "subslide"
    }
   },
   "source": [
    "#### Non-zero mean $\\operatorname{E} \\mathbf{z}_t = \\mathbf{\\mu} \\neq 0$\n",
    "\n",
    "\n",
    "$$\n",
    "\\begin{align}\n",
    "\\mathbf{z}_{t} & =  \\boldsymbol a_0 +   A \\mathbf{z}_{t-1}  +  \\varepsilon_{t}\\\\\\\\\n",
    "\\mathbf{\\mu} & =  \\boldsymbol a_0 +  A \\mathbf{\\mu}\\\\\\\\\n",
    "\\mathbf{\\mu} & = \\left( I -   A \\right)^{-1}  \\boldsymbol a_0 \n",
    "\\end{align}\n",
    "$$\n",
    "\n",
    "and \n",
    "\n",
    "$$\\operatorname{E} \\bar{\\mathbf{z}}_t = \\operatorname{E} (\\mathbf{z}_t- \\mathbf{\\mu}) = 0$$"
   ]
  },
  {
   "cell_type": "markdown",
   "id": "bbc39b6c",
   "metadata": {
    "slideshow": {
     "slide_type": "subslide"
    }
   },
   "source": [
    "__Note__ For the moments of a VAR(p) model, use the VAR(1) representation, and apply the __selection matrix__\n",
    "\n",
    "$$\\boldsymbol s = \\left[ I,  0, \\cdots,  0 \\right] $$\n",
    "\n",
    "to obtain the autocovariances of $\\mathbf{z}_{t}$ from the autocovariances of $\\mathbf{Z}_{t}$"
   ]
  },
  {
   "cell_type": "markdown",
   "id": "d80c683c",
   "metadata": {
    "slideshow": {
     "slide_type": "fragment"
    }
   },
   "source": [
    "since \n",
    "\n",
    "$$ \\mathbf{z}_{t} = \\boldsymbol s \\mathbf{Z}_{t}$$\n",
    "\n",
    "* $ \\operatorname{E} \\mathbf{z}_{t} = \\boldsymbol s \\operatorname{E} \\mathbf{Z}_{t}$\n",
    "* $ \\operatorname{var} (\\mathbf{z}_{t}) = \\boldsymbol s \\operatorname{var} (\\mathbf{Z}_{t}) \\boldsymbol s'$\n",
    "* $ \\operatorname{cov} (\\mathbf{z}_{t}, \\mathbf{z}_{t-k}) = \\boldsymbol s \\operatorname{cov} (\\mathbf{Z}_{t}, \\mathbf{Z}_{t-k}) \\boldsymbol s'$"
   ]
  },
  {
   "cell_type": "markdown",
   "id": "3f4fe310",
   "metadata": {
    "slideshow": {
     "slide_type": "subslide"
    }
   },
   "source": [
    "## Estimation"
   ]
  },
  {
   "cell_type": "markdown",
   "id": "a162d99d",
   "metadata": {
    "slideshow": {
     "slide_type": "subslide"
    }
   },
   "source": [
    "We can write VAR(p)\n",
    "\n",
    "$$ \n",
    "\\begin{align}\n",
    "\\mathbf{z}_t = \\boldsymbol a_0 + A_1 \\mathbf{z}_{t-1} + \\cdots +  A_p \\mathbf{z}_{t-p} +  \\boldsymbol \\varepsilon_t, \\;\\;\\;\\;\\; \\boldsymbol \\varepsilon_t \\sim \\operatorname{WN} \\left( 0, \\;\\mathbf{\\Sigma}\\right)\n",
    "\\end{align}\n",
    "$$"
   ]
  },
  {
   "cell_type": "markdown",
   "id": "3075a211",
   "metadata": {
    "slideshow": {
     "slide_type": "fragment"
    }
   },
   "source": [
    "as\n",
    "\n",
    "$$\\mathbf{z}_t = \\boldsymbol A \\boldsymbol x_{t-1} + \\boldsymbol \\varepsilon_t $$\n",
    "\n",
    "where $\\boldsymbol A = [\\boldsymbol a_0, A_1, \\cdots, A_p ]$, and $\\boldsymbol x_{t-1} = [1, \\mathbf{z}_{t-1}', \\cdots, \\mathbf{z}_{t-p}' ]'$"
   ]
  },
  {
   "cell_type": "markdown",
   "id": "90da7160",
   "metadata": {
    "slideshow": {
     "slide_type": "subslide"
    }
   },
   "source": [
    "Assume a pre-sample $\\mathbf{z}_{0}, \\mathbf{z}_{1}, \\cdots, \\mathbf{z}_{-p+1}$ is given. (alternatively, re-define $T$)\n",
    "\n",
    "Then, we have\n",
    "\n",
    "$$\\boldsymbol Z =  \\boldsymbol A \\boldsymbol X + \\boldsymbol U $$\n",
    "\n",
    "where \n",
    "\n",
    "* $\\boldsymbol Z = [\\mathbf{z}_{1}, \\cdots, \\mathbf{z}_T] $ is $n \\times T$\n",
    "* $\\boldsymbol X = [\\mathbf{x}_{0}, \\cdots, \\mathbf{x}_{T-1}] $ is $n(p+1) \\times T$\n",
    "* $\\boldsymbol U = [\\boldsymbol \\varepsilon_{1}, \\cdots, \\boldsymbol \\varepsilon_T] $ is $n \\times T$"
   ]
  },
  {
   "cell_type": "markdown",
   "id": "dc136c96",
   "metadata": {
    "slideshow": {
     "slide_type": "subslide"
    }
   },
   "source": [
    "### OLS estimation \n",
    "\n",
    "$$\n",
    "\\begin{align}\n",
    "\\hat{\\boldsymbol A} &=  \\boldsymbol Z \\boldsymbol X' (\\boldsymbol X \\boldsymbol X')^{-1} \\\\\\\\\n",
    "\\hat{\\boldsymbol \\Sigma} & = \\frac{1}{T - np - 1} \\hat{\\boldsymbol U} \\hat{\\boldsymbol U}' \\\\\\\\\n",
    "\\hat{\\boldsymbol U} & =  \\boldsymbol Z - \\hat{\\boldsymbol A} \\boldsymbol X\n",
    "\\end{align}\n",
    "$$"
   ]
  },
  {
   "cell_type": "markdown",
   "id": "4c015da1",
   "metadata": {
    "slideshow": {
     "slide_type": "fragment"
    }
   },
   "source": [
    "#### Asymptotic distribution\n",
    "\n",
    "$$\n",
    "\\operatorname{vec}\\left(\\hat{\\boldsymbol A}  \\right) \\overset{a}{\\sim}  \\mathcal{N} \\left( \\operatorname{vec}\\left(\\boldsymbol A \\right),\\;  (\\boldsymbol X \\boldsymbol X')^{-1} \\otimes \\hat{\\boldsymbol \\Sigma}   \\right)  \n",
    "$$"
   ]
  },
  {
   "cell_type": "markdown",
   "id": "f251ceba",
   "metadata": {
    "slideshow": {
     "slide_type": "subslide"
    }
   },
   "source": [
    "__Notes:__\n",
    "\n",
    "* the rows of $\\boldsymbol A$ can be estimated with OLS equation by equation \n",
    "* also equivalent to conditional MLE, assuming that $\\boldsymbol \\varepsilon_t \\sim \\mathcal{N} \\left( 0, \\;\\mathbf{\\Sigma}\\right)$\n",
    "* $\\hat{\\boldsymbol A}$ has a small-sample bias, which can be corrected for analytically (when the VAR has only intercept) or using bootstrap (when a deterministic trand is included)"
   ]
  },
  {
   "cell_type": "markdown",
   "id": "75308dda",
   "metadata": {
    "slideshow": {
     "slide_type": "subslide"
    }
   },
   "source": [
    "### Choice of $p$\n",
    "\n",
    "* define a set of models - select $p_{min}$ and $p_{max}$\n",
    "* estimate each one and compute __IC(p)__\n",
    "* pick the one with lowest __IC(p)__ value"
   ]
  },
  {
   "cell_type": "markdown",
   "id": "66162482",
   "metadata": {
    "slideshow": {
     "slide_type": "fragment"
    }
   },
   "source": [
    "Most commonly used ICs:\n",
    "\n",
    "$$\n",
    "\\begin{align}\n",
    "AIC &= \\operatorname{ln}|\\hat{\\boldsymbol \\Sigma}^{ml}(p)| + \\frac{2}{T}(pn^2 + n) \\;\\;\\;\\;\\;\\;\\;\\;\\;\\;\\;\\;\\;\\;\\;\\; \\text{Akaike’s Information Criterion} \\\\\n",
    "BIC &= \\operatorname{ln}|\\hat{\\boldsymbol \\Sigma}^{ml}(p)| + + \\frac{\\operatorname{ln}(T)}{T}(pn^2 + n) \\;\\;\\;\\;\\;\\;\\;\\;\\; \\text{Bayesian Information Criterion}\n",
    "\\end{align}\n",
    "$$"
   ]
  },
  {
   "cell_type": "markdown",
   "id": "422bf9e3",
   "metadata": {
    "slideshow": {
     "slide_type": "skip"
    }
   },
   "source": [
    "__Notes__ \n",
    "* For ICs to be comparable for different $p$, the sample has to be the same (set $t = p_{max}+1,\\cdots, T$)\n",
    "* $\\hat{\\boldsymbol \\Sigma}^{ml}(p) =  \\frac{1}{T} \\hat{\\boldsymbol U} \\hat{\\boldsymbol U}' = \\frac{T-np-1}{T} \\hat{\\boldsymbol \\Sigma}^{ols}(p)$\n",
    "* typically, $p_{min}=12$ for monthly and $p_{min}=4$ for quarterly data"
   ]
  },
  {
   "cell_type": "markdown",
   "id": "49584cbd",
   "metadata": {
    "slideshow": {
     "slide_type": "subslide"
    }
   },
   "source": [
    "## Forecasting\n",
    "\n",
    "\n",
    "$$ \n",
    "\\begin{align}\n",
    "\\mathbf{z}_t &= A \\mathbf{z}_{t-1} + \\boldsymbol \\varepsilon_t, \\\\\\\\\n",
    "\\mathbf{z}_{t+1} &= A \\mathbf{z}_{t} + \\boldsymbol \\varepsilon_{t+1}\\\\\\\\\n",
    "\\mathbf{z}_{t+2} &= A^2 \\mathbf{z}_{t} + A \\boldsymbol \\varepsilon_{t+1}+ \\boldsymbol \\varepsilon_{t+2}\\\\\n",
    "&\\;\\vdots \\\\\n",
    "\\mathbf{z}_{t+h} &= A^h \\mathbf{z}_{t} + A^{h-1} \\boldsymbol \\varepsilon_{t+1} + \\cdots + \\boldsymbol \\varepsilon_{t+h}\n",
    "\\end{align}\n",
    "$$"
   ]
  },
  {
   "cell_type": "markdown",
   "id": "875d29e0",
   "metadata": {
    "slideshow": {
     "slide_type": "fragment"
    }
   },
   "source": [
    "Optimal forecast given information at $T$:\n",
    "\n",
    "$$ \n",
    "\\begin{align}\n",
    "\\operatorname{E}(\\mathbf{z}_{T+1} | \\mathbf{z}_{T} )  & = A \\mathbf{z}_{T}\\\\\n",
    "\\operatorname{E}(\\mathbf{z}_{T+h} | \\mathbf{z}_{T} )  & = \\boldsymbol A^h \\mathbf{z}_{T}\n",
    "\\end{align}\n",
    "$$"
   ]
  },
  {
   "cell_type": "markdown",
   "id": "a212bc61",
   "metadata": {
    "slideshow": {
     "slide_type": "subslide"
    }
   },
   "source": [
    "Optimal forecast given information at $T+1$:\n",
    "\n",
    "$$ \n",
    "\\begin{align}\n",
    "\\operatorname{E}(\\mathbf{z}_{T+h} | \\mathbf{z}_{T+1} )  & = \\boldsymbol A^{h-1} \\mathbf{z}_{T+1}\\\\\n",
    " & = \\boldsymbol A^{h-1} \\left( A\\mathbf{z}_{T} + \\boldsymbol \\varepsilon_{T+1}\\right)\\\\\n",
    " & = \\boldsymbol A^{h}\\mathbf{z}_{T} + A^{h-1} \\boldsymbol \\varepsilon_{T+1} \\\\\n",
    " & = \\operatorname{E}(\\mathbf{z}_{T+h} | \\mathbf{z}_{T} ) + A^{h-1} (\\mathbf{z}_{T+1} - A \\mathbf{z}_{T}  )\\\\ \n",
    " & = \\operatorname{E}(\\mathbf{z}_{T+h} | \\mathbf{z}_{T} ) + A^{h-1} (\\mathbf{z}_{T+1} - \\operatorname{E}(\\mathbf{z}_{T+1} | \\mathbf{z}_{T} )  )\\\\\n",
    "\\end{align}\n",
    "$$"
   ]
  },
  {
   "cell_type": "markdown",
   "id": "15b6cb9f",
   "metadata": {
    "slideshow": {
     "slide_type": "fragment"
    }
   },
   "source": [
    "Optimal forecast __update__:\n",
    "\n",
    "$$\n",
    "\\operatorname{E}(\\mathbf{z}_{T+h} | \\mathbf{z}_{T+1} ) - \\operatorname{E}(\\mathbf{z}_{T+h} | \\mathbf{z}_{T} ) =  A^{h-1} \\underbrace{(\\mathbf{z}_{T+1} - \\operatorname{E}(\\mathbf{z}_{T+1} | \\mathbf{z}_{T} )  )}_{\\text{1-step ahead forecast error}}\n",
    "$$"
   ]
  },
  {
   "cell_type": "markdown",
   "id": "a4f34860",
   "metadata": {
    "slideshow": {
     "slide_type": "subslide"
    }
   },
   "source": [
    "$h$-step-ahead forecast error:\n",
    "    \n",
    "$$\n",
    "\\mathbf{z}_{T+h} - \\operatorname{E}(\\mathbf{z}_{T+h} | \\mathbf{z}_{T} ) = A^{h-1} \\boldsymbol \\varepsilon_{t+1} +  \\cdots + A \\boldsymbol \\varepsilon_{t+h-1} + \\boldsymbol \\varepsilon_{t+h}\n",
    "$$\n",
    "\n",
    "with \n",
    "\n",
    "$$\n",
    "\\begin{align}\n",
    "\\operatorname{E} \\left(\\mathbf{z}_{T+h} - \\operatorname{E}(\\mathbf{z}_{T+h} | \\mathbf{z}_{T} )\\right) &= 0 \\\\\n",
    "\\operatorname{cov} \\left(\\mathbf{z}_{T+h} - \\operatorname{E}(\\mathbf{z}_{T+h} | \\mathbf{z}_{T} )\\right) &=  A^{h-1} \\Sigma (A^{h-1})'  + \\cdots +  A \\Sigma A' + \\Sigma\n",
    "\\end{align}\n",
    "$$"
   ]
  },
  {
   "cell_type": "markdown",
   "id": "70cc3a5e",
   "metadata": {
    "slideshow": {
     "slide_type": "fragment"
    }
   },
   "source": [
    "__Note:__ as in the univariate case, we can write VAR$(p)$ as VMA$(\\infty)$. For __VAR(1)__\n",
    "\n",
    "$$\\begin{align}\n",
    "\\mathbf{z}_t &= A(L)^{-1} \\boldsymbol \\varepsilon_t\\\\\n",
    "    &= \\varepsilon_t + A\\varepsilon_{t-1} + A^2\\varepsilon_{t-2} + \\cdots\n",
    "\\end{align} $$\n",
    "\n",
    "and \n",
    "\n",
    "$$\n",
    "\\operatorname{cov} (\\mathbf{z}_{t}) = \\Gamma(0) = \\Sigma + A \\Sigma A' + A^2 \\Sigma (A^2)' + \\cdots\n",
    "$$"
   ]
  },
  {
   "cell_type": "markdown",
   "id": "5d41ff3e",
   "metadata": {
    "slideshow": {
     "slide_type": "subslide"
    }
   },
   "source": [
    "As $h \\longrightarrow \\infty$\n",
    "\n",
    "$$ \n",
    "\\begin{align}\n",
    "\\operatorname{E}(\\mathbf{z}_{T+h} | \\mathbf{z}_{T} )  &\\longrightarrow 0 \\;\\;\\;(\\text{unconditional mean of } \\mathbf{z}_{t} ) \\\\\n",
    "\\operatorname{cov} \\left(\\mathbf{z}_{T+h} - \\operatorname{E}(\\mathbf{z}_{T+h} | \\mathbf{z}_{T} )\\right) & \\longrightarrow \\Gamma(0) \\;\\;\\;(\\text{unconditional covariance of } \\mathbf{z}_{t} ) \n",
    "\\end{align}\n",
    "$$"
   ]
  },
  {
   "cell_type": "markdown",
   "id": "a8df225e",
   "metadata": {
    "slideshow": {
     "slide_type": "subslide"
    }
   },
   "source": [
    "For __VAR(p)__ - use the __VAR(1)__ representation\n",
    "\n",
    "$$\n",
    "\\mathbf{Z}_{t} =  \\boldsymbol \\Phi \\mathbf{Z}_{t-1}  +  \\boldsymbol E_t\n",
    "$$\n",
    "\n",
    "* forecast of $\\mathbf{z}_{T+h}$ (using the selection matrix $\\boldsymbol s$)\n",
    "\n",
    "$$\\operatorname{E}(\\mathbf{z}_{T+h} | \\mathbf{Z}_{T} ) =  \\boldsymbol s  \\operatorname{E}(\\mathbf{Z}_{T+h} | \\mathbf{Z}_{T} ) $$\n",
    "\n",
    "* variance of forecast errors \n",
    "\n",
    "$$\n",
    "\\operatorname{cov} \\left(\\mathbf{z}_{T+h} - \\operatorname{E}(\\mathbf{z}_{T+h} | \\mathbf{Z}_{T} )\\right) = \\boldsymbol s\\operatorname{cov} \\left(\\mathbf{Z}_{T+h} - \\operatorname{E}(\\mathbf{Z}_{T+h} | \\mathbf{Z}_{T} )\\right)\\boldsymbol s'\n",
    "$$"
   ]
  },
  {
   "cell_type": "markdown",
   "id": "171a5407",
   "metadata": {
    "slideshow": {
     "slide_type": "subslide"
    }
   },
   "source": [
    "### Impulse response functions\n",
    "\n",
    "From the __VMA__ representation of of __VAR(1)__ model\n",
    "\n",
    "$$\\begin{align}\n",
    "\\mathbf{z}_{t+h} = \\mathbf{\\varepsilon}_{t+h} + A \\mathbf{\\varepsilon}_{t+h-1} + A^2 \\mathbf{\\varepsilon}_{t+h-2} + \\cdots + A^h \\mathbf{\\varepsilon}_{t} + \\cdots\n",
    "\\end{align}$$"
   ]
  },
  {
   "cell_type": "markdown",
   "id": "23771f42",
   "metadata": {
    "slideshow": {
     "slide_type": "subslide"
    }
   },
   "source": [
    "we have\n",
    "\n",
    "$$\n",
    " \\frac{\\partial \\mathbf{z}_{t+h} }{\\partial \\mathbf{\\varepsilon}_{t}} = A^h\n",
    "$$"
   ]
  },
  {
   "cell_type": "markdown",
   "id": "79e70295",
   "metadata": {
    "slideshow": {
     "slide_type": "subslide"
    }
   },
   "source": [
    "* Note that $\\mathbf{\\varepsilon}_{t}$ is a vector\n",
    "* typically, we want to know the effect of __a__ shock on __a__ variable (for example monetary policy on inflation)\n",
    "* here $\\operatorname{cov}(\\mathbf{\\varepsilon}_t) = \\Sigma$, i.e. $\\varepsilon_{it}$ and  $\\varepsilon_{jt}$ are correlated\n",
    "* $\\mathbf{\\varepsilon}_t$ are __not__ shocks (statistical innovations, residuals, forecast errors)"
   ]
  },
  {
   "cell_type": "markdown",
   "id": "c86bb327",
   "metadata": {
    "slideshow": {
     "slide_type": "subslide"
    }
   },
   "source": [
    "### (orthogonalized ) impulse response functions\n",
    "\n",
    "Since $\\Sigma$ is positive definite matrix, there exists a matrix $B_0$ such that\n",
    "\n",
    "$$B_0^{-1} (B_0^{-1})^{\\prime} = \\Sigma \\;\\;\\; \\Rightarrow \\;\\;\\; B_0\\Sigma B_0' = I$$\n",
    "\n",
    "Then \n",
    "\n",
    "$$\n",
    "\\mathbf{u}_t = B_0 \\mathbf{\\varepsilon}_t  \\;\\;\\; \\Rightarrow \\;\\;\\; \\mathbf{u}_t \\sim \\operatorname{WN} \\left( 0, \\;I\\right)\n",
    "$$\n",
    "\n",
    "* $u_{it}$ and  $u_{jt}$ are uncorrelated (__orthogonal__) for all $i \\neq j$"
   ]
  },
  {
   "cell_type": "markdown",
   "id": "959c55c6",
   "metadata": {
    "slideshow": {
     "slide_type": "subslide"
    }
   },
   "source": [
    "Using $\\mathbf{\\varepsilon}_t = B_0^{-1} \\mathbf{u}_t$ in the MA representation\n",
    "\n",
    "\n",
    "$$\\begin{align}\n",
    "\\mathbf{z}_{t+h} & = \\mathbf{\\varepsilon}_{t+h} + A \\mathbf{\\varepsilon}_{t+h-1} + A^2 \\mathbf{\\varepsilon}_{t+h-2} + \\cdots + A^h \\mathbf{\\varepsilon}_{t} + \\cdots \\\\\\\\\n",
    "& = B_0^{-1} \\mathbf{u}_{t+h} + A B_0^{-1} \\mathbf{u}_{t+h-1} + A^2 B_0^{-1} \\mathbf{u}_{t+h-2} + \\cdots + A^h B_0^{-1} \\mathbf{u}_{t} + \\cdots\n",
    "\\end{align} $$\n",
    "\n",
    "\n",
    "and therefore\n",
    "\n",
    "$$\n",
    " \\frac{\\partial \\mathbf{z}_{t+h} }{\\partial \\mathbf{u}_{t}} = A^h B_0^{-1} \\equiv \\Psi_h\n",
    "$$"
   ]
  },
  {
   "cell_type": "markdown",
   "id": "f78e5ac6",
   "metadata": {
    "slideshow": {
     "slide_type": "subslide"
    }
   },
   "source": [
    "Since $u_{it}$ and  $u_{jt}$ are uncorrelated, the $k,l$ element of $\\Psi_h$ gives the response of $z_{k,t+h}$ to a (one standard deviation shock to $u_{l,t})$\n",
    "\n",
    "$$\n",
    " \\frac{\\partial z_{k,t+h} }{\\partial u_{lt}} = \\psi_{kl,h}\n",
    "$$\n",
    "\n",
    "and the $l$ column of $\\Psi_h$ gives the response of $\\mathbf{z}_{t+h}$ to a one standard deviation shock to $u_{l,t}$\n",
    "\n",
    "$$\n",
    " \\frac{\\partial \\mathbf{z}_{t+h} }{\\partial u_{lt}} = \\boldsymbol \\psi_{l,h}\n",
    "$$\n",
    "\n",
    "$\\boldsymbol \\psi_{l,h}$ is the $l$-th column of $A^h B_0^{-1}$"
   ]
  },
  {
   "cell_type": "markdown",
   "id": "5dd2649a",
   "metadata": {
    "slideshow": {
     "slide_type": "subslide"
    }
   },
   "source": [
    "#### From VAR(p) to Structural VAR(p) (and vice versa)\n",
    "\n",
    "$$ \n",
    "\\begin{align}\n",
    "\\mathbf{z}_t & = \\boldsymbol a_0 + A_1 \\mathbf{z}_{t-1} + \\cdots +  A_p \\mathbf{z}_{t-p} +  \\boldsymbol \\varepsilon_t, \\;\\;\\;\\;\\; \\boldsymbol \\varepsilon_t \\sim \\operatorname{WN} \\left( 0, \\;\\mathbf{\\Sigma}\\right)\\\\\\\\\n",
    "\\mathbf{z}_t & = \\boldsymbol a_0 + A_1 \\mathbf{z}_{t-1} + \\cdots +  A_p \\mathbf{z}_{t-p} +  B_0^{-1}\\boldsymbol u_t\\;\\;\\;\\;\\; (\\text{using } \\mathbf{u}_t = B_0 \\mathbf{\\varepsilon}_t) \\\\\n",
    "& \\downarrow\\\\\n",
    "B_0\\mathbf{z}_t & = B_0\\boldsymbol a_0 + B_0 A_1 \\mathbf{z}_{t-1} + \\cdots +  B_0 A_p \\mathbf{z}_{t-p} +  \\mathbf{u}_t, \\;\\;\\;\\;\\; (\\text{pre-multiply by } B_0)\\\\\\\\  \n",
    "B_0\\mathbf{z}_t & = \\boldsymbol b_0 + B_1 \\mathbf{z}_{t-1} + \\cdots +  B_p \\mathbf{z}_{t-p} +  \\mathbf{u}_t, \\;\\;\\;\\;\\; \\boldsymbol u_t \\sim \\operatorname{WN} \\left( 0, \\;I\\right)\n",
    "\\end{align}\n",
    "$$"
   ]
  },
  {
   "cell_type": "markdown",
   "id": "a5b2e0cf",
   "metadata": {
    "slideshow": {
     "slide_type": "fragment"
    }
   },
   "source": [
    "* $B_0$ captures contemporaneous (time $t$) interactions among  variables\n",
    "* $\\mathbf{u}_t$ are orthogonal shocks: $u_{i, t}$ only affects $z_{i, t}$ contemporaneously\n",
    "* impulse responses\n",
    "\n",
    "$$\n",
    " \\frac{\\partial \\mathbf{z}_{t+h} }{\\partial u_{it}}\n",
    "$$"
   ]
  },
  {
   "cell_type": "markdown",
   "id": "c6708a4f",
   "metadata": {
    "slideshow": {
     "slide_type": "subslide"
    }
   },
   "source": [
    "#### Identification\n",
    "\n",
    "* We can estimate the reduced-form coefficients $a_0$, $A_1$, ... $A_p$ and $\\Sigma$\n",
    "* and compute reduced-form MA representation of $\\mathbf{z}$\n",
    "* to compute impulse responses to structura shocks we need $B_0^{-1}$"
   ]
  },
  {
   "cell_type": "markdown",
   "id": "7dc78af5",
   "metadata": {
    "slideshow": {
     "slide_type": "fragment"
    }
   },
   "source": [
    "* $B_0^{-1}$ is __not__ identified from\n",
    "\n",
    "$$B_0^{-1} (B_0^{-1})^{\\prime} = \\Sigma $$\n",
    "\n",
    "by symmetry $\\Sigma$ has $n(n+1)/2$ unique elements $\\Rightarrow n(n+1)/2$ equations, but $B_0$ has $n^2$ unknown elements\n",
    "\n",
    "* need to impose restrictions on either $B_0$ or $B_0^{-1}$ in order to identify it\n",
    "\n",
    "* the restrictions must be implied by economic theory.\n",
    "\n"
   ]
  },
  {
   "cell_type": "markdown",
   "id": "416310a5",
   "metadata": {
    "slideshow": {
     "slide_type": "subslide"
    }
   },
   "source": [
    "#### Types of identifying restrictions\n",
    "* short-run restrictions\n",
    "* long-run restrictions\n",
    "* sign restrictions\n",
    "* combinations of short/long-run restrictions, sign restrictions\n",
    "* ..."
   ]
  },
  {
   "cell_type": "markdown",
   "id": "3a5198aa",
   "metadata": {
    "slideshow": {
     "slide_type": "subslide"
    }
   },
   "source": [
    "#### Short-run restrictions:\n",
    "\n",
    "+ time $t$ impact of structural shocks\n",
    "    $\\mathbf{\\varepsilon}_t = B_0^{-1} \\mathbf{u}_t$ \n",
    "    \n",
    "$$\n",
    "\\left[\\begin{array}{c}\n",
    "\\varepsilon_{1, t}\\\\\n",
    "\\varepsilon_{2, t}\\\\\n",
    "\\vdots\\\\\n",
    "\\varepsilon_{n, t}\n",
    "\\end{array}\\right]\n",
    "=\n",
    "\\underset{ B_0^{-1}}{\\underbrace{\\left[\\begin{array}{cccccccc}\n",
    " b^{1,1}_0 &  b^{1,2}_0 & \\cdots &  b^{1,n}_0\\\\\n",
    " b^{2,1}_0 &  b^{2,2}_0 & \\cdots &  b^{2,n}_0\\\\\n",
    "\\vdots & \\vdots & \\vdots  \\\\\n",
    " b^{n,1}_0 &  b^{n,2}_0 & \\cdots &  b^{n,n}_0\\\\\n",
    "\\end{array}\\right]}}\n",
    "\\left[\\begin{array}{c}\n",
    "u_{1, t}\\\\\n",
    "u_{2, t}\\\\\n",
    "\\vdots\\\\\n",
    "u_{n, t}\n",
    "\\end{array}\\right]\n",
    "$$"
   ]
  },
  {
   "cell_type": "markdown",
   "id": "66a45139",
   "metadata": {
    "slideshow": {
     "slide_type": "subslide"
    }
   },
   "source": [
    "+ time $t$ interactions among variables\n",
    "    $B_0\\mathbf{z}_t =  \\cdots  +  \\mathbf{u}_t,$\n",
    "    \n",
    "$$\n",
    "\\underset{B_0}{\\underbrace{\\left[\\begin{array}{cccccccc}\n",
    " b_{0,11} &  b_{0,12} & \\cdots &  b_{0,1n}\\\\\n",
    " b_{0,21} &  b_{0,22} & \\cdots &  b_{0,2n}\\\\\n",
    "\\vdots & \\vdots & \\vdots  \\\\\n",
    " b_{0,n1} &  b_{0,n2} & \\cdots &  b_{0,nn}\\\\\n",
    "\\end{array}\\right]}}\n",
    "\\left[\\begin{array}{c}\n",
    "z_{1, t}\\\\\n",
    "z_{2, t}\\\\\n",
    "\\vdots\\\\\n",
    "z_{n, t}\n",
    "\\end{array}\\right]\n",
    "= \\cdots + \n",
    "\\left[\\begin{array}{c}\n",
    "u_{1, t}\\\\\n",
    "u_{2, t}\\\\\n",
    "\\vdots\\\\\n",
    "u_{n, t}\n",
    "\\end{array}\\right]\n",
    "$$    "
   ]
  },
  {
   "cell_type": "markdown",
   "id": "6cb865e9",
   "metadata": {
    "slideshow": {
     "slide_type": "subslide"
    }
   },
   "source": [
    "#### Long-run restrictions:\n",
    "\n",
    "MA representation of $\\mathbf{z}_t$\n",
    "\n",
    "$$\\begin{align}\n",
    "\\mathbf{z}_{t+h} & = \\mathbf{\\varepsilon}_{t+h} + A \\mathbf{\\varepsilon}_{t+h-1} + A^2 \\mathbf{\\varepsilon}_{t+h-2} + \\cdots + A^h \\mathbf{\\varepsilon}_{t} + \\cdots \\\\\\\\\n",
    "& = B_0^{-1} \\mathbf{u}_{t+h} + A B_0^{-1} \\mathbf{u}_{t+h-1} + A^2 B_0^{-1} \\mathbf{u}_{t+h-2} + \\cdots + A^h B_0^{-1} \\mathbf{u}_{t} + \\cdots\n",
    "\\end{align} $$\n",
    "\n",
    "The cumulative impuse responses of shocks in $t$ on $\\mathbf{z}_{t}$, $\\mathbf{z}_{t+1}$, ... are given by\n",
    "\n",
    "$$\n",
    "(I + A + A^2 + A^3 + \\cdots ) B^{-1} = A(1)^{-1} B_0^{-1}\n",
    "$$"
   ]
  },
  {
   "cell_type": "markdown",
   "id": "1b792578",
   "metadata": {
    "slideshow": {
     "slide_type": "fragment"
    }
   },
   "source": [
    "* if $\\mathbf{z}_{t}$ contains growth rates (e.g. of GDP), the cumulative response givs the permanent effect on the level\n",
    "* common long-run restrictions: some shocks don't have permanent effect on some variables (nominal shocks on real variabls)\n",
    "    + some elements of $A(1)^{-1} B_0^{-1}$ are 0"
   ]
  },
  {
   "cell_type": "markdown",
   "id": "ce8e2fd5",
   "metadata": {
    "slideshow": {
     "slide_type": "subslide"
    }
   },
   "source": [
    "#### Sign restrictions:\n",
    "\n",
    "If $B_0$ is such that\n",
    " \n",
    "$$B_0^{-1} (B_0^{-1})^{\\prime} = \\Sigma $$\n",
    "\n",
    "then for any orthogonal matrix $Q$ ($ QQ^{\\prime} =Q^{\\prime}Q = I $)\n",
    "\n",
    "we have \n",
    "\n",
    "$$(B_0^{-1} Q) (B_0^{-1} Q)^{\\prime} = \\Sigma $$\n",
    "\n",
    "There are inifitely many such matrices."
   ]
  },
  {
   "cell_type": "markdown",
   "id": "7cd904d8",
   "metadata": {
    "slideshow": {
     "slide_type": "fragment"
    }
   },
   "source": [
    "* find the set of solutions that satisfy sign restrictions implied by theory (monetary policy shock raises $i_t$ and lowers $\\pi_t$ and $y_t$)\n",
    "\n",
    "* find all matrices $Q$ such that $B_0^{-1} = P Q $ meets those restrictions, where $P$ is the Cholesky factor of $\\Sigma$, and $Q$ is orthogonal matrix.\n",
    "\n",
    "    * every real-valued symmetric positive-definite matrix has a unique Cholesky decomposition:\n",
    "\n",
    "$$\\Sigma = P P^{\\prime}$$"
   ]
  },
  {
   "cell_type": "markdown",
   "id": "0aaf025a",
   "metadata": {
    "slideshow": {
     "slide_type": "subslide"
    }
   },
   "source": [
    "There are different ways to generate $Q$\n",
    "\n",
    "For example, for $n=2$ candidates $Q$ can be generated using \n",
    "\n",
    "$$ Q =  \\left[\\begin{array}{cc}\n",
    "\\cos(\\theta) & -\\sin(\\theta)\\\\\n",
    "\\sin(\\theta) & \\cos(\\theta) \\\\\n",
    "\\end{array}\\right]$$\n",
    "\n",
    "and $\\theta \\in (0, 2 \\pi)$"
   ]
  },
  {
   "cell_type": "markdown",
   "id": "4cea4bf0",
   "metadata": {
    "slideshow": {
     "slide_type": "fragment"
    }
   },
   "source": [
    "Can also use the QR decomposition of a random matrix $H$ such that $H_{ij} \\sim N(0, 1)$\n"
   ]
  },
  {
   "cell_type": "markdown",
   "id": "02f71dca",
   "metadata": {
    "slideshow": {
     "slide_type": "fragment"
    }
   },
   "source": [
    "* with sign restrictions we get a set of impulse responses for each shock and variable (set vs point identfication)"
   ]
  }
 ],
 "metadata": {
  "celltoolbar": "Slideshow",
  "kernelspec": {
   "display_name": "Python 3 (ipykernel)",
   "language": "python",
   "name": "python3"
  },
  "language_info": {
   "codemirror_mode": {
    "name": "ipython",
    "version": 3
   },
   "file_extension": ".py",
   "mimetype": "text/x-python",
   "name": "python",
   "nbconvert_exporter": "python",
   "pygments_lexer": "ipython3",
   "version": "3.7.12"
  }
 },
 "nbformat": 4,
 "nbformat_minor": 5
}
