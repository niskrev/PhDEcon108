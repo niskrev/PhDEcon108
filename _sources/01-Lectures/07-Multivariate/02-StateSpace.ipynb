{
 "cells": [
  {
   "cell_type": "markdown",
   "id": "41fe3423",
   "metadata": {
    "slideshow": {
     "slide_type": "subslide"
    }
   },
   "source": [
    "# State space models"
   ]
  },
  {
   "cell_type": "markdown",
   "id": "b0cd7d0f",
   "metadata": {
    "slideshow": {
     "slide_type": "subslide"
    }
   },
   "source": [
    "Consider $n_{x}$-dimensional VAR(1) process:\n",
    "\n",
    "$$\n",
    "\\mathbf{x}_{t} =  A \\mathbf{x}_{t-1}  + \\boldsymbol \\varepsilon_{t}, \\;\\;\\; \\boldsymbol \\varepsilon_t \\sim \\operatorname{WN} \\left( 0, \\;\\mathbf{\\Sigma}\\right) \n",
    "$$"
   ]
  },
  {
   "cell_type": "markdown",
   "id": "807896d9",
   "metadata": {
    "slideshow": {
     "slide_type": "fragment"
    }
   },
   "source": [
    "However, some variables of $\\mathbf{x}_{t}$ are not observed, i.e. no data exists for them"
   ]
  },
  {
   "cell_type": "markdown",
   "id": "6a97b49a",
   "metadata": {
    "slideshow": {
     "slide_type": "fragment"
    }
   },
   "source": [
    "We can define a matrix $C$ that maps $\\mathbf{x}_{t}$ into a $n_{z}$-dimensional $\\mathbf{z}_{t}$ collecting the observed variables in $\\mathbf{x}_{t}$:\n",
    "\n",
    "$$ \\mathbf{z}_{t} = C \\mathbf{x}_{t}$$"
   ]
  },
  {
   "cell_type": "markdown",
   "id": "dac99a22",
   "metadata": {
    "slideshow": {
     "slide_type": "subslide"
    }
   },
   "source": [
    "__Example:__ \n",
    "\n",
    "* $\\mathbf{x}_{t} = [x_{1,t}, x_{2,t}]^{\\prime}$\n",
    "* $x_{1,t}$ - unobserved, $x_{2,t}$ - observed\n",
    "\n",
    "$$z_t = \\underset{C}{\\underbrace{\\left[\\begin{array}{cc} 0, 1 \\end{array} \\right]}}\n",
    "\\left[\\begin{array}{c}\n",
    " x_{1,t}\\\\\n",
    " x_{2,t}\\\\\n",
    "\\end{array}\\right]\n",
    "$$\n"
   ]
  },
  {
   "cell_type": "markdown",
   "id": "2adc9919",
   "metadata": {
    "slideshow": {
     "slide_type": "subslide"
    }
   },
   "source": [
    "The case where $\\mathbf{z}_{t}$ is a subset of $\\mathbf{x}_{t}$ is one example of  __linear state space model__\n",
    "\n",
    "$$\n",
    "\\begin{align}\n",
    "\\mathbf{x}_{t} &=  A \\mathbf{x}_{t-1}  + \\boldsymbol \\varepsilon_{t}, \\\\\n",
    "\\mathbf{z}_{t} &= C \\mathbf{x}_{t} + \\boldsymbol \\nu_{t}\n",
    "\\end{align}\n",
    "$$  "
   ]
  },
  {
   "cell_type": "markdown",
   "id": "3536a70b",
   "metadata": {
    "slideshow": {
     "slide_type": "fragment"
    }
   },
   "source": [
    "which, in turn, is a special case of the class of (non-linear) __state space models__\n",
    "\n",
    "$$\n",
    "\\begin{align}\n",
    "\\mathbf{x}_{t} &=  f\\left(\\mathbf{x}_{t-1}, \\boldsymbol \\varepsilon_{t} \\right), \\\\\n",
    "\\mathbf{z}_{t} &=  g\\left( \\mathbf{x}_{t}, \\boldsymbol \\nu_{t} \\right)\n",
    "\\end{align}\n",
    "$$  "
   ]
  },
  {
   "cell_type": "markdown",
   "id": "e1ce020a",
   "metadata": {
    "slideshow": {
     "slide_type": "subslide"
    }
   },
   "source": [
    "__Simplest example__: AR(1) model with measurement error:\n",
    "\n",
    "$$\n",
    "\\begin{align}\n",
    "x_{t} &=  \\alpha x_{t-1}  +  \\varepsilon_{t}, \\\\\n",
    "z_{t} &= x_{t} +  \\nu_{t}\n",
    "\\end{align}\n",
    "$$  "
   ]
  },
  {
   "cell_type": "markdown",
   "id": "c7209b0e",
   "metadata": {
    "slideshow": {
     "slide_type": "subslide"
    }
   },
   "source": [
    "## Gaussian linear state space model\n",
    "\n",
    "$$\n",
    "\\begin{align}\n",
    "\\mathbf{x}_{t} &=  A \\mathbf{x}_{t-1}  + \\boldsymbol \\varepsilon_{t}, \\;\\;\\;\\;\\; \\varepsilon_{t} \\sim \\mathcal{N} \\left( 0, \\;\\mathbf{\\Sigma}_{\\varepsilon}\\right) \\;\\;\\; \\text{state (transition) equation}\\\\\\\\\n",
    "\\mathbf{z}_{t} &= C \\mathbf{x}_{t} + \\boldsymbol \\nu_{t}, \\;\\;\\;\\;\\;\\;\\; \\nu_{t} \\sim \\mathcal{N} \\left( 0, \\;\\mathbf{\\Sigma}_{\\nu}\\right)  \\;\\;\\; \\text{observation equation} \\\\\\\\\n",
    "\\mathbf{x}_{0}  & \\sim \\mathcal{N} \\left( 0, \\;\\mathbf{\\Sigma}_{0} \\right),  \\;\\;\\; \\text{initial state}\n",
    "\\end{align}\n",
    "$$  "
   ]
  },
  {
   "cell_type": "markdown",
   "id": "2ae4ff3f",
   "metadata": {
    "slideshow": {
     "slide_type": "fragment"
    }
   },
   "source": [
    "__Note 1:__ This is a time-invariant model. This can be relaxed with some or all of the matrices $A$, $C$, $\\mathbf{\\Sigma}_{\\varepsilon}$, and $\\mathbf{\\Sigma}_{\\nu}$ being functions of $t$.\n",
    "\n",
    "__Note 2:__ We can add an intercept in one or both of the state and observation equations.\n",
    "\n",
    "__Note 3:__ $A$ can be a companion matrix, so the unobserved variables could follow a general VAR(p) \n",
    "\n",
    "__Note 4:__ $\\varepsilon_{t}$ and $\\nu_t$ are assumed to be independent, but that can be relaxed.\n",
    "\n",
    "__Note 5:__ $\\mathbf{x}_{0}$ is independent from all $\\varepsilon_{t}$ and $\\nu_t$"
   ]
  },
  {
   "cell_type": "markdown",
   "id": "6fb2edfd",
   "metadata": {
    "slideshow": {
     "slide_type": "subslide"
    }
   },
   "source": [
    "__Autocovariances of__ $\\mathbf{z}_{t}$\n",
    "\n",
    "$$\n",
    "\\begin{align}\n",
    "\\Gamma_{z}(0) & = \\operatorname{cov}(\\mathbf{z}_t, \\mathbf{z}_{t})\\\\\n",
    " & = \\operatorname{cov}(C\\mathbf{x}_t, C \\mathbf{x}_{t}) + \\mathbf{\\Sigma}_{\\nu} \\\\\n",
    " & = C \\Gamma_{x}(0) C^{\\prime} + \\mathbf{\\Sigma}_{\\nu} \n",
    "\\end{align}\n",
    "$$"
   ]
  },
  {
   "cell_type": "markdown",
   "id": "62880dd7",
   "metadata": {
    "slideshow": {
     "slide_type": "fragment"
    }
   },
   "source": [
    "$$\n",
    "\\begin{align}\n",
    "\\Gamma_{z}(k) & = \\operatorname{cov}(\\mathbf{z}_t, \\mathbf{z}_{t-k})\\\\\n",
    " & = \\operatorname{cov}(C\\mathbf{x}_t, C \\mathbf{x}_{t-k}) \\\\\n",
    " & = C \\Gamma_{x}(k) C^{\\prime} \n",
    "\\end{align}\n",
    "$$\n",
    "\n",
    "__Note:__ We get $\\Gamma_{x}(0)$ and $\\Gamma_{x}(k)$ as in the last lecture"
   ]
  },
  {
   "cell_type": "markdown",
   "id": "6ebcd129",
   "metadata": {
    "slideshow": {
     "slide_type": "fragment"
    }
   },
   "source": [
    "__Stationarity of__ $\\mathbf{x}_{t}$\n",
    "\n",
    "$$\n",
    "\\mathbf{x}_{0}\\sim \\mathcal{N} \\left( 0, \\;\\mathbf{\\Sigma}_{0} \\right),  \n",
    "$$\n",
    "\n",
    "requres \n",
    "\n",
    "$$ \\mathbf{\\Sigma}_{0} =  \\Gamma_{x}(0)$$"
   ]
  },
  {
   "cell_type": "markdown",
   "id": "04c9ca0f",
   "metadata": {
    "slideshow": {
     "slide_type": "subslide"
    }
   },
   "source": [
    "#### Marginal distribution of $\\boldsymbol X = [\\mathbf{x}^{\\prime}_{1}, \\mathbf{x}^{\\prime}_{2}, \\cdots, \\mathbf{x}^{\\prime}_{T}]^{\\prime}$"
   ]
  },
  {
   "cell_type": "markdown",
   "id": "5c841649",
   "metadata": {
    "slideshow": {
     "slide_type": "fragment"
    }
   },
   "source": [
    "$$\n",
    "\\underset{\\boldsymbol X}{\\underbrace{\n",
    "\\left[\\begin{array}{c}\n",
    "\\mathbf{x}_{1}\\\\\n",
    "\\mathbf{x}_{2}\\\\\n",
    "\\mathbf{x}_{3}\\\\\n",
    "\\mathbf{x}_{4}\\\\\n",
    "\\vdots\\\\\n",
    "\\mathbf{x}_{T}\n",
    "\\end{array}\\right]}}\n",
    "=\n",
    "\\underset{\\boldsymbol A}{\\underbrace{\n",
    "\\left[\\begin{array}{cccccccc}\n",
    "A & I & 0 & 0 & \\cdots & 0 & 0 & 0\\\\\n",
    "A^2 & A & I & 0 & \\cdots & 0 & 0 & 0\\\\\n",
    "A^3  & A^2  & A & I & \\cdots & 0 & 0 & 0\\\\\n",
    "A^4 & A^3 & A^2 & A & \\cdots & 0 & 0 & 0\\\\\n",
    "\\vdots & \\vdots & \\vdots & \\vdots & \\cdots & \\vdots & \\vdots & \\vdots\\\\\n",
    "A^T  & A^{T-1}  & A^{T-2} & A^{T-3} & \\cdots & A^2 & A & I\n",
    "\\end{array}\\right]}}\n",
    "\\underset{\\boldsymbol E}{\\underbrace{\n",
    "\\left[\\begin{array}{c}\n",
    "\\mathbf{x}_{0}\\\\\n",
    "\\boldsymbol \\varepsilon_{1}\\\\\n",
    "\\boldsymbol \\varepsilon_{2}\\\\\n",
    "\\boldsymbol \\varepsilon_{3}\\\\\n",
    "\\vdots\\\\\n",
    "\\boldsymbol \\varepsilon_{T-1}\\\\\n",
    "\\boldsymbol \\varepsilon_{T}\n",
    "\\end{array}\\right]}}\n",
    "$$\n",
    "\n",
    "\n",
    "$$\n",
    "\\boldsymbol X \\sim \\mathcal{N} \\left( 0, \\; \\boldsymbol A \\mathbf{\\Sigma}_{\\boldsymbol E} \\boldsymbol A^{\\prime}\\right)\n",
    "$$\n",
    "\n",
    "\n",
    "\n",
    "__Note:__ see HW4 part 1 for an alternative way to write the system. Check [Efficient simulation and integrated likelihood\n",
    "estimation in state space models](https://espace.library.uq.edu.au/data/UQ_205502/statespace.pdf?Expires=1651576231&Key-Pair-Id=APKAJKNBJ4MJBJNC6NLQ&Signature=bINv5XkfLj8ybxSSBgSXSUlqpRQItDalU~N1fGuD7wg8zhXgGnUq~d3aF~iNQ2C0V4Q2Bmy-5Meo3TtXL6QQkkDy5BSm~WPq~w849rkOLDwXMsImFHSOy27O67yWshTilbjiOS4oDmfaoq0yTO11wm3nngu5cj4pb5qX4UIYPoA-4X5J-b-aCm95FdeZArGw77IGCzE2TbbeSMh9RrBLlNOAZnwW5WDSh7fdrW3nIdTvdbJRRfS5V2Hf7ZkXHMR2ylj7jA1lM~f1R7rOmCvBb011346KDSlBiwaDpFj-ZMidjB2aZsmxl5DEOGlvreMw-6O0s2lf1VOdrNHzf5PW2g__) for applications of that approach."
   ]
  },
  {
   "cell_type": "markdown",
   "id": "900ea498",
   "metadata": {
    "slideshow": {
     "slide_type": "subslide"
    }
   },
   "source": [
    "#### Marginal distribution of $\\boldsymbol Z = \\left[\\mathbf{z}^{\\prime}_{1}, \\mathbf{z}^{\\prime}_{2}, \\cdots, \\mathbf{z}^{\\prime}_{T} \\right]^{\\prime}$\n",
    "\n",
    "$$\n",
    "\\underset{\\boldsymbol Z}{\\underbrace{\n",
    "\\left[\\begin{array}{c}\n",
    "\\mathbf{z}_{1}\\\\\n",
    "\\mathbf{z}_{2}\\\\\n",
    "\\vdots\\\\\n",
    "\\mathbf{z}_{T}\n",
    "\\end{array}\\right]}}\n",
    "=\n",
    "\\underset{\\boldsymbol C}{\\underbrace{\n",
    "\\left[\\begin{array}{cccc}\n",
    "C &  0 & \\cdots & 0\\\\\n",
    "0 &  C & \\cdots & 0\\\\\n",
    "\\vdots & \\vdots & \\cdots & \\vdots\\\\\n",
    "0 &  0 & \\cdots & C\\\\\n",
    "\\end{array}\\right]}}\n",
    "\\underset{\\boldsymbol X}{\\underbrace{\n",
    "\\left[\\begin{array}{c}\n",
    "\\mathbf{x}_{1}\\\\\n",
    "\\mathbf{x}_{2}\\\\\n",
    "\\vdots\\\\\n",
    "\\mathbf{x}_{T}\n",
    "\\end{array}\\right]}}\n",
    "+\n",
    "\\underset{\\boldsymbol V}{\\underbrace{\n",
    "\\left[\\begin{array}{c}\n",
    "\\boldsymbol \\nu_{1}\\\\\n",
    "\\boldsymbol \\nu_{2}\\\\\n",
    "\\vdots\\\\\n",
    "\\boldsymbol \\nu_{T}\n",
    "\\end{array}\\right]}}\n",
    "$$\n",
    "\n",
    "__Question:__ How would you compute $\\boldsymbol C$?"
   ]
  },
  {
   "cell_type": "markdown",
   "id": "7a87ca91",
   "metadata": {
    "slideshow": {
     "slide_type": "fragment"
    }
   },
   "source": [
    "$$\n",
    "\\boldsymbol Z \\sim \\mathcal{N} \\left( 0, \\; \\boldsymbol C \\mathbf{\\Sigma}_{\\boldsymbol X} \\boldsymbol C^{\\prime} +  \\mathbf{\\Sigma}_{\\boldsymbol V}\\right)\n",
    "$$"
   ]
  },
  {
   "cell_type": "markdown",
   "id": "6107dc20",
   "metadata": {
    "slideshow": {
     "slide_type": "subslide"
    }
   },
   "source": [
    "### Applications:\n",
    "\n",
    "* __likelihood function__: distribution of $Z$\n",
    "\n",
    "* __forecasting__: distribution of $\\mathbf{z}_{t+h}$, given $Z_{1:t} = [\\mathbf{z}^{\\prime}_{1}, \\mathbf{z}^{\\prime}_{2}, \\cdots, \\mathbf{z}^{\\prime}_{t}]^{\\prime}$"
   ]
  },
  {
   "cell_type": "markdown",
   "id": "d8a9a4b1",
   "metadata": {
    "slideshow": {
     "slide_type": "subslide"
    }
   },
   "source": [
    "### Joint distribution of $\\left[\\boldsymbol X^{\\prime}, \\boldsymbol Z^{\\prime} \\right]^{\\prime}$\n",
    "\n",
    "$$\n",
    "    \\begin{bmatrix}\n",
    "        \\boldsymbol X \\\\\n",
    "      \\boldsymbol Z\n",
    "    \\end{bmatrix}\n",
    "    \\sim \\mathcal{N} \\left( 0,\n",
    "\\begin{bmatrix}\n",
    "         \\mathbf{\\Sigma}_{\\boldsymbol X} & \\mathbf{\\Sigma}_{\\boldsymbol X \\boldsymbol Z} \\\\\n",
    "         \\mathbf{\\Sigma}_{\\boldsymbol Z \\boldsymbol X} & \\mathbf{\\Sigma}_{\\boldsymbol Z}\n",
    "    \\end{bmatrix}\n",
    "\\right)\n",
    "$$"
   ]
  },
  {
   "cell_type": "markdown",
   "id": "921bda84",
   "metadata": {
    "slideshow": {
     "slide_type": "subslide"
    }
   },
   "source": [
    "### Moments of the conditional distribution of $\\boldsymbol X$ given $\\boldsymbol Z$\n",
    "\n",
    "* $\\operatorname{E}(\\boldsymbol X | \\boldsymbol Z) = \\mathbf{\\Sigma}_{\\boldsymbol X \\boldsymbol Z} \\mathbf{\\Sigma}^{-1}_{\\boldsymbol Z} \\boldsymbol Z$              \n",
    "* $\\operatorname{cov}(\\boldsymbol X | \\boldsymbol Z) = \\mathbf{\\Sigma}_{\\boldsymbol X \\boldsymbol X} - \\mathbf{\\Sigma}_{\\boldsymbol X \\boldsymbol Z}\\mathbf{\\Sigma}_{\\boldsymbol Z}^{-1}\\mathbf{\\Sigma}_{\\boldsymbol Z \\boldsymbol X }$\n",
    "\n",
    "\n",
    "__Note:__ The conditional variance of $\\boldsymbol X$ given $\\boldsymbol Z$ does not depend on the data $\\boldsymbol Z$"
   ]
  },
  {
   "cell_type": "markdown",
   "id": "6b72133a",
   "metadata": {
    "slideshow": {
     "slide_type": "fragment"
    }
   },
   "source": [
    "### Moments of the conditional distribution\n",
    "\n",
    "of $\\boldsymbol X_{t_1:t_2}=[\\mathbf{x}^{\\prime}_{t_1}, \\cdots, \\mathbf{x}^{\\prime}_{t_2}]^{\\prime}$ __given__ $\\boldsymbol Z_{t_3:t_4} = [\\mathbf{z}^{\\prime}_{t_3}, \\cdots, \\mathbf{z}^{\\prime}_{t_4}]^{\\prime}$\n",
    "\n",
    "$$\n",
    "\\{\\mathbf{\\Sigma}_{\\boldsymbol X \\boldsymbol X}\\}_{(t_1:t_2), (t_1:t_1)}, \\;\\;\n",
    "\\{\\mathbf{\\Sigma}_{\\boldsymbol Z \\boldsymbol Z}\\}_{(t_3:t_4), (t_3:t_4)}, \\;\\;\n",
    "\\{\\mathbf{\\Sigma}_{\\boldsymbol X \\boldsymbol Z}\\}_{(t_1:t_2), (t_3:t_4)} \\;\\;\n",
    "\\{\\mathbf{\\Sigma}_{\\boldsymbol Z \\boldsymbol X}\\}_{(t_3:t_4), (t_1:t_2)}\n",
    "$$"
   ]
  },
  {
   "cell_type": "markdown",
   "id": "ec286db3",
   "metadata": {
    "slideshow": {
     "slide_type": "subslide"
    }
   },
   "source": [
    "### Applications:\n",
    "\n",
    "* __filtering__: distribution of $\\mathbf{x}_{t}$, given $\\boldsymbol Z_{1:t} = [\\mathbf{z}^{\\prime}_{1}, \\mathbf{z}^{\\prime}_{2}, \\cdots, \\mathbf{z}^{\\prime}_{t}]^{\\prime}$\n",
    "* __state prediction__: distribution of $\\mathbf{x}_{t+h}$, given $\\boldsymbol Z_{1:t}$\n",
    "* __smoothing__: distribution of $\\mathbf{x}_{t}$, given $\\boldsymbol Z_{1:T}$"
   ]
  },
  {
   "cell_type": "markdown",
   "id": "64d16f8a",
   "metadata": {
    "slideshow": {
     "slide_type": "subslide"
    }
   },
   "source": [
    "### Kalman filter\n",
    "\n",
    "Let \n",
    "\n",
    "$$\n",
    "\\begin{align}\n",
    "\\mathbf{x}_{t|t-1} &= \\operatorname{E}(\\mathbf{x}_t | \\mathbf{Z}_{1:t-1}), \\;\\; \\mathbf{\\Sigma}^{x}_{t|t-1} = \\operatorname{cov}(\\mathbf{x}_t | \\mathbf{Z}_{1:t-1}) \\\\\n",
    "\\mathbf{x}_{t|t} &= \\operatorname{E}(\\mathbf{x}_t | \\mathbf{Z}_{1:t}), \\;\\; \\mathbf{\\Sigma}^{x}_{t|t} = \\operatorname{cov}(\\mathbf{x}_t | \\mathbf{Z}_{1:t}) \\\\\n",
    "\\mathbf{z}_{t|t-1} &= \\operatorname{E}(\\mathbf{z}_t | \\mathbf{Z}_{1:t-1}), \\;\\; \\mathbf{\\Sigma}^{z}_{t|t-1} = \\operatorname{cov}(\\mathbf{z}_t | \\mathbf{Z}_{1:t-1}) \\\\\n",
    "\\end{align}\n",
    "$$\n",
    "\n",
    "and \n",
    "\n",
    "$$\\mathbf{x}_{0|0} =  0, \\;\\; \\mathbf{\\Sigma}^{x}_{0|0} = \\mathbf{\\Sigma}_{0}$$"
   ]
  },
  {
   "cell_type": "markdown",
   "id": "b564cfab",
   "metadata": {
    "slideshow": {
     "slide_type": "subslide"
    }
   },
   "source": [
    "* optimal one-step ahead forecast of $\\mathbf{x}$\n",
    "\n",
    "$$\n",
    "\\begin{align}\n",
    "\\mathbf{x}_{t|t-1} &= A \\mathbf{x}_{t-1|t-1} \\\\\n",
    "\\mathbf{\\Sigma}^{x}_{t|t-1} &= A \\mathbf{\\Sigma}^{x}_{t-1|t-1} A^{\\prime} + \\mathbf{\\Sigma}_{\\varepsilon}\\\\\n",
    "\\end{align}\n",
    "$$\n",
    "\n",
    "* optimal one-step ahead forecast of $\\mathbf{z}$\n",
    "\n",
    "$$\n",
    "\\begin{align}\n",
    "\\mathbf{z}_{t|t-1} &= C \\mathbf{x}_{t|t-1}\n",
    "\\\\\n",
    "\\mathbf{\\Sigma}^{z}_{t|t-1} &= A \\mathbf{\\Sigma}^{x}_{t|t-1} A^{\\prime} + \\mathbf{\\Sigma}_{\\nu}\n",
    "\\end{align}\n",
    "$$\n",
    "\n",
    "* optimal update of the forecast of $\\mathbf{x}$\n",
    "\n",
    "$$\n",
    "\\begin{align}\n",
    "\\mathbf{x}_{t|t} &= \\mathbf{x}_{t|t-1} + \\mathbf{K}_{t}\\left(\\mathbf{z}_{t} - \\mathbf{z}_{t|t-1}  \\right)\n",
    "\\\\\n",
    "\\mathbf{\\Sigma}^{x}_{t|t} &= \\mathbf{\\Sigma}^{x}_{t|t-1} - \\mathbf{K}_{t} \\mathbf{\\Sigma}^{z}_{t|t-1}  \\mathbf{K}_{t}^{\\prime}\n",
    "\\end{align}\n",
    "$$\n",
    "\n",
    "where\n",
    "$\n",
    "\\mathbf{K}_{t} = \\mathbf{\\Sigma}^{x}_{t|t-1} C^{\\prime} (\\mathbf{\\Sigma}^{z}_{t|t-1})^{-1}\n",
    "$\n",
    "is called __Kalman gain__ - it shows how to optimally update the forecast of $\\mathbf{x}_{t}$ after the new observation of $\\mathbf{z}_{t}$ is seen"
   ]
  },
  {
   "cell_type": "markdown",
   "id": "3dc682e7",
   "metadata": {
    "slideshow": {
     "slide_type": "subslide"
    }
   },
   "source": [
    "Derivation for $t=1$\n",
    "\n",
    "* step 1 Compute joint distribution of $[\\mathbf{x}_1^{\\prime}, \\mathbf{z}_1^{\\prime}]^{\\prime}$ using\n",
    "\n",
    "$$\n",
    "    \\begin{bmatrix}\n",
    "        \\mathbf{x}_1\\\\\n",
    "      \\mathbf{z}_1\n",
    "    \\end{bmatrix}\n",
    "    =\n",
    "    \\begin{bmatrix}\n",
    "        A\\\\\n",
    "      C A\n",
    "    \\end{bmatrix}   \\mathbf{x}_0 + \n",
    "\\begin{bmatrix}\n",
    "         I & 0 \\\\\n",
    "         C & A\n",
    "    \\end{bmatrix}\n",
    "    \\begin{bmatrix}\n",
    "        \\boldsymbol \\varepsilon_{1}\\\\\n",
    "      \\boldsymbol \\nu_{1}\n",
    "    \\end{bmatrix}    \n",
    "$$\n",
    "\n",
    "__Note__ that $\\mathbf{x}_0$, $\\boldsymbol \\varepsilon_{1}$, and $\\boldsymbol \\nu_{1}$ are independent\n",
    "\n",
    "* step 2 Compute the marginal distribution of $\\mathbf{x}_1$ and $\\mathbf{z}_1$\n",
    "* step 3 Compute the conditional distribution of $\\mathbf{x}_1$ given $\\mathbf{z}_1$"
   ]
  },
  {
   "cell_type": "markdown",
   "id": "4993963a",
   "metadata": {
    "slideshow": {
     "slide_type": "subslide"
    }
   },
   "source": [
    "Derivation for any $t$: use __induction__: assume the optimal update formulae hold for $t-1$ and show that the one-step ahead ones are true: \n",
    "*  write  $[\\mathbf{x}_t, \\mathbf{z}_t]$ in terms of $\\mathbf{x}_{t-1}$, $\\boldsymbol \\varepsilon_{t}$, and $\\boldsymbol \\nu_{t}$\n",
    "*  using the assumed conditional distribution of $\\mathbf{x}_{t-1}$ given $Z_{1:t-1}$, compute the joint and marginal conditional disrtibutions of $\\mathbf{x}_t$ and $\\mathbf{z}_t$  given $Z_{1:t-1}$.\n",
    "* from the joint (conditional) distribution compute the conditional distribution of $\\mathbf{x}_t$ given $\\mathbf{z}_t$. This will give you the conditional distribution of $\\mathbf{x}_t$ given $Z_{1:t} = [Z_{1:t-1}, \\mathbf{z}_t]$"
   ]
  },
  {
   "cell_type": "markdown",
   "id": "30e9032e",
   "metadata": {
    "slideshow": {
     "slide_type": "subslide"
    }
   },
   "source": [
    "### Likelihood function with the Kalman filter \n",
    "\n",
    "joint distribution of $ Z = \\left[\\mathbf{z}^{\\prime}_{1}, \\mathbf{z}^{\\prime}_{2}, \\cdots, \\mathbf{z}^{\\prime}_{T} \\right]^{\\prime}$\n",
    "\n",
    "\n",
    "$$ p(\\boldsymbol Z; \\boldsymbol \\theta) = p(\\mathbf{z}_{0}; \\boldsymbol \\theta) \\prod_{t=1}^{T} p(\\mathbf{z}_{t}|Z_{1:t-1}; \\boldsymbol \\theta) $$\n",
    "\n",
    "where $p(\\mathbf{z}_{t}|Z_{1:t-1}; \\boldsymbol \\theta)$ is Gaussian with moments $\\mathbf{z}_{t|t-1}$ and $\\mathbf{\\Sigma}^{z}_{t|t-1} $ given by the Kalman Filter.\n",
    "\n",
    "__Note:__ equivalent to, but much more efficient than computing the joint distribution of $Z$ as \n",
    "\n",
    "$$\n",
    "\\boldsymbol Z \\sim \\mathcal{N} \\left( 0, \\; \\boldsymbol C \\mathbf{\\Sigma}_{\\boldsymbol X} \\boldsymbol C^{\\prime} +  \\mathbf{\\Sigma}_{\\boldsymbol V}\\right)\n",
    "$$"
   ]
  },
  {
   "cell_type": "markdown",
   "id": "ee66a45a",
   "metadata": {
    "slideshow": {
     "slide_type": "subslide"
    }
   },
   "source": [
    "### Kalman smoother\n",
    "\n",
    "$$\n",
    "\\begin{align}\n",
    "\\mathbf{x}_{t-1|T} &= \\mathbf{x}_{t-1|t-1} + \\mathbf{J}_{t-1}\\left(\\mathbf{x}_{t|T} - \\mathbf{x}_{t|t-1}  \\right)\n",
    "\\\\\n",
    "\\mathbf{\\Sigma}^{x}_{t-1|T} &= \\mathbf{\\Sigma}^{x}_{t-1|t-1} + \\mathbf{J}_{t-1} \\left( \\mathbf{\\Sigma}^{x}_{t|T} -  \\mathbf{\\Sigma}^{x}_{t|t-1} \\right) \\mathbf{J}_{t-1}^{\\prime}\n",
    "\\end{align}\n",
    "$$\n",
    "\n",
    "where\n",
    "$\n",
    "\\mathbf{J}_{t-1} = \\mathbf{\\Sigma}^{x}_{t-1|t-1} A^{\\prime} (\\mathbf{\\Sigma}^{x}_{t|t-1})^{-1}\n",
    "$"
   ]
  },
  {
   "cell_type": "markdown",
   "id": "eab5e3a7",
   "metadata": {
    "slideshow": {
     "slide_type": "fragment"
    }
   },
   "source": [
    "__Note 1:__ for $t=T+1$, $\\mathbf{x}_{t-1|T}$ and $\\mathbf{\\Sigma}^{x}_{t-1|T}$ are given by the Kalman fitler. After that, going __backwards__, all necessary objects are provided by the previous smoothing step, and by the Kalman filter\n",
    "\n",
    "__Note 2:__ equivalent to, but much more efficient than computing the __block diagonal__ of conditional distribution of $\\boldsymbol X$ given $\\boldsymbol Z$"
   ]
  },
  {
   "cell_type": "markdown",
   "id": "9039ea33",
   "metadata": {
    "slideshow": {
     "slide_type": "subslide"
    }
   },
   "source": [
    "## Estimation"
   ]
  },
  {
   "cell_type": "markdown",
   "id": "38da942e",
   "metadata": {
    "slideshow": {
     "slide_type": "fragment"
    }
   },
   "source": [
    "What are we estimating?"
   ]
  },
  {
   "cell_type": "markdown",
   "id": "d1c89804",
   "metadata": {
    "slideshow": {
     "slide_type": "fragment"
    }
   },
   "source": [
    "$$\n",
    "\\begin{align}\n",
    "\\mathbf{x}_{t} &=  A \\mathbf{x}_{t-1}  + \\boldsymbol \\varepsilon_{t}, \\;\\;\\;\\;\\; \\varepsilon_{t} \\sim \\mathcal{N} \\left( 0, \\;\\mathbf{\\Sigma}_{\\varepsilon}\\right) \\;\\;\\; \\text{state (transition) equation}\\\\\n",
    "\\mathbf{z}_{t} &= C \\mathbf{x}_{t} + \\boldsymbol \\nu_{t}, \\;\\;\\;\\;\\;\\;\\; \\nu_{t} \\sim \\mathcal{N} \\left( 0, \\;\\mathbf{\\Sigma}_{\\nu}\\right)  \\;\\;\\; \\text{observation equation} \\\\\n",
    "\\end{align}\n",
    "$$  \n",
    "\n",
    "Collect the unknown parameters of $A$, $C$, $\\mathbf{\\Sigma}_{\\varepsilon}$, $\\mathbf{\\Sigma}_{\\nu}$ in $\\boldsymbol \\theta$"
   ]
  },
  {
   "cell_type": "markdown",
   "id": "aa6e7dc0",
   "metadata": {
    "slideshow": {
     "slide_type": "fragment"
    }
   },
   "source": [
    "__MLE__\n",
    "\n",
    "\n",
    "$$ \\ell(\\boldsymbol \\theta | \\boldsymbol Z) =  \\operatorname{log}(\\mathcal{L}(\\boldsymbol \\theta | \\boldsymbol Z) = p(\\boldsymbol Z; \\boldsymbol \\theta)  $$\n",
    "\n",
    "\n",
    "$$\n",
    "\\begin{align}\n",
    "\\hat {\\boldsymbol \\theta}&= \\underset{\\boldsymbol \\theta}{\\mathrm{argmax}}~~\\ell(\\boldsymbol \\theta | \\boldsymbol Z) \n",
    "\\end{align}                          \n",
    "$$"
   ]
  },
  {
   "cell_type": "markdown",
   "id": "3dd01922",
   "metadata": {
    "slideshow": {
     "slide_type": "subslide"
    }
   },
   "source": [
    "### Identification \n",
    "\n",
    "$$\n",
    "\\begin{align}\n",
    "\\mathbf{x}_{t} &=  A \\mathbf{x}_{t-1}  + \\boldsymbol \\varepsilon_{t}, \\;\\;\\;\\;\\; \\varepsilon_{t} \\sim \\mathcal{N} \\left( 0, \\;\\mathbf{\\Sigma}_{\\varepsilon}\\right) \\;\\;\\; \\text{state (transition) equation}\\\\\n",
    "\\mathbf{z}_{t} &= C \\mathbf{x}_{t} + \\boldsymbol \\nu_{t}, \\;\\;\\;\\;\\;\\;\\; \\nu_{t} \\sim \\mathcal{N} \\left( 0, \\;\\mathbf{\\Sigma}_{\\nu}\\right)  \\;\\;\\; \\text{observation equation} \\\\\n",
    "\\end{align}\n",
    "$$  \n",
    "\n",
    "* If we replace $\\mathbf{x}_{t}$ with $\\mathbf{x}_{t}^{*} = T  \\mathbf{x}_{t}$, $\\varepsilon_{t}$ with  $\\varepsilon_{t}^{*} = T  \\varepsilon_{t}$, $A$ with $A^{*} = T A T^{-1}$,  $C$ with $C^{*} = C T^{-1}$, and $\\mathbf{\\Sigma}_{\\varepsilon}$ with $\\mathbf{\\Sigma}_{\\varepsilon}^{*} = T\\mathbf{\\Sigma}_{\\varepsilon}T'$ the process for $\\mathbf{z}_{t}$ remains unchanged, and the likelihood function remain the same."
   ]
  },
  {
   "cell_type": "markdown",
   "id": "178b848d",
   "metadata": {
    "slideshow": {
     "slide_type": "fragment"
    }
   },
   "source": [
    "* Therefore, unless there are (sufficient) restrictions on $A$, $C$, and $\\mathbf{\\Sigma}_{\\varepsilon}$, their parameter cannot be identified - multiple values of $\\boldsymbol \\theta$ imply the same value of the likelihood."
   ]
  },
  {
   "cell_type": "markdown",
   "id": "45c32114",
   "metadata": {
    "slideshow": {
     "slide_type": "fragment"
    }
   },
   "source": [
    "* a simple way to check for __local__ identification at a given value of $\\boldsymbol \\theta$ is to compute the Jacobian matrix of $\\mathbf{\\Sigma}_{\\boldsymbol Z}$ w.r.t $\\boldsymbol \\theta$ and check that it has full rank."
   ]
  },
  {
   "cell_type": "markdown",
   "id": "61ee711a",
   "metadata": {
    "slideshow": {
     "slide_type": "subslide"
    }
   },
   "source": [
    "## Forecasting"
   ]
  },
  {
   "cell_type": "markdown",
   "id": "5d4774f4",
   "metadata": {
    "slideshow": {
     "slide_type": "fragment"
    }
   },
   "source": [
    "Optimal forecast given information at $T$:\n",
    "\n",
    "$$ \n",
    "\\begin{align}\n",
    "\\operatorname{E}(\\mathbf{z}_{T+1} | \\boldsymbol Z )  & = C \\operatorname{E}(\\mathbf{x}_{T+1} | \\boldsymbol Z ) = C \\mathbf{x}_{T+1|T} =   CA \\mathbf{x}_{T|T} \\\\\n",
    "\\operatorname{E}(\\mathbf{z}_{T+h} | \\boldsymbol Z )  & = C \\boldsymbol A^h \\mathbf{x}_{T|T}\n",
    "\\end{align}\n",
    "$$"
   ]
  },
  {
   "cell_type": "markdown",
   "id": "4ef80a19",
   "metadata": {
    "slideshow": {
     "slide_type": "subslide"
    }
   },
   "source": [
    "__Computing the variance of the forecast erros__\n",
    "\n",
    "Using that $\\mathbf{x}_{t}$  is VAR(1)\n",
    "\n",
    "$$\n",
    "\\mathbf{x}_{T+h} = A^{h}\\mathbf{x}_{T} + A^{h-1}\\boldsymbol \\varepsilon_{T+1} + \\cdots + A\\boldsymbol \\varepsilon_{T+h-1} + \\boldsymbol \\varepsilon_{T+h}\n",
    "$$\n",
    "\n",
    "and \n",
    "\n",
    "$$\n",
    "\\mathbf{x}_{T+h|T} = A^{h}\\mathbf{x}_{T|T}\n",
    "$$"
   ]
  },
  {
   "cell_type": "markdown",
   "id": "e9f6834c",
   "metadata": {
    "slideshow": {
     "slide_type": "fragment"
    }
   },
   "source": [
    "Therefore, the forecast error is\n",
    "\n",
    "$$\n",
    "\\mathbf{x}_{T+h} - \\mathbf{x}_{T+h|T} = A^{h}\\left(\\mathbf{x}_{T} - \\mathbf{x}_{T|T} \\right)  + A^{h-1}\\boldsymbol \\varepsilon_{T+1} + \\cdots + A\\boldsymbol \\varepsilon_{T+h-1} + \\boldsymbol \\varepsilon_{T+h}\n",
    "$$"
   ]
  },
  {
   "cell_type": "markdown",
   "id": "4eab6d47",
   "metadata": {
    "slideshow": {
     "slide_type": "subslide"
    }
   },
   "source": [
    "The MSE of $\\mathbf{x}_{T+h|T}$ is\n",
    "\n",
    "$$\n",
    "\\mathbf{\\Sigma}^{x}_{T+h|T} = A^{h} \\mathbf{\\Sigma}^{x}_{T|T} (A^{h})^{\\prime} + A^{h-1} \\Sigma_{\\varepsilon} (A^{h-1})^{\\prime} + \\cdots + A \\Sigma_{\\varepsilon} A^{\\prime} + \\Sigma_{\\varepsilon}\n",
    "$$"
   ]
  },
  {
   "cell_type": "markdown",
   "id": "20b7b544",
   "metadata": {
    "slideshow": {
     "slide_type": "fragment"
    }
   },
   "source": [
    "and the MSE of $\\mathbf{z}_{T+h|T}$ is\n",
    "\n",
    "$$\n",
    "\\mathbf{\\Sigma}^{z}_{T+h|T} = C \\mathbf{\\Sigma}^{x}_{T+h|T} C^{\\prime} + \\Sigma_{\\nu}\n",
    "$$"
   ]
  },
  {
   "cell_type": "markdown",
   "id": "e8917ac7",
   "metadata": {
    "slideshow": {
     "slide_type": "subslide"
    }
   },
   "source": [
    "### Accounting for parameter uncertainty\n",
    "\n",
    "So far, forecast errors were always computed assuming that parameters were __known__. However, they are estimated and parameter uncertainty is also present (it disappears only asymptotically)"
   ]
  },
  {
   "cell_type": "markdown",
   "id": "72fdbe31",
   "metadata": {
    "slideshow": {
     "slide_type": "subslide"
    }
   },
   "source": [
    "__total uncertainty__\n",
    "\n",
    "$$\n",
    "\\begin{align}\n",
    "\\operatorname{E}\\left([\\mathbf{x}_{T+h} -  \\mathbf{x}_{T+h|T} (\\hat{\\theta})][\\mathbf{x}_{T+h} -  \\mathbf{x}_{T+h|T} (\\hat{\\theta})]^{\\prime} \\right) &= \\operatorname{E}\\left([\\mathbf{x}_{T+h} -  \\mathbf{x}_{T+h|T}(\\theta)][\\mathbf{x}_{T+h} -  \\mathbf{x}_{T+h|T}(\\theta)]^{\\prime}  \\right) \\\\\n",
    "& + \\operatorname{E}\\left([\\mathbf{x}_{T+h|T}(\\hat{\\theta}) -  \\mathbf{x}_{T+h|T} (\\hat{\\theta})][\\mathbf{x}_{T+h|T}(\\hat{\\theta}) -  \\mathbf{x}_{T+h|T} (\\hat{\\theta})]^{\\prime} \\right) \\\\\n",
    "&= \\operatorname{E}\\left(\\mathbf{\\Sigma}^{x}_{T+h|T} \\right) \n",
    "+ \\operatorname{E}\\left([\\mathbf{x}_{T+h|T}(\\theta) -  \\mathbf{x}_{T+h|T} (\\hat{\\theta})][\\mathbf{x}_{T+h|T}(\\theta) -  \\mathbf{x}_{T+h|T} (\\hat{\\theta})]^{\\prime} \\right)\n",
    "\\end{align}\n",
    "$$"
   ]
  },
  {
   "cell_type": "markdown",
   "id": "c81ad37b",
   "metadata": {
    "slideshow": {
     "slide_type": "fragment"
    }
   },
   "source": [
    "* Evaluate $\\operatorname{E}\\left(\\mathbf{\\Sigma}^{x}_{T+h|T} \\right)$ by generating $N$ draws from the asymptotic distribution of $\\hat{\\theta}$ and compute the average value of $\\mathbf{\\Sigma}^{x}_{T+h|T}$\n",
    "\n",
    "* Evaluate $\\operatorname{E}\\left([\\mathbf{x}_{T+h|T}(\\theta) -  \\mathbf{x}_{T+h|T} (\\hat{\\theta})][\\mathbf{x}_{T+h|T}(\\theta) -  \\mathbf{x}_{T+h|T} (\\hat{\\theta})]^{\\prime} \\right) $ as the average of $\\left([\\mathbf{x}_{T+h|T}(\\theta_i) -  \\mathbf{x}_{T+h|T} (\\hat{\\theta})][\\mathbf{x}_{T+h|T}(\\theta_i) -  \\mathbf{x}_{T+h|T} (\\hat{\\theta})]^{\\prime} \\right)$ using the $N$ draws $\\theta_i$ from the asymptotic distribution of $\\hat{\\theta}$ \n",
    "\n",
    "* see [Hamilton, James D. \"A standard error for the estimated state vector of a state-space model.\" Journal of Econometrics 33.3 (1986)](https://www.sciencedirect.com/science/article/abs/pii/0304407686900047)"
   ]
  },
  {
   "cell_type": "markdown",
   "id": "c0667cbd",
   "metadata": {
    "slideshow": {
     "slide_type": "subslide"
    }
   },
   "source": [
    "### Linear state space model\n",
    "\n",
    "$$\n",
    "\\begin{align}\n",
    "\\mathbf{x}_{t} &=  A \\mathbf{x}_{t-1}  + \\boldsymbol \\varepsilon_{t}, \\;\\;\\;\\;\\; \\varepsilon_{t} \\sim \\mathcal{N} \\left( 0, \\;\\mathbf{\\Sigma}_{\\varepsilon}\\right) \\\\\n",
    "\\mathbf{z}_{t} &= C \\mathbf{x}_{t} + \\boldsymbol \\nu_{t}, \\;\\;\\;\\;\\;\\;\\; \\nu_{t} \\sim \\mathcal{N} \\left( 0, \\;\\mathbf{\\Sigma}_{\\nu}\\right)  \\\\\n",
    "\\mathbf{x}_{0}  & \\sim \\mathcal{N} \\left( 0, \\;\\mathbf{\\Sigma}_{0} \\right),\n",
    "\\end{align}\n",
    "$$  "
   ]
  },
  {
   "cell_type": "markdown",
   "id": "e7bdb15b",
   "metadata": {
    "slideshow": {
     "slide_type": "fragment"
    }
   },
   "source": [
    "__reduced-form (statistical) models__\n",
    "* the parameters are the unrestricted elements of $A$, $C$, $\\mathbf{\\Sigma}_{\\varepsilon}$, $\\mathbf{\\Sigma}_{\\nu}$\n",
    "\n",
    "*  of little (no) interest on their ow"
   ]
  },
  {
   "cell_type": "markdown",
   "id": "466dfc82",
   "metadata": {
    "slideshow": {
     "slide_type": "subslide"
    }
   },
   "source": [
    "__structural (theoretical) models__\n",
    "  \n",
    "    \n",
    "* reduced-form model parameters are functions of (often much) smaller number of structural parameters $\\boldsymbol \\theta$ \n",
    "* $\\boldsymbol \\theta$ have economic meaning and are (or could be) of interest on their own\n",
    "* estimation is usually harder (non-linear functions)"
   ]
  },
  {
   "cell_type": "markdown",
   "id": "0cef05a5",
   "metadata": {
    "slideshow": {
     "slide_type": "subslide"
    }
   },
   "source": [
    "[Non-linear state space models in Python](https://nchopin.github.io/books/)\n",
    "\n",
    "[docs](https://particles-sequential-monte-carlo-in-python.readthedocs.io/en/latest/)"
   ]
  }
 ],
 "metadata": {
  "celltoolbar": "Slideshow",
  "kernelspec": {
   "display_name": "Python 3 (ipykernel)",
   "language": "python",
   "name": "python3"
  },
  "language_info": {
   "codemirror_mode": {
    "name": "ipython",
    "version": 3
   },
   "file_extension": ".py",
   "mimetype": "text/x-python",
   "name": "python",
   "nbconvert_exporter": "python",
   "pygments_lexer": "ipython3",
   "version": "3.7.12"
  }
 },
 "nbformat": 4,
 "nbformat_minor": 5
}
