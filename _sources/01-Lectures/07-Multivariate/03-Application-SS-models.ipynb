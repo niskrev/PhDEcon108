{
 "cells": [
  {
   "cell_type": "markdown",
   "id": "7076f982",
   "metadata": {
    "slideshow": {
     "slide_type": "slide"
    }
   },
   "source": [
    "# Appilcations of state space models"
   ]
  },
  {
   "cell_type": "markdown",
   "id": "c34a8230",
   "metadata": {
    "slideshow": {
     "slide_type": "subslide"
    }
   },
   "source": [
    "## ARMA(p,q) models"
   ]
  },
  {
   "cell_type": "markdown",
   "id": "7e22c82d",
   "metadata": {
    "slideshow": {
     "slide_type": "subslide"
    }
   },
   "source": [
    "__Example__ \n",
    "\n",
    "MA(1)\n",
    "\n",
    "$$\n",
    "z_{t} = \\varepsilon_{t} + \\beta  \\varepsilon_{t-1} \n",
    "$$"
   ]
  },
  {
   "cell_type": "markdown",
   "id": "3f78cba8",
   "metadata": {
    "slideshow": {
     "slide_type": "fragment"
    }
   },
   "source": [
    "State space form\n",
    "\n",
    "$$ \n",
    "\\begin{align}\n",
    "\\left[\\begin{array}{c}\n",
    "\\varepsilon_{t}\\\\\n",
    "\\varepsilon_{t-1}\\\\\n",
    "\\end{array}\\right]\n",
    " &=\n",
    "\\begin{bmatrix}\n",
    "         0 & 0 \\\\\n",
    "         1 & 0\n",
    "    \\end{bmatrix}\n",
    "\\left[\\begin{array}{c}\n",
    "\\varepsilon_{t-1}\\\\\n",
    "\\varepsilon_{t-2}\\\\\n",
    "\\end{array}\\right] \n",
    "+\n",
    "\\left[\\begin{array}{c}\n",
    "\\varepsilon_{t}\\\\\n",
    "0\\\\\n",
    "\\end{array}\\right]\n",
    "\\\\\\\\\n",
    "z_t & = \\left[\\begin{array}{cc} 1 \\; \\beta \\end{array} \\right]\n",
    "\\left[\\begin{array}{c}\n",
    "\\varepsilon_{t}\\\\\n",
    "\\varepsilon_{t-1}\\\\\n",
    "\\end{array}\\right]\n",
    "\\end{align}\n",
    "$$"
   ]
  },
  {
   "cell_type": "markdown",
   "id": "55efbd45",
   "metadata": {
    "slideshow": {
     "slide_type": "subslide"
    }
   },
   "source": [
    "__Example__  ARMA(2,1)\n",
    "\n",
    "$$\n",
    "z_{t} = \\alpha_1 z_{t-1} + \\alpha_2 z_{t-2} + \\varepsilon_{t} + \\beta  \\varepsilon_{t-1} \n",
    "$$"
   ]
  },
  {
   "cell_type": "markdown",
   "id": "8d6f0a11",
   "metadata": {
    "slideshow": {
     "slide_type": "fragment"
    }
   },
   "source": [
    "State space form\n",
    "\n",
    "$$ \n",
    "\\begin{align}\n",
    "\\left[\\begin{array}{c}\n",
    "x_{1,t}\\\\\n",
    "x_{2,t}\\\\\n",
    "\\end{array}\\right]\n",
    " &=\n",
    "\\begin{bmatrix}\n",
    "         \\alpha_1 & \\alpha_2 \\\\\n",
    "         1 & 0\n",
    "    \\end{bmatrix}\n",
    "\\left[\\begin{array}{c}\n",
    "x_{1,t-1}\\\\\n",
    "x_{2,t-1}\\\\\n",
    "\\end{array}\\right] \n",
    "+\n",
    "\\left[\\begin{array}{c}\n",
    "\\varepsilon_{t}\\\\\n",
    "0\\\\\n",
    "\\end{array}\\right]\n",
    "\\\\\n",
    "z_t & = \\left[\\begin{array}{cc} 1 \\; \\beta \\end{array} \\right]\n",
    "\\left[\\begin{array}{c}\n",
    "x_{1,t}\\\\\n",
    "x_{2,t}\\\\\n",
    "\\end{array}\\right]\n",
    "\\end{align}\n",
    "$$"
   ]
  },
  {
   "cell_type": "markdown",
   "id": "081293e8",
   "metadata": {
    "slideshow": {
     "slide_type": "fragment"
    }
   },
   "source": [
    "$$\n",
    "\\begin{align}\n",
    "z_t &= \\beta(L) x_{1,t}\\\\\n",
    "x_{1,t} &= \\alpha(L)^{-1} w_{t}\\\\\n",
    "\\alpha(L)z_t &= \\beta(L)w_{t}\n",
    "\\end{align}\n",
    "$$"
   ]
  },
  {
   "cell_type": "markdown",
   "id": "b6a799f8",
   "metadata": {
    "slideshow": {
     "slide_type": "fragment"
    }
   },
   "source": [
    "Generalizes to ARMA(p,q)"
   ]
  },
  {
   "cell_type": "markdown",
   "id": "c7a2e277",
   "metadata": {
    "slideshow": {
     "slide_type": "subslide"
    }
   },
   "source": [
    "## Unobserved-components models"
   ]
  },
  {
   "cell_type": "markdown",
   "id": "c69bd8c2",
   "metadata": {
    "slideshow": {
     "slide_type": "subslide"
    }
   },
   "source": [
    "__Example__\n",
    "\n",
    "$$\n",
    "\\begin{aligned}\n",
    "z_t & = \\tau_t + c_t \\\\\n",
    "\\tau_t & = \\tau_{t-1} + \\eta_t \\\\\n",
    "c_t &= \\phi_1 c_{t-1} + \\phi_2 c_{t-2} + \\varepsilon_t\n",
    "\\end{aligned}\n",
    "$$"
   ]
  },
  {
   "cell_type": "markdown",
   "id": "d71bfa59",
   "metadata": {
    "slideshow": {
     "slide_type": "fragment"
    }
   },
   "source": [
    "State space form \n",
    "\n",
    "$$\\Delta z_t =  \\eta_t + \\Delta c_t $$\n",
    "\n",
    "$$ \n",
    "\\begin{align}\n",
    "\\left[\\begin{array}{c}\n",
    "c_{t}\\\\\n",
    "c_{t-1}\\\\\n",
    "\\end{array}\\right]\n",
    " &=\n",
    "\\begin{bmatrix}\n",
    "         \\phi_1 & \\phi_2 \\\\\n",
    "         1 & 0\n",
    "    \\end{bmatrix}\n",
    "\\left[\\begin{array}{c}\n",
    "c_{t-1}\\\\\n",
    "c_{t-2}\\\\\n",
    "\\end{array}\\right] \n",
    "+\n",
    "\\left[\\begin{array}{c}\n",
    "\\varepsilon_{t}\\\\\n",
    "0\\\\\n",
    "\\end{array}\\right]\n",
    "\\\\\\\\\n",
    "\\Delta z_t & = \\left[\\begin{array}{cc} 1 \\; -1 \\end{array} \\right]\n",
    "\\left[\\begin{array}{c}\n",
    "c_{t}\\\\\n",
    "c_{t-1}\\\\\n",
    "\\end{array}\\right] + \\eta_t \\\\\\\\\n",
    "\\end{align}\n",
    "$$"
   ]
  },
  {
   "cell_type": "markdown",
   "id": "ba5acde7",
   "metadata": {
    "slideshow": {
     "slide_type": "subslide"
    }
   },
   "source": [
    "$$\n",
    "\\begin{aligned}\n",
    "z_t & = \\tau_t + c_t \\\\\n",
    "\\tau_t & = \\tau_{t-1} + \\eta_t \\\\\n",
    "c_t &= \\phi_1 c_{t-1} + \\phi_2 c_{t-2} + \\varepsilon_t\n",
    "\\end{aligned}\n",
    "$$\n",
    "\n",
    "State space form for the __level__ of $z_t$\n",
    "\n",
    "$$ \n",
    "\\begin{align}\n",
    "\\left[\\begin{array}{c}\n",
    "\\tau_t\\\\\n",
    "c_{t}\\\\\n",
    "c_{t-1}\\\\\n",
    "\\end{array}\\right]\n",
    " &=\n",
    "\\begin{bmatrix}\n",
    "         1 & 0 & 0 \\\\\n",
    "         0 & \\phi_1 & \\phi_2 \\\\\n",
    "         0 & 1 & 0\n",
    "    \\end{bmatrix}\n",
    "\\left[\\begin{array}{c}\n",
    "\\tau_{t-1}\\\\\n",
    "c_{t-1}\\\\\n",
    "c_{t-2}\\\\\n",
    "\\end{array}\\right] \n",
    "+\n",
    "\\left[\\begin{array}{c}\n",
    "\\eta_{t}\\\\\n",
    "\\varepsilon_{t}\\\\\n",
    "\\end{array}\\right]\n",
    "\\\\\\\\\n",
    "z_t & = \\left[\\begin{array}{ccc} 1 \\; 1 \\; 0 \\end{array} \\right]\n",
    "\\left[\\begin{array}{c}\n",
    "\\tau_t\\\\\n",
    "c_{t}\\\\\n",
    "c_{t-1}\\\\\n",
    "\\end{array}\\right] \\\\\\\\\n",
    "\\end{align}\n",
    "$$"
   ]
  },
  {
   "cell_type": "markdown",
   "id": "261006bc",
   "metadata": {
    "slideshow": {
     "slide_type": "subslide"
    }
   },
   "source": [
    "[Unobserved-components models in Statsmodels](https://www.statsmodels.org/dev/generated/statsmodels.tsa.statespace.structural.UnobservedComponents.html)"
   ]
  },
  {
   "cell_type": "markdown",
   "id": "5355fd23",
   "metadata": {
    "slideshow": {
     "slide_type": "subslide"
    }
   },
   "source": [
    "## Time-varying parameters"
   ]
  },
  {
   "cell_type": "markdown",
   "id": "dab7ab43",
   "metadata": {
    "slideshow": {
     "slide_type": "fragment"
    }
   },
   "source": [
    "$$\n",
    "\\begin{align}\n",
    "z_t &= x_t \\beta_t  + \\varepsilon_t\\\\\n",
    "\\beta_t  &=  \\beta_{t-1} + \\eta_t\\\\\n",
    "\\end{align}\n",
    "$$\n",
    "\n"
   ]
  },
  {
   "cell_type": "markdown",
   "id": "60c45049",
   "metadata": {
    "slideshow": {
     "slide_type": "subslide"
    }
   },
   "source": [
    "## Dynamic Factor models"
   ]
  },
  {
   "cell_type": "markdown",
   "id": "e3653577",
   "metadata": {
    "slideshow": {
     "slide_type": "subslide"
    }
   },
   "source": [
    "__Example__\n",
    "\n",
    "$$\n",
    "\\begin{aligned}\n",
    "& \\text{observed variables}\\\\\n",
    "z_{1,t} & = \\lambda_1 f_t + u_{1,t} \\\\\n",
    "z_{2,t} & = \\lambda_1 f_t + u_{2,t} \\\\\\\\\n",
    "& \\text{common factor}\n",
    "\\\\\n",
    "f_t & = \\alpha f_{t-1} + \\eta_t \\\\\\\\\n",
    "& \\text{idiosyncratic components}\n",
    "\\\\\n",
    "u_{1,t} &= \\phi_1 u_{1, t-1}  + \\varepsilon_{1,t}\\\\\n",
    "u_{2,t} &= \\phi_2 u_{2, t-1}  + \\varepsilon_{2,t}\n",
    "\\end{aligned}\n",
    "$$"
   ]
  },
  {
   "cell_type": "markdown",
   "id": "299e5a3a",
   "metadata": {
    "slideshow": {
     "slide_type": "subslide"
    }
   },
   "source": [
    "State Space form\n",
    "\n",
    "$$ \n",
    "\\begin{align}\n",
    "\\left[\\begin{array}{c}\n",
    "f_t\\\\\n",
    "u_{1,t}\\\\\n",
    "u_{2,t}\\\\\n",
    "\\end{array}\\right]\n",
    " &=\n",
    "\\begin{bmatrix}\n",
    "         \\alpha & 0 & 0 \\\\\n",
    "         0 & \\phi_1 & 0 \\\\\n",
    "         0 & 0 & \\phi_2\n",
    "    \\end{bmatrix}\n",
    "\\left[\\begin{array}{c}\n",
    "f_{t-1}\\\\\n",
    "u_{1,t-1}\\\\\n",
    "u_{2,t-1}\\\\\n",
    "\\end{array}\\right] \n",
    "+\n",
    "\\left[\\begin{array}{c}\n",
    "\\eta_{t}\\\\\n",
    "\\varepsilon_{1,t}\\\\\n",
    "\\varepsilon_{2,t}\\\\\n",
    "\\end{array}\\right]\n",
    "\\\\\\\\\n",
    "\\left[\\begin{array}{c}\n",
    "z_{1,t}\\\\\n",
    "z_{2,t}\\\\\n",
    "\\end{array}\\right]\n",
    " &=\n",
    "\\begin{bmatrix}\n",
    "         \\lambda_1 & 1 & 0 \\\\\n",
    "         \\lambda_2 & 0 & 1 \\\\\n",
    "    \\end{bmatrix}\n",
    "\\left[\\begin{array}{c}\n",
    "f_t\\\\\n",
    "u_{1,t}\\\\\n",
    "u_{2,t}\\\\\n",
    "\\end{array}\\right] \n",
    "\\end{align}\n",
    "$$\n"
   ]
  },
  {
   "cell_type": "markdown",
   "id": "64b4faf6",
   "metadata": {
    "slideshow": {
     "slide_type": "fragment"
    }
   },
   "source": [
    "+ can be extended to multiple factors evolving as VAR(q)\n",
    "+ and more general AR processes for the idiosyncratic components "
   ]
  },
  {
   "cell_type": "markdown",
   "id": "1d267d6c",
   "metadata": {
    "slideshow": {
     "slide_type": "fragment"
    }
   },
   "source": [
    "DFM are a parsimoneous alternative to VARs with many series"
   ]
  },
  {
   "cell_type": "markdown",
   "id": "37eb427f",
   "metadata": {
    "slideshow": {
     "slide_type": "fragment"
    }
   },
   "source": [
    "[Dynamic factor models in Statsmodels](https://www.statsmodels.org/dev/examples/notebooks/generated/statespace_dfm_coincident.html#)"
   ]
  },
  {
   "cell_type": "markdown",
   "id": "79748a0f",
   "metadata": {
    "slideshow": {
     "slide_type": "subslide"
    }
   },
   "source": [
    "related __common trend model__\n",
    "\n",
    "$$\n",
    "\\begin{aligned}\n",
    "& \\text{observed variables}\\\\\n",
    "z_{1,t} & =  f_t + u_{1,t} \\\\\n",
    "z_{2,t} & =  f_t + u_{2,t} \\\\\\\\\n",
    "& \\text{common trend}\n",
    "\\\\\n",
    "f_t & = f_{t-1} + \\eta_t \\\\\\\\\n",
    "& \\text{stationary terms}\n",
    "\\\\\n",
    "u_{1,t} &= \\phi_1 u_{1, t-1}  + \\varepsilon_{1,t}\\\\\n",
    "u_{2,t} &= \\phi_2 u_{2, t-1}  + \\varepsilon_{2,t}\n",
    "\\end{aligned}\n",
    "$$"
   ]
  },
  {
   "cell_type": "markdown",
   "id": "728b8c0a",
   "metadata": {
    "slideshow": {
     "slide_type": "subslide"
    }
   },
   "source": [
    "State Space form\n",
    "\n",
    "$$ \n",
    "\\begin{align}\n",
    "\\left[\\begin{array}{c}\n",
    "f_t\\\\\n",
    "u_{1,t}\\\\\n",
    "u_{2,t}\\\\\n",
    "\\end{array}\\right]\n",
    " &=\n",
    "\\begin{bmatrix}\n",
    "         1 & 0 & 0 \\\\\n",
    "         0 & \\phi_1 & 0 \\\\\n",
    "         0 & 0 & \\phi_2\n",
    "    \\end{bmatrix}\n",
    "\\left[\\begin{array}{c}\n",
    "f_{t-1}\\\\\n",
    "u_{1,t-1}\\\\\n",
    "u_{2,t-1}\\\\\n",
    "\\end{array}\\right] \n",
    "+\n",
    "\\left[\\begin{array}{c}\n",
    "\\eta_{t}\\\\\n",
    "\\varepsilon_{1,t}\\\\\n",
    "\\varepsilon_{2,t}\\\\\n",
    "\\end{array}\\right]\n",
    "\\\\\\\\\n",
    "\\left[\\begin{array}{c}\n",
    "z_{1,t}\\\\\n",
    "z_{2,t}\\\\\n",
    "\\end{array}\\right]\n",
    " &=\n",
    "\\begin{bmatrix}\n",
    "         \\lambda_1 & 1 & 0 \\\\\n",
    "         \\lambda_2 & 0 & 1 \\\\\n",
    "    \\end{bmatrix}\n",
    "\\left[\\begin{array}{c}\n",
    "f_t\\\\\n",
    "u_{1,t}\\\\\n",
    "u_{2,t}\\\\\n",
    "\\end{array}\\right] \n",
    "\\end{align}\n",
    "$$\n"
   ]
  },
  {
   "cell_type": "markdown",
   "id": "62f0ca15",
   "metadata": {
    "slideshow": {
     "slide_type": "fragment"
    }
   },
   "source": [
    "* $z_{1,t}$ and $z_{2,t}$ share a common stochastic trend - __cointegrated__\n",
    "* the stationary terms can have more complicated dynamics, and may be correlated (e.g VAR instead of AR processes)"
   ]
  },
  {
   "cell_type": "markdown",
   "id": "bcc62125",
   "metadata": {
    "slideshow": {
     "slide_type": "subslide"
    }
   },
   "source": [
    "## The Hodrick-Prescott filter"
   ]
  },
  {
   "cell_type": "markdown",
   "id": "3fdf02a2",
   "metadata": {
    "slideshow": {
     "slide_type": "fragment"
    }
   },
   "source": [
    "$$\n",
    "\\begin{aligned}\n",
    "z_t & = \\tau_t + c_t \\\\\\\\\n",
    "\\underset{\\tau_t}{\\mathrm{min}} ( \\sum_{t=1}^{T}(z_t - \\tau_t)^2 & + \\lambda \\sum_{t=1}^{T}(\\tau_{t} - 2\\tau_{t-1} + \\tau_{t-2})^2 )\n",
    "\\end{aligned}\n",
    "$$"
   ]
  },
  {
   "cell_type": "markdown",
   "id": "6837ebc8",
   "metadata": {
    "slideshow": {
     "slide_type": "fragment"
    }
   },
   "source": [
    "Unobserved components model\n",
    "\n",
    "$$\n",
    "\\begin{aligned}\n",
    "z_t & = \\tau_t + c_t \\\\\n",
    "\\tau_t & = \\tau_{t-1} + \\beta_{t-1}+ \\eta_t \\\\\n",
    "\\beta_t &= \\beta_{t-1}  + \\varepsilon_t\n",
    "\\end{aligned}\n",
    "$$"
   ]
  },
  {
   "cell_type": "markdown",
   "id": "140577f4",
   "metadata": {
    "slideshow": {
     "slide_type": "subslide"
    }
   },
   "source": [
    "State space form\n",
    "\n",
    "$$ \n",
    "\\begin{align}\n",
    "\\left[\\begin{array}{c}\n",
    "\\tau_{t}\\\\\n",
    "\\beta_{t}\\\\\n",
    "\\end{array}\\right]\n",
    " &=\n",
    "\\begin{bmatrix}\n",
    "         1 & 1 \\\\\n",
    "         0 & 1\n",
    "    \\end{bmatrix}\n",
    "\\left[\\begin{array}{c}\n",
    "\\tau_{t-1}\\\\\n",
    "\\beta_{t-1}\\\\\n",
    "\\end{array}\\right] \n",
    "+\n",
    "\\left[\\begin{array}{c}\n",
    "\\eta_{t}\\\\\n",
    "\\varepsilon_{t}\\\\\n",
    "\\end{array}\\right]\n",
    "\\\\\\\\\n",
    "z_t & = \\left[\\begin{array}{cc} 1 \\; 0 \\end{array} \\right]\n",
    "\\left[\\begin{array}{c}\n",
    "\\tau_{t}\\\\\n",
    "\\beta_{t}\\\\\n",
    "\\end{array}\\right] + c_t \\\\\\\\\n",
    "\\end{align}\n",
    "$$\n",
    "$$\n",
    "c_{t} \\sim \\mathcal{N} \\left( 0, \\;\\mathbf{\\sigma}^2_{c}\\right),\\;\\;\\;\\varepsilon_{t} \\sim \\mathcal{N} \\left( 0, \\;\\mathbf{\\sigma}^2_{\\varepsilon}\\right),\\;\\;\\; \\eta_{t} \\sim \\mathcal{N} \\left( 0, \\;\\mathbf{\\sigma}^2_{\\eta}\\right)\n",
    "$$"
   ]
  },
  {
   "cell_type": "markdown",
   "id": "17c0a057",
   "metadata": {
    "slideshow": {
     "slide_type": "fragment"
    }
   },
   "source": [
    "$$\n",
    "\\text{HP-filter restrictions: }\\;\\;\\; \\mathbf{\\sigma}^2_{\\eta} = 0, \\;\\;\\; \\frac{\\mathbf{\\sigma}^2_{c}}{\\mathbf{\\sigma}^2_{\\varepsilon}} = \\lambda\n",
    "$$\n",
    "\n",
    "* no parameters are estimated"
   ]
  },
  {
   "cell_type": "markdown",
   "id": "df904476",
   "metadata": {
    "slideshow": {
     "slide_type": "fragment"
    }
   },
   "source": [
    "* the parameters can be estimated and the restrictions tested"
   ]
  },
  {
   "cell_type": "markdown",
   "id": "8606af51",
   "metadata": {
    "slideshow": {
     "slide_type": "subslide"
    }
   },
   "source": [
    "[Why You Should Never Use the Hodrick-Prescott Filter](https://direct.mit.edu/rest/article/100/5/831/58479/Why-You-Should-Never-Use-the-Hodrick-Prescott)"
   ]
  },
  {
   "cell_type": "code",
   "execution_count": 17,
   "id": "12aca3fd",
   "metadata": {
    "slideshow": {
     "slide_type": "skip"
    }
   },
   "outputs": [
    {
     "data": {
      "text/html": [
       "<div>\n",
       "<style scoped>\n",
       "    .dataframe tbody tr th:only-of-type {\n",
       "        vertical-align: middle;\n",
       "    }\n",
       "\n",
       "    .dataframe tbody tr th {\n",
       "        vertical-align: top;\n",
       "    }\n",
       "\n",
       "    .dataframe thead th {\n",
       "        text-align: right;\n",
       "    }\n",
       "</style>\n",
       "<table border=\"1\" class=\"dataframe\">\n",
       "  <thead>\n",
       "    <tr style=\"text-align: right;\">\n",
       "      <th></th>\n",
       "      <th>gdpc1</th>\n",
       "    </tr>\n",
       "  </thead>\n",
       "  <tbody>\n",
       "    <tr>\n",
       "      <th>1948-01-01</th>\n",
       "      <td>2102.422</td>\n",
       "    </tr>\n",
       "    <tr>\n",
       "      <th>1948-04-01</th>\n",
       "      <td>2137.588</td>\n",
       "    </tr>\n",
       "    <tr>\n",
       "      <th>1948-07-01</th>\n",
       "      <td>2149.832</td>\n",
       "    </tr>\n",
       "    <tr>\n",
       "      <th>1948-10-01</th>\n",
       "      <td>2152.212</td>\n",
       "    </tr>\n",
       "    <tr>\n",
       "      <th>1949-01-01</th>\n",
       "      <td>2122.155</td>\n",
       "    </tr>\n",
       "  </tbody>\n",
       "</table>\n",
       "</div>"
      ],
      "text/plain": [
       "               gdpc1\n",
       "1948-01-01  2102.422\n",
       "1948-04-01  2137.588\n",
       "1948-07-01  2149.832\n",
       "1948-10-01  2152.212\n",
       "1949-01-01  2122.155"
      ]
     },
     "execution_count": 17,
     "metadata": {},
     "output_type": "execute_result"
    }
   ],
   "source": [
    "import statsmodels.tsa.api as tsa\n",
    "from pathlib import Path\n",
    "import pandas as pd\n",
    "import matplotlib.pyplot as plt\n",
    "\n",
    "from fredapi import Fred\n",
    "fred = Fred(api_key=your_api_key)\n",
    "start = '1948-01'\n",
    "end = '2022-01'\n",
    "df_raw = fred.get_series('GNPC96',  observation_start=start, observation_end=end)\n",
    "df_raw.index.freq = 'QS'\n",
    "df_raw.name = 'gdpc1'\n",
    "df_raw = df_raw.to_frame()\n",
    "df_raw.head()"
   ]
  },
  {
   "cell_type": "code",
   "execution_count": 18,
   "id": "112068f5",
   "metadata": {
    "slideshow": {
     "slide_type": "subslide"
    }
   },
   "outputs": [],
   "source": [
    "hp_cycle, hp_trend = tsa.filters.hpfilter(df_raw[['gdpc1']], lamb=1600)"
   ]
  },
  {
   "cell_type": "code",
   "execution_count": 19,
   "id": "410c1629",
   "metadata": {
    "slideshow": {
     "slide_type": "subslide"
    }
   },
   "outputs": [],
   "source": [
    "mod = tsa.UnobservedComponents(df_raw[['gdpc1']], 'lltrend')\n",
    "res = mod.smooth([1., 0, 1. / 1600]) # 'sigma2.irregular', 'sigma2.level', 'sigma2.trend'\n",
    "#print(res.summary())"
   ]
  },
  {
   "cell_type": "code",
   "execution_count": 32,
   "id": "9501884d",
   "metadata": {
    "slideshow": {
     "slide_type": "skip"
    }
   },
   "outputs": [
    {
     "data": {
      "image/png": "[encoded data removed]",
      "text/plain": [
       "<Figure size 1152x576 with 1 Axes>"
      ]
     },
     "metadata": {
      "needs_background": "light"
     },
     "output_type": "display_data"
    }
   ],
   "source": [
    "ucm_trend = pd.Series(res.level.smoothed, index=df_raw[['gdpc1']].index)\n",
    "fig, ax = plt.subplots(figsize=(16, 8))\n",
    "\n",
    "ax.plot(df_raw[['gdpc1']], label='real GDP', color='blue', linestyle='solid', linewidth=1)\n",
    "ax.plot(hp_trend, label='HP trend', color='green', marker='o', linestyle='dashed', linewidth=1, markersize=.5)\n",
    "ax.plot(ucm_trend, label='UC Model trend', color='red', marker='+', linestyle='dashed', linewidth=1, markersize=.5)\n",
    "ax.legend();"
   ]
  },
  {
   "cell_type": "markdown",
   "id": "c571f15d",
   "metadata": {
    "slideshow": {
     "slide_type": "subslide"
    }
   },
   "source": [
    "## Frequency-domain filters"
   ]
  },
  {
   "cell_type": "markdown",
   "id": "5e0d99c2",
   "metadata": {
    "slideshow": {
     "slide_type": "subslide"
    }
   },
   "source": [
    "* time series can be thought of as the sum of periodic functions (fluctuations)\n",
    "    + frequency domain, spectral analysis of time series"
   ]
  },
  {
   "cell_type": "markdown",
   "id": "ee7a1d93",
   "metadata": {
    "slideshow": {
     "slide_type": "fragment"
    }
   },
   "source": [
    "* business cycle components of time series correspond a __subset__ of those fluctuations\n",
    "    + those with period greater than 1.5 (or 2) years and less than 8 years\n",
    "    + faster (shorter period) or slower (longer period) fluctuations are interpreted as being outside the business cycle\n",
    "        + low, business cycle, high frequencies"
   ]
  },
  {
   "cell_type": "markdown",
   "id": "833d34ed",
   "metadata": {
    "slideshow": {
     "slide_type": "fragment"
    }
   },
   "source": [
    "* frequency-domain filters aim to extract the business cycle components\n",
    "    + Baxter-King, Christiano-Fitzgerald"
   ]
  },
  {
   "cell_type": "markdown",
   "id": "b9bb9d6d",
   "metadata": {
    "slideshow": {
     "slide_type": "subslide"
    }
   },
   "source": [
    "__periodic functions?__\n",
    "+ $\\cos(x) = \\cos(x + 2 k \\pi), \\;\\;\\; k = 1, 2, \\cdots$\n",
    "+ $\\sin(x) = \\sin(x + 2 k \\pi), \\;\\;\\; k = 1, 2, \\cdots$"
   ]
  },
  {
   "cell_type": "markdown",
   "id": "3e870f41",
   "metadata": {
    "slideshow": {
     "slide_type": "subslide"
    }
   },
   "source": [
    "* as function of time: $\\cos(t \\omega), \\;\\;\\;t = t_1, \\; t_2, \\cdots $"
   ]
  },
  {
   "cell_type": "markdown",
   "id": "e4de938c",
   "metadata": {
    "slideshow": {
     "slide_type": "fragment"
    }
   },
   "source": [
    "* periodicity means that \n",
    "\n",
    "$$\n",
    "\\begin{align}\n",
    "\\cos(\\omega t_1) &= \\cos(\\omega t_h)\\\\\n",
    "\\\\\n",
    " \\omega t_h &= \\omega t_1  + 2 \\pi \\\\\\\\\n",
    "t_h - t_1 &= \\frac{2 \\pi}{\\omega}\n",
    "\\end{align}\n",
    "$$"
   ]
  },
  {
   "cell_type": "markdown",
   "id": "420607d2",
   "metadata": {
    "slideshow": {
     "slide_type": "fragment"
    }
   },
   "source": [
    "* $\\omega$ is the __frequency__, $t_h - t_1$ is the __period__"
   ]
  },
  {
   "cell_type": "markdown",
   "id": "17d807ca",
   "metadata": {
    "slideshow": {
     "slide_type": "subslide"
    }
   },
   "source": [
    "* a time series $z_t$ can be represented as a sum (integral) of\n",
    "\n",
    "$$\n",
    "\\\\\n",
    "$$\n",
    "$$\n",
    "a(\\omega) \\cos(\\omega t) + b(\\omega) \\sin(\\omega t), \\;\\;\\; \\omega \\in (0, \\pi)\\\\\n",
    "$$"
   ]
  },
  {
   "cell_type": "markdown",
   "id": "638f5d07",
   "metadata": {
    "slideshow": {
     "slide_type": "fragment"
    }
   },
   "source": [
    "* business cycle component contains only those components with period between 1.5 and 8 years\n",
    "    + with quarterly data: $\\frac{2 \\pi}{32} \\leq \\omega\\leq \\frac{2 \\pi}{6}$\n",
    "    + with monthly data: $\\frac{2 \\pi}{96} \\leq \\omega\\leq \\frac{2 \\pi}{18}$\n",
    "    "
   ]
  },
  {
   "cell_type": "markdown",
   "id": "cb1a34ea",
   "metadata": {
    "slideshow": {
     "slide_type": "fragment"
    }
   },
   "source": [
    "* band-pass filter: keep only a subset (band) of $\\omega$'s in $(0, \\pi)$"
   ]
  },
  {
   "cell_type": "markdown",
   "id": "f7865fcf",
   "metadata": {
    "slideshow": {
     "slide_type": "fragment"
    }
   },
   "source": [
    "* both Baxter-King and Christiano-Fitzgerald filters are computed as weighted moving averages of the series, the difference is in what the weights are\n",
    "    + symmetric (BK) vs asymmetric (CF) weights\n",
    "    + truncated on both ends (BK) vs using the full sample (CF)"
   ]
  },
  {
   "cell_type": "code",
   "execution_count": 34,
   "id": "b33e6e4d",
   "metadata": {
    "slideshow": {
     "slide_type": "subslide"
    }
   },
   "outputs": [],
   "source": [
    "bk_cycle = tsa.filters.bkfilter(df_raw[['gdpc1']])\n",
    "cf_cycle, _ = tsa.filters.cffilter(df_raw[['gdpc1']])"
   ]
  },
  {
   "cell_type": "code",
   "execution_count": 35,
   "id": "a187b629",
   "metadata": {
    "slideshow": {
     "slide_type": "skip"
    }
   },
   "outputs": [],
   "source": [
    "cf_cycle.name = 'CF cycle'\n",
    "bk_cycle.columns = ['BK cycle']\n",
    "hp_cycle.name = 'HP cycle'"
   ]
  },
  {
   "cell_type": "code",
   "execution_count": 37,
   "id": "c2fc0446",
   "metadata": {
    "slideshow": {
     "slide_type": "skip"
    }
   },
   "outputs": [
    {
     "data": {
      "text/plain": [
       "<AxesSubplot:>"
      ]
     },
     "execution_count": 37,
     "metadata": {},
     "output_type": "execute_result"
    },
    {
     "data": {
      "image/png": "[encoded data removed]",
      "text/plain": [
       "<Figure size 1008x720 with 1 Axes>"
      ]
     },
     "metadata": {
      "needs_background": "light"
     },
     "output_type": "display_data"
    }
   ],
   "source": [
    "fig = plt.figure(figsize=(14, 10))\n",
    "ax = fig.add_subplot(111)\n",
    "cf_cycle.plot(ax=ax, style=[\"r--\", ], legend=True)\n",
    "bk_cycle.plot(ax=ax, style=[\"b-\", ], legend=True)\n",
    "hp_cycle.plot(ax=ax, style=[\"g-.\", ], legend=True)"
   ]
  },
  {
   "cell_type": "markdown",
   "id": "8e3bf52b",
   "metadata": {
    "slideshow": {
     "slide_type": "subslide"
    }
   },
   "source": [
    "### Frequency domain log-likelihood"
   ]
  },
  {
   "cell_type": "markdown",
   "id": "a0f980f2",
   "metadata": {
    "slideshow": {
     "slide_type": "fragment"
    }
   },
   "source": [
    "__Whittle log-likelihood__\n",
    "\n",
    "$$\n",
    "\\begin{align}\n",
    "\\ell(\\boldsymbol \\theta | \\mathbf{z}) & = \\sum_{\\omega} \\ell_{\\omega}(\\boldsymbol \\theta | \\mathbf{z}), \\;\\;\\; \\omega \\in \\left(\\frac{2 \\pi j}{T}, j=1, 2, \\cdots, T\\right)\\\\\n",
    "\\\\\n",
    "\\ell_{\\omega}(\\boldsymbol \\theta | \\mathbf{z}) = -\\ln(2 \\pi) &- \\frac{1}{2} \\ln\\left(\\det(f_{\\mathbf{z}}(\\omega, \\boldsymbol \\theta)) \\right) - \\frac{1}{2} \\operatorname{tr}\\left(f_{\\mathbf{z}}(\\omega, \\boldsymbol \\theta)^{-1} I(\\omega, \\mathbf{z}) \\right)\n",
    "\\end{align}\n",
    "$$\n",
    "\n",
    "* $f_{\\mathbf{z}}(\\omega, \\boldsymbol \\theta)$ is the model-implied spectral density of $\\mathbf{z} $ at $\\omega$\n",
    "* $I(\\omega, \\mathbf{z})$ is the periodogram of $\\mathbf{z}$ at $\\omega$\n",
    "* it is like a Gaussian log-likelihood for independent observations\n",
    "* can be derived by approximating the covariance matrix of $\\mathbf{z}$ by a block circulant matrix, which can be diagonalized using DFT\n",
    "\n",
    "    $$\n",
    "    \\mathbf{z}^{\\prime} \\mathbf{\\Sigma}^{-1}(\\mathbf{\\theta}) \\mathbf{z} \\approx \\operatorname{tr}\\left( \\mathbf{z}^{\\prime} \\mathbf{C}^{-1}(\\mathbf{\\theta}) \\mathbf{z} \\right) = \\operatorname{tr}\\left( \\mathbf{z}^{\\prime} V^{\\prime}\\mathbf{F}^{-1}(\\mathbf{\\theta}) V \\mathbf{z} \\right) = \n",
    "    \\sum_{\\omega}\\operatorname{tr}\\left(f(\\omega, \\boldsymbol \\theta)^{-1} I(\\omega, \\mathbf{z}) \\right)\n",
    "    $$"
   ]
  },
  {
   "cell_type": "markdown",
   "id": "25bea9bd",
   "metadata": {
    "slideshow": {
     "slide_type": "subslide"
    }
   },
   "source": [
    "Block circulant matrix\n",
    "\n",
    "![Circ](Circulant.png)"
   ]
  },
  {
   "cell_type": "markdown",
   "id": "234de105",
   "metadata": {
    "slideshow": {
     "slide_type": "subslide"
    }
   },
   "source": [
    "The Whittle log-likelihood can be used as\n",
    "* an alternative to the Kalman filter\n",
    "* a way to estimate a model using only a subset of frequencies, e.g. BC frequencies\n",
    "    + [_QUANTIFYING CONFIDENCE_](https://economics.mit.edu/files/14924) (2018) by Angeletos, Collard, Dellas"
   ]
  }
 ],
 "metadata": {
  "celltoolbar": "Slideshow",
  "kernelspec": {
   "display_name": "Python 3 (ipykernel)",
   "language": "python",
   "name": "python3"
  },
  "language_info": {
   "codemirror_mode": {
    "name": "ipython",
    "version": 3
   },
   "file_extension": ".py",
   "mimetype": "text/x-python",
   "name": "python",
   "nbconvert_exporter": "python",
   "pygments_lexer": "ipython3",
   "version": "3.10.2"
  }
 },
 "nbformat": 4,
 "nbformat_minor": 5
}
