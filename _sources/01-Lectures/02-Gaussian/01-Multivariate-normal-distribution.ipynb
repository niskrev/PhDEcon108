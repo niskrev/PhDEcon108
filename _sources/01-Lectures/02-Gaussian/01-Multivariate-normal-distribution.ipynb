{
 "cells": [
  {
   "cell_type": "markdown",
   "id": "58096b68",
   "metadata": {
    "slideshow": {
     "slide_type": "slide"
    }
   },
   "source": [
    "# Multivariate Normal Distribution"
   ]
  },
  {
   "cell_type": "markdown",
   "id": "16fc7301",
   "metadata": {
    "slideshow": {
     "slide_type": "subslide"
    }
   },
   "source": [
    "## Time series model\n",
    "\n",
    "* a specification of the joint distribution of $\\{z_𝑡\\}$"
   ]
  },
  {
   "cell_type": "markdown",
   "id": "64c9358c",
   "metadata": {},
   "source": []
  },
  {
   "cell_type": "markdown",
   "id": "87c7da29",
   "metadata": {
    "slideshow": {
     "slide_type": "fragment"
    }
   },
   "source": [
    "## Gaussian time series model\n",
    "\n",
    "$$\n",
    "p(z_1, z_2, \\cdots, z_T) = \\mathcal{N}(\\boldsymbol \\mu, \\mathbf{\\Sigma}).\n",
    "$$\n",
    "\n",
    "* probability density:\n",
    "\n",
    "$$\n",
    "p\\left(\\boldsymbol z;\\mu,\\Sigma\\right)=\\left(2\\pi\\right)^{-\\left(\\frac{T}{2}\\right)}\\det\\left(\\Sigma\\right)^{-\\frac{1}{2}}\\exp\\left(-.5\\left(\\boldsymbol z-\\mu\\right)^{\\prime}\\Sigma^{-1}\\left(\\boldsymbol z-\\mu\\right)\\right)\n",
    "$$\n",
    "\n",
    "* where $ \\mu=\\operatorname{E} \\boldsymbol z $ is the mean of the random vector $ \\boldsymbol z$ \n",
    "* and\n",
    "$ \\Sigma=\\operatorname{E}\\left(\\boldsymbol z -\\mu\\right)\\left(\\boldsymbol z-\\mu\\right)^\\prime = \\operatorname{cov}(\\boldsymbol z) $ is the covariance matrix of $ \\boldsymbol z $"
   ]
  },
  {
   "cell_type": "markdown",
   "id": "634a6831",
   "metadata": {
    "slideshow": {
     "slide_type": "subslide"
    }
   },
   "source": [
    "### Building Gaussian time series models"
   ]
  },
  {
   "cell_type": "markdown",
   "id": "527d52d7",
   "metadata": {
    "slideshow": {
     "slide_type": "fragment"
    }
   },
   "source": [
    "* Gaussian innovations $\\{\\varepsilon_𝑡\\}$:\n",
    "\n",
    "$$\n",
    "p(\\varepsilon_1, \\varepsilon_2, \\cdots, \\varepsilon_T) = p(\\boldsymbol \\varepsilon)  = \\mathcal{N}(\\boldsymbol 0, \\sigma^2\\mathbf{I}).\n",
    "$$"
   ]
  },
  {
   "cell_type": "markdown",
   "id": "fc990fc3",
   "metadata": {
    "slideshow": {
     "slide_type": "fragment"
    }
   },
   "source": [
    "* affine transformation $\\boldsymbol \\varepsilon \\rightarrow \\boldsymbol z$\n",
    "\n",
    "$$\n",
    "\\boldsymbol z = \\boldsymbol \\mu + \\boldsymbol A \\boldsymbol \\varepsilon \\sim \\mathcal{N}(\\boldsymbol \\mu, \\mathbf{\\Sigma})\n",
    "$$\n",
    "\n",
    "where \n",
    "\n",
    "$$\\mathbf{\\Sigma} = \\sigma^2 \\boldsymbol A \\boldsymbol A'$$"
   ]
  },
  {
   "cell_type": "markdown",
   "id": "c7e1a087",
   "metadata": {
    "slideshow": {
     "slide_type": "subslide"
    }
   },
   "source": [
    "### General result\n",
    "\n",
    "$$\n",
    "\\boldsymbol z \\sim \\mathcal{N}(\\boldsymbol \\mu, \\mathbf{\\Sigma})\n",
    "$$\n",
    "\n",
    "* affine transformation $\\boldsymbol z \\rightarrow \\boldsymbol y$\n",
    "\n",
    "$$\n",
    "\\boldsymbol y = \\boldsymbol d + \\boldsymbol B \\boldsymbol z \\sim \\mathcal{N}(\\boldsymbol d + \\boldsymbol B \\boldsymbol \\mu , \\boldsymbol B \\mathbf{\\Sigma} \\boldsymbol B')\n",
    "$$"
   ]
  },
  {
   "cell_type": "markdown",
   "id": "33cabb0b",
   "metadata": {
    "slideshow": {
     "slide_type": "slide"
    }
   },
   "source": [
    "## The joint, marginal and conditional distributions"
   ]
  },
  {
   "cell_type": "markdown",
   "id": "e745959d",
   "metadata": {
    "slideshow": {
     "slide_type": "subslide"
    }
   },
   "source": [
    "### Joint\n",
    "\n",
    "$$\n",
    "p(\\underbrace{z_1, z_2, \\cdots, z_k}_{\\mathbf{z}_1}, \\underbrace{z_{k+1}, z_{k+2}, \\cdots, z_T}_{\\mathbf{z}_2}) = p(\\mathbf{z}_1, \\mathbf{z}_2) \\sim \\mathcal{N}(\\boldsymbol \\mu, \\mathbf{\\Sigma}).\n",
    "$$\n",
    "\n",
    "with:\n",
    "\n",
    "$$\n",
    "\\boldsymbol \\mu = \n",
    "    \\begin{bmatrix}\n",
    "        \\boldsymbol \\mu_1 \\\\\n",
    "      \\boldsymbol \\mu_2\n",
    "    \\end{bmatrix}\n",
    "  \\; \\; \\text{and} \\; \\;\n",
    "    \\mathbf{\\Sigma} = \n",
    "    \\begin{bmatrix}\n",
    "         \\mathbf{\\Sigma}_{1 1} & \\mathbf{\\Sigma}_{1 2} \\\\\n",
    "         \\mathbf{\\Sigma}_{2 1} & \\mathbf{\\Sigma}_{2 2}\n",
    "    \\end{bmatrix}, \\text{ where} \\; \\; \\mathbf{\\Sigma}_{2 1} = \\mathbf{\\Sigma}_{1 2}^{'}\n",
    "$$"
   ]
  },
  {
   "cell_type": "markdown",
   "id": "06c9c2c5",
   "metadata": {
    "slideshow": {
     "slide_type": "subslide"
    }
   },
   "source": [
    "### Marginal\n",
    "\n",
    "$$\n",
    "p(\\mathbf{z}_1)  = \\int_{\\mathbf{z}_2} p(\\mathbf{z}_1, \\mathbf{z}_2) \\text{d} \\mathbf{z}_2 =\n",
    "       \\mathcal{N}(\\boldsymbol \\mu_1, \\mathbf{\\Sigma}_{1 1}) \\\\\n",
    "p(\\mathbf{z}_2)  = \\int_{\\mathbf{z}_1} p(\\mathbf{z}_1, \\mathbf{z}_2) \\text{d} \\mathbf{z}_1 =\n",
    "       \\mathcal{N}(\\boldsymbol \\mu_2, \\mathbf{\\Sigma}_{2 2})\n",
    "$$"
   ]
  },
  {
   "cell_type": "markdown",
   "id": "bc09bec9",
   "metadata": {
    "slideshow": {
     "slide_type": "subslide"
    }
   },
   "source": [
    "### Conditional \n",
    "\n",
    "\n",
    "$$\n",
    "p(\\mathbf{z}_1 | \\mathbf{z}_2) = \\mathcal{N}(\\underbrace{\\boldsymbol \\mu_1 + \\mathbf{\\Sigma}_{1 2} \\mathbf{\\Sigma}^{-1}_{2 2} (\\mathbf{z}_2 - \\boldsymbol \\mu_2)}_{\\operatorname{E}(\\mathbf{z}_1 | \\mathbf{z}_2)}, \\underbrace{\\mathbf{\\Sigma}_{1 1} - \\mathbf{\\Sigma}_{1 2}\\mathbf{\\Sigma}_{2 2}^{-1}\\mathbf{\\Sigma}_{2 1}}_{\\operatorname{cov}(\\mathbf{z}_1 | \\mathbf{z}_2)}) %\\\\\n",
    "%p(\\mathbf{z}_2 | \\mathbf{z}_1) = \\mathcal{N}(\\boldsymbol \\mu_2 + \\mathbf{\\Sigma}_{2 1} \\mathbf{\\Sigma}^{-1}_{1 1} (\\mathbf{z}_1 - \\boldsymbol \\mu_1), \\mathbf{\\Sigma}_{2 2} - \\mathbf{\\Sigma}_{2 1}\\mathbf{\\Sigma}_{1 1}^{-1}\\mathbf{\\Sigma}_{1 2}) \n",
    "$$\n"
   ]
  },
  {
   "cell_type": "markdown",
   "id": "3d603c04",
   "metadata": {},
   "source": [
    "Let\n",
    "$$\n",
    "     \\mathbf{Q} = \\mathbf{\\Sigma}^{-1} = \n",
    "    \\begin{bmatrix}\n",
    "         \\mathbf{Q}_{1 1} & \\mathbf{Q}_{1 2} \\\\\n",
    "         \\mathbf{Q}_{2 1} & \\mathbf{Q}_{2 2}\n",
    "    \\end{bmatrix}\n",
    "$$\n",
    "\n",
    "Then\n",
    "\n",
    "$$\n",
    "\\begin{align}\n",
    "\\operatorname{E}(\\mathbf{z}_1 | \\mathbf{z}_2) &= \\boldsymbol \\mu_1 + \\mathbf{Q}^{-1}_{1 1} \\mathbf{Q}_{1 2}  (\\mathbf{z}_2 - \\boldsymbol \\mu_2) \\\\\n",
    "\\operatorname{cov}(\\mathbf{z}_1 | \\mathbf{z}_2) &= \\mathbf{Q}_{1 1}^{-1}\n",
    "\\end{align}\n",
    "$$\n",
    "\n",
    "<br>\n",
    "\n",
    "$\\mathbf{Q}$ is called the precision matrix."
   ]
  },
  {
   "cell_type": "markdown",
   "id": "f8a2c201",
   "metadata": {
    "slideshow": {
     "slide_type": "subslide"
    }
   },
   "source": [
    "### Independence\n",
    "\n",
    "$$ \n",
    "\\text{if} \\;\\; \\mathbf{\\Sigma}_{1 2}= \\boldsymbol 0\\\\\n",
    "p(\\mathbf{z}_1 | \\mathbf{z}_2) = \\mathcal{N}(\\boldsymbol \\mu_1 , \\mathbf{\\Sigma}_{1 1}) = p(\\mathbf{z}_1)\n",
    "$$"
   ]
  },
  {
   "cell_type": "markdown",
   "id": "260a2f0d",
   "metadata": {},
   "source": [
    "If $\\mathbf{z}_1 \\sim  \\mathcal{N}(\\boldsymbol \\mu_1 , \\mathbf{\\Sigma}_{1 1})$ and $\\mathbf{z}_2 \\sim \\mathcal{N}(\\boldsymbol \\mu_2 , \\mathbf{\\Sigma}_{2 2})$ are independent then\n",
    "\n",
    "$$ \\mathbf{z}_1 + \\mathbf{z}_2 \\sim \\mathcal{N}(\\boldsymbol \\mu_1 + \\mu_2, \\mathbf{\\Sigma}_{1 1} + \\mathbf{\\Sigma}_{2 2}) $$\n",
    "\n",
    "and \n",
    "\n",
    "$$\n",
    "p(\\mathbf{z}_1, A \\mathbf{z}_1 + B\\mathbf{z}_2) \\sim \\mathcal{N}(\\boldsymbol \\mu, \\mathbf{\\Sigma}).\n",
    "$$\n",
    "with:\n",
    "$$\n",
    "\\boldsymbol \\mu = \n",
    "    \\begin{bmatrix}\n",
    "        \\boldsymbol \\mu_1 \\\\\n",
    "      A \\boldsymbol \\mu_1 + B\\boldsymbol \\mu_2\n",
    "    \\end{bmatrix}\n",
    "  \\; \\; \\text{and} \\; \\;\n",
    "    \\mathbf{\\Sigma} = \n",
    "    \\begin{bmatrix}\n",
    "         \\mathbf{\\Sigma}_{1 1} & \\mathbf{\\Sigma}_{1 1} A' \\\\\n",
    "        A\\mathbf{\\Sigma}_{1 1} & A\\mathbf{\\Sigma}_{1 1}A' + B\\mathbf{\\Sigma}_{2 2}B'\n",
    "    \\end{bmatrix}\n",
    "$$"
   ]
  },
  {
   "cell_type": "markdown",
   "id": "eabb1d20",
   "metadata": {
    "slideshow": {
     "slide_type": "subslide"
    }
   },
   "source": [
    "### Information\n",
    "\n",
    "$$\\operatorname{cov}(\\mathbf{z}_1 | \\mathbf{z}_2) = \\mathbf{\\Sigma}_{1 1} - \\mathbf{\\Sigma}_{1 2}\\mathbf{\\Sigma}_{2 2}^{-1}\\mathbf{\\Sigma}_{2 1} \\geq \\boldsymbol 0$$\n",
    "\n",
    "* stronger correlation => more information from $\\mathbf{z}_1$ about $\\mathbf{z}_2$ (and from $\\mathbf{z}_2$ about $\\mathbf{z}_1$)\n"
   ]
  },
  {
   "cell_type": "markdown",
   "id": "ef606978",
   "metadata": {},
   "source": [
    "### Bivariate Normal\n",
    "\n",
    "$$\n",
    "p(z_1, z_2) \\sim \\mathcal{N}(\\boldsymbol \\mu, \\mathbf{\\Sigma}).\n",
    "$$\n",
    "where:\n",
    "$$\n",
    "\\boldsymbol \\mu = \n",
    "    \\begin{bmatrix}\n",
    "        \\mu_1 \\\\\n",
    "        \\mu_2\n",
    "    \\end{bmatrix}\n",
    "  \\; \\; \\text{and} \\; \\;\n",
    "    \\mathbf{\\Sigma} = \n",
    "    \\begin{bmatrix}\n",
    "         \\sigma^2_{1} & \\rho \\sigma_{1}\\sigma_2  \\\\\n",
    "         \\rho \\sigma_{1}\\sigma_2 & \\sigma^2_{2}\n",
    "    \\end{bmatrix}\n",
    "$$\n",
    "\n",
    "$$\n",
    "\\begin{align}\n",
    "p(z_1 | z_2) &= \\mathcal{N}\\left(\\mu_1 + \\frac{\\rho \\sigma_{1}\\sigma_2}{\\sigma^2_{2}} (z_2 - \\mu_2), \\sigma^2_{1} - \\frac{(\\rho \\sigma_{1}\\sigma_2)^2}{\\sigma^2_{2}}\\right) \\\\\n",
    "&= \\mathcal{N}\\left(\\mu_1 + \\frac{\\rho \\sigma_{1}}{\\sigma_{2}} (z_2 - \\mu_2), (1 - \\rho^2)\\sigma_1^2\\right)\n",
    "\\end{align}\n",
    "$$"
   ]
  },
  {
   "cell_type": "markdown",
   "id": "d360d3ac",
   "metadata": {},
   "source": [
    "__Example:__  $\\sigma_1 = \\sigma_2=1$, $\\mu_1=\\mu_2 = 0$ <br><br>\n",
    "    \n",
    "__case 1__      $\\rho=.9$\n",
    "    \n",
    "$$p(z_1) = \\mathcal{N}(0, 1)$$"
   ]
  },
  {
   "cell_type": "code",
   "execution_count": 15,
   "id": "5aa403bb",
   "metadata": {
    "tags": [
     "hide-input",
     "hide-output"
    ]
   },
   "outputs": [
    {
     "data": {
      "text/plain": [
       "(0.9, 0.18999999999999995)"
      ]
     },
     "execution_count": 15,
     "metadata": {},
     "output_type": "execute_result"
    }
   ],
   "source": [
    "rho=.9\n",
    "sigma1 = 1\n",
    "sigma2 = 1\n",
    "mu1=0\n",
    "\n",
    "mu2=0\n",
    "\n",
    "y2 = 1\n",
    "\n",
    "(\n",
    "mu1 + (y2 - mu2)*(rho*sigma1*sigma2)/(sigma2**2), \n",
    "1 - (rho*sigma1*sigma2)**2/(sigma2**2)\n",
    ")"
   ]
  },
  {
   "cell_type": "markdown",
   "id": "837f2aa2",
   "metadata": {},
   "source": [
    "If $z_2=1$ \n",
    "\n",
    "$$p(z_1|z_2=1) = \\mathcal{N}(0.9, 0.19)$$\n",
    "\n",
    "Information about $z_1$ from observing $z_2$\n",
    "\n",
    "$$\\operatorname{var}(z_1) - \\operatorname{var}(z_1 | z_2) = 1 - 0.19 = 0.81  $$ \n",
    "\n",
    "Reduction of the uncertainty about $z_1$ by 81%"
   ]
  },
  {
   "cell_type": "markdown",
   "id": "df9cda8c",
   "metadata": {},
   "source": [
    "__case 2__      $\\rho=.1$, $\\sigma_1 = \\sigma_2=1$, $\\mu_1=\\mu_2 = 0$ <br><br>\n",
    "    \n",
    "$$p(z_1) = \\mathcal{N}(0, 1)$$"
   ]
  },
  {
   "cell_type": "code",
   "execution_count": 16,
   "id": "9e90f6c0",
   "metadata": {
    "tags": [
     "hide-input",
     "hide-output"
    ]
   },
   "outputs": [
    {
     "data": {
      "text/plain": [
       "(0.1, 0.99)"
      ]
     },
     "execution_count": 16,
     "metadata": {},
     "output_type": "execute_result"
    }
   ],
   "source": [
    "rho=.1\n",
    "sigma1 = 1\n",
    "sigma2 = 1\n",
    "mu1=0\n",
    "mu2=0\n",
    "\n",
    "y2 = 1\n",
    "\n",
    "(\n",
    "mu1 + (y2 - mu2)*(rho*sigma1*sigma2)/(sigma2**2), \n",
    "1-(rho*sigma1*sigma2)**2/(sigma2**2)\n",
    ")"
   ]
  },
  {
   "cell_type": "markdown",
   "id": "42d5527e",
   "metadata": {},
   "source": [
    "If $z_2=1$ \n",
    "\n",
    "$$p(z_1|z_2=1) = \\mathcal{N}(0.1, 0.99)$$\n",
    "\n",
    "Reduction of the uncertainty about $z_1$ by 1%"
   ]
  },
  {
   "cell_type": "markdown",
   "id": "f983f01d",
   "metadata": {},
   "source": [
    "Let $\\mathbf{z}$ be jointly Gaussian, and partitioned as ($z_1$ is a scalar) $$\\mathbf{z} = [z_1, \\mathbf{z}_2] $$ \n",
    "\n",
    "$$\n",
    "\\boldsymbol \\mu = \n",
    "    \\begin{bmatrix}\n",
    "         \\mu_1 \\\\\n",
    "      \\boldsymbol \\mu_2\n",
    "    \\end{bmatrix}\n",
    "  \\; \\; \\text{and} \\; \\;\n",
    "    \\mathbf{\\Sigma} = \n",
    "    \\begin{bmatrix}\n",
    "         \\Sigma_{1 1} & \\mathbf{\\Sigma}_{1 2} \\\\\n",
    "         \\mathbf{\\Sigma}_{2 1} & \\mathbf{\\Sigma}_{2 2}\n",
    "    \\end{bmatrix}\n",
    "$$\n",
    "\n",
    "\n",
    "Then \n",
    "$$\n",
    "p(z_1 | \\mathbf{z}_2) = \\mathcal{N}(\\underbrace{\\mu_1 - \\mathbf{\\Sigma}_{1 2} \\mathbf{\\Sigma}^{-1}_{2 2} \\boldsymbol \\mu_2}_{\\beta_0} + \\underbrace{\\mathbf{\\Sigma}_{1 2} \\mathbf{\\Sigma}^{-1}_{2 2}}_{\\mathbf{\\beta}'_1} \\mathbf{z}_2, \\underbrace{\\Sigma_{1 1} - \\mathbf{\\Sigma}_{1 2}\\mathbf{\\Sigma}_{2 2}^{-1}\\mathbf{\\Sigma}_{2 1}}_{\\sigma^2}) %\\\\\n",
    "$$\n",
    "\n",
    "therefore,\n",
    "$$\n",
    "z_1 = \\beta_0 + \\mathbf{\\beta}'_1 \\mathbf{z}_2 + \\varepsilon  \\;\\;\\; \\text{where } \\varepsilon \\sim \\mathcal{N}(0, \\sigma^2)\n",
    "$$"
   ]
  },
  {
   "cell_type": "markdown",
   "id": "05e4ff66",
   "metadata": {},
   "source": [
    "### Conditional (in)dependence\n",
    "\n",
    "Two random variables $z_1$ and $z_2$ are __conditionally__ independent given $\\mathbf{z}_3$ if\n",
    "\n",
    "$$p(z_1, z_2 | \\mathbf{z}_3) = p(z_1 | \\mathbf{z}_3) p(z_2 | \\mathbf{z}_3) \\tag{1}$$\n",
    "\n",
    "If $z_1$, $z_2$ and $\\mathbf{z}_3$ are jointly Gaussian, then [(1)](#equation-time-series) is true __iff__\n",
    "\n",
    "$$\\{\\mathbf{\\Sigma}^{-1}\\}_{1,2} = \\mathbf{Q}_{1,2} = 0$$\n",
    "\n",
    "More generally, $z_i$ and $z_j$ are conditionally independent given the remaining elements of $\\mathbf{z}$ (denote them with $\\mathbf{z}_{-ij}$) iff\n",
    "\n",
    "$$Q_{i,j} = 0$$\n",
    "\n",
    "And the conditional correlation between $z_i$ and $z_j$ is\n",
    "\n",
    "$$\\operatorname{corr}(z_i, z_j | \\mathbf{z}_{-ij}) = -\\frac{Q_{i,j}}{\\sqrt{Q_{i,i} Q_{jj}}}$$\n",
    "\n",
    "also known as _partial correlation_ between $z_i$ and $z_j$\n"
   ]
  },
  {
   "cell_type": "markdown",
   "id": "84231143",
   "metadata": {},
   "source": [
    "__Example 1__\n",
    "\n",
    "$$\n",
    "    \\mathbf{Q} = \n",
    "    \\begin{bmatrix}\n",
    "         1  &  -0.4  &  0  \\\\\n",
    "        -0.4 &  1.16  &  -0.4 \\\\\n",
    "         0  &  -0.4  & 1\n",
    "    \\end{bmatrix}\n",
    "$$\n",
    "\n",
    "then \n",
    "\n",
    "$$\n",
    "    \\mathbf{\\Sigma} = \n",
    "    \\begin{bmatrix}\n",
    "         1.19047619 & 0.47619048 & 0.19047619  \\\\\n",
    "         0.47619048 & 1.19047619 & 0.47619048 \\\\\n",
    "         0.19047619 & 0.47619048 & 1.19047619\n",
    "    \\end{bmatrix}\n",
    "$$\n",
    "\n",
    "therefore, $z_1$ and $z_3$ are unconditionally dependent, but conditionally (given $z_2$) independent"
   ]
  },
  {
   "cell_type": "markdown",
   "id": "179ee285",
   "metadata": {},
   "source": [
    "__Example 2__\n",
    "\n",
    "$$\n",
    "    \\mathbf{\\Sigma} = \n",
    "    \\begin{bmatrix}\n",
    "         1.09 & 0.3  & 0.    \\\\\n",
    "         0.3  & 1.09 & 0.3  \\\\\n",
    "         0    & 0.3  & 1.09\n",
    "    \\end{bmatrix}\n",
    "$$\n",
    "\n",
    "then \n",
    "\n",
    "$$\n",
    "    \\mathbf{Q} = \n",
    "    \\begin{bmatrix}\n",
    "          1.  & -0.3 &  0.08  \\\\\n",
    "        -0.3  & 1.08 & -0.3 \\\\\n",
    "        0.08  &  -0.3  & 1\n",
    "    \\end{bmatrix}\n",
    "$$\n",
    "\n",
    "therefore, $z_1$ and $z_3$ are unconditionally independent, but conditionally (given $z_2$) dependent"
   ]
  },
  {
   "cell_type": "code",
   "execution_count": 18,
   "id": "69da8e38",
   "metadata": {
    "tags": [
     "hide-input",
     "hide-output"
    ]
   },
   "outputs": [
    {
     "name": "stdout",
     "output_type": "stream",
     "text": [
      "[[ 1.   -0.4   0.  ]\n",
      " [-0.4   1.16 -0.4 ]\n",
      " [ 0.   -0.4   1.  ]]\n",
      "[[ 0.9993 -0.2976  0.0819]\n",
      " [-0.2976  1.0812 -0.2976]\n",
      " [ 0.0819 -0.2976  0.9993]]\n"
     ]
    }
   ],
   "source": [
    "from statsmodels.tsa.arima_process import arma_acovf\n",
    "from scipy.linalg import toeplitz\n",
    "import numpy as np\n",
    "\n",
    "acov1 = arma_acovf(ar=[1, -.4], ma=[1], nobs=10, sigma2=1)\n",
    "Sigma1 = toeplitz(acov1)\n",
    "acov2 = arma_acovf(ar=[1,], ma=[1, .3], nobs=10, sigma2=1)\n",
    "Sigma2 = toeplitz(acov2)\n",
    "\n",
    "\n",
    "print(np.linalg.inv(Sigma1[:3][:,:3]).round(4))\n",
    "print(np.linalg.inv(Sigma2[:3][:,:3]).round(4))"
   ]
  },
  {
   "cell_type": "markdown",
   "id": "4e9b3d7b",
   "metadata": {
    "slideshow": {
     "slide_type": "slide"
    }
   },
   "source": [
    "## Missing values"
   ]
  },
  {
   "cell_type": "markdown",
   "id": "8fbcdaf9",
   "metadata": {
    "slideshow": {
     "slide_type": "fragment"
    }
   },
   "source": [
    "* Suppose we have a Gaussian model for $\\mathbf{z}$\n",
    "\n",
    "$$\n",
    "\\mathbf{z} \\sim \\mathcal{N}(\\boldsymbol \\mu , \\mathbf{\\Sigma} )\n",
    "$$"
   ]
  },
  {
   "cell_type": "markdown",
   "id": "b5a25212",
   "metadata": {
    "slideshow": {
     "slide_type": "fragment"
    }
   },
   "source": [
    "* but some elements of $\\mathbf{z}$ are not observed, i.e. we observe a vector $\\mathbf{z}_{1}$"
   ]
  },
  {
   "cell_type": "markdown",
   "id": "8f2246eb",
   "metadata": {
    "slideshow": {
     "slide_type": "subslide"
    }
   },
   "source": [
    "* for example\n",
    "\n",
    "$$\n",
    "\\mathbf{z}=\\left[\\begin{array}{c}\n",
    "z_{1}\\\\\n",
    "z_{2}\\\\\n",
    "\\vdots\\\\\n",
    "z_{k-1}\\\\\n",
    "z_{k}\\\\\n",
    "z_{k+1}\\\\\n",
    "\\vdots\\\\\n",
    "z_{T-2}\\\\\n",
    "z_{T-1}\\\\\n",
    "z_{T}\n",
    "\\end{array}\\right], \\quad\n",
    "\\mathbf{z}_{1}=\\left[\\begin{array}{c}\n",
    "*\\\\\n",
    "z_{2}\\\\\n",
    "\\vdots\\\\\n",
    "z_{k-1}\\\\\n",
    "*\\\\\n",
    "z_{k+1}\\\\\n",
    "\\vdots\\\\\n",
    "z_{T-2}\\\\\n",
    "*\\\\\n",
    "*\\\\\n",
    "\\end{array}\\right]\n",
    "$$"
   ]
  },
  {
   "cell_type": "markdown",
   "id": "3b405be8",
   "metadata": {},
   "source": [
    "### Some examples"
   ]
  },
  {
   "cell_type": "markdown",
   "id": "19d98a05",
   "metadata": {
    "slideshow": {
     "slide_type": "subslide"
    }
   },
   "source": [
    "* mixed frequency\n",
    "    + (univariate) GDP at annual, GDP at quarterly\n",
    "    + (multivariate) GDP at annual, inflation at monthly\n",
    "    + etc.\n",
    "    "
   ]
  },
  {
   "cell_type": "markdown",
   "id": "3f5552ad",
   "metadata": {
    "slideshow": {
     "slide_type": "fragment"
    }
   },
   "source": [
    "* forecasting"
   ]
  },
  {
   "cell_type": "markdown",
   "id": "ae29c435",
   "metadata": {
    "slideshow": {
     "slide_type": "fragment"
    }
   },
   "source": [
    "* backcasting"
   ]
  },
  {
   "cell_type": "markdown",
   "id": "bab975bd",
   "metadata": {
    "slideshow": {
     "slide_type": "fragment"
    }
   },
   "source": [
    "* unobserved (latent) variables\n",
    "    + state of the economy\n",
    "    + natural rates (interest, unemployment)\n",
    "    + economic shocks"
   ]
  },
  {
   "cell_type": "markdown",
   "id": "49356b30",
   "metadata": {
    "slideshow": {
     "slide_type": "subslide"
    }
   },
   "source": [
    "### observed elements $\\mathbf{z}_{1}$, unobserved elements $\\mathbf{z}_{2}$"
   ]
  },
  {
   "cell_type": "markdown",
   "id": "f171385e",
   "metadata": {
    "slideshow": {
     "slide_type": "fragment"
    }
   },
   "source": [
    "* $\\mathbf{z}_{1}, ~\\mathbf{z}_{2}$ - jointly Gaussian\n",
    "\n",
    "* marginal distribution of $\\mathbf{z}_{1}$\n",
    "\n",
    "$$\n",
    "p(\\mathbf{z}_{1})  \\sim \\mathcal{N}( \\boldsymbol \\mu_{1} , \\mathbf{\\Sigma}_{1})\n",
    "$$"
   ]
  },
  {
   "cell_type": "markdown",
   "id": "938b7627",
   "metadata": {
    "slideshow": {
     "slide_type": "subslide"
    }
   },
   "source": [
    "__example__: \n",
    "\n",
    "$$\n",
    "\\mathbf{z} =\\left[\\begin{array}{c}\n",
    "z_{1}\\\\\n",
    "z_{2}\\\\\n",
    "z_{3}\\\\\n",
    "\\end{array}\\right]\n",
    ", \\quad\n",
    "\\mathbf{z}_{1} =\\left[\\begin{array}{c}\n",
    "z_{1}\\\\\n",
    "z_{3}\\\\\n",
    "\\end{array}\\right], \\quad\n",
    "\\mathbf{z}_{2 }= \\left[\\begin{array}{c}\n",
    "z_{2}\n",
    "\\end{array}\\right]   \n",
    "$$"
   ]
  },
  {
   "cell_type": "markdown",
   "id": "1d56ca01",
   "metadata": {
    "slideshow": {
     "slide_type": "fragment"
    }
   },
   "source": [
    "$$\n",
    "\\mathbf{z}_{1} = \n",
    " \\begin{bmatrix}\n",
    "         1 & 0 & 0\\\\\n",
    "         0 & 0 & 1\n",
    "    \\end{bmatrix} \n",
    "\\left[\\begin{array}{c}\n",
    "z_{1}\\\\\n",
    "z_{2}\\\\\n",
    "z_{3}\\\\\n",
    "\\end{array}\\right] = \\boldsymbol B_1 \\mathbf{z}\n",
    "$$"
   ]
  },
  {
   "cell_type": "markdown",
   "id": "5aac827d",
   "metadata": {
    "slideshow": {
     "slide_type": "fragment"
    }
   },
   "source": [
    "$$\n",
    "\\mathbf{z}_{2} = \n",
    " \\begin{bmatrix}\n",
    "         0 & 1 & 0\n",
    "    \\end{bmatrix} \n",
    "\\left[\\begin{array}{c}\n",
    "z_{1}\\\\\n",
    "z_{2}\\\\\n",
    "z_{3}\\\\\n",
    "\\end{array}\\right] = \\boldsymbol B_2 \\mathbf{z}   \n",
    "$$"
   ]
  },
  {
   "cell_type": "markdown",
   "id": "8e265777",
   "metadata": {
    "slideshow": {
     "slide_type": "subslide"
    }
   },
   "source": [
    "* conditional distribution of $\\mathbf{z}_{2}$ given $\\mathbf{z}_{1}$\n",
    "\n",
    "$$\n",
    "p(\\mathbf{z}_2 | \\mathbf{z}_1) = \\mathcal{N}(\\underbrace{\\boldsymbol \\mu_2 + \\mathbf{\\Sigma}_{2 1} \\mathbf{\\Sigma}^{-1}_{1 1} (\\mathbf{z}_1 - \\boldsymbol \\mu_1)}_{\\operatorname{E}(\\mathbf{z}_2 | \\mathbf{z}_1)}, \\underbrace{\\mathbf{\\Sigma}_{2 2} - \\mathbf{\\Sigma}_{2 1}\\mathbf{\\Sigma}_{1 1}^{-1}\\mathbf{\\Sigma}_{1 2}}_{\\operatorname{cov}(\\mathbf{z}_2 | \\mathbf{z}_1)}) \n",
    "$$"
   ]
  },
  {
   "cell_type": "markdown",
   "id": "f6a07236",
   "metadata": {
    "slideshow": {
     "slide_type": "fragment"
    }
   },
   "source": [
    "if $\\mathbf{z}_1$ is the past and $\\mathbf{z}_2$ is the future, \n",
    "\n",
    "* $\\operatorname{E}(\\mathbf{z}_2 | \\mathbf{z}_1)$ - optimal forecast of $\\mathbf{z}_{2}$ given $\\mathbf{z}_{1}$\n",
    "* $\\operatorname{cov}(\\mathbf{z}_2 | \\mathbf{z}_1)$ - variance of the optimal forecast\n",
    "\n",
    "where optimality is in the sense of minimizing the MSE\n",
    "\n",
    "in general, $\\operatorname{E}(\\mathbf{z}_2 | \\mathbf{z}_1)$ is our best guess of $\\mathbf{z}_{2}$ given $\\mathbf{z}_{1}$, and $\\operatorname{cov}(\\mathbf{z}_2 | \\mathbf{z}_1)$ is the associated uncertainty"
   ]
  }
 ],
 "metadata": {
  "celltoolbar": "Slideshow",
  "date": 1641810481.278955,
  "filename": "multivariate_normal.md",
  "kernelspec": {
   "display_name": "Python 3 (ipykernel)",
   "language": "python",
   "name": "python3"
  },
  "language_info": {
   "codemirror_mode": {
    "name": "ipython",
    "version": 3
   },
   "file_extension": ".py",
   "mimetype": "text/x-python",
   "name": "python",
   "nbconvert_exporter": "python",
   "pygments_lexer": "ipython3",
   "version": "3.10.2"
  },
  "title": "Multivariate Normal Distribution"
 },
 "nbformat": 4,
 "nbformat_minor": 5
}
