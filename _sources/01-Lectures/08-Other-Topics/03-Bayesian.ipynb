{
 "cells": [
  {
   "cell_type": "markdown",
   "id": "9004d31f",
   "metadata": {
    "slideshow": {
     "slide_type": "subslide"
    }
   },
   "source": [
    "## Bayesian approach"
   ]
  },
  {
   "cell_type": "markdown",
   "id": "ffd67daf",
   "metadata": {
    "slideshow": {
     "slide_type": "fragment"
    }
   },
   "source": [
    "* Suppose $\\mathbf{z} = [\\mathbf{x}^{\\prime}, \\; \\mathbf{y}^{\\prime}]^{\\prime}$ is a random vector with joint density $p(\\mathbf{z})$"
   ]
  },
  {
   "cell_type": "markdown",
   "id": "2232d709",
   "metadata": {
    "slideshow": {
     "slide_type": "fragment"
    }
   },
   "source": [
    "* Suppose we observe a sample realization of $\\mathbf{x}$. How does that change our knowledge of $\\mathbf{y}$?"
   ]
  },
  {
   "cell_type": "markdown",
   "id": "4d066a67",
   "metadata": {
    "slideshow": {
     "slide_type": "subslide"
    }
   },
   "source": [
    "* before observing the sample $\\mathbf{x}$, our knowledge of $\\mathbf{y}$ is given by\n",
    "\n",
    "$$\n",
    "p(\\mathbf{y})  = \\int_{\\mathbf{x}} p(\\mathbf{z}) \\text{d} \\mathbf{x}\n",
    "$$"
   ]
  },
  {
   "cell_type": "markdown",
   "id": "a0c129f7",
   "metadata": {
    "slideshow": {
     "slide_type": "fragment"
    }
   },
   "source": [
    "* after observing $\\mathbf{x}$, our knowledge of $\\mathbf{y}$ is given by\n",
    "\n",
    "$$\n",
    "p(\\mathbf{y} | \\mathbf{x})  = \\frac{p(\\mathbf{z})}{p(\\mathbf{x})} = \\frac{p(\\mathbf{x} | \\mathbf{y}) p(\\mathbf{y}) }{p(\\mathbf{x})}\n",
    "$$"
   ]
  },
  {
   "cell_type": "markdown",
   "id": "0266e29e",
   "metadata": {
    "slideshow": {
     "slide_type": "subslide"
    }
   },
   "source": [
    "* for exmple, if $\\mathbf{z}$ is Gaussian:\n",
    "\n",
    "$$\n",
    "p(\\mathbf{y} | \\mathbf{x}) = \\mathcal{N}(\\boldsymbol \\mu_y + \\mathbf{\\Sigma}_{y x} \\mathbf{\\Sigma}^{-1}_{x} (\\mathbf{x} - \\boldsymbol \\mu_x), \\mathbf{\\Sigma}_{y} - \\mathbf{\\Sigma}_{y x}\\mathbf{\\Sigma}_{x}^{-1}\\mathbf{\\Sigma}_{x y}) %\\\\\n",
    "$$"
   ]
  },
  {
   "cell_type": "markdown",
   "id": "a0ff9bf6",
   "metadata": {
    "slideshow": {
     "slide_type": "subslide"
    }
   },
   "source": [
    "$$\n",
    "p(\\mathbf{y} | \\mathbf{x})  = \\frac{p(\\mathbf{z})}{p(\\mathbf{x})} = \\frac{p(\\mathbf{x} | \\mathbf{y}) p(\\mathbf{y}) }{p(\\mathbf{x})}\n",
    "$$\n",
    "\n",
    "* in Bayesian parlance\n",
    "\n",
    "    + $p(\\mathbf{y})$ is __prior__ distribution\n",
    "    + $p(\\mathbf{y} | \\mathbf{x})$ is __posterior__ distribution\n",
    "    + $p(\\mathbf{x} | \\mathbf{y})$ is __likelihood__"
   ]
  },
  {
   "cell_type": "markdown",
   "id": "1249ab5b",
   "metadata": {
    "slideshow": {
     "slide_type": "fragment"
    }
   },
   "source": [
    "* typically, we would think of $\\mathbf{y}$ as parameters, and use instead $\\mathbf{\\theta}$"
   ]
  },
  {
   "cell_type": "markdown",
   "id": "6883f2c2",
   "metadata": {
    "slideshow": {
     "slide_type": "fragment"
    }
   },
   "source": [
    "* also, the prior and the likelihood are specified separately"
   ]
  },
  {
   "cell_type": "markdown",
   "id": "b6172ea4",
   "metadata": {
    "slideshow": {
     "slide_type": "fragment"
    }
   },
   "source": [
    "* as a result, the posterior is not availalbe in closed form"
   ]
  },
  {
   "cell_type": "markdown",
   "id": "bf953aa0",
   "metadata": {
    "slideshow": {
     "slide_type": "fragment"
    }
   },
   "source": [
    "* simulation method are used instead, to sample from it"
   ]
  },
  {
   "cell_type": "markdown",
   "id": "cd8637c8",
   "metadata": {
    "slideshow": {
     "slide_type": "subslide"
    }
   },
   "source": [
    "since $p(\\mathbf{x})$ is independent from $\\theta$\n",
    "\n",
    "$$\n",
    "p(\\mathbf{\\theta} | \\mathbf{x})  = \\frac{p(\\mathbf{x} | \\mathbf{\\theta}) p(\\mathbf{\\theta}) }{p(\\mathbf{x})} \\propto p(\\mathbf{x} | \\mathbf{\\theta}) p(\\mathbf{\\theta})\n",
    "$$"
   ]
  },
  {
   "cell_type": "markdown",
   "id": "74e2343d",
   "metadata": {
    "slideshow": {
     "slide_type": "fragment"
    }
   },
   "source": [
    "Goal of Bayesian inference: characterize the distribution of $\\theta$, given\n",
    "* the data $\\mathbf{x}$\n",
    "* the prior knowledge about $\\theta$\n",
    "* the model, embodied by the likelihood function"
   ]
  },
  {
   "cell_type": "markdown",
   "id": "7b745134",
   "metadata": {
    "slideshow": {
     "slide_type": "fragment"
    }
   },
   "source": [
    "_characterize_ here means estimate the moments of the posterior, based on sample draws from it"
   ]
  }
 ],
 "metadata": {
  "celltoolbar": "Slideshow",
  "kernelspec": {
   "display_name": "Python 3 (ipykernel)",
   "language": "python",
   "name": "python3"
  },
  "language_info": {
   "codemirror_mode": {
    "name": "ipython",
    "version": 3
   },
   "file_extension": ".py",
   "mimetype": "text/x-python",
   "name": "python",
   "nbconvert_exporter": "python",
   "pygments_lexer": "ipython3",
   "version": "3.10.2"
  }
 },
 "nbformat": 4,
 "nbformat_minor": 5
}
