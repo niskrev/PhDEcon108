{
 "cells": [
  {
   "cell_type": "markdown",
   "id": "0d6c7864",
   "metadata": {
    "slideshow": {
     "slide_type": "subslide"
    }
   },
   "source": [
    "## Granger causality"
   ]
  },
  {
   "cell_type": "markdown",
   "id": "92499070",
   "metadata": {
    "slideshow": {
     "slide_type": "fragment"
    }
   },
   "source": [
    "__General idea:__\n",
    "\n",
    "The __cause__ contains __information__ about the futute of the __effect__ which is not in __any__ other variable (including the past of the effect)"
   ]
  },
  {
   "cell_type": "markdown",
   "id": "323dee3a",
   "metadata": {
    "slideshow": {
     "slide_type": "fragment"
    }
   },
   "source": [
    "* the cause happens __before__ to the effect "
   ]
  },
  {
   "cell_type": "markdown",
   "id": "47d25133",
   "metadata": {
    "slideshow": {
     "slide_type": "fragment"
    }
   },
   "source": [
    "* the cause has __unique__ information about the future of the effect "
   ]
  },
  {
   "cell_type": "markdown",
   "id": "33587795",
   "metadata": {
    "slideshow": {
     "slide_type": "subslide"
    }
   },
   "source": [
    "$x$ Granger-causes $y$ if\n",
    "\n",
    "$$ p(y_{t+1} | Z^t) \\neq p(y_{t+1} | Z^t\\setminus x^t)$$\n",
    "\n",
    "where $Z^t$ is all information available at $t$ and $Z^t\\setminus x^t$ is all information except that contributed by the past and present of $x$ ($\\{x_t\\}_{-\\infty}^{t}$)"
   ]
  },
  {
   "cell_type": "markdown",
   "id": "92f74d72",
   "metadata": {
    "slideshow": {
     "slide_type": "fragment"
    }
   },
   "source": [
    "$x$ doesn't Granger-causes $y$ if\n",
    "\n",
    "$$ p(y_{t+1} | Z^t) = p(y_{t+1} | Z^t\\setminus x^t)$$\n",
    "\n",
    "no information is lost by excluding $x$"
   ]
  },
  {
   "cell_type": "markdown",
   "id": "0de11786",
   "metadata": {
    "slideshow": {
     "slide_type": "fragment"
    }
   },
   "source": [
    "__Note__:\n",
    "\n",
    "It is possible that both $x$ Granger-causes $y$ and $y$ Granger-causes $x$"
   ]
  },
  {
   "cell_type": "markdown",
   "id": "ebce0ace",
   "metadata": {
    "slideshow": {
     "slide_type": "subslide"
    }
   },
   "source": [
    "### Theory vs. practice\n",
    "\n",
    "* in theory, $Z^t$ contains the infinite past of all variables in the universe\n",
    "\n",
    "* in practive $Z^t$ includes only a few variables, often only $y$ and $x$, and only a few lags"
   ]
  },
  {
   "cell_type": "markdown",
   "id": "d666b89b",
   "metadata": {
    "slideshow": {
     "slide_type": "subslide"
    }
   },
   "source": [
    "#### Testing for (pairwise unconditional) Granger non-causality\n",
    "\n",
    "$$\n",
    "y_t = \\alpha_0 + \\sum_{i=1}^{p} \\alpha_i y_{t-i} + \\sum_{j=1}^{q} \\beta_j x_{t-j} + \\varepsilon_t\n",
    "$$\n",
    "\n",
    "if $\\beta_j=0$ for all $j$, $x$ doesn't Granger-cause $y$."
   ]
  },
  {
   "cell_type": "markdown",
   "id": "4151d1a4",
   "metadata": {
    "slideshow": {
     "slide_type": "subslide"
    }
   },
   "source": [
    "#### Testing for (pairwise conditional) Granger non-causality\n",
    "\n",
    "$$\n",
    "y_t = \\alpha_0 + \\sum_{i=1}^{p} \\alpha_i y_{t-i} + \\sum_{l=1}^{k} \\gamma_l z_{t-j} + \\sum_{j=1}^{q} \\beta_j x_{t-j} + \\varepsilon_t\n",
    "$$\n",
    "\n",
    "if $\\beta_j=0$ for all $j$, $x$ doesn't Granger-cause $y$, conditional on $z$."
   ]
  },
  {
   "cell_type": "markdown",
   "id": "6a36ffbf",
   "metadata": {
    "slideshow": {
     "slide_type": "fragment"
    }
   },
   "source": [
    "* __interpretation:__ given the information in the past of $y$ and $z$, the past of $x$ doesn't help forecast $y$"
   ]
  },
  {
   "cell_type": "markdown",
   "id": "6f703059",
   "metadata": {
    "slideshow": {
     "slide_type": "fragment"
    }
   },
   "source": [
    "* __intuition for the test:__ we are asking whether the variance of the forecast errors is significanty smaller when lags of $x$ are included in the predictive regression for $y$."
   ]
  },
  {
   "cell_type": "markdown",
   "id": "8924b054",
   "metadata": {
    "slideshow": {
     "slide_type": "subslide"
    }
   },
   "source": [
    "### Granger causality as transfer of information"
   ]
  },
  {
   "cell_type": "markdown",
   "id": "5a4a7b8e",
   "metadata": {
    "slideshow": {
     "slide_type": "fragment"
    }
   },
   "source": [
    " * latent variables (more general than future values of observed variables)\n",
    " "
   ]
  },
  {
   "cell_type": "markdown",
   "id": "9fd6ee9f",
   "metadata": {
    "slideshow": {
     "slide_type": "fragment"
    }
   },
   "source": [
    " * how informative (more general than informative/uninformative)\n",
    " "
   ]
  },
  {
   "cell_type": "markdown",
   "id": "6bd8d1d7",
   "metadata": {
    "slideshow": {
     "slide_type": "fragment"
    }
   },
   "source": [
    " * frequency-domain formulation (informative frequencies)"
   ]
  },
  {
   "cell_type": "code",
   "execution_count": null,
   "id": "4bd7cbbc-fc6c-4e91-b331-78664b5e4d2a",
   "metadata": {},
   "outputs": [],
   "source": []
  }
 ],
 "metadata": {
  "celltoolbar": "Slideshow",
  "kernelspec": {
   "display_name": "Python 3 (ipykernel)",
   "language": "python",
   "name": "python3"
  },
  "language_info": {
   "codemirror_mode": {
    "name": "ipython",
    "version": 3
   },
   "file_extension": ".py",
   "mimetype": "text/x-python",
   "name": "python",
   "nbconvert_exporter": "python",
   "pygments_lexer": "ipython3",
   "version": "3.10.2"
  }
 },
 "nbformat": 4,
 "nbformat_minor": 5
}
