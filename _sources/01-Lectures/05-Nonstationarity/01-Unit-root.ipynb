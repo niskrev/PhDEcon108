{
 "cells": [
  {
   "cell_type": "markdown",
   "id": "0a613a4f-47f1-4407-8b08-3dcbf5b58cb6",
   "metadata": {},
   "source": [
    "# Non-stationarity and unit root processes"
   ]
  },
  {
   "cell_type": "code",
   "execution_count": 1,
   "id": "cfe74d93",
   "metadata": {
    "slideshow": {
     "slide_type": "skip"
    },
    "tags": [
     "hide-input"
    ]
   },
   "outputs": [],
   "source": [
    "import warnings\n",
    "warnings.simplefilter(\"ignore\", FutureWarning)\n",
    "\n",
    "from statsmodels.tsa.deterministic import DeterministicProcess\n",
    "import pandas as pd\n",
    "import numpy as np\n",
    "\n",
    "from numpy.random import default_rng\n",
    "from statsmodels.tsa.arima_process import arma_acovf, ArmaProcess\n",
    "from statsmodels.tsa.arima.model import ARIMA\n",
    "import matplotlib.pyplot as plt\n",
    "import statsmodels.api as sm\n",
    "gen = default_rng(1)\n",
    "import seaborn as sns\n",
    "sns.set_theme()\n",
    "sns.set_context(\"notebook\")"
   ]
  },
  {
   "cell_type": "markdown",
   "id": "86dfed8a",
   "metadata": {
    "slideshow": {
     "slide_type": "subslide"
    }
   },
   "source": [
    "## Why need stationarity?"
   ]
  },
  {
   "cell_type": "markdown",
   "id": "48936dd4",
   "metadata": {
    "slideshow": {
     "slide_type": "fragment"
    }
   },
   "source": [
    "* stationarity is a form of constancy of the properties of the process (mean, variance, autocovariances)\n",
    "* needed in order to be able to learn something about those properties"
   ]
  },
  {
   "cell_type": "markdown",
   "id": "a108ebbc",
   "metadata": {
    "slideshow": {
     "slide_type": "subslide"
    }
   },
   "source": [
    "Many macroeconomic time series are non-stationary"
   ]
  },
  {
   "cell_type": "code",
   "execution_count": 27,
   "id": "1ea63f40",
   "metadata": {
    "slideshow": {
     "slide_type": "fragment"
    },
    "tags": [
     "hide-input"
    ]
   },
   "outputs": [],
   "source": [
    "#df = pd.read_excel('nama_10_gdp__custom_2373104_page_spreadsheet.xlsx',\n",
    "#                   sheet_name='Sheet 1',\n",
    "#                  skiprows=range(9), usecols=[0,1], names=['year', 'GDP'], index_col=0, parse_dates=True,\n",
    "#                  ).loc['1995':'2021']\n",
    "#df = df.astype('float')\n",
    "#data = np.log(df['GDP'])\n",
    "#title='Real GDP, Euro Area'\n",
    "#ylabel='natural log of millions of euro'\n",
    "#fig = data.plot(figsize=(10,3), title=title,ylabel=ylabel)\n",
    "#plt.savefig('images/rGDPea.png')"
   ]
  },
  {
   "cell_type": "markdown",
   "id": "1c94563e-df1f-4089-90e9-fd43c1dac30f",
   "metadata": {},
   "source": [
    "![Erg1](./images/rGDPea.png)"
   ]
  },
  {
   "cell_type": "markdown",
   "id": "e69d4848-928a-4701-ae10-30f19e42bb49",
   "metadata": {
    "slideshow": {
     "slide_type": "fragment"
    }
   },
   "source": [
    "## ARMA(p, q)\n",
    "\n",
    "$$ z_t = \\alpha_1 z_{t-1} + \\alpha_2 z_{t-1} + \\cdots + \\alpha_p z_{t-p} + \\varepsilon_{t} + \\beta_1 \\varepsilon_{t-1} + \\cdots + \\beta_q \\varepsilon_{t-q} $$\n",
    "\n",
    "in lag operator notation \n",
    "\n",
    "$$ \n",
    "\\begin{align}\n",
    "\\alpha(L) z_t &= \\beta(L) \\varepsilon_t\n",
    "\\end{align}\n",
    "$$\n",
    "\n",
    "ARMA(p, q) is __stationary__ if the AR(p) part is stationary, i.e. if all roots of\n",
    "\n",
    "$$ \\alpha(x) = 1 - \\alpha_1 x - \\alpha_2 x^2 - \\cdots - \\alpha_p x^p = 0 $$\n",
    "\n",
    "are outside the unit circle ($|x|>1$)\n",
    "\n",
    "* a non-stationary process with one root $x=1$ and the other roots $|x|>1$ is called a __unit root__ process\n",
    "\n",
    "* if $z_t$ is an unit root process, $\\Delta z_t = z_t - z_{t-1} = (1-L) z_t$ is stationary\n",
    "\n",
    "$$\\alpha(x) = \\alpha^*(x)(1-x)$$\n",
    "and \n",
    "if all roots of\n",
    "\n",
    "$$ \\alpha^*(x) = 1 - \\alpha^*_1 x - \\alpha^*_2 x^2 - \\cdots - \\alpha^*_{p-1} x^{p-1} = 0 $$\n",
    "\n",
    "are outside the unit circle ($|x|>1$)\n",
    "\n",
    "the AR part \n",
    "\n",
    "$$ \n",
    "\\begin{align}\n",
    "\\alpha(L) z_t = \\alpha^*(L)(1-L)z_t = \\alpha^*(L)(z_t - z_{t-1}) = \\alpha^*(L)\\Delta z_t\n",
    "\\end{align}\n",
    "$$\n",
    "\n",
    "* a non-stationary process whose first difference is stationary is called integrated of order one ($I(1)$)\n",
    "\n",
    "__why \"integrated\"__:\n",
    "\n",
    "$$\n",
    "\\Delta z_t = z_t - z_{t-1} = u_t, \\;\\;\\;\\;\\; u_t \\;\\; \\text{stationary}\n",
    "$$\n",
    "\n",
    "$$\n",
    "\\begin{align}\n",
    "z_t &= z_{t-1} + u_t\\\\\n",
    " &= z_{t-2} + u_{t-1} + u_t\\\\\n",
    "&\\vdots\\\\\n",
    "&=\\sum_{j=1}^{t} u_j + z_0\n",
    "\\end{align}\n",
    "$$\n",
    "\n",
    "* $z_t$ is the sum (integral) of a process (is an \"integrated\" process) starting from some initialization $z_0$\n",
    "\n",
    "* $\\sum_{j=1}^{t} u_j$ refered to as a __stochastic trend__\n",
    "* $\\Delta z_t$ is $I(0)$ (stationary, no need to difference)\n",
    "\n",
    "* a non-stationary process which requres double difference to be stationary is called integrated of order two ($I(2)$)\n",
    "    * if $z_t$ is $I(2)$ then $\\Delta^2 z_t = (1-L)^2 z_t$  is $I(0)$\n",
    "\n",
    "* etc for $I(d)$.\n",
    "    * if $z_t$ is $I(d)$ then $\\Delta^d$ is $I(0)$\n",
    "    * $d$ is the order of integration\n",
    "\n",
    "* if we difference a stationary process, we get another stationary process. However, no differencing was required to achieve stationarity\n",
    "\n",
    "* stationary process whose cumulative sum is also stationary, are called overdifferenced, and denoted with $I(-1)$"
   ]
  },
  {
   "cell_type": "markdown",
   "id": "127d6c18-59c6-474d-a762-05b57e10c521",
   "metadata": {
    "slideshow": {
     "slide_type": "fragment"
    }
   },
   "source": [
    "__example:__\n",
    "\n",
    "$$ z_t = \\varepsilon_t - \\varepsilon_{t-1}, \\;\\;\\; \\varepsilon_t \\sim \\text{iid} (0, \\sigma^2)$$\n",
    "\n",
    "* $z_t$ is stationary but so is $\\varepsilon_t$\n",
    "* $z_t$ is $I(-1)$\n",
    "* non-invertible MA part"
   ]
  },
  {
   "cell_type": "markdown",
   "id": "5452b219-048c-4959-b9ae-a7a63ef09599",
   "metadata": {
    "slideshow": {
     "slide_type": "fragment"
    }
   },
   "source": [
    "__another example:__\n",
    "\n",
    "$$ z_t = \\delta_0 + \\delta_1 t + \\nu_t \\;\\;\\; \\text{with stationary } \\nu_t$$\n",
    "\n",
    "\n",
    "$$\\Delta z_t = \\delta_1 t - \\delta_1(t-1) + \\Delta \\nu_t = \\delta_1 + \\Delta \\nu_t \n",
    "$$\n",
    "\n",
    "is $I(-1)$\n",
    "\n",
    "* linear time trend (deterministic trend)\n",
    "\n",
    "* $z_t$ is called __trend-stationary__ process\n",
    "\n",
    "in the sense that it is non-random\n",
    "\n",
    "more generally:\n",
    "    \n",
    "$$ z_t = \\mathbf{x_t}' \\delta + \\nu_t \\;\\;\\; \\text{with stationary } \\nu_t, \\;\\; \\operatorname{E} \\nu_t = 0$$\n",
    "\n",
    "where $\\mathbf{x_t}$ are known constants\n",
    "\n",
    "$$ z_t - \\mathbf{x_t}' \\delta =  \\nu_t$$\n",
    "\n",
    "is stationary"
   ]
  },
  {
   "cell_type": "markdown",
   "id": "6ecc0b81",
   "metadata": {
    "slideshow": {
     "slide_type": "subslide"
    }
   },
   "source": [
    "### Gaussian MLE\n",
    "\n",
    "and, if $\\nu_t$ is stationary Gaussian time series process\n",
    "\n",
    "$$\n",
    "\\boldsymbol \\nu \\sim \\mathcal{N}(\\boldsymbol 0, \\Sigma)\n",
    "$$\n",
    "\n",
    "we have \n",
    "\n",
    "$$\n",
    "\\mathbf{z} \\sim \\mathcal{N}(\\boldsymbol \\mu, \\mathbf{\\Sigma})\n",
    "$$\n",
    "\n",
    "where \n",
    "\n",
    "$$\\mathbf{\\mu} = \\boldsymbol X \\delta$$"
   ]
  },
  {
   "cell_type": "markdown",
   "id": "e6982913",
   "metadata": {
    "slideshow": {
     "slide_type": "fragment"
    }
   },
   "source": [
    "for example, if $z_t = \\delta_0 + \\delta_1 t + \\nu_t$, the $t$-th row of $\\boldsymbol X$ is $[1, t]$"
   ]
  },
  {
   "cell_type": "markdown",
   "id": "a780b9ce",
   "metadata": {
    "slideshow": {
     "slide_type": "subslide"
    }
   },
   "source": [
    "### Models with time trend in Python"
   ]
  },
  {
   "cell_type": "markdown",
   "id": "fc38d713",
   "metadata": {
    "slideshow": {
     "slide_type": "subslide"
    }
   },
   "source": [
    "Generate $\\boldsymbol X$ for\n",
    "\n",
    "$$z_t = \\delta_0 + \\delta_1 t + \\nu_t, \\;\\;\\; t=1, 2, \\cdots, T$$\n",
    "\n",
    "$$ \\mathbf{z}  = \\boldsymbol X \\delta + \\mathbf{\\nu}$$\n",
    "\n",
    "$T \\times 2$ matrix with $t$-th row given by $[1, t]$"
   ]
  },
  {
   "cell_type": "code",
   "execution_count": 4,
   "id": "be9e4259",
   "metadata": {
    "slideshow": {
     "slide_type": "fragment"
    },
    "tags": [
     "hide-input"
    ]
   },
   "outputs": [
    {
     "data": {
      "text/html": [
       "<div>\n",
       "<style scoped>\n",
       "    .dataframe tbody tr th:only-of-type {\n",
       "        vertical-align: middle;\n",
       "    }\n",
       "\n",
       "    .dataframe tbody tr th {\n",
       "        vertical-align: top;\n",
       "    }\n",
       "\n",
       "    .dataframe thead th {\n",
       "        text-align: right;\n",
       "    }\n",
       "</style>\n",
       "<table border=\"1\" class=\"dataframe\">\n",
       "  <thead>\n",
       "    <tr style=\"text-align: right;\">\n",
       "      <th></th>\n",
       "      <th>const</th>\n",
       "      <th>trend</th>\n",
       "    </tr>\n",
       "  </thead>\n",
       "  <tbody>\n",
       "    <tr>\n",
       "      <th>0</th>\n",
       "      <td>1.0</td>\n",
       "      <td>1.0</td>\n",
       "    </tr>\n",
       "    <tr>\n",
       "      <th>1</th>\n",
       "      <td>1.0</td>\n",
       "      <td>2.0</td>\n",
       "    </tr>\n",
       "    <tr>\n",
       "      <th>2</th>\n",
       "      <td>1.0</td>\n",
       "      <td>3.0</td>\n",
       "    </tr>\n",
       "    <tr>\n",
       "      <th>3</th>\n",
       "      <td>1.0</td>\n",
       "      <td>4.0</td>\n",
       "    </tr>\n",
       "    <tr>\n",
       "      <th>4</th>\n",
       "      <td>1.0</td>\n",
       "      <td>5.0</td>\n",
       "    </tr>\n",
       "  </tbody>\n",
       "</table>\n",
       "</div>"
      ],
      "text/plain": [
       "   const  trend\n",
       "0    1.0    1.0\n",
       "1    1.0    2.0\n",
       "2    1.0    3.0\n",
       "3    1.0    4.0\n",
       "4    1.0    5.0"
      ]
     },
     "execution_count": 4,
     "metadata": {},
     "output_type": "execute_result"
    }
   ],
   "source": [
    "from statsmodels.tsa.deterministic import DeterministicProcess\n",
    "\n",
    "T = 500\n",
    "index = pd.RangeIndex(0, T)\n",
    "det_proc = DeterministicProcess(index, constant=True, order=1) # constant and a linear (1 order) trend\n",
    "X = det_proc.in_sample()\n",
    "X.head()"
   ]
  },
  {
   "cell_type": "markdown",
   "id": "382f8326",
   "metadata": {},
   "source": [
    "$$ \\mathbf{z}  = \\boldsymbol X \\delta + \\mathbf{\\nu}$$"
   ]
  },
  {
   "cell_type": "code",
   "execution_count": 5,
   "id": "3c682d5a",
   "metadata": {
    "slideshow": {
     "slide_type": "subslide"
    },
    "tags": [
     "hide-input"
    ]
   },
   "outputs": [],
   "source": [
    "# constant and time trend part\n",
    "delta = np.array([3, .1])\n",
    "exog = X.values@delta "
   ]
  },
  {
   "cell_type": "markdown",
   "id": "2b33ffd1",
   "metadata": {
    "slideshow": {
     "slide_type": "subslide"
    }
   },
   "source": [
    "$\\nu_t$ as ARMA(1,1) process"
   ]
  },
  {
   "cell_type": "code",
   "execution_count": 6,
   "id": "d13cb8ac-8d96-43c8-b065-d3b9d1c5211c",
   "metadata": {
    "slideshow": {
     "slide_type": "fragment"
    },
    "tags": [
     "hide-input"
    ]
   },
   "outputs": [],
   "source": [
    "alpha = np.array([.8])\n",
    "beta = np.array([0.1])\n",
    "ar = np.r_[1, -alpha] # coefficient on z(t) and z(t-1)\n",
    "ma = np.r_[1, beta]  # coefficients on e(t) and e(t-1)\n",
    "arma11_process = ArmaProcess(ar, ma)\n",
    "\n",
    "nu =  arma11_process.generate_sample(T, distrvs=gen.normal)\n",
    "\n",
    "z = exog + nu"
   ]
  },
  {
   "cell_type": "markdown",
   "id": "9f2648cf",
   "metadata": {
    "slideshow": {
     "slide_type": "subslide"
    }
   },
   "source": [
    "__Option 1__ Estimate indicating constant and time trend"
   ]
  },
  {
   "cell_type": "code",
   "execution_count": 45,
   "id": "1657e72f",
   "metadata": {
    "slideshow": {
     "slide_type": "subslide"
    },
    "tags": [
     "hide-input"
    ]
   },
   "outputs": [
    {
     "name": "stdout",
     "output_type": "stream",
     "text": [
      "                               SARIMAX Results                                \n",
      "==============================================================================\n",
      "Dep. Variable:                      y   No. Observations:                  500\n",
      "Model:                 ARIMA(1, 0, 1)   Log Likelihood                -733.673\n",
      "Date:                Mon, 28 Mar 2022   AIC                           1477.345\n",
      "Time:                        10:48:25   BIC                           1498.418\n",
      "Sample:                             0   HQIC                          1485.614\n",
      "                                - 500                                         \n",
      "Covariance Type:                  opg                                         \n",
      "==============================================================================\n",
      "                 coef    std err          z      P>|z|      [0.025      0.975]\n",
      "------------------------------------------------------------------------------\n",
      "const          3.0500      0.512      5.954      0.000       2.046       4.054\n",
      "x1             0.0992      0.002     57.573      0.000       0.096       0.103\n",
      "ar.L1          0.7971      0.035     22.981      0.000       0.729       0.865\n",
      "ma.L1          0.0650      0.057      1.142      0.253      -0.047       0.176\n",
      "sigma2         1.1054      0.073     15.235      0.000       0.963       1.248\n",
      "===================================================================================\n",
      "Ljung-Box (L1) (Q):                   0.00   Jarque-Bera (JB):                 0.28\n",
      "Prob(Q):                              1.00   Prob(JB):                         0.87\n",
      "Heteroskedasticity (H):               1.20   Skew:                            -0.01\n",
      "Prob(H) (two-sided):                  0.24   Kurtosis:                         2.89\n",
      "===================================================================================\n",
      "\n",
      "Warnings:\n",
      "[1] Covariance matrix calculated using the outer product of gradients (complex-step).\n"
     ]
    }
   ],
   "source": [
    "arma_model = ARIMA(z, order=(1, 0, 1), trend=\"ct\")\n",
    "arma_results = arma_model.fit()\n",
    "print(arma_results.summary())"
   ]
  },
  {
   "cell_type": "markdown",
   "id": "cc9662eb",
   "metadata": {
    "slideshow": {
     "slide_type": "subslide"
    }
   },
   "source": [
    "__Option 2__ Estimate providing exogenous regressors\n",
    "\n",
    "$$ \\mathbf{z}  = \\boldsymbol X \\delta + \\mathbf{\\nu}$$"
   ]
  },
  {
   "cell_type": "code",
   "execution_count": 46,
   "id": "d0b6dcc9",
   "metadata": {
    "slideshow": {
     "slide_type": "subslide"
    },
    "tags": [
     "hide-input"
    ]
   },
   "outputs": [
    {
     "name": "stdout",
     "output_type": "stream",
     "text": [
      "                               SARIMAX Results                                \n",
      "==============================================================================\n",
      "Dep. Variable:                      y   No. Observations:                  500\n",
      "Model:                 ARIMA(1, 0, 1)   Log Likelihood                -733.673\n",
      "Date:                Mon, 28 Mar 2022   AIC                           1477.345\n",
      "Time:                        10:48:29   BIC                           1498.418\n",
      "Sample:                             0   HQIC                          1485.614\n",
      "                                - 500                                         \n",
      "Covariance Type:                  opg                                         \n",
      "==============================================================================\n",
      "                 coef    std err          z      P>|z|      [0.025      0.975]\n",
      "------------------------------------------------------------------------------\n",
      "const          3.0500      0.512      5.954      0.000       2.046       4.054\n",
      "trend          0.0992      0.002     57.573      0.000       0.096       0.103\n",
      "ar.L1          0.7971      0.035     22.981      0.000       0.729       0.865\n",
      "ma.L1          0.0650      0.057      1.142      0.253      -0.047       0.176\n",
      "sigma2         1.1054      0.073     15.235      0.000       0.963       1.248\n",
      "===================================================================================\n",
      "Ljung-Box (L1) (Q):                   0.00   Jarque-Bera (JB):                 0.28\n",
      "Prob(Q):                              1.00   Prob(JB):                         0.87\n",
      "Heteroskedasticity (H):               1.20   Skew:                            -0.01\n",
      "Prob(H) (two-sided):                  0.24   Kurtosis:                         2.89\n",
      "===================================================================================\n",
      "\n",
      "Warnings:\n",
      "[1] Covariance matrix calculated using the outer product of gradients (complex-step).\n"
     ]
    }
   ],
   "source": [
    "arma_model2 = ARIMA(z, exog=X, order=(1, 0, 1), trend=\"n\")\n",
    "arma_results2 = arma_model2.fit()\n",
    "print(arma_results2.summary()) "
   ]
  },
  {
   "cell_type": "markdown",
   "id": "25a97c6b-feb5-4578-b00e-3a64ba7106d9",
   "metadata": {
    "slideshow": {
     "slide_type": "notes"
    }
   },
   "source": [
    "## Difference-stationary vs trend-stationary\n",
    "\n",
    "$$ z_t = \\delta_0 + \\delta_1 t + \\nu_t$$\n",
    "\n",
    "* __trend-stationary__ if $\\nu_t$ is stationary\n",
    "* __difference-stationary__ if $\\nu_t$ is a unit root process\n",
    "\n",
    "$\\nu_t$ is a unit root process if in\n",
    "\n",
    "$$ \n",
    "\\begin{align}\n",
    "\\alpha(L) \\nu_t &= \\beta(L) \\varepsilon_t\n",
    "\\end{align}\n",
    "$$\n",
    "\n",
    "one of the roots of\n",
    "\n",
    "$$ \\alpha(x) = 1 - \\alpha_1 x - \\alpha_2 x^2 - \\cdots - \\alpha_{p+1} x^{p+1} = 0$$\n",
    "\n",
    "is $x=1$, and the other roots are $|x|>1$\n",
    "\n",
    "$$\\alpha(L) = (1-L)\\alpha^{*}(L)$$\n",
    "\n",
    "all $p$ roots of\n",
    "\n",
    "$$ \\alpha^{*}(x) = 1 - \\alpha^{*}_1 x - \\alpha^{*}_2 x^2 - \\cdots - \\alpha^{*}_{p} x^{p} = 0$$\n",
    "\n",
    "are $|x|>1$\n",
    "\n",
    "$\\Delta \\nu_t = (1-L)\\nu_t$ is a stationary ARMA(p, q) process\n",
    "\n",
    "$$ \n",
    "\\begin{align}\n",
    "\\alpha(L) \\nu_t &= \\beta(L) \\varepsilon_t\\\\\n",
    "\\alpha^{*}(L) (1-L)\\nu_t &= \\beta(L) \\varepsilon_t\\\\\n",
    "\\alpha^{*}(L) \\Delta \\nu_t &= \\beta(L) \\varepsilon_t\n",
    "\\end{align}\n",
    "$$\n",
    "\n",
    "### Difference-stationary process\n",
    "\n",
    "$$ z_t = \\delta_0 + \\delta_1 t + \\nu_t$$\n",
    "\n",
    "* $ \\nu_t$ is an ARIMA(p, 1, q) process\n",
    "\n",
    "* $z_t$ is an ARIMAX(p, 1, q) process (ARIMA with __exogenous__ part - constant and time trend)\n",
    "\n",
    "* $\\Delta z_t$ is an ARMAX(p, q) process (ARMA with exogenous part - constant)\n",
    "\n",
    "$$\\Delta z_t = \\delta_1 + \\Delta v_t $$\n",
    "\n",
    "model $z$ as regression model with ARIMA errors\n",
    "\n",
    "### Difference between trend- and difference-stationary models\n",
    "\n",
    "__example__\n",
    "\n",
    "$$\n",
    "\\begin{align}\n",
    "z_t &= \\delta_0 + \\delta_1 t + \\nu_t\\\\\n",
    "\\nu_t &= \\alpha \\nu_{t-1} +  \\varepsilon_{t} \\;\\;\\;\\; |\\alpha| \\leq 1\n",
    "\\end{align}\n",
    "$$\n",
    "\n",
    "at $t+h$\n",
    "\n",
    "$$\n",
    "\\begin{align}\n",
    "z_{t+h} &= \\delta_0 + \\delta_1 (t+h) + \\nu_{t+h} \\\\\n",
    "\\nu_{t+h} &= \\alpha \\nu_{t+h-1} +  \\varepsilon_{t+h}\n",
    "\\end{align}\n",
    "$$\n",
    "\n",
    "forecast at $t$:\n",
    "\n",
    "$$\n",
    "\\begin{align}\n",
    "\\operatorname{E}_t z_{t+h} &= \\delta_0 + \\delta_1 (t+h) + \\operatorname{E}_t \\nu_{t+h} \\\\\n",
    "\\operatorname{E}_t \\nu_{t+h} &= \\alpha^h \\nu_{t}\n",
    "\\\\\n",
    "&\\Downarrow\\\\\n",
    "\\operatorname{E}_t z_{t+h} &= \\delta_0 + \\delta_1 (t+h) + \\alpha^h \\nu_{t} \\\\\n",
    "\\end{align}\n",
    "$$\n",
    "\n",
    "* if $|\\alpha|<1$, as $h\\rightarrow \\infty$, $\\alpha^h \\rightarrow 0$\n",
    "\n",
    "$$\n",
    "\\operatorname{E}_t z_{t+h} = \\delta_0 + \\delta_1 (t+h) + \\alpha^h \\nu_{t} \\rightarrow \\delta_0 + \\delta_1 (t+h) =  \\operatorname{E} z_{t+h}\n",
    "$$\n",
    "\n",
    "$$\n",
    "\\begin{align}\n",
    "\\operatorname{E}z_{t+h} &= \\delta_0 + \\delta_1 (t+h) + \\operatorname{E}\\nu_{t+h} \\\\\n",
    "\\operatorname{E}\\nu_{t+h} &= \\alpha \\operatorname{E}\\nu_{t+h-1} +  \\operatorname{E}\\varepsilon_{t+h} = 0\n",
    "\\end{align}\n",
    "$$\n",
    "\n",
    "For trend-stationary processes:\n",
    "\n",
    "* the long-run forecast is the unconditional mean of $z_t$ (__mean reversion__)\n",
    "\n",
    "* the long-run forecast is independent of $z_t$\n",
    "\n",
    "* shocks to $z_t$ have temporary impact (transitory) \n",
    "\n",
    "* if $\\alpha=1$, \n",
    "\n",
    "$$\n",
    "\\begin{align}\n",
    "\\operatorname{E}_t z_{t+h} &= \\delta_0 + \\delta_1 (t+h) + \\alpha^h \\nu_{t} \\\\\n",
    "\\operatorname{E}_t z_{t+h} &= \\delta_0 + \\delta_1 (t+h) +  \\nu_{t} \\\\\n",
    "\\operatorname{E}_t z_{t+h} &= \\delta_0 + \\delta_1 (t+h) +  \\underbrace{z_t - \\delta_0 - \\delta_1 t}_{\\nu_t} \\\\\n",
    "\\operatorname{E}_t z_{t+h} &=  \\delta_1 h +  z_t \n",
    "\\end{align}\n",
    "$$\n",
    "\n",
    "For difference-stationary processes:\n",
    "\n",
    "* the value of $z_t$ has a __permanent__ effect on all future forecasts\n",
    "    * shocks to $z_t$ have permanent effects\n",
    "\n",
    "* $z_t$ is expected to grow by $\\delta_1$ every period\n",
    "\n",
    "### Martingale process\n",
    "\n",
    "if for $\\{z_t\\}_{-\\infty}^{\\infty}$\n",
    "\n",
    "$$ \\operatorname{E}(z_{t+1} |z_t,  z_{t-1},  \\cdots) = z_t$$\n",
    "\n",
    "$z_t$ is a martingale process, and $\\Delta z_t$ is a martingale difference process\n",
    "\n",
    "unlike a random walk, martingale process allows for heteroskedasticity or conditional heteroskedasticity"
   ]
  },
  {
   "cell_type": "markdown",
   "id": "2dec07cd-ddc3-40c2-a8ee-34de480f75fe",
   "metadata": {
    "slideshow": {
     "slide_type": "subslide"
    }
   },
   "source": [
    "### Beveridge-Nelson decomposition \n",
    "\n",
    "* Every difference-stationary process can be written as a sum of a random walk and a stationary component\n",
    "* the effect of innovations (shocks) can be decomposed into permanent and transitory effects\n",
    "\n",
    "* ARIMA(p,1,q)\n",
    "\n",
    "$$ \n",
    "\\alpha(L)\\Delta z_t = \\delta_0 + \\beta(L)\\varepsilon_t\n",
    "$$\n",
    "\n",
    "* $\\alpha(L)$ is invertible. Why?\n",
    "\n",
    "* equivalently (by invertability of $\\alpha(L)$)\n",
    "\n",
    "$$\n",
    "\\Delta z_t = \\delta_1 + \\phi(L)\\varepsilon_t \\\\\n",
    "$$\n",
    "\n",
    "$$\n",
    "\\delta_1 = \\frac{\\delta_0}{\\alpha(1)}, \\;\\;\\;\\phi(L) = \\frac{\\beta(L)}{\\alpha(L)} \\;\\;\\;\\alpha(1) = 1 - \\alpha_1 - \\cdots - \\alpha_p \n",
    "$$"
   ]
  },
  {
   "cell_type": "markdown",
   "id": "a48219ca-497f-4060-aab6-7c310e80adbb",
   "metadata": {
    "slideshow": {
     "slide_type": "subslide"
    }
   },
   "source": [
    "__(a bit of magic here...)__\n",
    "\n",
    "Since 1 is a root of the polinomial\n",
    "\n",
    "$$\\phi(L) - \\phi(1) $$\n",
    "\n",
    "it can be witten as\n",
    "\n",
    "$$\\phi(L) - \\phi(1) = \\phi^{*}(L) (1-L)$$\n",
    "\n",
    "and \n",
    "\n",
    "$$\\phi(L)  = \\phi^{*}(L) (1-L) + \\phi(1)$$\n",
    "\n",
    "where \n",
    "\n",
    "$$ \\phi^*(L) =\\frac{\\phi(L) - \\phi(1)}{(1-L)} \\Rightarrow \\phi_j^* =-\\sum_{i=j+1} \\phi_i$$\n",
    "\n",
    "$$\n",
    "\\begin{align}\n",
    "\\Delta z_t &= \\delta_1 + \\phi(L)\\varepsilon_t\\\\\n",
    "(1-L) z_t &= \\delta_1 + \\phi(1)\\varepsilon_t  + \\phi^{*}(L) (1-L)\\varepsilon_t\\\\\n",
    "z_t &= (1-L)^{-1}\\delta_1  + (1-L)^{-1}\\phi(1)\\varepsilon_t + \\phi^{*}(L)\\varepsilon_t\\\\\n",
    "\\end{align}\n",
    "$$\n",
    "\n",
    "denote $z_t^p = (1-L)^{-1}\\delta_1  + (1-L)^{-1}\\phi(1)\\varepsilon_t$\n",
    "\n",
    "then, \n",
    "\n",
    "$$\n",
    "\\begin{align}\n",
    "(1-L) z_t^p &=\\delta_1  + \\phi(1)\\varepsilon_t\\\\\n",
    "z_t^p - z_{t-1}^p&=\\delta_1  + \\phi(1)\\varepsilon_t\\\\\n",
    "z_t^p &= \\delta_1 + z_{t-1}^p + \\phi(1)\\varepsilon_t\\\\\n",
    "\\end{align}\n",
    "$$\n",
    "\n",
    "Therefore\n",
    "\n",
    "$$\n",
    "\\begin{align}\n",
    "z_t &= z_t^p + z_t^s\\\\\n",
    "\\\\\n",
    "&\\text{where}\\\\\n",
    "\\\\\n",
    "z_t^p &= \\delta_1 + z_{t-1}^p + \\phi(1) \\varepsilon_t\\\\\n",
    "z_t^s &= \\phi^*(L) \\varepsilon_t\n",
    "\\end{align}\n",
    "$$\n",
    "\n",
    "* $z^p_t$ - permanent component (trend)\n",
    "* $z^s_t$ - transitory component (cycle)\n",
    "\n",
    "*  $\\varepsilon_t$ has a permanent impact on $z_t$ through $z_t^p$\n",
    "*  $\\varepsilon_t$ has a transitory impact on $z_t$ through $z_t^s$\n",
    "* relative importance of permanent/transitory impact depends on the value of $\\phi(1)$\n",
    "\n",
    "__example ARIMA(0,1,1)__\n",
    "\n",
    "$$\n",
    "\\Delta z_t =  \\varepsilon_{t}+ \\beta \\varepsilon_{t-1}\n",
    "$$\n",
    "\n",
    "$$\n",
    "\\begin{align}\n",
    "z_t &= z_{t-1} + \\varepsilon_{t}+ \\beta \\varepsilon_{t-1}\\\\\n",
    "    &= z_{t-2} + (\\varepsilon_{t-1}+ \\beta \\varepsilon_{t-2}) + \\varepsilon_{t}+ \\beta \\varepsilon_{t-1}\\\\\n",
    "&\\;\\;\\;\\vdots \\;\\;\\;\\;\\;\\; (\\text{assuming } z_0 = \\varepsilon_0 = 0)\\\\  \n",
    "    &= \\sum^{t}_{j=1} \\varepsilon_{j} + \\beta \\sum^{t-1}_{j=1} \\varepsilon_{j} \\;\\;\\; (\\text{add and subtract } \\beta\\varepsilon_{t}) \\\\\n",
    "    &= \\underbrace{(1 + \\beta)\\sum^{t}_{j=1} \\varepsilon_{j}}_{z_t^p} + \\underbrace{(- \\beta  \\varepsilon_{t})}_{z_t^s}\\\\\n",
    "\\end{align}\n",
    "$$\n",
    "\n",
    "$$\n",
    "\\begin{align}\n",
    "z_t^p &= (1 + \\beta)\\sum^{t}_{j=1} \\varepsilon_{j}\\\\\n",
    "&= (1 + \\beta)\\sum^{t-1}_{j=1} \\varepsilon_{j} + (1 + \\beta)\\varepsilon_{t} \\\\\n",
    "&=  z_{t-1}^p + (1 + \\beta)\\varepsilon_{t} \\\\\n",
    "\\end{align}\n",
    "$$\n",
    "\n",
    "### Random walk with a drift model:\n",
    "    \n",
    "$$ z_t = \\delta + z_{t-1} + \\varepsilon_t$$\n",
    "\n",
    "\n",
    "$$\n",
    "\\begin{align}\n",
    "z_t = \\delta t + \\varepsilon_t &+ \\varepsilon_{t-1} + \\varepsilon_{t-2} + \\cdots + \\varepsilon_{1} + z_0\\\\\n",
    "\\\\\n",
    "\\operatorname{E} z_t &= \\delta t + \\operatorname{E} z_0\\\\\n",
    "\\operatorname{var} (z_t) &= \\sigma^2 t + \\operatorname{var}(z_0)\n",
    "\\end{align}\n",
    "$$\n",
    "\n",
    "#### Beveridge-Nelson decomposition \n",
    "\n",
    "Every difference-stationary processes can be written as a sum of a random walk and a stationary component\n",
    "\n",
    "\n",
    "* many macro variables are well represented by ARIMA(p,1,q) models\n",
    "* every ARIMA(p,1,q) model has a random walk stochastic trend\n",
    "\n",
    "$$ \\Downarrow $$\n",
    "\n",
    "* the growth in macro variables can be characterized by stochastic trends\n",
    "\n",
    "### Forecasting integrated variables\n",
    "\n",
    "* if $z_t$ is $I(1)$, we estimate and forecast using $\\Delta z_t$\n",
    "\n",
    "* from the forecasts of $\\Delta z_{t+i}$, $i=1, 2, \\cdots, h$\n",
    "\n",
    "$$ z^f_{t+h} = z_t + \\sum_{i=1}^{h} \\Delta z^f_{t+i}$$"
   ]
  },
  {
   "cell_type": "markdown",
   "id": "5ebdbed0-3c16-423e-8c6f-bdfa11224ee1",
   "metadata": {
    "slideshow": {
     "slide_type": "notes"
    }
   },
   "source": [
    "### Detecting stochastic trends by unit root test\n",
    "\n",
    "Unit root tests are one-sided tests:\n",
    "\n",
    "* $H_0$: unit root\n",
    "* $H_1$: stationary\n",
    "\n",
    "### Augmented Dickey–Fuller test\n",
    "\n",
    "Consider AR(2) process:\n",
    "\n",
    "$$z_t = \\alpha_1 z_{t-1} + \\alpha_2 z_{t-2}  + \\varepsilon_t$$\n",
    "\n",
    "re-write as \n",
    "\n",
    "$$\n",
    "\\begin{align}\n",
    "z_t &= \\alpha_1 z_{t-1} + (\\alpha_2 z_{t-1} - \\alpha_2 z_{t-1}) + \\alpha_2 z_{t-2}  + \\varepsilon_t\\\\\n",
    " &= (\\alpha_1 + \\alpha_2) z_{t-1} - \\alpha_2 (z_{t-1} - z_{t-2} ) + \\varepsilon_t\\\\\n",
    " &= (\\alpha_1 + \\alpha_2) z_{t-1} - \\alpha_2 \\Delta z_{t-1}  + \\varepsilon_t\\\\\n",
    "\\end{align}\n",
    "$$\n",
    "\n",
    "and \n",
    "\n",
    "$$\n",
    "\\begin{align}\n",
    " z_t - z_{t-1} &= (\\alpha_1 + \\alpha_2 -1) z_{t-1} - \\alpha_2 \\Delta z_{t-1}  + \\varepsilon_t\\\\\n",
    " \\Delta z_t  &= (\\alpha_1 + \\alpha_2 - 1) z_{t-1} - \\alpha_2 \\Delta z_{t-1}  + \\varepsilon_t\\\\\n",
    "\\end{align}\n",
    "$$\n",
    "\n",
    "For AR(2) process, unit root means that $x=1$ is a solution to\n",
    "\n",
    "$$\\alpha(x) = 1-\\alpha_1 x - \\alpha_2x^2=0$$\n",
    "\n",
    "i.e\n",
    "\n",
    "$$\\alpha(1) = 1-\\alpha_1  - \\alpha_2=0$$\n",
    "\n",
    "Therefore, testing for unit root is equivalent to testing that $\\rho=0$ in \n",
    "\n",
    "$$\n",
    "\\begin{align}\n",
    " \\Delta z_t  &= (\\alpha_1 + \\alpha_2 - 1) z_{t-1} - \\alpha_2 \\Delta z_{t-1}  + \\varepsilon_t\\\\\\\\\n",
    "  &= \\rho z_{t-1} + \\alpha^*_1 \\Delta z_{t-1}  + \\varepsilon_t\\\\\n",
    "\\end{align}\n",
    "$$\n",
    "\n",
    "In general AR(p) model for $z_t$\n",
    "\n",
    "$$\n",
    "\\begin{align}\n",
    " \\Delta z_t  &= (\\alpha_1 + \\alpha_2 + \\cdots + \\alpha_p - 1) z_{t-1} + \\alpha_1^* \\Delta z_{t-1} + \\cdots - \\alpha_{p-1}^* \\Delta z_{t-p+1} + \\varepsilon_t \\\\\n",
    " \\Delta z_t  &= \\rho z_{t-1} + \\sum_{i=1}^{p-1} \\alpha_i^* \\Delta z_{t-i} + \\varepsilon_t\\\\\n",
    "\\end{align}\n",
    "$$"
   ]
  },
  {
   "cell_type": "markdown",
   "id": "dd2adbff-81cb-4823-bf74-5f98cb7b59a5",
   "metadata": {
    "slideshow": {
     "slide_type": "notes"
    }
   },
   "source": [
    "* testing for unit root is equivalent to testing that $\\rho=0$\n",
    "\n",
    "$$\n",
    " \\Delta z_t = \\rho z_{t-1} + \\sum_{i=1}^{p-1} \\alpha_i^* \\Delta z_{t-i} + \\varepsilon_t \n",
    "$$(equation-1)\n",
    "\n",
    "* in {eq}`equation-1` the $H_1$ is that $z_t$ is a stationary __mean 0__ AR(p) process\n",
    "\n",
    "* to test for unit root agains $H_1$ that $z_t$ is a stationary around a constant ($\\neq 0$) mean, estimate\n",
    "\n",
    "$$\n",
    " \\Delta z_t  = \\delta_0 + \\rho z_{t-1} + \\sum_{i}^{p-1} \\alpha_i^* \\Delta z_{t-i} + \\varepsilon_t\n",
    "$$(equation-2)\n",
    "\n",
    "* to test for unit root agains $H_1$ that $z_t$ is a stationary around a deterministic linear time trend (__trend-stationary__)\n",
    "\n",
    "$$\n",
    " \\Delta z_t  = \\delta_0 + \\delta_1 t + \\rho z_{t-1} + \\sum_{i}^{p-1} \\alpha_i^* \\Delta z_{t-i} + \\varepsilon_t\n",
    "$$(equation-2)\n",
    "\n",
    "+ appropriate for series that exhibit growth over the long run \n",
    "\n",
    "\n",
    "The test for unit root is a test of $\\rho=0$ (unit root) against the alternative of $\\rho<0$ (stationary)\n",
    "\n",
    "* The asymptotic distribution of the test statistic for $\\rho$ is non-standard. \n",
    "* The critical values of the test statistics are obtained by Monte Carlo simulations, and depend of whether constant and time trend are included\n",
    "* The null hypothesis of a unit root is rejected when value of the test statistics is below the critical value. \n",
    "* If the null hypothesis cannot be rejected, $z_t$ should be differenced prior to estimation"
   ]
  },
  {
   "cell_type": "markdown",
   "id": "f2018e89",
   "metadata": {
    "slideshow": {
     "slide_type": "subslide"
    }
   },
   "source": [
    "## ADF test in Python"
   ]
  },
  {
   "cell_type": "code",
   "execution_count": 7,
   "id": "85baf718",
   "metadata": {
    "slideshow": {
     "slide_type": "skip"
    },
    "tags": [
     "hide-input"
    ]
   },
   "outputs": [],
   "source": [
    "df = pd.read_stata(r\"C:\\Users\\eeu227\\Documents\\PROJECTS\\econ108-repos\\econ108-practice\\EconometricsData\\FRED-QD\\FRED-QD.dta\")\n",
    "rgdp = df[['time', 'gdpc1']].set_index('time')['1961q1':].rename(columns={'gdpc1': 'rGDP'})\n",
    "rgdp = np.log(rgdp)"
   ]
  },
  {
   "cell_type": "code",
   "execution_count": 8,
   "id": "6c517f37",
   "metadata": {
    "slideshow": {
     "slide_type": "skip"
    },
    "tags": [
     "hide-input"
    ]
   },
   "outputs": [],
   "source": [
    "df = pd.read_stata(r\"C:\\Users\\eeu227\\Documents\\PROJECTS\\econ108-repos\\econ108-practice\\EconometricsData\\FRED-MD\\FRED-MD.dta\")\n",
    "unemp = df[['time', 'unrate']].set_index('time')['1961-01':]"
   ]
  },
  {
   "cell_type": "code",
   "execution_count": 9,
   "id": "1c90f2b0",
   "metadata": {
    "slideshow": {
     "slide_type": "skip"
    },
    "tags": [
     "hide-input"
    ]
   },
   "outputs": [],
   "source": [
    "df = pd.read_stata(r\"C:\\Users\\eeu227\\Documents\\PROJECTS\\econ108-repos\\econ108-practice\\EconometricsData\\FRED-MD\\FRED-MD.dta\")\n",
    "cpi = np.log(df[['time', 'cpiaucsl']].set_index('time')['1961-01':])\n",
    "\n",
    "dcpi = (cpi.diff(12)*100).dropna()"
   ]
  },
  {
   "cell_type": "markdown",
   "id": "251e2444",
   "metadata": {},
   "source": [
    "### Real GDP"
   ]
  },
  {
   "cell_type": "code",
   "execution_count": null,
   "id": "09960ef3-99bf-45d8-99f3-e37e1c6815ad",
   "metadata": {
    "slideshow": {
     "slide_type": "subslide"
    },
    "tags": [
     "hide-input"
    ]
   },
   "outputs": [],
   "source": [
    "#fig = rgdp.plot(figsize=(12,4), title='log Real GDP, US', legend=False)\n",
    "#plt.savefig('images/rGDPus.png')"
   ]
  },
  {
   "cell_type": "markdown",
   "id": "5963791e-e693-4094-a3fd-3da5f4b26eca",
   "metadata": {
    "slideshow": {
     "slide_type": "subslide"
    },
    "tags": [
     "hide-input"
    ]
   },
   "source": [
    "![Erg1](./images/rGDPus.png)"
   ]
  },
  {
   "cell_type": "code",
   "execution_count": 17,
   "id": "05f8d4e3",
   "metadata": {
    "slideshow": {
     "slide_type": "subslide"
    },
    "tags": [
     "hide-input"
    ]
   },
   "outputs": [],
   "source": [
    "from statsmodels.tsa.stattools import adfuller"
   ]
  },
  {
   "cell_type": "code",
   "execution_count": 18,
   "id": "091cde60",
   "metadata": {
    "slideshow": {
     "slide_type": "skip"
    },
    "tags": [
     "hide-input"
    ]
   },
   "outputs": [],
   "source": [
    "def get_adfresults(dftest):\n",
    "    dfoutput = pd.Series(\n",
    "            dftest[0:4],\n",
    "            index=[\n",
    "                \"Test Statistic\",\n",
    "                \"p-value\",\n",
    "                \"#Lags Used\",\n",
    "                \"Number of Observations Used\",\n",
    "            ],\n",
    "        )\n",
    "    for key, value in dftest[4].items():\n",
    "        dfoutput[f\"Critical Value ({key})\"] = value\n",
    "    return dfoutput"
   ]
  },
  {
   "cell_type": "markdown",
   "id": "88607b2f",
   "metadata": {
    "slideshow": {
     "slide_type": "subslide"
    }
   },
   "source": [
    "ADF with constant and trend, 4 lags"
   ]
  },
  {
   "cell_type": "code",
   "execution_count": 19,
   "id": "3ac7469e",
   "metadata": {
    "slideshow": {
     "slide_type": "fragment"
    },
    "tags": [
     "hide-input"
    ]
   },
   "outputs": [
    {
     "data": {
      "text/plain": [
       "(-2.0141544954585036,\n",
       " 0.5937024444875985,\n",
       " 4,\n",
       " 223,\n",
       " {'1%': -3.9999506167815206,\n",
       "  '5%': -3.4303636888103926,\n",
       "  '10%': -3.138725564735756})"
      ]
     },
     "execution_count": 19,
     "metadata": {},
     "output_type": "execute_result"
    }
   ],
   "source": [
    "dftest = adfuller(rgdp, maxlag=4, autolag=None, regression='ct')\n",
    "dftest"
   ]
  },
  {
   "cell_type": "code",
   "execution_count": 20,
   "id": "d9bc8c9f",
   "metadata": {
    "slideshow": {
     "slide_type": "fragment"
    },
    "tags": [
     "hide-input"
    ]
   },
   "outputs": [
    {
     "data": {
      "text/plain": [
       "Test Statistic                  -2.014154\n",
       "p-value                          0.593702\n",
       "#Lags Used                       4.000000\n",
       "Number of Observations Used    223.000000\n",
       "Critical Value (1%)             -3.999951\n",
       "Critical Value (5%)             -3.430364\n",
       "Critical Value (10%)            -3.138726\n",
       "dtype: float64"
      ]
     },
     "execution_count": 20,
     "metadata": {},
     "output_type": "execute_result"
    }
   ],
   "source": [
    "get_adfresults(dftest)"
   ]
  },
  {
   "cell_type": "markdown",
   "id": "7aa15d1a",
   "metadata": {
    "slideshow": {
     "slide_type": "subslide"
    }
   },
   "source": [
    "Automatically determine optimal number of lags using AIC"
   ]
  },
  {
   "cell_type": "code",
   "execution_count": 21,
   "id": "5edcd8b4",
   "metadata": {
    "slideshow": {
     "slide_type": "fragment"
    },
    "tags": [
     "hide-input"
    ]
   },
   "outputs": [
    {
     "data": {
      "text/plain": [
       "Test Statistic                  -2.157741\n",
       "p-value                          0.513651\n",
       "#Lags Used                       2.000000\n",
       "Number of Observations Used    225.000000\n",
       "Critical Value (1%)             -3.999579\n",
       "Critical Value (5%)             -3.430185\n",
       "Critical Value (10%)            -3.138621\n",
       "dtype: float64"
      ]
     },
     "execution_count": 21,
     "metadata": {},
     "output_type": "execute_result"
    }
   ],
   "source": [
    "dftest = adfuller(rgdp, autolag=\"AIC\", regression='ct')\n",
    "get_adfresults(dftest)"
   ]
  },
  {
   "cell_type": "markdown",
   "id": "39390968",
   "metadata": {
    "slideshow": {
     "slide_type": "subslide"
    }
   },
   "source": [
    "### Unemployment Rate"
   ]
  },
  {
   "cell_type": "code",
   "execution_count": null,
   "id": "12e48fa8-4b62-41ce-ad32-c5d01b59e37f",
   "metadata": {
    "slideshow": {
     "slide_type": "subslide"
    },
    "tags": [
     "hide-input"
    ]
   },
   "outputs": [],
   "source": [
    "#fig = unemp.plot(figsize=(12,4), title='Unemployment rate, US', legend=False)\n",
    "#plt.savefig('images/UNus.png')"
   ]
  },
  {
   "cell_type": "markdown",
   "id": "737f01a9-8837-4983-bbbe-5a42a35cb23d",
   "metadata": {},
   "source": [
    "![UNus](./images/UNus.png)"
   ]
  },
  {
   "cell_type": "code",
   "execution_count": 23,
   "id": "9c25600d",
   "metadata": {
    "slideshow": {
     "slide_type": "subslide"
    },
    "tags": [
     "hide-input"
    ]
   },
   "outputs": [
    {
     "data": {
      "text/plain": [
       "Test Statistic                  -2.996063\n",
       "p-value                          0.035264\n",
       "#Lags Used                      12.000000\n",
       "Number of Observations Used    671.000000\n",
       "Critical Value (1%)             -3.440133\n",
       "Critical Value (5%)             -2.865857\n",
       "Critical Value (10%)            -2.569069\n",
       "dtype: float64"
      ]
     },
     "execution_count": 23,
     "metadata": {},
     "output_type": "execute_result"
    }
   ],
   "source": [
    "dftest = adfuller(unemp, autolag='AIC', regression='c')\n",
    "get_adfresults(dftest)"
   ]
  },
  {
   "cell_type": "markdown",
   "id": "3d311b25",
   "metadata": {
    "slideshow": {
     "slide_type": "subslide"
    }
   },
   "source": [
    "### Consumer Price Inflation"
   ]
  },
  {
   "cell_type": "code",
   "execution_count": 34,
   "id": "90da39d4",
   "metadata": {
    "scrolled": true,
    "slideshow": {
     "slide_type": "fragment"
    },
    "tags": [
     "hide-input"
    ]
   },
   "outputs": [],
   "source": [
    "#fig = dcpi.plot(figsize=(12,4), title='Inflation rate, US', legend=False)\n",
    "#plt.savefig('images/dCPIus.png')"
   ]
  },
  {
   "cell_type": "markdown",
   "id": "f1269c77-5a60-4efe-a5c6-76d93906c6ff",
   "metadata": {},
   "source": [
    "![dCPIus](./images/dCPIus.png)"
   ]
  },
  {
   "cell_type": "code",
   "execution_count": 25,
   "id": "43afde4c",
   "metadata": {
    "scrolled": true,
    "slideshow": {
     "slide_type": "subslide"
    },
    "tags": [
     "hide-input"
    ]
   },
   "outputs": [
    {
     "data": {
      "text/plain": [
       "Test Statistic                  -2.804916\n",
       "p-value                          0.057575\n",
       "#Lags Used                      15.000000\n",
       "Number of Observations Used    656.000000\n",
       "Critical Value (1%)             -3.440358\n",
       "Critical Value (5%)             -2.865956\n",
       "Critical Value (10%)            -2.569122\n",
       "dtype: float64"
      ]
     },
     "execution_count": 25,
     "metadata": {},
     "output_type": "execute_result"
    }
   ],
   "source": [
    "dftest = adfuller(dcpi, autolag='AIC', regression='c')\n",
    "get_adfresults(dftest)"
   ]
  },
  {
   "cell_type": "markdown",
   "id": "29979130",
   "metadata": {
    "slideshow": {
     "slide_type": "subslide"
    }
   },
   "source": [
    "## ADF test using ARCH"
   ]
  },
  {
   "cell_type": "code",
   "execution_count": 13,
   "id": "b465c116",
   "metadata": {
    "slideshow": {
     "slide_type": "fragment"
    },
    "tags": [
     "hide-input"
    ]
   },
   "outputs": [],
   "source": [
    "from arch.unitroot import ADF"
   ]
  },
  {
   "cell_type": "code",
   "execution_count": 14,
   "id": "4b60c858",
   "metadata": {
    "slideshow": {
     "slide_type": "subslide"
    },
    "tags": [
     "hide-input"
    ]
   },
   "outputs": [
    {
     "data": {
      "text/html": [
       "<table class=\"simpletable\">\n",
       "<caption>Augmented Dickey-Fuller Results</caption>\n",
       "<tr>\n",
       "  <td>Test Statistic</td>    <td>-2.158</td>\n",
       "</tr>\n",
       "<tr>\n",
       "  <td>P-value</td>            <td>0.514</td>\n",
       "</tr>\n",
       "<tr>\n",
       "  <td>Lags</td>                   <td>2</td>\n",
       "</tr>\n",
       "</table><br/><br/>Trend: Constant and Linear Time Trend<br/>Critical Values: -4.00 (1%), -3.43 (5%), -3.14 (10%)<br/>Null Hypothesis: The process contains a unit root.<br/>Alternative Hypothesis: The process is weakly stationary."
      ],
      "text/plain": [
       "<class 'statsmodels.iolib.summary.Summary'>\n",
       "\"\"\"\n",
       "   Augmented Dickey-Fuller Results   \n",
       "=====================================\n",
       "Test Statistic                 -2.158\n",
       "P-value                         0.514\n",
       "Lags                                2\n",
       "-------------------------------------\n",
       "\n",
       "Trend: Constant and Linear Time Trend\n",
       "Critical Values: -4.00 (1%), -3.43 (5%), -3.14 (10%)\n",
       "Null Hypothesis: The process contains a unit root.\n",
       "Alternative Hypothesis: The process is weakly stationary.\n",
       "\"\"\""
      ]
     },
     "execution_count": 14,
     "metadata": {},
     "output_type": "execute_result"
    }
   ],
   "source": [
    "adf = ADF(rgdp, trend=\"ct\")\n",
    "adf.summary()"
   ]
  },
  {
   "cell_type": "markdown",
   "id": "dba47efa-f052-4e04-9e25-69bf5983314c",
   "metadata": {},
   "source": [
    "#### Examine the regression results"
   ]
  },
  {
   "cell_type": "code",
   "execution_count": 15,
   "id": "50cc362f",
   "metadata": {
    "slideshow": {
     "slide_type": "subslide"
    },
    "tags": [
     "hide-input"
    ]
   },
   "outputs": [
    {
     "name": "stdout",
     "output_type": "stream",
     "text": [
      "                            OLS Regression Results                            \n",
      "==============================================================================\n",
      "Dep. Variable:                      y   R-squared:                       0.176\n",
      "Model:                            OLS   Adj. R-squared:                  0.161\n",
      "Method:                 Least Squares   F-statistic:                     11.76\n",
      "Date:                Mon, 28 Mar 2022   Prob (F-statistic):           1.13e-08\n",
      "Time:                        16:43:14   Log-Likelihood:                 786.27\n",
      "No. Observations:                 225   AIC:                            -1563.\n",
      "Df Residuals:                     220   BIC:                            -1545.\n",
      "Df Model:                           4                                         \n",
      "Covariance Type:            nonrobust                                         \n",
      "==============================================================================\n",
      "                 coef    std err          t      P>|t|      [0.025      0.975]\n",
      "------------------------------------------------------------------------------\n",
      "Level.L1      -0.0217      0.010     -2.158      0.032      -0.041      -0.002\n",
      "Diff.L1        0.2365      0.065      3.611      0.000       0.107       0.366\n",
      "Diff.L2        0.1917      0.066      2.923      0.004       0.062       0.321\n",
      "const          0.1848      0.083      2.231      0.027       0.022       0.348\n",
      "trend          0.0001    7.5e-05      1.935      0.054   -2.67e-06       0.000\n",
      "==============================================================================\n",
      "Omnibus:                       17.613   Durbin-Watson:                   1.994\n",
      "Prob(Omnibus):                  0.000   Jarque-Bera (JB):               56.070\n",
      "Skew:                          -0.116   Prob(JB):                     6.68e-13\n",
      "Kurtosis:                       5.435   Cond. No.                     2.21e+04\n",
      "==============================================================================\n",
      "\n",
      "Notes:\n",
      "[1] Standard Errors assume that the covariance matrix of the errors is correctly specified.\n",
      "[2] The condition number is large, 2.21e+04. This might indicate that there are\n",
      "strong multicollinearity or other numerical problems.\n"
     ]
    }
   ],
   "source": [
    "reg_res = adf.regression\n",
    "print(reg_res.summary())"
   ]
  },
  {
   "cell_type": "markdown",
   "id": "74b3e1d0-2d00-4d68-afd3-9dbf232ebf94",
   "metadata": {},
   "source": [
    "#### Examine the regression residuals"
   ]
  },
  {
   "cell_type": "code",
   "execution_count": 23,
   "id": "1a14ab6f",
   "metadata": {
    "slideshow": {
     "slide_type": "subslide"
    },
    "tags": [
     "hide-input"
    ]
   },
   "outputs": [
    {
     "data": {
      "image/png": "[encoded data removed]",
      "text/plain": [
       "<Figure size 864x288 with 1 Axes>"
      ]
     },
     "metadata": {},
     "output_type": "display_data"
    }
   ],
   "source": [
    "resids = pd.DataFrame(reg_res.resid)\n",
    "resids.index = rgdp.index[3:]\n",
    "resids.columns = [\"resids\"]\n",
    "fig = resids.plot(figsize=(12,4))"
   ]
  },
  {
   "cell_type": "code",
   "execution_count": 24,
   "id": "325d5455",
   "metadata": {
    "slideshow": {
     "slide_type": "subslide"
    },
    "tags": [
     "hide-input"
    ]
   },
   "outputs": [
    {
     "data": {
      "text/plain": [
       "(-0.3, 1.1)"
      ]
     },
     "execution_count": 24,
     "metadata": {},
     "output_type": "execute_result"
    },
    {
     "data": {
      "image/png": "[encoded data removed]",
      "text/plain": [
       "<Figure size 864x288 with 1 Axes>"
      ]
     },
     "metadata": {},
     "output_type": "display_data"
    }
   ],
   "source": [
    "fig, ax = plt.subplots(figsize=(12,4))\n",
    "fig = sm.graphics.tsa.plot_acf(reg_res.resid, lags=23, ax=ax)\n",
    "ax.set_ylim([-0.3, 1.1])"
   ]
  },
  {
   "cell_type": "code",
   "execution_count": null,
   "id": "5bc7f728-0883-4891-b11f-c1af077857bc",
   "metadata": {},
   "outputs": [],
   "source": []
  }
 ],
 "metadata": {
  "celltoolbar": "Slideshow",
  "kernelspec": {
   "display_name": "Python 3 (ipykernel)",
   "language": "python",
   "name": "python3"
  },
  "language_info": {
   "codemirror_mode": {
    "name": "ipython",
    "version": 3
   },
   "file_extension": ".py",
   "mimetype": "text/x-python",
   "name": "python",
   "nbconvert_exporter": "python",
   "pygments_lexer": "ipython3",
   "version": "3.10.2"
  }
 },
 "nbformat": 4,
 "nbformat_minor": 5
}
