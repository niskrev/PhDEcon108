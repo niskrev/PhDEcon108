{
 "cells": [
  {
   "cell_type": "markdown",
   "id": "2e332b05",
   "metadata": {
    "slideshow": {
     "slide_type": "subslide"
    }
   },
   "source": [
    "# MLE of Gaussian models"
   ]
  },
  {
   "cell_type": "markdown",
   "id": "9d9d1d77-e09f-4b68-9bd0-2252f6447e7f",
   "metadata": {
    "slideshow": {
     "slide_type": "fragment"
    },
    "tags": []
   },
   "source": [
    "## Gaussian model\n",
    "\n",
    "$$\n",
    "\\mathbf{z} \\sim \\mathcal{N}(\\boldsymbol \\mu (\\mathbf{\\theta}_0), \\mathbf{\\Sigma}(\\mathbf{\\theta}_0)).\n",
    "$$\n",
    "\n",
    "###  Log-likelihood\n",
    "\n",
    "$$\\ell(\\boldsymbol \\theta | \\mathbf{z}) =  -\\frac{T}{2} \\log(2 \\pi) - \\frac{1}{2}\\log(|\\mathbf{\\Sigma}(\\mathbf{\\theta})|) - \\frac{1}{2}\\left( \\boldsymbol z - \\boldsymbol \\mu(\\theta)\\right)' \\mathbf{\\Sigma}^{-1}(\\mathbf{\\theta})\\left( \\boldsymbol z - \\boldsymbol \\mu(\\theta)\\right)$$\n",
    "\n",
    "### score w.r.t  $\\theta_i$\n",
    "\n",
    "$$\n",
    "\\begin{align}\n",
    "\\{\\boldsymbol S_{T}(\\boldsymbol \\theta)\\}_i &= \\frac{1}{2} \\operatorname{tr} \\left( \\frac{\\partial \\mathbf{\\Sigma}^{-1}(\\theta)}{\\partial \\theta_i} \\mathbf{\\Sigma}(\\theta) \\right) +  \\frac{\\partial \\mu(\\theta)'}{\\partial \\theta_i}\\mathbf{\\Sigma}^{-1}(\\theta)\\left(\\mathbf{z} - \\boldsymbol \\mu (\\theta)\\right)  - \\frac{1}{2}(\\mathbf{z} - \\boldsymbol \\mu (\\theta))' \\frac{\\partial \\mathbf{\\Sigma}^{-1}(\\theta)}{\\partial \\theta_i} (\\mathbf{z} - \\boldsymbol \\mu (\\theta)) \\\\\n",
    "&= \\frac{\\partial \\mu(\\theta)'}{\\partial \\theta_i}\\mathbf{\\Sigma}^{-1}(\\theta)\\left(\\mathbf{z} - \\boldsymbol \\mu (\\theta)\\right) \n",
    " + \\frac{1}{2} \\operatorname{tr} \\left( \\frac{\\partial \\mathbf{\\Sigma}^{-1}(\\theta)}{\\partial \\theta_i} \\left(\\mathbf{\\Sigma}(\\theta) - (\\mathbf{z} - \\boldsymbol \\mu (\\theta)) (\\mathbf{z} - \\boldsymbol \\mu (\\theta))' \\right) \\right)\\\\\n",
    "&=\\frac{\\partial \\mu(\\theta)'}{\\partial \\theta_i} \\mathbf{\\Sigma}^{-1}(\\theta)\\left(\\mathbf{z}- \\boldsymbol \\mu (\\theta)\\right)  + \\frac{1}{2} \\operatorname{vec}\\left(\\frac{\\partial \\mathbf{\\Sigma}^{-1}(\\theta)}{\\partial \\theta_i}\\right)' \\operatorname{vec}\\left( \\mathbf{\\Sigma}(\\theta) - (\\mathbf{z} - \\boldsymbol \\mu (\\theta)) (\\mathbf{z} - \\boldsymbol \\mu (\\theta))'\\right)\n",
    "\\end{align} \n",
    "$$"
   ]
  },
  {
   "cell_type": "markdown",
   "id": "68ac41cc",
   "metadata": {
    "slideshow": {
     "slide_type": "subslide"
    }
   },
   "source": [
    "## FOC:\n",
    "\n",
    "$$\n",
    "\\boldsymbol S_{T}(\\boldsymbol \\theta) = \\boldsymbol 0\\\\\n",
    "\\frac{\\partial \\mu(\\theta)'}{\\partial \\theta_i} \\mathbf{\\Sigma}^{-1}(\\theta)\\left(\\mathbf{z}- \\boldsymbol \\mu (\\theta)\\right)  + \\frac{1}{2} \\operatorname{vec}\\left(\\frac{\\partial \\mathbf{\\Sigma}^{-1}(\\theta)}{\\partial \\theta_i}\\right)' \\operatorname{vec}\\left( \\mathbf{\\Sigma}(\\theta) - (\\mathbf{z} - \\boldsymbol \\mu (\\theta)) (\\mathbf{z} - \\boldsymbol \\mu (\\theta))'\\right)= 0\n",
    "$$"
   ]
  },
  {
   "cell_type": "markdown",
   "id": "e5dd918a",
   "metadata": {
    "slideshow": {
     "slide_type": "subslide"
    }
   },
   "source": [
    "### Intuition\n",
    "\n",
    "Assume that we know $\\mu(\\theta)=0$ (data is de-meaned). MLE solves\n",
    "\n",
    "$$\n",
    "\\begin{align}\n",
    " \\frac{1}{2} \\operatorname{vec}\\left(\\frac{\\partial \\mathbf{\\Sigma}^{-1}(\\theta)}{\\partial \\theta_i}\\right)' \\operatorname{vec}\\left( \\mathbf{\\Sigma}(\\theta) - \\mathbf{z}  \\mathbf{z}'\\right)&= 0\\\\\n",
    "\\end{align} \n",
    "$$\n",
    "\n",
    "for all $i$"
   ]
  },
  {
   "cell_type": "markdown",
   "id": "49eec03b",
   "metadata": {
    "slideshow": {
     "slide_type": "fragment"
    }
   },
   "source": [
    "$$\n",
    "\\begin{align}\n",
    " \\boldsymbol W(\\theta) \\operatorname{vec}\\left( \\mathbf{\\Sigma}(\\theta) - \\mathbf{z}  \\mathbf{z}'\\right)&= 0\\\\\n",
    "\\end{align} \n",
    "$$"
   ]
  },
  {
   "cell_type": "markdown",
   "id": "ce408e44-5d17-4386-9705-781a727b9d3d",
   "metadata": {
    "slideshow": {
     "slide_type": "subslide"
    },
    "tags": []
   },
   "source": [
    "* MLE picks values of $\\theta$ that minimize the difference between __empirical__ ($\\mathbf{z}\\mathbf{z}'$) and __theoretical__ ($\\mathbf{\\Sigma}(\\theta)$) second moments\n",
    "\n",
    "* Optimality means that __information__ about $\\theta$ is maximized, i.e. estimation uncertainty is minimized\n",
    "\n",
    "* MLE is equivalent to GMM with a weighting matrix which is __optimal__ when the true distribution is Gaussian.\n",
    "\n",
    "* When $\\mathbf{\\mu}(\\theta) \\neq 0$, the same intuition holds: MLE picks $\\theta$ so as to minimize the difference between empirical and theoretical __first__ and __second__ order moments."
   ]
  },
  {
   "cell_type": "markdown",
   "id": "7fa2bfb6",
   "metadata": {
    "slideshow": {
     "slide_type": "subslide"
    }
   },
   "source": [
    "What if the true model is not Gaussian?"
   ]
  },
  {
   "cell_type": "markdown",
   "id": "5fc2e9b1",
   "metadata": {
    "slideshow": {
     "slide_type": "fragment"
    }
   },
   "source": [
    "* other moments (than first and second) will be informative"
   ]
  },
  {
   "cell_type": "markdown",
   "id": "de21f8fd",
   "metadata": {
    "slideshow": {
     "slide_type": "fragment"
    }
   },
   "source": [
    "* the Gaussian weights are not optimal"
   ]
  },
  {
   "cell_type": "markdown",
   "id": "2926e5e0",
   "metadata": {
    "slideshow": {
     "slide_type": "subslide"
    }
   },
   "source": [
    "__Fisher information matrix__\n",
    "\n",
    "$$\n",
    "\\begin{align}\n",
    "\\mathcal{I}_{T, ij}(\\boldsymbol \\theta)  &=  \\left( \\frac{\\partial \\mu(\\theta)}{\\partial \\theta_i}  \\right)' \\mathbf{\\Sigma}^{-1}(\\theta) \\left( \\frac{\\partial \\mu(\\theta)}{\\partial \\theta_j}  \\right) \\\\\n",
    "& + \\frac{1}{2}\\operatorname{tr} \\left( \\frac{\\partial \\mathbf{\\Sigma}^{-1}(\\theta)}{\\partial \\theta_i} \\mathbf{\\Sigma} (\\theta) \\frac{\\partial \\mathbf{\\Sigma}^{-1}(\\theta)}{\\partial \\theta_j} \\mathbf{\\Sigma} (\\theta)\\right)\n",
    "\\end{align}\n",
    "$$"
   ]
  },
  {
   "cell_type": "markdown",
   "id": "46bfe84f",
   "metadata": {
    "slideshow": {
     "slide_type": "fragment"
    }
   },
   "source": [
    "__asymptotic variance matrix of MLE__ $\\hat{\\mathbf{\\theta}}$\n",
    "\n",
    "$$\\left(\\underset{T\\rightarrow \\infty}{\\operatorname{lim}} \\frac{1}{T} \\mathcal{I}_{T, ij}(\\mathbf{\\theta}_0)\\right)^{-1}$$"
   ]
  }
 ],
 "metadata": {
  "celltoolbar": "Slideshow",
  "kernelspec": {
   "display_name": "Python 3 (ipykernel)",
   "language": "python",
   "name": "python3"
  },
  "language_info": {
   "codemirror_mode": {
    "name": "ipython",
    "version": 3
   },
   "file_extension": ".py",
   "mimetype": "text/x-python",
   "name": "python",
   "nbconvert_exporter": "python",
   "pygments_lexer": "ipython3",
   "version": "3.10.2"
  }
 },
 "nbformat": 4,
 "nbformat_minor": 5
}
