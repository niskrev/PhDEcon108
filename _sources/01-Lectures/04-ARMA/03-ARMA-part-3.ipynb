{
 "cells": [
  {
   "cell_type": "markdown",
   "id": "61db85a2",
   "metadata": {
    "slideshow": {
     "slide_type": "slide"
    }
   },
   "source": [
    "# ARMA models"
   ]
  },
  {
   "cell_type": "markdown",
   "id": "f472bc5c-6b0c-40d0-8db4-cc6ffbca56ba",
   "metadata": {
    "slideshow": {
     "slide_type": "fragment"
    }
   },
   "source": [
    "## Time series models\n",
    "\n",
    "* aim to capture complex temporal dependence\n",
    "* parsimoniously...\n",
    "\n",
    "* MA can be very flexible, but is not parsimonious\n",
    "\n",
    "* AR can be very parsimonious but is less flexible\n",
    "\n",
    "* ARMA models can be a way to achieve both flexibility and parsimony"
   ]
  },
  {
   "cell_type": "markdown",
   "id": "9d7d38bb",
   "metadata": {
    "slideshow": {
     "slide_type": "subslide"
    }
   },
   "source": [
    "## ARMA(p, q)\n",
    "\n",
    "$$ z_t = \\alpha_1 z_{t-1} + \\alpha_2 z_{t-1} + \\cdots + \\alpha_p z_{t-p} + \\varepsilon_{t} + \\beta_1 \\varepsilon_{t-1} + \\cdots + \\beta_q \\varepsilon_{t-q} $$"
   ]
  },
  {
   "cell_type": "markdown",
   "id": "503b0b99",
   "metadata": {
    "slideshow": {
     "slide_type": "fragment"
    }
   },
   "source": [
    "* $\\alpha_p \\neq 0$, $\\beta_q \\neq 0$"
   ]
  },
  {
   "cell_type": "markdown",
   "id": "1d7742da",
   "metadata": {
    "slideshow": {
     "slide_type": "fragment"
    }
   },
   "source": [
    "* in lag operator notation \n",
    "\n",
    "$$ \n",
    "\\begin{align}\n",
    "\\underbrace{(1-\\alpha_1 L   - \\alpha_2 L^2  - \\cdots - \\alpha_p L^p )}_{\\alpha(L)} z_t &= \\underbrace{(1 + \\beta_1 L + \\cdots + \\beta_q L^q)}_{\\beta(L)} \\varepsilon_{t} \\\\\n",
    "\\alpha(L) z_t &= \\beta(L) \\varepsilon_t\n",
    "\\end{align}\n",
    "$$"
   ]
  },
  {
   "cell_type": "markdown",
   "id": "47d14412",
   "metadata": {
    "slideshow": {
     "slide_type": "subslide"
    }
   },
   "source": [
    "### ARMA(1, 1)\n",
    "\n",
    "$$ z_t = \\alpha z_{t-1} + \\varepsilon_{t} + \\beta \\varepsilon_{t-1}  $$\n",
    "\n",
    "$$ (1-\\alpha L) z_t = (1+\\beta L)\\varepsilon_{t} $$"
   ]
  },
  {
   "cell_type": "markdown",
   "id": "06257b94",
   "metadata": {
    "slideshow": {
     "slide_type": "subslide"
    }
   },
   "source": [
    "## Stationarity and invertibility"
   ]
  },
  {
   "cell_type": "markdown",
   "id": "69c7caf2",
   "metadata": {
    "slideshow": {
     "slide_type": "fragment"
    }
   },
   "source": [
    "ARMA(p, q) is __stationary__ if the AR(p) part is stationary, i.e. if all roots of the polynomial\n",
    "\n",
    "$$ \\alpha(x) = 1 - \\alpha_1 x - \\alpha_2 x^2 - \\cdots - \\alpha_p x^p$$\n",
    "\n",
    "are outside the unit circle ($|x|>1$)"
   ]
  },
  {
   "cell_type": "markdown",
   "id": "946f4199",
   "metadata": {
    "slideshow": {
     "slide_type": "fragment"
    }
   },
   "source": [
    "ARMA(p, q) is __invertable__ if the MA(q) part is invertable, i.e. if all roots of the polynomial\n",
    "\n",
    "$$ \\beta(x) = 1 + \\beta_1 x + \\beta_2 x^2 + \\cdots + \\beta_q x^q$$\n",
    "are outside the unit circle ($|x|>1$)"
   ]
  },
  {
   "cell_type": "code",
   "execution_count": 1,
   "id": "3a7c4a97",
   "metadata": {
    "slideshow": {
     "slide_type": "skip"
    },
    "tags": [
     "hide-input"
    ]
   },
   "outputs": [],
   "source": [
    "import warnings\n",
    "warnings.simplefilter(\"ignore\", FutureWarning)\n",
    "warnings.simplefilter(\"ignore\", UserWarning)\n",
    "from statsmodels.tools.sm_exceptions import ConvergenceWarning\n",
    "warnings.simplefilter('ignore', ConvergenceWarning)\n",
    "\n",
    "import numpy as np\n",
    "from numpy.random import default_rng\n",
    "from statsmodels.tsa.arima_process import arma_acovf, ArmaProcess\n",
    "from statsmodels.tsa.arima.model import ARIMA\n",
    "import statsmodels.tsa.api as smt\n",
    "\n",
    "np.set_printoptions(precision=3, suppress=True)"
   ]
  },
  {
   "cell_type": "markdown",
   "id": "3d12189b",
   "metadata": {
    "slideshow": {
     "slide_type": "subslide"
    }
   },
   "source": [
    "__example: ARMA(1,1) in Python__\n",
    "\n",
    "$$ z_t = .6 z_{t-1} + \\varepsilon_{t} - 0.4 \\varepsilon_{t-1}  $$"
   ]
  },
  {
   "cell_type": "code",
   "execution_count": 2,
   "id": "f2e7629c",
   "metadata": {
    "slideshow": {
     "slide_type": "subslide"
    }
   },
   "outputs": [
    {
     "name": "stdout",
     "output_type": "stream",
     "text": [
      "ArmaProcess\n",
      "AR: [1.0, -0.8]\n",
      "MA: [1.0, 0.1]\n"
     ]
    }
   ],
   "source": [
    "alpha = np.array([.8])\n",
    "beta = np.array([0.1])\n",
    "ar = np.r_[1, -alpha] # coefficient on z(t) and z(t-1)\n",
    "ma = np.r_[1, beta]  # coefficients on e(t) and e(t-1)\n",
    "arma11_process = ArmaProcess(ar, ma)\n",
    "\n",
    "print(arma11_process)"
   ]
  },
  {
   "cell_type": "code",
   "execution_count": 3,
   "id": "e6d67486",
   "metadata": {
    "slideshow": {
     "slide_type": "fragment"
    }
   },
   "outputs": [
    {
     "name": "stdout",
     "output_type": "stream",
     "text": [
      "[1.25]\n",
      "[-10.]\n"
     ]
    }
   ],
   "source": [
    "print(arma11_process.arroots)\n",
    "print(arma11_process.maroots)"
   ]
  },
  {
   "cell_type": "code",
   "execution_count": 4,
   "id": "b04ea70c",
   "metadata": {
    "slideshow": {
     "slide_type": "fragment"
    }
   },
   "outputs": [
    {
     "data": {
      "text/plain": [
       "True"
      ]
     },
     "execution_count": 4,
     "metadata": {},
     "output_type": "execute_result"
    }
   ],
   "source": [
    "arma11_process.isstationary"
   ]
  },
  {
   "cell_type": "code",
   "execution_count": 5,
   "id": "6174446f",
   "metadata": {
    "slideshow": {
     "slide_type": "fragment"
    }
   },
   "outputs": [
    {
     "data": {
      "text/plain": [
       "True"
      ]
     },
     "execution_count": 5,
     "metadata": {},
     "output_type": "execute_result"
    }
   ],
   "source": [
    "arma11_process.isinvertible"
   ]
  },
  {
   "cell_type": "code",
   "execution_count": 6,
   "id": "ed63dcbc",
   "metadata": {
    "slideshow": {
     "slide_type": "subslide"
    }
   },
   "outputs": [
    {
     "data": {
      "text/plain": [
       "array([3.25 , 2.7  , 2.16 , 1.728, 1.382, 1.106, 0.885, 0.708, 0.566,\n",
       "       0.453])"
      ]
     },
     "execution_count": 6,
     "metadata": {},
     "output_type": "execute_result"
    }
   ],
   "source": [
    "arma11_process.acovf(10)"
   ]
  },
  {
   "cell_type": "code",
   "execution_count": 7,
   "id": "eb05013f",
   "metadata": {
    "slideshow": {
     "slide_type": "fragment"
    }
   },
   "outputs": [
    {
     "data": {
      "text/plain": [
       "array([1.   , 0.831, 0.665, 0.532, 0.425, 0.34 , 0.272, 0.218, 0.174,\n",
       "       0.139])"
      ]
     },
     "execution_count": 7,
     "metadata": {},
     "output_type": "execute_result"
    }
   ],
   "source": [
    "arma11_process.acf(10)"
   ]
  },
  {
   "cell_type": "code",
   "execution_count": 8,
   "id": "3b345e69",
   "metadata": {
    "slideshow": {
     "slide_type": "skip"
    }
   },
   "outputs": [
    {
     "data": {
      "text/plain": [
       "array([1.   , 0.9  , 0.72 , 0.576, 0.461, 0.369, 0.295, 0.236, 0.189,\n",
       "       0.151, 0.121, 0.097, 0.077, 0.062, 0.049])"
      ]
     },
     "execution_count": 8,
     "metadata": {},
     "output_type": "execute_result"
    }
   ],
   "source": [
    "arma11_process.arma2ma(15)"
   ]
  },
  {
   "cell_type": "code",
   "execution_count": 9,
   "id": "00ee4a62",
   "metadata": {
    "slideshow": {
     "slide_type": "fragment"
    }
   },
   "outputs": [
    {
     "data": {
      "text/plain": [
       "array([1.   , 0.9  , 0.72 , 0.576, 0.461, 0.369, 0.295, 0.236, 0.189,\n",
       "       0.151, 0.121, 0.097, 0.077, 0.062, 0.049])"
      ]
     },
     "execution_count": 9,
     "metadata": {},
     "output_type": "execute_result"
    }
   ],
   "source": [
    "# impulse responses\n",
    "arma11_process.impulse_response(15)"
   ]
  },
  {
   "cell_type": "markdown",
   "id": "947e5c32",
   "metadata": {
    "slideshow": {
     "slide_type": "subslide"
    }
   },
   "source": [
    "## Estimation of ARMA models by MLE"
   ]
  },
  {
   "cell_type": "markdown",
   "id": "f30ab195-e647-48c4-9475-0537367ceb29",
   "metadata": {
    "slideshow": {
     "slide_type": "fragment"
    }
   },
   "source": [
    "if $\\mathbf{z}$ is a sample from an ARMA processes, it can be represented as (try it for ARMA(1,1))\n",
    " \n",
    "$$\\boldsymbol C \\mathbf{z} = \\boldsymbol b +  \\boldsymbol B \\boldsymbol \\varepsilon $$\n",
    "\n",
    "where $\\boldsymbol C$ is invertible. Therefore, we can express $\\mathbf{z}$ as\n",
    "\n",
    "$$\n",
    "\\mathbf{z}  = \\boldsymbol \\mu + \\boldsymbol A \\boldsymbol \\varepsilon, \\;\\;\\; \\boldsymbol \\mu = \\boldsymbol C^{-1} \\boldsymbol b \\;\\;\\; \\boldsymbol A = \\boldsymbol C^{-1} \\boldsymbol B\n",
    "$$\n",
    "\n",
    "With \n",
    "\n",
    "$$\n",
    "\\boldsymbol \\varepsilon \\sim \\mathcal{N}(\\boldsymbol 0, \\sigma^2\\mathbf{I})\n",
    "$$\n",
    "\n",
    "we have \n",
    "\n",
    "$$\n",
    "\\mathbf{z} \\sim \\mathcal{N}(\\boldsymbol \\mu, \\mathbf{\\Sigma})\n",
    "$$\n",
    "\n",
    "where \n",
    "\n",
    "$$\\mathbf{\\Sigma} = \\sigma^2 \\boldsymbol A \\boldsymbol A'$$\n",
    "\n",
    "Therefore, this is a gaussian model\n",
    "\n",
    "$$\n",
    "\\mathbf{z} \\sim \\mathcal{N}(\\boldsymbol \\mu (\\mathbf{\\theta}_0), \\mathbf{\\Sigma}(\\mathbf{\\theta}_0)).\n",
    "$$\n",
    "\n",
    "where $\\mathbf{\\theta}$ collects the AR coefficients ($\\boldsymbol \\alpha = \\left[\\alpha_0, \\alpha_1, \\alpha_2, \\cdots, \\alpha_p \\right]$), the MA coefficients ($\\boldsymbol \\beta = \\left[\\beta_1, \\beta_2, \\cdots, \\beta_q \\right]$), and $\\sigma^2$.\n",
    "\n",
    "and we can use the Gaussian MLE to obtain $\\hat {\\boldsymbol \\theta}$\n",
    "\n",
    "###  Log-likelihood\n",
    "\n",
    "$$\\ell(\\boldsymbol \\theta | \\mathbf{z}) =  -\\frac{T}{2} \\log(2 \\pi) - \\frac{1}{2}\\log(|\\mathbf{\\Sigma}(\\mathbf{\\theta})|) - \\frac{1}{2}\\left( \\mathbf{z} - \\boldsymbol \\mu(\\theta)\\right)' \\mathbf{\\Sigma}^{-1}(\\mathbf{\\theta})\\left( \\mathbf{z} - \\boldsymbol \\mu(\\theta)\\right)$$\n",
    "\n",
    "Equivalently, by stationarity, the covariance matrix $\\mathbf{\\Sigma}$ has Toeplitz structure\n",
    "\n",
    "$$\n",
    "\\mathbf{\\Sigma} = \n",
    "\\begin{pmatrix}\n",
    "\\gamma(0) & \\gamma(1) & \\gamma(2) & \\cdots & \\gamma(T-1)\\\\\n",
    "\\gamma(1) & \\gamma(0) & \\gamma(1) & \\cdots &  \\gamma(T-2)\\\\\n",
    "\\gamma(2) & \\gamma(1) & \\gamma(0) & \\cdots &  \\vdots\\\\\n",
    "\\vdots & \\vdots & \\vdots & \\cdots &  \\vdots\\\\\n",
    "\\gamma(T-1) & \\gamma(T-2) & \\cdots  & \\cdots & \\gamma(0)\\\\\n",
    "\\end{pmatrix}\n",
    "$$\n",
    "\n",
    "\n",
    "  \n",
    "```{note}\n",
    "In practice, the log-likelihood function is evaluated using the Kalman filter (will be discussed later)\n",
    "```"
   ]
  },
  {
   "cell_type": "markdown",
   "id": "9229c18c",
   "metadata": {
    "slideshow": {
     "slide_type": "subslide"
    }
   },
   "source": [
    "### ARMA estimation in Python"
   ]
  },
  {
   "cell_type": "code",
   "execution_count": 88,
   "id": "f150c708",
   "metadata": {},
   "outputs": [
    {
     "data": {
      "text/plain": [
       "(array([1.25]), array([-10.]))"
      ]
     },
     "execution_count": 88,
     "metadata": {},
     "output_type": "execute_result"
    }
   ],
   "source": [
    "arma11_process.arroots, arma11_process.maroots"
   ]
  },
  {
   "cell_type": "code",
   "execution_count": 121,
   "id": "5dabc77a",
   "metadata": {
    "slideshow": {
     "slide_type": "slide"
    }
   },
   "outputs": [],
   "source": [
    "gen = default_rng(1)\n",
    "\n",
    "T=700\n",
    "z = arma11_process.generate_sample(T, distrvs=gen.normal)"
   ]
  },
  {
   "cell_type": "code",
   "execution_count": 122,
   "id": "6d7c8474",
   "metadata": {
    "slideshow": {
     "slide_type": "subslide"
    }
   },
   "outputs": [
    {
     "name": "stdout",
     "output_type": "stream",
     "text": [
      "                               SARIMAX Results                                \n",
      "==============================================================================\n",
      "Dep. Variable:                      y   No. Observations:                  700\n",
      "Model:                 ARIMA(1, 0, 1)   Log Likelihood                -972.782\n",
      "Date:                Mon, 14 Mar 2022   AIC                           1951.564\n",
      "Time:                        10:44:58   BIC                           1965.218\n",
      "Sample:                             0   HQIC                          1956.842\n",
      "                                - 700                                         \n",
      "Covariance Type:                  opg                                         \n",
      "==============================================================================\n",
      "                 coef    std err          z      P>|z|      [0.025      0.975]\n",
      "------------------------------------------------------------------------------\n",
      "ar.L1          0.7903      0.028     28.455      0.000       0.736       0.845\n",
      "ma.L1          0.0822      0.044      1.874      0.061      -0.004       0.168\n",
      "sigma2         0.9417      0.049     19.248      0.000       0.846       1.038\n",
      "===================================================================================\n",
      "Ljung-Box (L1) (Q):                   0.03   Jarque-Bera (JB):                 0.42\n",
      "Prob(Q):                              0.86   Prob(JB):                         0.81\n",
      "Heteroskedasticity (H):               1.38   Skew:                            -0.00\n",
      "Prob(H) (two-sided):                  0.02   Kurtosis:                         3.12\n",
      "===================================================================================\n",
      "\n",
      "Warnings:\n",
      "[1] Covariance matrix calculated using the outer product of gradients (complex-step).\n"
     ]
    }
   ],
   "source": [
    "arma_model = ARIMA(z, order=(1, 0, 1), trend=\"n\")\n",
    "arma_results = arma_model.fit()\n",
    "print(arma_results.summary())"
   ]
  },
  {
   "cell_type": "code",
   "execution_count": 105,
   "id": "153e6d90",
   "metadata": {
    "slideshow": {
     "slide_type": "fragment"
    }
   },
   "outputs": [
    {
     "data": {
      "text/plain": [
       "ArmaProcess([1.0, -0.8], [1.0, 0.1], nobs=100) at 0x21055846e60"
      ]
     },
     "execution_count": 105,
     "metadata": {},
     "output_type": "execute_result"
    }
   ],
   "source": [
    "arma11_process"
   ]
  },
  {
   "cell_type": "markdown",
   "id": "81e8623d-2ebd-4dac-83cd-5403cd9307f8",
   "metadata": {
    "slideshow": {
     "slide_type": "fragment"
    }
   },
   "source": [
    "## Model selection\n",
    "\n",
    "* need to determine $p$ (the order of AR part) and $q$ (the order of MA part)\n",
    "* by balancing model fit and model complexity\n",
    "\n",
    "want models that capture well the termporal dependence in the data but do it in a parsimonious way\n",
    "\n",
    "__Information criteria:__ combine a measure of how well a  model fits the data with a penalty for the complexity of the model, related the number of model parameters\n",
    "\n",
    "simpler models are preferred to complex ones if the fit is not much worse.\n",
    "\n",
    "\n",
    ">Everything should be made as simple as possible, but no simpler\n",
    "\n",
    "\n",
    "Let $k=p+q+1$ (dimension of $\\mathbf{\\theta}$) and $\\hat{\\mathbf{\\theta}}$ be the MLE\n",
    "\n",
    "$$\n",
    "\\begin{align}\n",
    "AIC &= -2  \\ell(\\hat{\\mathbf{\\theta}} | \\mathbf{z}) + 2 k \\;\\;\\;\\;\\;\\;\\;\\;\\;\\;\\;\\;\\;\\;\\;\\; \\text{Akaike’s Information Criterion} \\\\\n",
    "BIC &= -2  \\ell(\\hat{\\mathbf{\\theta}} | \\mathbf{z}) + k \\log(T) \\;\\;\\;\\;\\;\\;\\;\\;\\; \\text{Bayesian Information Criterion}\n",
    "\\end{align}\n",
    "$$\n",
    "\n",
    "```{note}\n",
    "BIC aka as Schwarz Information Criterion\n",
    "```\n",
    "\n",
    "* Larger $\\ell(\\hat{\\mathbf{\\theta}} | \\mathbf{z})$ means better fit\n",
    "* Larger $k$ means more parameters (higher complexity)               \n",
    "\n",
    "* Lower values of IC are better\n",
    "\n",
    "* In AIC, the penalty for complexity does not depend on the sample size\n",
    "* in BIC it does\n",
    "* as long as $\\log(T)> 2$ the BIC tends to select models with fewer parameters than AIC\n",
    "\n",
    "### Model selection procedure:\n",
    "\n",
    "* define a set of models\n",
    "* estimate each one and compute IC\n",
    "* pick the one with lowest IC value\n",
    "\n",
    "__Caveats__\n",
    "* AIC and BIC may select different models\n",
    "* they are meant to select the \"_true_\" model, but __all__ models are wrong\n",
    "* BIC is designed to find the true model, not best-ftting one (one reason to favor AIC)\n",
    "* Sometimes other criteria may be preferable, depending on the application (e.g. forecasting)"
   ]
  },
  {
   "cell_type": "markdown",
   "id": "5da1a137",
   "metadata": {
    "slideshow": {
     "slide_type": "subslide"
    }
   },
   "source": [
    "### ARMA Model selection in Python"
   ]
  },
  {
   "cell_type": "code",
   "execution_count": 123,
   "id": "ea117ca0",
   "metadata": {
    "slideshow": {
     "slide_type": "subslide"
    }
   },
   "outputs": [],
   "source": [
    "res_IC = smt.arma_order_select_ic(z,\n",
    "                                  ic=[\"aic\", \"bic\"],\n",
    "                                  trend=\"n\",\n",
    "                                  max_ar=5,\n",
    "                                  max_ma=5,)"
   ]
  },
  {
   "cell_type": "code",
   "execution_count": 124,
   "id": "e96e64e6",
   "metadata": {
    "slideshow": {
     "slide_type": "subslide"
    }
   },
   "outputs": [
    {
     "data": {
      "text/html": [
       "<div>\n",
       "<style scoped>\n",
       "    .dataframe tbody tr th:only-of-type {\n",
       "        vertical-align: middle;\n",
       "    }\n",
       "\n",
       "    .dataframe tbody tr th {\n",
       "        vertical-align: top;\n",
       "    }\n",
       "\n",
       "    .dataframe thead th {\n",
       "        text-align: right;\n",
       "    }\n",
       "</style>\n",
       "<table border=\"1\" class=\"dataframe\">\n",
       "  <thead>\n",
       "    <tr style=\"text-align: right;\">\n",
       "      <th></th>\n",
       "      <th>0</th>\n",
       "      <th>1</th>\n",
       "      <th>2</th>\n",
       "      <th>3</th>\n",
       "      <th>4</th>\n",
       "      <th>5</th>\n",
       "    </tr>\n",
       "  </thead>\n",
       "  <tbody>\n",
       "    <tr>\n",
       "      <th>0</th>\n",
       "      <td>2719.340776</td>\n",
       "      <td>2239.261973</td>\n",
       "      <td>2096.383447</td>\n",
       "      <td>2031.290866</td>\n",
       "      <td>1992.290360</td>\n",
       "      <td>1971.391897</td>\n",
       "    </tr>\n",
       "    <tr>\n",
       "      <th>1</th>\n",
       "      <td>1952.156686</td>\n",
       "      <td>1951.564413</td>\n",
       "      <td>1950.097669</td>\n",
       "      <td>1950.702283</td>\n",
       "      <td>1952.641670</td>\n",
       "      <td>1954.071994</td>\n",
       "    </tr>\n",
       "    <tr>\n",
       "      <th>2</th>\n",
       "      <td>1952.018481</td>\n",
       "      <td>1948.774677</td>\n",
       "      <td>1950.764090</td>\n",
       "      <td>1952.679354</td>\n",
       "      <td>1954.599932</td>\n",
       "      <td>1954.273888</td>\n",
       "    </tr>\n",
       "    <tr>\n",
       "      <th>3</th>\n",
       "      <td>1950.620916</td>\n",
       "      <td>1950.765701</td>\n",
       "      <td>1949.777548</td>\n",
       "      <td>1951.359154</td>\n",
       "      <td>1953.032386</td>\n",
       "      <td>1956.223225</td>\n",
       "    </tr>\n",
       "    <tr>\n",
       "      <th>4</th>\n",
       "      <td>1950.466444</td>\n",
       "      <td>1952.466307</td>\n",
       "      <td>1951.384101</td>\n",
       "      <td>1953.193051</td>\n",
       "      <td>1954.384883</td>\n",
       "      <td>1955.607200</td>\n",
       "    </tr>\n",
       "    <tr>\n",
       "      <th>5</th>\n",
       "      <td>1952.466123</td>\n",
       "      <td>1954.427275</td>\n",
       "      <td>1953.013563</td>\n",
       "      <td>1955.396999</td>\n",
       "      <td>1952.649950</td>\n",
       "      <td>1955.436449</td>\n",
       "    </tr>\n",
       "  </tbody>\n",
       "</table>\n",
       "</div>"
      ],
      "text/plain": [
       "             0            1            2            3            4  \\\n",
       "0  2719.340776  2239.261973  2096.383447  2031.290866  1992.290360   \n",
       "1  1952.156686  1951.564413  1950.097669  1950.702283  1952.641670   \n",
       "2  1952.018481  1948.774677  1950.764090  1952.679354  1954.599932   \n",
       "3  1950.620916  1950.765701  1949.777548  1951.359154  1953.032386   \n",
       "4  1950.466444  1952.466307  1951.384101  1953.193051  1954.384883   \n",
       "5  1952.466123  1954.427275  1953.013563  1955.396999  1952.649950   \n",
       "\n",
       "             5  \n",
       "0  1971.391897  \n",
       "1  1954.071994  \n",
       "2  1954.273888  \n",
       "3  1956.223225  \n",
       "4  1955.607200  \n",
       "5  1955.436449  "
      ]
     },
     "execution_count": 124,
     "metadata": {},
     "output_type": "execute_result"
    }
   ],
   "source": [
    "res_IC['aic']"
   ]
  },
  {
   "cell_type": "code",
   "execution_count": 125,
   "id": "22a6a4ba",
   "metadata": {
    "slideshow": {
     "slide_type": "subslide"
    }
   },
   "outputs": [
    {
     "data": {
      "text/html": [
       "<div>\n",
       "<style scoped>\n",
       "    .dataframe tbody tr th:only-of-type {\n",
       "        vertical-align: middle;\n",
       "    }\n",
       "\n",
       "    .dataframe tbody tr th {\n",
       "        vertical-align: top;\n",
       "    }\n",
       "\n",
       "    .dataframe thead th {\n",
       "        text-align: right;\n",
       "    }\n",
       "</style>\n",
       "<table border=\"1\" class=\"dataframe\">\n",
       "  <thead>\n",
       "    <tr style=\"text-align: right;\">\n",
       "      <th></th>\n",
       "      <th>0</th>\n",
       "      <th>1</th>\n",
       "      <th>2</th>\n",
       "      <th>3</th>\n",
       "      <th>4</th>\n",
       "      <th>5</th>\n",
       "    </tr>\n",
       "  </thead>\n",
       "  <tbody>\n",
       "    <tr>\n",
       "      <th>0</th>\n",
       "      <td>2723.891856</td>\n",
       "      <td>2248.364134</td>\n",
       "      <td>2110.036688</td>\n",
       "      <td>2049.495187</td>\n",
       "      <td>2015.045761</td>\n",
       "      <td>1998.698379</td>\n",
       "    </tr>\n",
       "    <tr>\n",
       "      <th>1</th>\n",
       "      <td>1961.258847</td>\n",
       "      <td>1965.217654</td>\n",
       "      <td>1968.301990</td>\n",
       "      <td>1973.457685</td>\n",
       "      <td>1979.948152</td>\n",
       "      <td>1985.929557</td>\n",
       "    </tr>\n",
       "    <tr>\n",
       "      <th>2</th>\n",
       "      <td>1965.671722</td>\n",
       "      <td>1966.978998</td>\n",
       "      <td>1973.519492</td>\n",
       "      <td>1979.985836</td>\n",
       "      <td>1986.457494</td>\n",
       "      <td>1990.682531</td>\n",
       "    </tr>\n",
       "    <tr>\n",
       "      <th>3</th>\n",
       "      <td>1968.825237</td>\n",
       "      <td>1973.521102</td>\n",
       "      <td>1977.084030</td>\n",
       "      <td>1983.216716</td>\n",
       "      <td>1989.441028</td>\n",
       "      <td>1997.182948</td>\n",
       "    </tr>\n",
       "    <tr>\n",
       "      <th>4</th>\n",
       "      <td>1973.221846</td>\n",
       "      <td>1979.772789</td>\n",
       "      <td>1983.241664</td>\n",
       "      <td>1989.601694</td>\n",
       "      <td>1995.344606</td>\n",
       "      <td>2001.118004</td>\n",
       "    </tr>\n",
       "    <tr>\n",
       "      <th>5</th>\n",
       "      <td>1979.772605</td>\n",
       "      <td>1986.284837</td>\n",
       "      <td>1989.422206</td>\n",
       "      <td>1996.356722</td>\n",
       "      <td>1998.160754</td>\n",
       "      <td>2005.498332</td>\n",
       "    </tr>\n",
       "  </tbody>\n",
       "</table>\n",
       "</div>"
      ],
      "text/plain": [
       "             0            1            2            3            4  \\\n",
       "0  2723.891856  2248.364134  2110.036688  2049.495187  2015.045761   \n",
       "1  1961.258847  1965.217654  1968.301990  1973.457685  1979.948152   \n",
       "2  1965.671722  1966.978998  1973.519492  1979.985836  1986.457494   \n",
       "3  1968.825237  1973.521102  1977.084030  1983.216716  1989.441028   \n",
       "4  1973.221846  1979.772789  1983.241664  1989.601694  1995.344606   \n",
       "5  1979.772605  1986.284837  1989.422206  1996.356722  1998.160754   \n",
       "\n",
       "             5  \n",
       "0  1998.698379  \n",
       "1  1985.929557  \n",
       "2  1990.682531  \n",
       "3  1997.182948  \n",
       "4  2001.118004  \n",
       "5  2005.498332  "
      ]
     },
     "execution_count": 125,
     "metadata": {},
     "output_type": "execute_result"
    }
   ],
   "source": [
    "res_IC['bic']"
   ]
  },
  {
   "cell_type": "code",
   "execution_count": 126,
   "id": "974cb610",
   "metadata": {
    "slideshow": {
     "slide_type": "subslide"
    }
   },
   "outputs": [
    {
     "name": "stdout",
     "output_type": "stream",
     "text": [
      "(2, 1)\n",
      "(1, 0)\n"
     ]
    }
   ],
   "source": [
    "print(res_IC.aic_min_order)\n",
    "print(res_IC.bic_min_order)"
   ]
  }
 ],
 "metadata": {
  "celltoolbar": "Slideshow",
  "kernelspec": {
   "display_name": "Python 3 (ipykernel)",
   "language": "python",
   "name": "python3"
  },
  "language_info": {
   "codemirror_mode": {
    "name": "ipython",
    "version": 3
   },
   "file_extension": ".py",
   "mimetype": "text/x-python",
   "name": "python",
   "nbconvert_exporter": "python",
   "pygments_lexer": "ipython3",
   "version": "3.10.2"
  }
 },
 "nbformat": 4,
 "nbformat_minor": 5
}
