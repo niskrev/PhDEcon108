{
 "cells": [
  {
   "cell_type": "markdown",
   "id": "6e954b02",
   "metadata": {
    "slideshow": {
     "slide_type": "slide"
    }
   },
   "source": [
    "# Forecasting"
   ]
  },
  {
   "cell_type": "markdown",
   "id": "a7c40a22",
   "metadata": {
    "slideshow": {
     "slide_type": "subslide"
    }
   },
   "source": [
    "Time series models are (largely) models of the temporal dependence observed in time series data\n",
    "\n",
    "* the future depends of the past\n",
    "* the past is informative about the future "
   ]
  },
  {
   "cell_type": "markdown",
   "id": "08b8428a",
   "metadata": {
    "slideshow": {
     "slide_type": "notes"
    }
   },
   "source": [
    "One motivation behind fitting models to a time series is to forecast future unobserved observations - which would not be possible without a model.\n",
    "\n",
    "Prediction is interesting for a variety of reasons. First, it is one of the\n",
    "few rationalizations for time-series to be a subject of its own, divorced from\n",
    "economics."
   ]
  },
  {
   "cell_type": "markdown",
   "id": "2498c085",
   "metadata": {
    "slideshow": {
     "slide_type": "subslide"
    }
   },
   "source": [
    "## Time series process $\\{z_t \\}_{t=-\\infty}^{\\infty}$\n",
    "\n",
    "$$\\boldsymbol Z^{\\infty} = \\begin{bmatrix}\\vdots \\\\ z_{-k} \\\\z_{-k+1}\\\\\\vdots  \\\\z_{-1}\\\\z_0\\\\z_1\\\\\\vdots\\\\z_T\\\\z_{T+1}\\\\\\vdots\\end{bmatrix} $$"
   ]
  },
  {
   "cell_type": "markdown",
   "id": "dc7d5d47",
   "metadata": {
    "slideshow": {
     "slide_type": "subslide"
    }
   },
   "source": [
    "Consider $z_{T+1}$\n",
    "\n",
    "* at time $T$ it is a random variable with some (marginal) distribution"
   ]
  },
  {
   "cell_type": "markdown",
   "id": "c95897b3",
   "metadata": {
    "slideshow": {
     "slide_type": "fragment"
    }
   },
   "source": [
    "* and a conditional distribution, given  $\\mathbf{z} = \\{z_t \\}_{t=1}^{T}$\n",
    "\n",
    "$$ p(z_{T+1} |  \\mathbf{z} ) $$"
   ]
  },
  {
   "cell_type": "markdown",
   "id": "70aa8411",
   "metadata": {
    "slideshow": {
     "slide_type": "fragment"
    }
   },
   "source": [
    "* describes all knowledge of $z_{T+1}$ given $\\mathbf{z}$"
   ]
  },
  {
   "cell_type": "markdown",
   "id": "00a1f033",
   "metadata": {
    "slideshow": {
     "slide_type": "fragment"
    }
   },
   "source": [
    "* called __predictive distribution__"
   ]
  },
  {
   "cell_type": "markdown",
   "id": "14aefaaf",
   "metadata": {
    "slideshow": {
     "slide_type": "subslide"
    }
   },
   "source": [
    "similarly for $z_{T+h}$\n",
    "\n",
    "$$ p(z_{T+h} |  \\mathbf{z} ) $$"
   ]
  },
  {
   "cell_type": "markdown",
   "id": "68684ac4",
   "metadata": {
    "slideshow": {
     "slide_type": "subslide"
    }
   },
   "source": [
    "### Point forecast\n",
    "\n",
    "* What is our best guess $z^{f}_{T+h}$ of $z_{T+h}$ given information availalbe as of $T$?"
   ]
  },
  {
   "cell_type": "markdown",
   "id": "2845e503",
   "metadata": {
    "slideshow": {
     "slide_type": "fragment"
    }
   },
   "source": [
    "* Depends on how we define \"best\", i.e. what the optimality criterion is"
   ]
  },
  {
   "cell_type": "markdown",
   "id": "6c36ddf9",
   "metadata": {
    "slideshow": {
     "slide_type": "fragment"
    }
   },
   "source": [
    "* if the goal is to minimize the __expected (mean) square error__\n",
    "\n",
    "$$\\operatorname{E} \\left((z_{T+h} - z^{f}_{T+h})^2 | \\mathbf{z}\\right) $$\n",
    "    "
   ]
  },
  {
   "cell_type": "markdown",
   "id": "80e70704",
   "metadata": {
    "slideshow": {
     "slide_type": "fragment"
    }
   },
   "source": [
    "the best point forecast is\n",
    "\n",
    "$$\\operatorname{E}(z_{T+h} | \\mathbf{z}) = \\operatorname{E}_T (z_{T+h}) $$"
   ]
  },
  {
   "cell_type": "markdown",
   "id": "361ced12",
   "metadata": {
    "slideshow": {
     "slide_type": "fragment"
    }
   },
   "source": [
    "* for other loss functions, the optimal forecast is another characteristics of the predictive distribution (e.g. the median)"
   ]
  },
  {
   "cell_type": "markdown",
   "id": "10abd1c9",
   "metadata": {
    "slideshow": {
     "slide_type": "subslide"
    }
   },
   "source": [
    "*  $ p(z_{T+h} |  \\mathbf{z} ) $ and $\\operatorname{E}(z_{T+h} | \\mathbf{z})$ are unknown\n",
    "* we use models to approximate them"
   ]
  },
  {
   "cell_type": "markdown",
   "id": "238ac48d",
   "metadata": {
    "slideshow": {
     "slide_type": "subslide"
    }
   },
   "source": [
    "## Forecasting for AR(1) model\n",
    "\n",
    "$$\n",
    "z_{t} = \\alpha z_{t-1} + \\varepsilon_{t}\n",
    "$$\n",
    "\n",
    "\n",
    "* at time $T$ we observe $z_{1}, z_{2}, \\cdots, z_{T}$ and want to forecast $z_{T+h}$"
   ]
  },
  {
   "cell_type": "markdown",
   "id": "36627726",
   "metadata": {
    "slideshow": {
     "slide_type": "fragment"
    }
   },
   "source": [
    "* $h = 1$\n",
    "\n",
    "$$\n",
    "z_{T+1} = \\alpha z_{T} + \\varepsilon_{T+1}\n",
    "$$"
   ]
  },
  {
   "cell_type": "markdown",
   "id": "7c1c3ff0",
   "metadata": {
    "slideshow": {
     "slide_type": "fragment"
    }
   },
   "source": [
    "$$\\operatorname{E}(z_{T+1} | z_{1}, z_{2}, \\cdots, z_{T} ) =  \\operatorname{E}(z_{T+1} | z_{T} ) = \\alpha z_{T}  $$"
   ]
  },
  {
   "cell_type": "markdown",
   "id": "390929cb",
   "metadata": {
    "slideshow": {
     "slide_type": "fragment"
    }
   },
   "source": [
    "why?"
   ]
  },
  {
   "cell_type": "markdown",
   "id": "5da9faee",
   "metadata": {
    "slideshow": {
     "slide_type": "fragment"
    }
   },
   "source": [
    "the information in past $z$'s is the same as information in past $\\varepsilon$'s, and $\\varepsilon_{T+1}$ is __unpredictable__"
   ]
  },
  {
   "cell_type": "markdown",
   "id": "35c5bcb3",
   "metadata": {
    "slideshow": {
     "slide_type": "subslide"
    }
   },
   "source": [
    "* $h = 2 $\n",
    "\n",
    "$$\n",
    "\\begin{align}\n",
    "z_{T+2} &= \\alpha z_{T+1} + \\varepsilon_{T+2}\\\\\n",
    "        &= \\alpha^2 z_{T} + \\alpha \\varepsilon_{T+1} + \\varepsilon_{T+2}\\\\\n",
    "\\end{align}\n",
    "$$"
   ]
  },
  {
   "cell_type": "markdown",
   "id": "87b0c000",
   "metadata": {
    "slideshow": {
     "slide_type": "fragment"
    }
   },
   "source": [
    "$$\\operatorname{E}(z_{T+2} | z_{1}, z_{2}, \\cdots, z_{T} ) =  \\operatorname{E}(z_{T+2} | z_{T} ) = \\alpha^2 z_{T}  $$"
   ]
  },
  {
   "cell_type": "markdown",
   "id": "f00673f9",
   "metadata": {
    "slideshow": {
     "slide_type": "subslide"
    }
   },
   "source": [
    "* for any $h > 0$\n",
    "\n",
    "$$\\operatorname{E}(z_{T+h} | z_{1}, z_{2}, \\cdots, z_{T} ) =  \\operatorname{E}(z_{T+h} | z_{T} ) = \\alpha^h z_{T}  $$"
   ]
  },
  {
   "cell_type": "markdown",
   "id": "13656811",
   "metadata": {
    "slideshow": {
     "slide_type": "fragment"
    }
   },
   "source": [
    "* as $h\\longrightarrow \\infty$\n",
    "\n",
    "$$\\operatorname{E}(z_{T+h} | z_{T} ) \\longrightarrow 0 = \\operatorname{E}(z_{t})  $$"
   ]
  },
  {
   "cell_type": "markdown",
   "id": "237a0295",
   "metadata": {
    "slideshow": {
     "slide_type": "subslide"
    }
   },
   "source": [
    "first-order Markov process:\n",
    "    \n",
    "$$ p(z_{T+1} |  z_{1}, z_{2}, \\cdots, z_{T} ) = p(z_{T+1} |  z_{T} )  $$"
   ]
  },
  {
   "cell_type": "markdown",
   "id": "74969cf3",
   "metadata": {
    "slideshow": {
     "slide_type": "fragment"
    }
   },
   "source": [
    "    \n",
    "$z_{T+1}$ and $z_{1:T-1}$ are independent, conditional on $z_{T}$ "
   ]
  },
  {
   "cell_type": "markdown",
   "id": "27296f4b",
   "metadata": {
    "slideshow": {
     "slide_type": "fragment"
    }
   },
   "source": [
    "higher-order Markov processes (AR(p)):\n",
    "    \n",
    "$z_{T+1}$ and $z_{1:T-p}$ are independent, conditional on $z_{T-p+1:T}$ "
   ]
  },
  {
   "cell_type": "markdown",
   "id": "49349177",
   "metadata": {
    "slideshow": {
     "slide_type": "subslide"
    }
   },
   "source": [
    "### Mean squared error of the forecasts (MSE) \n",
    "\n",
    "* $h=1$\n",
    "\n",
    "$$\n",
    "\\begin{align}\n",
    " \\operatorname{E}  \\left( (z_{T+1} - z^{f}_{T+1})^2 \\right) &=  \n",
    "\\operatorname{Var}\\left( z_{T+1} - \\operatorname{E}(z_{T+1} | z_{T} ) \\right)\\\\ &= \\operatorname{Var}\\left(z_{T+1} - \\alpha z_{T} \\right)\\\\ & = \\operatorname{Var}\\left(\\varepsilon_{T+1} \\right)\\\\ \n",
    "& = \\sigma^2\n",
    "\\end{align}\n",
    "$$"
   ]
  },
  {
   "cell_type": "markdown",
   "id": "f7fe7314",
   "metadata": {
    "slideshow": {
     "slide_type": "subslide"
    }
   },
   "source": [
    "* $h>1$\n",
    "\n",
    "$$\n",
    "\\begin{align}\n",
    " \\operatorname{E}  \\left( (z_{T+h} - z^{f}_{T+h})^2 \\right) &= \\operatorname{Var}\\left(z_{T+h} - \\alpha^h z_{T} \\right)\\\\ & = \\operatorname{Var}\\left(\\varepsilon_{T+h} + \\alpha \\varepsilon_{T+h-1} + \\cdots, + \\alpha^{h-1}\\varepsilon_{T+1}\\right)\\\\ \n",
    "& = \\sigma^2 \\left( 1 + \\alpha^2 + \\cdots + \\alpha^{2(h-1)} \\right)\n",
    "\\end{align}\n",
    "$$"
   ]
  },
  {
   "cell_type": "markdown",
   "id": "26740b1c",
   "metadata": {
    "slideshow": {
     "slide_type": "fragment"
    }
   },
   "source": [
    "* as $h\\longrightarrow \\infty$\n",
    "\n",
    "$$\n",
    "\\begin{align}\n",
    " \\operatorname{E}  \\left( (z_{T+h} - z^{f}_{T+h})^2 \\right)  \\longrightarrow  \\frac{\\sigma^2}{(1 - \\alpha^2)} = \\operatorname{Var}(z_{t})\n",
    "\\end{align}\n",
    "$$"
   ]
  },
  {
   "cell_type": "markdown",
   "id": "b240b072",
   "metadata": {
    "slideshow": {
     "slide_type": "subslide"
    }
   },
   "source": [
    "## Forecasting for AR(p) model\n",
    "\n",
    "$$\n",
    "z_{t} = \\alpha_1 z_{t-1} + \\alpha_2 z_{t-2} + \\cdots + \\alpha_p z_{t-p} + \\varepsilon_{t}\n",
    "$$"
   ]
  },
  {
   "cell_type": "markdown",
   "id": "62b7dd6d",
   "metadata": {
    "slideshow": {
     "slide_type": "fragment"
    }
   },
   "source": [
    "* $h = 1$\n",
    "\n",
    "$$\n",
    "z_{T+1} = \\alpha_1 z_{T} + \\alpha_2 z_{T-1} + \\cdots + \\alpha_p z_{T+1-p} + \\varepsilon_{T+1}\n",
    "$$\n",
    "\n",
    "$$\\operatorname{E}(z_{T+1} | z_{1}, z_{2}, \\cdots, z_{T} ) =  \\operatorname{E}(z_{T+1} | z_{T+1-p}, \\cdots,z_{T-1}  ,z_{T} ) = \\alpha_1 z_{T} + \\alpha_2 z_{T-1} + \\cdots + \\alpha_p z_{T+1-p}  $$"
   ]
  },
  {
   "cell_type": "markdown",
   "id": "e8f7910f",
   "metadata": {
    "slideshow": {
     "slide_type": "subslide"
    }
   },
   "source": [
    "for $h>1$, it is easier to use a VAR(1) representation:\n",
    "    \n",
    "\n",
    "$$\n",
    "\\underset{\\mathbf{z}_t}{\\underbrace{\\left[\\begin{array}{c}\n",
    "z_{t}\\\\\n",
    "z_{t-1}\\\\\n",
    "\\vdots\\\\\n",
    "z_{t-p+1}\n",
    "\\end{array}\\right]}}\n",
    "=\n",
    "\\underset{\\boldsymbol A}{\\underbrace{\\left[\\begin{array}{cccccccc}\n",
    "\\alpha_1 & \\alpha_2 & \\cdots & \\alpha_{p-1} & \\alpha_p\\\\\n",
    "1 &  0 & \\cdots & 0 & 0\\\\\n",
    "\\vdots & \\vdots & \\vdots & \\vdots \\\\\n",
    "0  & 0  & \\cdots & 1 & 0\n",
    "\\end{array}\\right]}}\n",
    "\\underset{\\mathbf{z}_{t-1}}{\\underbrace{\\left[\\begin{array}{c}\n",
    "z_{t-1}\\\\\n",
    "z_{t-2}\\\\\n",
    "\\vdots\\\\\n",
    "z_{t-p}\n",
    "\\end{array}\\right]}}\n",
    "+\n",
    "\\underset{\\boldsymbol \\varepsilon_{t}}{\\underbrace{\\left[\\begin{array}{c}\n",
    "\\varepsilon_{t}\\\\\n",
    "0\\\\\n",
    "\\vdots\\\\\n",
    "0\n",
    "\\end{array}\\right]}}\n",
    "$$"
   ]
  },
  {
   "cell_type": "markdown",
   "id": "11877a73",
   "metadata": {
    "slideshow": {
     "slide_type": "fragment"
    }
   },
   "source": [
    "$$\n",
    "\\begin{align}\n",
    "\\mathbf{z}_{T+1}  &= \\boldsymbol A \\mathbf{z}_{T} + \\boldsymbol \\varepsilon_{T+1}\\\\\n",
    "\\operatorname{E}(\\mathbf{z}_{T+1} | \\mathbf{z}_{T} )  &= \\boldsymbol A \\mathbf{z}_{T}\n",
    "\\end{align}\n",
    "$$"
   ]
  },
  {
   "cell_type": "markdown",
   "id": "bca45a6a",
   "metadata": {
    "slideshow": {
     "slide_type": "fragment"
    }
   },
   "source": [
    "$$\n",
    "\\operatorname{E}(\\mathbf{z}_{T+h} | \\mathbf{z}_{T} )  = \\boldsymbol A^h \\mathbf{z}_{T}\n",
    "$$"
   ]
  },
  {
   "cell_type": "markdown",
   "id": "81e41bed",
   "metadata": {
    "slideshow": {
     "slide_type": "fragment"
    }
   },
   "source": [
    "$$\n",
    "\\mathbf{z}_{T+h}  - \\operatorname{E}(\\mathbf{z}_{T+h} | \\mathbf{z}_{T} )  = \\boldsymbol A^{h-1} \\boldsymbol \\varepsilon_{T+1} + \\boldsymbol A^{h+2} \\boldsymbol \\varepsilon_{T+2}+ \\cdots + \\boldsymbol \\varepsilon_{T+h}\n",
    "$$"
   ]
  },
  {
   "cell_type": "markdown",
   "id": "5b7844a8",
   "metadata": {
    "slideshow": {
     "slide_type": "subslide"
    }
   },
   "source": [
    "Let $\\mathbf{e} = [1, 0, 0, \\cdots, 0]'$ be a $p$ dimensional vector (first column of a $p \\times p$ identity matrix). Then \n",
    "\n",
    "$$z_{T+h} = \\mathbf{e}' \\mathbf{z}_{T+h}  $$\n",
    "\n",
    "and \n",
    "\n",
    "$$\n",
    "\\operatorname{E}(z_{T+h} | \\mathbf{z}_{T} )  = \\mathbf{e}'  \\boldsymbol A^h \\mathbf{z}_{T}\n",
    "$$"
   ]
  },
  {
   "cell_type": "markdown",
   "id": "eba6759e",
   "metadata": {
    "slideshow": {
     "slide_type": "fragment"
    }
   },
   "source": [
    "$$\n",
    "\\operatorname{E} \\left[ \\left( \\mathbf{z}_{T+h}  - \\operatorname{E}(\\mathbf{z}_{T+h} | \\mathbf{z}_{T} ) \\right)^2 \\right] = (\\boldsymbol A^{h-1} \\boldsymbol \\varepsilon_{T+1} + \\boldsymbol A^{h+2} \\boldsymbol \\varepsilon_{T-2}+ \\cdots + \\boldsymbol \\varepsilon_{T+h})^2\n",
    "$$"
   ]
  },
  {
   "cell_type": "markdown",
   "id": "2c5153ba",
   "metadata": {
    "slideshow": {
     "slide_type": "fragment"
    }
   },
   "source": [
    "* the MSE of the forecast:\n",
    "\n",
    "$$\n",
    "\\mathbf{e}' \\operatorname{E} \\left[ \\left( \\mathbf{z}_{T+h}  - \\operatorname{E}(\\mathbf{z}_{T+h} | \\mathbf{z}_{T} ) \\right)^2 \\right] \\mathbf{e} = \\sigma^2 \\left( a_{h-1}^2 + a_{h-2}^2 + \\cdots + 1 \\right)\n",
    "$$\n",
    "\n",
    "where $a_i = \\mathbf{e}' \\boldsymbol A^{i}  \\mathbf{e} $"
   ]
  },
  {
   "cell_type": "markdown",
   "id": "adf3a804",
   "metadata": {
    "slideshow": {
     "slide_type": "subslide"
    }
   },
   "source": [
    "## Forecasting for MA(q) and ARMA(p,q) models"
   ]
  },
  {
   "cell_type": "markdown",
   "id": "23b68f49",
   "metadata": {
    "slideshow": {
     "slide_type": "subslide"
    }
   },
   "source": [
    "### MA(q)\n",
    "\n",
    "$$ z_t = \\varepsilon_{t} + \\beta_1 \\varepsilon_{t-1} + \\cdots + \\beta_q \\varepsilon_{t-q} $$"
   ]
  },
  {
   "cell_type": "markdown",
   "id": "53027c7c",
   "metadata": {
    "slideshow": {
     "slide_type": "fragment"
    }
   },
   "source": [
    "$$ z_{T+1} = \\varepsilon_{T+1} + \\beta_1 \\varepsilon_{T} + \\cdots + \\beta_q \\varepsilon_{T-q+1} $$"
   ]
  },
  {
   "cell_type": "markdown",
   "id": "0c600e95",
   "metadata": {
    "slideshow": {
     "slide_type": "fragment"
    }
   },
   "source": [
    "$$ \n",
    "\\begin{align}\n",
    "\\operatorname{E}_{T} z_{T+1} &= \\operatorname{E}_{T} \\varepsilon_{T+1} + \\beta_1 \\operatorname{E}_{T} \\varepsilon_{T} + \\cdots + \\beta_q \\operatorname{E}_{T} \\varepsilon_{T-q+1} \\\\\n",
    "&= \\beta_1 \\operatorname{E}_{T} \\varepsilon_{T} + \\cdots + \\beta_q \\operatorname{E}_{T} \\varepsilon_{T-q+1} \n",
    "\\end{align}\n",
    "$$"
   ]
  },
  {
   "cell_type": "markdown",
   "id": "307d6201",
   "metadata": {
    "slideshow": {
     "slide_type": "fragment"
    }
   },
   "source": [
    "$$ \n",
    "\\begin{align}\n",
    "\\operatorname{E}_{T} z_{T+2} &= \\beta_2 \\operatorname{E}_{T} \\varepsilon_{T} + \\cdots + \\beta_q \\operatorname{E}_{T} \\varepsilon_{T-q+2} \\;\\;\\; (h=2)\n",
    "\\end{align}\n",
    "$$"
   ]
  },
  {
   "cell_type": "markdown",
   "id": "2e5ac2fc",
   "metadata": {
    "slideshow": {
     "slide_type": "fragment"
    }
   },
   "source": [
    "$$ \n",
    "\\begin{align}\n",
    "\\operatorname{E}_{T} z_{T+q} &=  \\beta_q \\operatorname{E}_{T} \\varepsilon_{T} \\;\\;\\;\\; (h=q)\n",
    "\\end{align}\n",
    "$$"
   ]
  },
  {
   "cell_type": "markdown",
   "id": "91632e0a",
   "metadata": {
    "slideshow": {
     "slide_type": "subslide"
    }
   },
   "source": [
    "* if $h>q$\n",
    "\n",
    "$$ \n",
    "\\begin{align}\n",
    "\\operatorname{E}_{T} z_{T+h} =  0\n",
    "\\end{align}\n",
    "$$"
   ]
  },
  {
   "cell_type": "markdown",
   "id": "9849ac84",
   "metadata": {
    "slideshow": {
     "slide_type": "subslide"
    }
   },
   "source": [
    "by __invertability__ of MA(q):\n",
    "\n",
    "$$ \n",
    "\\begin{align}\n",
    "z_t &= \\boldsymbol \\beta(L) \\varepsilon_t\\\\\n",
    "\\varepsilon_t  &= \\frac{1}{\\boldsymbol \\beta(L)} = \\boldsymbol \\alpha(L)z_t \\\\ \n",
    "\\end{align}\n",
    "$$"
   ]
  },
  {
   "cell_type": "markdown",
   "id": "32b69d28",
   "metadata": {
    "slideshow": {
     "slide_type": "fragment"
    }
   },
   "source": [
    "\n",
    "$$ \n",
    "\\begin{align}\n",
    "\\operatorname{E}_T \\varepsilon_T &=  \\operatorname{E}_T \\boldsymbol \\alpha(L) z_T \\\\ \n",
    "&=  \\operatorname{E}_T (z_T + \\alpha_1 z_{T-1} + \\alpha_2 z_{T-2} + \\cdots )\\\\ \n",
    "&= z_T + \\alpha_1 z_{T-1} + \\alpha_2 z_{T-2} + \\cdots + \\alpha_{T-1} z_{1}\n",
    "\\end{align}\n",
    "$$"
   ]
  },
  {
   "cell_type": "code",
   "execution_count": 1,
   "id": "022c5b0a",
   "metadata": {
    "slideshow": {
     "slide_type": "skip"
    },
    "tags": [
     "hide-input"
    ]
   },
   "outputs": [],
   "source": [
    "import warnings\n",
    "warnings.simplefilter(\"ignore\", FutureWarning)\n",
    "warnings.simplefilter(\"ignore\", UserWarning)\n",
    "from statsmodels.tools.sm_exceptions import ConvergenceWarning\n",
    "warnings.simplefilter('ignore', ConvergenceWarning)\n",
    "\n",
    "import numpy as np\n",
    "from numpy.random import default_rng\n",
    "from statsmodels.tsa.arima_process import arma_acovf, ArmaProcess\n",
    "\n",
    "import statsmodels.tsa.api as smt\n",
    "\n",
    "np.set_printoptions(precision=3, suppress=True)"
   ]
  },
  {
   "cell_type": "markdown",
   "id": "3e2e558a",
   "metadata": {
    "slideshow": {
     "slide_type": "subslide"
    }
   },
   "source": [
    "__getting $\\alpha_i$ in Python__"
   ]
  },
  {
   "cell_type": "code",
   "execution_count": 4,
   "id": "0e74630f",
   "metadata": {
    "slideshow": {
     "slide_type": "fragment"
    },
    "tags": [
     "hide-input",
     "hide-output"
    ]
   },
   "outputs": [
    {
     "data": {
      "text/plain": [
       "array([ 1.   , -0.6  ,  0.66 , -0.576,  0.544, -0.499,  0.462, -0.427,\n",
       "        0.395, -0.365,  0.338, -0.312,  0.289, -0.267,  0.247, -0.228,\n",
       "        0.211, -0.195,  0.18 , -0.167,  0.154, -0.142,  0.132, -0.122,\n",
       "        0.112, -0.104,  0.096, -0.089,  0.082, -0.076,  0.07 , -0.065,\n",
       "        0.06 , -0.055,  0.051, -0.047,  0.044, -0.041,  0.037, -0.035,\n",
       "        0.032, -0.03 ,  0.027, -0.025,  0.023, -0.022,  0.02 , -0.018,\n",
       "        0.017, -0.016,  0.015, -0.014,  0.012, -0.012,  0.011, -0.01 ,\n",
       "        0.009, -0.008,  0.008, -0.007,  0.007, -0.006,  0.006, -0.005,\n",
       "        0.005, -0.005,  0.004, -0.004,  0.004, -0.003,  0.003, -0.003,\n",
       "        0.003, -0.002,  0.002, -0.002,  0.002, -0.002,  0.002, -0.001,\n",
       "        0.001, -0.001,  0.001, -0.001,  0.001, -0.001,  0.001, -0.001,\n",
       "        0.001, -0.001,  0.001, -0.001,  0.001, -0.   ,  0.   , -0.   ,\n",
       "        0.   , -0.   ,  0.   , -0.   ])"
      ]
     },
     "execution_count": 4,
     "metadata": {},
     "output_type": "execute_result"
    }
   ],
   "source": [
    "beta = np.array([.6, -.3]) # coefficients on e(t-1) and e(t-2)\n",
    "ar = [1]  # coefficient on z_t\n",
    "ma = np.r_[1, beta]\n",
    "ma2_process = ArmaProcess(ar, ma)\n",
    "\n",
    "ma2_process.arma2ar(100)\n",
    "#statsmodels.tsa.arima_process.arma_impulse_response(ma=[1.0,], ar=[1, .6, -.3], leads=10)"
   ]
  },
  {
   "cell_type": "markdown",
   "id": "4b5816a3",
   "metadata": {
    "slideshow": {
     "slide_type": "subslide"
    }
   },
   "source": [
    "* the MSE of forecast:\n",
    "* h = 2\n",
    "\n",
    "$$ \n",
    "\\begin{align}\n",
    "z_{T+2} &= \\varepsilon_{T+2} + \\beta_1  \\varepsilon_{T+1} + \\beta_2  \\varepsilon_{T} + \\cdots + \\beta_q \\operatorname{E}_{T} \\varepsilon_{T-q+2} \\\\\n",
    "\\operatorname{E}_{T} z_{T+2} &= \\beta_2 \\operatorname{E}_{T} \\varepsilon_{T} + \\cdots + \\beta_q \\operatorname{E}_{T} \\varepsilon_{T-q+2} \n",
    "\\end{align}\n",
    "$$"
   ]
  },
  {
   "cell_type": "markdown",
   "id": "bd2a6a4b",
   "metadata": {
    "slideshow": {
     "slide_type": "fragment"
    }
   },
   "source": [
    "If $\\operatorname{E}_{T} \\varepsilon_{T} \\approx  \\varepsilon_{T}$, $\\operatorname{E}_{T} \\varepsilon_{T-1} \\approx  \\varepsilon_{T-1}$, etc:\n",
    "\n",
    "$$\n",
    "\\operatorname{E} \\left[ \\left( z_{T+2}  - \\operatorname{E}(z_{T+2} | \\mathbf{z}_{T} ) \\right)^2 \\right] \\mathbf{e} = \\sigma^2 \\left( 1 + \\beta_{1}^2\\right)\n",
    "$$"
   ]
  },
  {
   "cell_type": "markdown",
   "id": "11e53f18",
   "metadata": {
    "slideshow": {
     "slide_type": "fragment"
    }
   },
   "source": [
    "* general $h$\n",
    "\n",
    "$$\n",
    "\\operatorname{E} \\left[ \\left( z_{T+h}  - \\operatorname{E}(z_{T+h} | \\mathbf{z}_{T} ) \\right)^2 \\right] \\mathbf{e} = \\sigma^2 \\left( 1 + \\beta_{1}^2 + \\beta_{2}^2 + \\cdots + \\beta_{h-1}^2 \\right)\n",
    "$$"
   ]
  },
  {
   "cell_type": "markdown",
   "id": "94101e97",
   "metadata": {
    "slideshow": {
     "slide_type": "subslide"
    }
   },
   "source": [
    "## ARMA(p, q)\n",
    "\n",
    "$$\n",
    "\\begin{align}\n",
    "z_t &= \\alpha_1 z_{t-1}  + \\cdots + \\alpha_p z_{t-p} + \\varepsilon_{t} + \\beta_1 \\varepsilon_{t-1} + \\cdots + \\beta_q \\varepsilon_{t-q}\n",
    "\\end{align}\n",
    "$$\n",
    "\n"
   ]
  },
  {
   "cell_type": "markdown",
   "id": "38422fa8",
   "metadata": {
    "slideshow": {
     "slide_type": "fragment"
    }
   },
   "source": [
    "$$\n",
    "z_{T+1} = \\alpha_1 z_{T} + \\cdots + \\alpha_p z_{T-p+1} + \\varepsilon_{T+1} + \\beta_1 \\varepsilon_{T} + \\cdots + \\beta_q \\varepsilon_{T-q+1}\n",
    "$$"
   ]
  },
  {
   "cell_type": "markdown",
   "id": "57697280",
   "metadata": {
    "slideshow": {
     "slide_type": "fragment"
    }
   },
   "source": [
    "$$ \n",
    "\\begin{align}\n",
    "\\operatorname{E}_{T} z_{T+1} &= \\alpha_1 z_{T}  + \\cdots + \\alpha_p z_{T-p+1}  + \\beta_1 \\operatorname{E}_{T} \\varepsilon_{T} + \\cdots + \\beta_q \\operatorname{E}_{T} \\varepsilon_{T-q+1} \n",
    "\\end{align}\n",
    "$$"
   ]
  },
  {
   "cell_type": "markdown",
   "id": "6e0a31e1",
   "metadata": {
    "slideshow": {
     "slide_type": "fragment"
    }
   },
   "source": [
    "$$\n",
    "\\operatorname{E}_{T} z_{T+2} = \\alpha_1 \\operatorname{E}_{T} z_{T+1} + \\alpha_2 z_{T} + \\cdots + \\alpha_p z_{T-p+2} + \\beta_2 \\operatorname{E}_{T} \\varepsilon_{T} + \\cdots + \\beta_q \\operatorname{E}_{T} \\varepsilon_{T-q+2}\n",
    "$$"
   ]
  },
  {
   "cell_type": "markdown",
   "id": "dd11627f",
   "metadata": {
    "slideshow": {
     "slide_type": "subslide"
    }
   },
   "source": [
    "* obtain $\\operatorname{E}_{T} \\varepsilon_{T}$, $\\operatorname{E}_{T} \\varepsilon_{T-1}$ etc as in the MA(q) case"
   ]
  },
  {
   "cell_type": "markdown",
   "id": "ce14c0b7",
   "metadata": {
    "slideshow": {
     "slide_type": "fragment"
    }
   },
   "source": [
    "$$ \n",
    "\\begin{align}\n",
    "\\boldsymbol \\alpha(L) z_t &= \\boldsymbol \\beta(L) \\varepsilon_t\\\\\n",
    "\\varepsilon_t  &= \\frac{\\boldsymbol \\alpha(L)}{\\boldsymbol \\beta(L)}z_t = \\boldsymbol \\psi(L)z_t \\\\ \n",
    "\\end{align}\n",
    "$$"
   ]
  },
  {
   "cell_type": "code",
   "execution_count": 5,
   "id": "bdf14a0a",
   "metadata": {
    "slideshow": {
     "slide_type": "fragment"
    },
    "tags": [
     "hide-input",
     "hide-output"
    ]
   },
   "outputs": [
    {
     "data": {
      "text/plain": [
       "array([ 1.   , -0.9  ,  0.09 , -0.009,  0.001, -0.   ,  0.   , -0.   ])"
      ]
     },
     "execution_count": 5,
     "metadata": {},
     "output_type": "execute_result"
    }
   ],
   "source": [
    "alpha = np.array([.8])\n",
    "beta = np.array([0.1])\n",
    "ar = np.r_[1, -alpha] # coefficient on z(t) and z(t-1)\n",
    "ma = np.r_[1, beta]  # coefficients on e(t) and e(t-1)\n",
    "arma11_process = ArmaProcess(ar, ma)\n",
    "\n",
    "arma11_process.arma2ar(8)"
   ]
  },
  {
   "cell_type": "markdown",
   "id": "4f87f3d8",
   "metadata": {
    "slideshow": {
     "slide_type": "subslide"
    }
   },
   "source": [
    "Using the $MA(\\infty)$ representation:\n",
    "\n",
    "$$ \n",
    "\\begin{align}\n",
    "\\boldsymbol \\alpha(L) z_t &= \\boldsymbol \\beta(L) \\varepsilon_t\\\\\n",
    "z_t  &= \\frac{\\boldsymbol \\beta(L)}{\\boldsymbol \\alpha(L)} \\varepsilon_t = \\boldsymbol \\phi(L) \\varepsilon_t\n",
    "\\end{align}\n",
    "$$"
   ]
  },
  {
   "cell_type": "markdown",
   "id": "3cdb0615",
   "metadata": {
    "slideshow": {
     "slide_type": "fragment"
    }
   },
   "source": [
    "we have \n",
    "$$ \n",
    "\\begin{align}\n",
    "z_{T+h}  = \\varepsilon_{T+h} + \\phi_1 \\varepsilon_{T+h-1} + \\phi_2 \\varepsilon_{T+h-2} + \\cdots + \\phi_h \\varepsilon_{T} + \\phi_{h+1} \\varepsilon_{T-1} + \\phi_{h+2} \\varepsilon_{T-2} + \\cdots \n",
    "\\end{align}\n",
    "$$\n",
    "\n",
    "and \n",
    "\n",
    "$$ \n",
    "\\begin{align}\n",
    "\\operatorname{E}_T z_{T+h}  = \\phi_h \\operatorname{E}_T  \\varepsilon_{T} + \\phi_{h+1} \\operatorname{E}_T \\varepsilon_{T-1} + \\phi_{h+2} \\operatorname{E}_T \\varepsilon_{T-2} + \\cdots \n",
    "\\end{align}\n",
    "$$"
   ]
  },
  {
   "cell_type": "markdown",
   "id": "2378f841",
   "metadata": {
    "slideshow": {
     "slide_type": "subslide"
    }
   },
   "source": [
    "* the MSE of forecast : \n",
    "\n",
    "$$\n",
    "\\operatorname{E} \\left[ \\left( z_{T+h}  - \\operatorname{E}(z_{T+h} | \\mathbf{z}_{T} ) \\right)^2 \\right] = \\sigma^2 \\left( 1 + \\phi_{1}^2 + \\phi_{2}^2 + \\cdots + \\phi_{h-1}^2 \\right)\n",
    "$$\n",
    "\n",
    "\n",
    "assuming (as for MA(q)) $\\operatorname{E}_{T} \\varepsilon_{T} \\approx  \\varepsilon_{T}$, $\\operatorname{E}_{T} \\varepsilon_{T-1} \\approx  \\varepsilon_{T-1}$, etc:"
   ]
  },
  {
   "cell_type": "markdown",
   "id": "38993380",
   "metadata": {
    "slideshow": {
     "slide_type": "subslide"
    }
   },
   "source": [
    "* in general $\\operatorname{E}(z_{T+h} | \\mathbf{z}) $ is unknown and non-linear function of $\\mathbf{z}$"
   ]
  },
  {
   "cell_type": "markdown",
   "id": "68eaf8cb",
   "metadata": {
    "slideshow": {
     "slide_type": "subslide"
    }
   },
   "source": [
    "## Gaussian time series model\n",
    "\n",
    "$$\n",
    "p(\\underbrace{z_1, z_2, \\cdots, z_T}_{\\mathbf{z}_1}, \\underbrace{z_{T+1},\\cdots, z_{T+h}}_{\\mathbf{z}_2}) = p(\\mathbf{z}_1, \\mathbf{z}_2) \\sim \\mathcal{N}(\\boldsymbol \\mu, \\mathbf{\\Sigma}).\n",
    "$$"
   ]
  },
  {
   "cell_type": "markdown",
   "id": "2d9b7f3c",
   "metadata": {
    "slideshow": {
     "slide_type": "fragment"
    }
   },
   "source": [
    "Then, \n",
    "\n",
    "$$\n",
    "p(\\mathbf{z}_2 | \\mathbf{z}_1) = \\mathcal{N}(\\boldsymbol \\mu_2 + \\mathbf{\\Sigma}_{2 1} \\mathbf{\\Sigma}^{-1}_{1 1} (\\mathbf{z}_1 - \\boldsymbol \\mu_1), \\mathbf{\\Sigma}_{2 2} - \\mathbf{\\Sigma}_{2 1}\\mathbf{\\Sigma}_{1 1}^{-1}\\mathbf{\\Sigma}_{1 2}) \n",
    "$$\n",
    "\n",
    "* $\\operatorname{E}(\\mathbf{z}_2 | \\mathbf{z}_1) = \\boldsymbol \\mu_2 + \\mathbf{\\Sigma}_{2 1} \\mathbf{\\Sigma}^{-1}_{1 1} (\\mathbf{z}_1 - \\boldsymbol \\mu_1)\\;\\;\\;\\;\\;$              __optimal forecast__\n",
    "* $\\operatorname{cov}(\\mathbf{z}_2 | \\mathbf{z}_1) = \\mathbf{\\Sigma}_{2 2} - \\mathbf{\\Sigma}_{2 1}\\mathbf{\\Sigma}_{1 1}^{-1}\\mathbf{\\Sigma}_{1 2}\\;\\;\\;\\;\\;\\;\\;\\;\\;$ __MSE of the optimal forecast__"
   ]
  },
  {
   "cell_type": "markdown",
   "id": "3266ebf8",
   "metadata": {
    "slideshow": {
     "slide_type": "subslide"
    }
   },
   "source": [
    "* we can restrict \"best\" to apply to linear functions only: __best linear predictor__ of $z_{T+h}$ given $\\mathbf{z}$\n",
    "\n",
    "$$\n",
    "z^{f}_{T+h} = \\beta_0 + \\mathbf{\\beta}'_1 \\mathbf{z} \\tag{1}\n",
    "$$"
   ]
  },
  {
   "cell_type": "markdown",
   "id": "ed5ec12f",
   "metadata": {
    "slideshow": {
     "slide_type": "skip"
    }
   },
   "source": [
    "* if the loss is the MSE, the  __best linear predictor__ is (1) with \n",
    "\n",
    "$$\n",
    "\\begin{align}\n",
    "\\beta_0 &= \\operatorname{E} z_{T+h} - \\operatorname{Cov} (z_{T+h},\\mathbf{z})  \\operatorname{Cov} (\\mathbf{z},\\mathbf{z})^{-1} \\operatorname{E} \\mathbf{z}\\\\ \n",
    "\\mathbf{\\beta}_1 &= \\operatorname{Cov} (z_{T+h},\\mathbf{z})  \\operatorname{Cov} (\\mathbf{z},\\mathbf{z})^{-1} \n",
    "\\end{align}\n",
    "$$"
   ]
  },
  {
   "cell_type": "markdown",
   "id": "b4d6e958",
   "metadata": {
    "slideshow": {
     "slide_type": "subslide"
    }
   },
   "source": [
    "## Prediction operator\n",
    "\n",
    "the __best linear prediction__ of random variable $y$ given a random vector $\\mathbf{z}$\n",
    "\n",
    "$$\n",
    "\\begin{align}\n",
    "\\operatorname{P}(y|\\mathbf{z}) &= \\mu_{y} + \\phi' \\left(\\mathbf{z} - \\mu_{\\mathbf{z}}\\right)\\\\\n",
    "\\text{}\\\\\n",
    "\\text{with}\\\\\n",
    "\\text{}\\\\\n",
    "\\phi' &=  \\operatorname{cov}(y,\\mathbf{z})' \\operatorname{cov}(\\mathbf{z},\\mathbf{z})^{-1} \n",
    "\\end{align}\n",
    "$$\n",
    "\n",
    "* has lowest MSE loss"
   ]
  },
  {
   "cell_type": "markdown",
   "id": "0b987e7a",
   "metadata": {
    "slideshow": {
     "slide_type": "fragment"
    }
   },
   "source": [
    "the __MSE__ of $\\operatorname{P}(y|\\mathbf{z})$:\n",
    "\n",
    "$$\n",
    "\\operatorname{E}\\left[\\left(y - \\operatorname{P}(y|\\mathbf{z}) \\right)^2\\right] = \\operatorname{var}(y) -  \\operatorname{cov}(y,\\mathbf{z})' \\operatorname{cov}(\\mathbf{z},\\mathbf{z})^{-1} \\operatorname{cov}(y,\\mathbf{z})\n",
    "$$"
   ]
  },
  {
   "cell_type": "markdown",
   "id": "784678b1",
   "metadata": {
    "slideshow": {
     "slide_type": "subslide"
    }
   },
   "source": [
    "__properties of $\\operatorname{P}(y|\\mathbf{z})$ :__\n",
    "\n",
    "* $\\operatorname{E} \\left(y - \\operatorname{P}(y|\\mathbf{z}) \\right) = 0$\n",
    "* $\\operatorname{E} \\left((y - \\operatorname{P}(y|\\mathbf{z}))\\mathbf{z} \\right) = 0$\n",
    "* $\\operatorname{P}\\left(z_i|\\mathbf{z}) \\right) = z_i$\n",
    "* $\\operatorname{P}\\left(y|\\mathbf{z}) \\right) = \\operatorname{E} y$, if $\\operatorname{cov}(y,\\mathbf{z})=0$"
   ]
  },
  {
   "cell_type": "markdown",
   "id": "98546a07",
   "metadata": {
    "slideshow": {
     "slide_type": "subslide"
    }
   },
   "source": [
    "### ARMA forecasting in Python"
   ]
  },
  {
   "cell_type": "code",
   "execution_count": 6,
   "id": "91616fb1",
   "metadata": {
    "slideshow": {
     "slide_type": "skip"
    },
    "tags": [
     "hide-input"
    ]
   },
   "outputs": [],
   "source": [
    "import pandas as pd\n",
    "import matplotlib.pyplot as plt\n",
    "from statsmodels.tsa.arima.model import ARIMA\n",
    "from numpy.random import default_rng"
   ]
  },
  {
   "cell_type": "markdown",
   "id": "809defdf",
   "metadata": {
    "slideshow": {
     "slide_type": "subslide"
    }
   },
   "source": [
    "* generate data from ARMA(1,1)"
   ]
  },
  {
   "cell_type": "code",
   "execution_count": 7,
   "id": "b8d44e9b",
   "metadata": {
    "slideshow": {
     "slide_type": "fragment"
    },
    "tags": [
     "hide-input"
    ]
   },
   "outputs": [],
   "source": [
    "gen = default_rng(100)\n",
    "T=700\n",
    "z = arma11_process.generate_sample(T, distrvs=gen.normal)"
   ]
  },
  {
   "cell_type": "markdown",
   "id": "028a3ab4",
   "metadata": {
    "slideshow": {
     "slide_type": "fragment"
    }
   },
   "source": [
    "* estimate"
   ]
  },
  {
   "cell_type": "code",
   "execution_count": 8,
   "id": "a7d5527f",
   "metadata": {
    "slideshow": {
     "slide_type": "subslide"
    },
    "tags": [
     "hide-input"
    ]
   },
   "outputs": [
    {
     "name": "stdout",
     "output_type": "stream",
     "text": [
      "                               SARIMAX Results                                \n",
      "==============================================================================\n",
      "Dep. Variable:                      y   No. Observations:                  700\n",
      "Model:                 ARIMA(1, 0, 1)   Log Likelihood                -998.176\n",
      "Date:                Mon, 21 Mar 2022   AIC                           2002.351\n",
      "Time:                        10:22:36   BIC                           2016.005\n",
      "Sample:                             0   HQIC                          2007.629\n",
      "                                - 700                                         \n",
      "Covariance Type:                  opg                                         \n",
      "==============================================================================\n",
      "                 coef    std err          z      P>|z|      [0.025      0.975]\n",
      "------------------------------------------------------------------------------\n",
      "ar.L1          0.8075      0.027     29.733      0.000       0.754       0.861\n",
      "ma.L1          0.0199      0.047      0.423      0.672      -0.072       0.112\n",
      "sigma2         1.0126      0.058     17.456      0.000       0.899       1.126\n",
      "===================================================================================\n",
      "Ljung-Box (L1) (Q):                   0.00   Jarque-Bera (JB):                 2.05\n",
      "Prob(Q):                              0.98   Prob(JB):                         0.36\n",
      "Heteroskedasticity (H):               1.06   Skew:                             0.06\n",
      "Prob(H) (two-sided):                  0.66   Kurtosis:                         2.76\n",
      "===================================================================================\n",
      "\n",
      "Warnings:\n",
      "[1] Covariance matrix calculated using the outer product of gradients (complex-step).\n"
     ]
    }
   ],
   "source": [
    "arma_model = ARIMA(z, order=(1, 0, 1), trend=\"n\")\n",
    "arma_results = arma_model.fit()\n",
    "print(arma_results.summary())"
   ]
  },
  {
   "cell_type": "markdown",
   "id": "cd17a072",
   "metadata": {
    "slideshow": {
     "slide_type": "subslide"
    }
   },
   "source": [
    "* forecast the next 5 values"
   ]
  },
  {
   "cell_type": "code",
   "execution_count": 9,
   "id": "d9ebc828",
   "metadata": {
    "slideshow": {
     "slide_type": "fragment"
    },
    "tags": [
     "hide-input"
    ]
   },
   "outputs": [
    {
     "data": {
      "text/plain": [
       "array([-0.816, -0.659, -0.532, -0.43 , -0.347])"
      ]
     },
     "execution_count": 9,
     "metadata": {},
     "output_type": "execute_result"
    }
   ],
   "source": [
    "arma_results.forecast(steps=5)"
   ]
  },
  {
   "cell_type": "markdown",
   "id": "2182ad41",
   "metadata": {
    "slideshow": {
     "slide_type": "fragment"
    }
   },
   "source": [
    "* get forecasts and CI"
   ]
  },
  {
   "cell_type": "code",
   "execution_count": 10,
   "id": "03db8134",
   "metadata": {
    "slideshow": {
     "slide_type": "subslide"
    },
    "tags": [
     "hide-input"
    ]
   },
   "outputs": [
    {
     "data": {
      "text/html": [
       "<div>\n",
       "<style scoped>\n",
       "    .dataframe tbody tr th:only-of-type {\n",
       "        vertical-align: middle;\n",
       "    }\n",
       "\n",
       "    .dataframe tbody tr th {\n",
       "        vertical-align: top;\n",
       "    }\n",
       "\n",
       "    .dataframe thead th {\n",
       "        text-align: right;\n",
       "    }\n",
       "</style>\n",
       "<table border=\"1\" class=\"dataframe\">\n",
       "  <thead>\n",
       "    <tr style=\"text-align: right;\">\n",
       "      <th>y</th>\n",
       "      <th>mean</th>\n",
       "      <th>mean_se</th>\n",
       "      <th>mean_ci_lower</th>\n",
       "      <th>mean_ci_upper</th>\n",
       "    </tr>\n",
       "  </thead>\n",
       "  <tbody>\n",
       "    <tr>\n",
       "      <th>0</th>\n",
       "      <td>-0.815737</td>\n",
       "      <td>1.006267</td>\n",
       "      <td>-2.787985</td>\n",
       "      <td>1.156510</td>\n",
       "    </tr>\n",
       "    <tr>\n",
       "      <th>1</th>\n",
       "      <td>-0.658719</td>\n",
       "      <td>1.306041</td>\n",
       "      <td>-3.218512</td>\n",
       "      <td>1.901073</td>\n",
       "    </tr>\n",
       "    <tr>\n",
       "      <th>2</th>\n",
       "      <td>-0.531925</td>\n",
       "      <td>1.468926</td>\n",
       "      <td>-3.410966</td>\n",
       "      <td>2.347116</td>\n",
       "    </tr>\n",
       "    <tr>\n",
       "      <th>3</th>\n",
       "      <td>-0.429537</td>\n",
       "      <td>1.566040</td>\n",
       "      <td>-3.498920</td>\n",
       "      <td>2.639846</td>\n",
       "    </tr>\n",
       "    <tr>\n",
       "      <th>4</th>\n",
       "      <td>-0.346857</td>\n",
       "      <td>1.626246</td>\n",
       "      <td>-3.534241</td>\n",
       "      <td>2.840527</td>\n",
       "    </tr>\n",
       "  </tbody>\n",
       "</table>\n",
       "</div>"
      ],
      "text/plain": [
       "y      mean   mean_se  mean_ci_lower  mean_ci_upper\n",
       "0 -0.815737  1.006267      -2.787985       1.156510\n",
       "1 -0.658719  1.306041      -3.218512       1.901073\n",
       "2 -0.531925  1.468926      -3.410966       2.347116\n",
       "3 -0.429537  1.566040      -3.498920       2.639846\n",
       "4 -0.346857  1.626246      -3.534241       2.840527"
      ]
     },
     "execution_count": 10,
     "metadata": {},
     "output_type": "execute_result"
    }
   ],
   "source": [
    "fcast_res = arma_results.get_forecast(steps=5,)\n",
    "fcast_res.summary_frame()"
   ]
  },
  {
   "cell_type": "markdown",
   "id": "26ca7daf",
   "metadata": {
    "slideshow": {
     "slide_type": "subslide"
    }
   },
   "source": [
    "* working with dates"
   ]
  },
  {
   "cell_type": "code",
   "execution_count": 11,
   "id": "edf13269",
   "metadata": {
    "slideshow": {
     "slide_type": "fragment"
    },
    "tags": [
     "hide-input"
    ]
   },
   "outputs": [
    {
     "data": {
      "text/html": [
       "<div>\n",
       "<style scoped>\n",
       "    .dataframe tbody tr th:only-of-type {\n",
       "        vertical-align: middle;\n",
       "    }\n",
       "\n",
       "    .dataframe tbody tr th {\n",
       "        vertical-align: top;\n",
       "    }\n",
       "\n",
       "    .dataframe thead th {\n",
       "        text-align: right;\n",
       "    }\n",
       "</style>\n",
       "<table border=\"1\" class=\"dataframe\">\n",
       "  <thead>\n",
       "    <tr style=\"text-align: right;\">\n",
       "      <th></th>\n",
       "      <th>z</th>\n",
       "    </tr>\n",
       "  </thead>\n",
       "  <tbody>\n",
       "    <tr>\n",
       "      <th>2021-12-31</th>\n",
       "      <td>-1.983945</td>\n",
       "    </tr>\n",
       "    <tr>\n",
       "      <th>2022-01-31</th>\n",
       "      <td>-3.883839</td>\n",
       "    </tr>\n",
       "    <tr>\n",
       "      <th>2022-02-28</th>\n",
       "      <td>-2.971514</td>\n",
       "    </tr>\n",
       "    <tr>\n",
       "      <th>2022-03-31</th>\n",
       "      <td>-2.339958</td>\n",
       "    </tr>\n",
       "    <tr>\n",
       "      <th>2022-04-30</th>\n",
       "      <td>-1.031274</td>\n",
       "    </tr>\n",
       "  </tbody>\n",
       "</table>\n",
       "</div>"
      ],
      "text/plain": [
       "                   z\n",
       "2021-12-31 -1.983945\n",
       "2022-01-31 -3.883839\n",
       "2022-02-28 -2.971514\n",
       "2022-03-31 -2.339958\n",
       "2022-04-30 -1.031274"
      ]
     },
     "execution_count": 11,
     "metadata": {},
     "output_type": "execute_result"
    }
   ],
   "source": [
    "data = pd.DataFrame(z, index=pd.date_range(start='1964', freq='M', periods=T), columns=['z'])\n",
    "data.tail() "
   ]
  },
  {
   "cell_type": "code",
   "execution_count": 13,
   "id": "acd898dd",
   "metadata": {
    "slideshow": {
     "slide_type": "skip"
    },
    "tags": [
     "hide-input"
    ]
   },
   "outputs": [],
   "source": [
    "arma_model = ARIMA(data, order=(1, 0, 1), trend=\"n\")\n",
    "arma_results = arma_model.fit()"
   ]
  },
  {
   "cell_type": "code",
   "execution_count": 14,
   "id": "76b910b9",
   "metadata": {
    "slideshow": {
     "slide_type": "subslide"
    },
    "tags": [
     "hide-input"
    ]
   },
   "outputs": [
    {
     "data": {
      "text/html": [
       "<div>\n",
       "<style scoped>\n",
       "    .dataframe tbody tr th:only-of-type {\n",
       "        vertical-align: middle;\n",
       "    }\n",
       "\n",
       "    .dataframe tbody tr th {\n",
       "        vertical-align: top;\n",
       "    }\n",
       "\n",
       "    .dataframe thead th {\n",
       "        text-align: right;\n",
       "    }\n",
       "</style>\n",
       "<table border=\"1\" class=\"dataframe\">\n",
       "  <thead>\n",
       "    <tr style=\"text-align: right;\">\n",
       "      <th>z</th>\n",
       "      <th>mean</th>\n",
       "      <th>mean_se</th>\n",
       "      <th>mean_ci_lower</th>\n",
       "      <th>mean_ci_upper</th>\n",
       "    </tr>\n",
       "  </thead>\n",
       "  <tbody>\n",
       "    <tr>\n",
       "      <th>2022-05-31</th>\n",
       "      <td>-0.815737</td>\n",
       "      <td>1.006267</td>\n",
       "      <td>-2.787985</td>\n",
       "      <td>1.156510</td>\n",
       "    </tr>\n",
       "    <tr>\n",
       "      <th>2022-06-30</th>\n",
       "      <td>-0.658719</td>\n",
       "      <td>1.306041</td>\n",
       "      <td>-3.218512</td>\n",
       "      <td>1.901073</td>\n",
       "    </tr>\n",
       "    <tr>\n",
       "      <th>2022-07-31</th>\n",
       "      <td>-0.531925</td>\n",
       "      <td>1.468926</td>\n",
       "      <td>-3.410966</td>\n",
       "      <td>2.347116</td>\n",
       "    </tr>\n",
       "    <tr>\n",
       "      <th>2022-08-31</th>\n",
       "      <td>-0.429537</td>\n",
       "      <td>1.566040</td>\n",
       "      <td>-3.498920</td>\n",
       "      <td>2.639846</td>\n",
       "    </tr>\n",
       "    <tr>\n",
       "      <th>2022-09-30</th>\n",
       "      <td>-0.346857</td>\n",
       "      <td>1.626246</td>\n",
       "      <td>-3.534241</td>\n",
       "      <td>2.840527</td>\n",
       "    </tr>\n",
       "  </tbody>\n",
       "</table>\n",
       "</div>"
      ],
      "text/plain": [
       "z               mean   mean_se  mean_ci_lower  mean_ci_upper\n",
       "2022-05-31 -0.815737  1.006267      -2.787985       1.156510\n",
       "2022-06-30 -0.658719  1.306041      -3.218512       1.901073\n",
       "2022-07-31 -0.531925  1.468926      -3.410966       2.347116\n",
       "2022-08-31 -0.429537  1.566040      -3.498920       2.639846\n",
       "2022-09-30 -0.346857  1.626246      -3.534241       2.840527"
      ]
     },
     "execution_count": 14,
     "metadata": {},
     "output_type": "execute_result"
    }
   ],
   "source": [
    "fcast_res = arma_results.get_forecast(steps=24)\n",
    "fcast = fcast_res.summary_frame()\n",
    "fcast.head()"
   ]
  },
  {
   "cell_type": "markdown",
   "id": "34411fc8",
   "metadata": {
    "slideshow": {
     "slide_type": "subslide"
    }
   },
   "source": [
    "* plot forecasts"
   ]
  },
  {
   "cell_type": "code",
   "execution_count": 15,
   "id": "4cea41c0",
   "metadata": {
    "slideshow": {
     "slide_type": "subslide"
    },
    "tags": [
     "hide-input"
    ]
   },
   "outputs": [
    {
     "data": {
      "image/png": "[encoded data removed]",
      "text/plain": [
       "<Figure size 1080x360 with 1 Axes>"
      ]
     },
     "metadata": {
      "needs_background": "light"
     },
     "output_type": "display_data"
    }
   ],
   "source": [
    "\n",
    "fig, ax = plt.subplots(figsize=(15, 5))\n",
    "\n",
    "# Plot the data (here we are subsetting it to get a better look at the forecasts)\n",
    "data.loc['2018':].plot(ax=ax)\n",
    "# Construct the forecasts\n",
    "fcast['mean'].plot(ax=ax, style='k--')\n",
    "ax.fill_between(fcast.index, fcast['mean_ci_lower'], fcast['mean_ci_upper'], color='k', alpha=0.1);\n",
    " "
   ]
  },
  {
   "cell_type": "markdown",
   "id": "cb0b2f6d",
   "metadata": {
    "slideshow": {
     "slide_type": "subslide"
    }
   },
   "source": [
    "## In-sample forecast evaluation"
   ]
  },
  {
   "cell_type": "markdown",
   "id": "f360ef01",
   "metadata": {
    "slideshow": {
     "slide_type": "fragment"
    }
   },
   "source": [
    "use \n",
    "\n",
    "$$ \\frac{1}{T} \\sum_{t=0}^{T-1} \\left( z_{t+1} - \\hat{z}^{f}_{t+1} \\right)^2 $$\n",
    "\n",
    "as an estimate of the MSE\n",
    "\n",
    "$$ \\operatorname{E}  \\left( (z_{t+1} - z^{f}_{t+1})^2 \\right)$$"
   ]
  },
  {
   "cell_type": "code",
   "execution_count": 16,
   "id": "a839770a",
   "metadata": {
    "slideshow": {
     "slide_type": "subslide"
    },
    "tags": [
     "hide-input",
     "hide-output"
    ]
   },
   "outputs": [
    {
     "data": {
      "text/html": [
       "<div>\n",
       "<style scoped>\n",
       "    .dataframe tbody tr th:only-of-type {\n",
       "        vertical-align: middle;\n",
       "    }\n",
       "\n",
       "    .dataframe tbody tr th {\n",
       "        vertical-align: top;\n",
       "    }\n",
       "\n",
       "    .dataframe thead th {\n",
       "        text-align: right;\n",
       "    }\n",
       "</style>\n",
       "<table border=\"1\" class=\"dataframe\">\n",
       "  <thead>\n",
       "    <tr style=\"text-align: right;\">\n",
       "      <th></th>\n",
       "      <th>z</th>\n",
       "      <th>forecast</th>\n",
       "      <th>forecast errors</th>\n",
       "    </tr>\n",
       "  </thead>\n",
       "  <tbody>\n",
       "    <tr>\n",
       "      <th>2021-12-31</th>\n",
       "      <td>-1.983945</td>\n",
       "      <td>-0.373014</td>\n",
       "      <td>-1.610931</td>\n",
       "    </tr>\n",
       "    <tr>\n",
       "      <th>2022-01-31</th>\n",
       "      <td>-3.883839</td>\n",
       "      <td>-1.634070</td>\n",
       "      <td>-2.249770</td>\n",
       "    </tr>\n",
       "    <tr>\n",
       "      <th>2022-02-28</th>\n",
       "      <td>-2.971514</td>\n",
       "      <td>-3.180953</td>\n",
       "      <td>0.209439</td>\n",
       "    </tr>\n",
       "    <tr>\n",
       "      <th>2022-03-31</th>\n",
       "      <td>-2.339958</td>\n",
       "      <td>-2.395378</td>\n",
       "      <td>0.055420</td>\n",
       "    </tr>\n",
       "    <tr>\n",
       "      <th>2022-04-30</th>\n",
       "      <td>-1.031274</td>\n",
       "      <td>-1.888448</td>\n",
       "      <td>0.857174</td>\n",
       "    </tr>\n",
       "  </tbody>\n",
       "</table>\n",
       "</div>"
      ],
      "text/plain": [
       "                   z  forecast  forecast errors\n",
       "2021-12-31 -1.983945 -0.373014        -1.610931\n",
       "2022-01-31 -3.883839 -1.634070        -2.249770\n",
       "2022-02-28 -2.971514 -3.180953         0.209439\n",
       "2022-03-31 -2.339958 -2.395378         0.055420\n",
       "2022-04-30 -1.031274 -1.888448         0.857174"
      ]
     },
     "execution_count": 16,
     "metadata": {},
     "output_type": "execute_result"
    }
   ],
   "source": [
    "data['forecast'] = arma_results.forecasts.flatten()\n",
    "data['forecast errors'] = arma_results.forecasts_error.flatten()\n",
    "\n",
    "data.tail()"
   ]
  },
  {
   "cell_type": "code",
   "execution_count": 17,
   "id": "0fc6090e",
   "metadata": {
    "slideshow": {
     "slide_type": "subslide"
    },
    "tags": [
     "hide-input",
     "hide-output"
    ]
   },
   "outputs": [
    {
     "data": {
      "text/plain": [
       "1.0138467224702907"
      ]
     },
     "execution_count": 17,
     "metadata": {},
     "output_type": "execute_result"
    }
   ],
   "source": [
    "(arma_results.forecasts_error**2).sum()/T"
   ]
  },
  {
   "cell_type": "code",
   "execution_count": 18,
   "id": "ca4f76d4",
   "metadata": {
    "slideshow": {
     "slide_type": "fragment"
    },
    "tags": [
     "hide-input",
     "hide-output"
    ]
   },
   "outputs": [
    {
     "data": {
      "text/plain": [
       "1.0138467224702907"
      ]
     },
     "execution_count": 18,
     "metadata": {},
     "output_type": "execute_result"
    }
   ],
   "source": [
    "arma_results.mse"
   ]
  },
  {
   "cell_type": "markdown",
   "id": "e16fcb1e",
   "metadata": {
    "slideshow": {
     "slide_type": "subslide"
    }
   },
   "source": [
    "In-sample forecasts are based on model estimated using the full sample\n",
    "\n",
    "* in AR(1) model\n",
    "\n",
    "$$\\hat{z}^{f}_{t+1} = \\hat{\\alpha} z_{t}$$\n",
    "\n",
    "introduces information from the future relative to the time ($t<T$) when forecasts are produced"
   ]
  },
  {
   "cell_type": "markdown",
   "id": "c4d25fae",
   "metadata": {
    "slideshow": {
     "slide_type": "subslide"
    }
   },
   "source": [
    "## Out-of-sample (OOS) forecast evaluation"
   ]
  },
  {
   "cell_type": "markdown",
   "id": "5d150849",
   "metadata": {
    "slideshow": {
     "slide_type": "fragment"
    }
   },
   "source": [
    "parameter estimates of the forecasting model use only information available at the time when the forecast is\n",
    "computed\n",
    "\n",
    "   + fit the model on a training sample $z_1, \\cdots, z_t$ for some $t=t_0<T$"
   ]
  },
  {
   "cell_type": "markdown",
   "id": "080564d4",
   "metadata": {
    "slideshow": {
     "slide_type": "fragment"
    }
   },
   "source": [
    "   + produce forecast $\\hat{z}^{f}_{t+1}$ from the end of that sample\n",
    "   "
   ]
  },
  {
   "cell_type": "markdown",
   "id": "a21e9df0",
   "metadata": {
    "slideshow": {
     "slide_type": "fragment"
    }
   },
   "source": [
    "   + compare to true value $z_{t+1}$"
   ]
  },
  {
   "cell_type": "markdown",
   "id": "33dd1203",
   "metadata": {
    "slideshow": {
     "slide_type": "fragment"
    }
   },
   "source": [
    "   + expand the sample to include the next observation, and repeat until $t=T-1$"
   ]
  },
  {
   "cell_type": "markdown",
   "id": "78e36ef2",
   "metadata": {
    "slideshow": {
     "slide_type": "fragment"
    }
   },
   "source": [
    "The OOS estimate of MSE\n",
    "\n",
    "$$ \\frac{1}{T-t_0} \\sum_{t=t_0-1}^{T-1} \\left( z_{t+1} - \\hat{z}^{f}_{t+1} \\right)^2 $$"
   ]
  },
  {
   "cell_type": "code",
   "execution_count": null,
   "id": "841b7175-b6f1-4011-89eb-53a8d0949c7d",
   "metadata": {
    "slideshow": {
     "slide_type": "skip"
    },
    "tags": [
     "hide-input"
    ]
   },
   "outputs": [],
   "source": [
    "data = data[['z']]"
   ]
  },
  {
   "cell_type": "code",
   "execution_count": 39,
   "id": "e6f8f191",
   "metadata": {
    "slideshow": {
     "slide_type": "subslide"
    },
    "tags": [
     "hide-input"
    ]
   },
   "outputs": [],
   "source": [
    "# Setup forecasts\n",
    "nforecasts = 1\n",
    "forecasts = {}\n",
    "\n",
    "# Get the number of initial training observations\n",
    "nobs = len(data)\n",
    "n_init_training = int(nobs * 0.8)\n",
    "\n",
    "# Create model for initial training sample, fit parameters\n",
    "init_training_endog = data.iloc[:n_init_training]\n",
    "mod = ARIMA(init_training_endog, order=(1, 0, 1), trend=\"n\")\n",
    "res = mod.fit()\n",
    "\n",
    "# Save initial forecast\n",
    "forecasts[init_training_endog.index[-1]] = res.forecast(steps=nforecasts)\n",
    "\n",
    "# Step through the rest of the sample\n",
    "for t in range(n_init_training, nobs-1):\n",
    "    # Update the results by appending the next observation\n",
    "    updated_data = data.iloc[t:t+1]\n",
    "    res = res.append(updated_data, refit=True)\n",
    "\n",
    "    # Save the new set of forecasts\n",
    "    forecasts[updated_data.index[0]] = res.forecast(steps=nforecasts)\n",
    "\n",
    "# Combine all forecasts into a dataframe\n",
    "forecasts = pd.concat(forecasts, axis=1)"
   ]
  },
  {
   "cell_type": "code",
   "execution_count": 40,
   "id": "f1dc2598",
   "metadata": {
    "slideshow": {
     "slide_type": "subslide"
    },
    "tags": [
     "hide-input",
     "hide-output"
    ]
   },
   "outputs": [
    {
     "data": {
      "text/html": [
       "<div>\n",
       "<style scoped>\n",
       "    .dataframe tbody tr th:only-of-type {\n",
       "        vertical-align: middle;\n",
       "    }\n",
       "\n",
       "    .dataframe tbody tr th {\n",
       "        vertical-align: top;\n",
       "    }\n",
       "\n",
       "    .dataframe thead th {\n",
       "        text-align: right;\n",
       "    }\n",
       "</style>\n",
       "<table border=\"1\" class=\"dataframe\">\n",
       "  <thead>\n",
       "    <tr style=\"text-align: right;\">\n",
       "      <th></th>\n",
       "      <th>2010-08-31</th>\n",
       "      <th>2010-09-30</th>\n",
       "      <th>2010-10-31</th>\n",
       "      <th>2010-11-30</th>\n",
       "      <th>2010-12-31</th>\n",
       "    </tr>\n",
       "  </thead>\n",
       "  <tbody>\n",
       "    <tr>\n",
       "      <th>2010-09-30</th>\n",
       "      <td>1.632432</td>\n",
       "      <td>NaN</td>\n",
       "      <td>NaN</td>\n",
       "      <td>NaN</td>\n",
       "      <td>NaN</td>\n",
       "    </tr>\n",
       "    <tr>\n",
       "      <th>2010-10-31</th>\n",
       "      <td>NaN</td>\n",
       "      <td>0.928112</td>\n",
       "      <td>NaN</td>\n",
       "      <td>NaN</td>\n",
       "      <td>NaN</td>\n",
       "    </tr>\n",
       "    <tr>\n",
       "      <th>2010-11-30</th>\n",
       "      <td>NaN</td>\n",
       "      <td>NaN</td>\n",
       "      <td>0.127096</td>\n",
       "      <td>NaN</td>\n",
       "      <td>NaN</td>\n",
       "    </tr>\n",
       "    <tr>\n",
       "      <th>2010-12-31</th>\n",
       "      <td>NaN</td>\n",
       "      <td>NaN</td>\n",
       "      <td>NaN</td>\n",
       "      <td>1.271923</td>\n",
       "      <td>NaN</td>\n",
       "    </tr>\n",
       "    <tr>\n",
       "      <th>2011-01-31</th>\n",
       "      <td>NaN</td>\n",
       "      <td>NaN</td>\n",
       "      <td>NaN</td>\n",
       "      <td>NaN</td>\n",
       "      <td>0.60945</td>\n",
       "    </tr>\n",
       "  </tbody>\n",
       "</table>\n",
       "</div>"
      ],
      "text/plain": [
       "            2010-08-31  2010-09-30  2010-10-31  2010-11-30  2010-12-31\n",
       "2010-09-30    1.632432         NaN         NaN         NaN         NaN\n",
       "2010-10-31         NaN    0.928112         NaN         NaN         NaN\n",
       "2010-11-30         NaN         NaN    0.127096         NaN         NaN\n",
       "2010-12-31         NaN         NaN         NaN    1.271923         NaN\n",
       "2011-01-31         NaN         NaN         NaN         NaN     0.60945"
      ]
     },
     "execution_count": 40,
     "metadata": {},
     "output_type": "execute_result"
    }
   ],
   "source": [
    "forecasts.iloc[:5, :5]"
   ]
  },
  {
   "cell_type": "code",
   "execution_count": 41,
   "id": "0ed119dd",
   "metadata": {
    "slideshow": {
     "slide_type": "skip"
    },
    "tags": [
     "hide-input",
     "hide-output"
    ]
   },
   "outputs": [
    {
     "data": {
      "text/html": [
       "<div>\n",
       "<style scoped>\n",
       "    .dataframe tbody tr th:only-of-type {\n",
       "        vertical-align: middle;\n",
       "    }\n",
       "\n",
       "    .dataframe tbody tr th {\n",
       "        vertical-align: top;\n",
       "    }\n",
       "\n",
       "    .dataframe thead th {\n",
       "        text-align: right;\n",
       "    }\n",
       "</style>\n",
       "<table border=\"1\" class=\"dataframe\">\n",
       "  <thead>\n",
       "    <tr style=\"text-align: right;\">\n",
       "      <th></th>\n",
       "      <th>2021-11-30</th>\n",
       "      <th>2021-12-31</th>\n",
       "      <th>2022-01-31</th>\n",
       "      <th>2022-02-28</th>\n",
       "      <th>2022-03-31</th>\n",
       "    </tr>\n",
       "  </thead>\n",
       "  <tbody>\n",
       "    <tr>\n",
       "      <th>2021-12-31</th>\n",
       "      <td>-0.373446</td>\n",
       "      <td>NaN</td>\n",
       "      <td>NaN</td>\n",
       "      <td>NaN</td>\n",
       "      <td>NaN</td>\n",
       "    </tr>\n",
       "    <tr>\n",
       "      <th>2022-01-31</th>\n",
       "      <td>NaN</td>\n",
       "      <td>-1.62698</td>\n",
       "      <td>NaN</td>\n",
       "      <td>NaN</td>\n",
       "      <td>NaN</td>\n",
       "    </tr>\n",
       "    <tr>\n",
       "      <th>2022-02-28</th>\n",
       "      <td>NaN</td>\n",
       "      <td>NaN</td>\n",
       "      <td>-3.185304</td>\n",
       "      <td>NaN</td>\n",
       "      <td>NaN</td>\n",
       "    </tr>\n",
       "    <tr>\n",
       "      <th>2022-03-31</th>\n",
       "      <td>NaN</td>\n",
       "      <td>NaN</td>\n",
       "      <td>NaN</td>\n",
       "      <td>-2.400559</td>\n",
       "      <td>NaN</td>\n",
       "    </tr>\n",
       "    <tr>\n",
       "      <th>2022-04-30</th>\n",
       "      <td>NaN</td>\n",
       "      <td>NaN</td>\n",
       "      <td>NaN</td>\n",
       "      <td>NaN</td>\n",
       "      <td>-1.891933</td>\n",
       "    </tr>\n",
       "  </tbody>\n",
       "</table>\n",
       "</div>"
      ],
      "text/plain": [
       "            2021-11-30  2021-12-31  2022-01-31  2022-02-28  2022-03-31\n",
       "2021-12-31   -0.373446         NaN         NaN         NaN         NaN\n",
       "2022-01-31         NaN    -1.62698         NaN         NaN         NaN\n",
       "2022-02-28         NaN         NaN   -3.185304         NaN         NaN\n",
       "2022-03-31         NaN         NaN         NaN   -2.400559         NaN\n",
       "2022-04-30         NaN         NaN         NaN         NaN   -1.891933"
      ]
     },
     "execution_count": 41,
     "metadata": {},
     "output_type": "execute_result"
    }
   ],
   "source": [
    "forecasts.iloc[-5:, -5:]"
   ]
  },
  {
   "cell_type": "code",
   "execution_count": 42,
   "id": "f624b880",
   "metadata": {
    "slideshow": {
     "slide_type": "subslide"
    },
    "tags": [
     "hide-input",
     "hide-output"
    ]
   },
   "outputs": [],
   "source": [
    "# Construct the forecast errors\n",
    "forecast_errors = {}\n",
    "for c in forecasts.columns:\n",
    "    forecast_errors[c] = data.iloc[n_init_training:, 0] - forecasts.loc[:,c]\n",
    "    \n",
    "forecast_errors = pd.DataFrame.from_dict(forecast_errors)    "
   ]
  },
  {
   "cell_type": "code",
   "execution_count": 43,
   "id": "2903e7d0",
   "metadata": {
    "slideshow": {
     "slide_type": "skip"
    },
    "tags": [
     "hide-input",
     "hide-output"
    ]
   },
   "outputs": [
    {
     "data": {
      "text/html": [
       "<div>\n",
       "<style scoped>\n",
       "    .dataframe tbody tr th:only-of-type {\n",
       "        vertical-align: middle;\n",
       "    }\n",
       "\n",
       "    .dataframe tbody tr th {\n",
       "        vertical-align: top;\n",
       "    }\n",
       "\n",
       "    .dataframe thead th {\n",
       "        text-align: right;\n",
       "    }\n",
       "</style>\n",
       "<table border=\"1\" class=\"dataframe\">\n",
       "  <thead>\n",
       "    <tr style=\"text-align: right;\">\n",
       "      <th>horizon</th>\n",
       "      <th>1</th>\n",
       "    </tr>\n",
       "  </thead>\n",
       "  <tbody>\n",
       "    <tr>\n",
       "      <th>2010-08-31</th>\n",
       "      <td>-0.496213</td>\n",
       "    </tr>\n",
       "    <tr>\n",
       "      <th>2010-09-30</th>\n",
       "      <td>-0.757934</td>\n",
       "    </tr>\n",
       "    <tr>\n",
       "      <th>2010-10-31</th>\n",
       "      <td>1.392945</td>\n",
       "    </tr>\n",
       "    <tr>\n",
       "      <th>2010-11-30</th>\n",
       "      <td>-0.523532</td>\n",
       "    </tr>\n",
       "    <tr>\n",
       "      <th>2010-12-31</th>\n",
       "      <td>-0.075812</td>\n",
       "    </tr>\n",
       "  </tbody>\n",
       "</table>\n",
       "</div>"
      ],
      "text/plain": [
       "horizon            1\n",
       "2010-08-31 -0.496213\n",
       "2010-09-30 -0.757934\n",
       "2010-10-31  1.392945\n",
       "2010-11-30 -0.523532\n",
       "2010-12-31 -0.075812"
      ]
     },
     "execution_count": 43,
     "metadata": {},
     "output_type": "execute_result"
    }
   ],
   "source": [
    "def flatten(column):\n",
    "    return column.dropna().reset_index(drop=True)\n",
    "\n",
    "flattened = forecast_errors.apply(flatten)\n",
    "flattened.index = (flattened.index + 1).rename('horizon')\n",
    "flattened.T.head()"
   ]
  },
  {
   "cell_type": "code",
   "execution_count": 44,
   "id": "cbb83fc5",
   "metadata": {
    "slideshow": {
     "slide_type": "skip"
    },
    "tags": [
     "hide-input"
    ]
   },
   "outputs": [],
   "source": [
    "forecast_errors = flattened.T.dropna().values.flatten()"
   ]
  },
  {
   "cell_type": "code",
   "execution_count": 45,
   "id": "a7442f2f",
   "metadata": {
    "slideshow": {
     "slide_type": "fragment"
    },
    "tags": [
     "hide-input",
     "hide-output"
    ]
   },
   "outputs": [
    {
     "name": "stdout",
     "output_type": "stream",
     "text": [
      "1.0117784839655213\n"
     ]
    }
   ],
   "source": [
    "# Compute the root mean square error\n",
    "rmse = (forecast_errors**2).mean()**0.5\n",
    "\n",
    "print(rmse)"
   ]
  }
 ],
 "metadata": {
  "celltoolbar": "Slideshow",
  "kernelspec": {
   "display_name": "Python 3 (ipykernel)",
   "language": "python",
   "name": "python3"
  },
  "language_info": {
   "codemirror_mode": {
    "name": "ipython",
    "version": 3
   },
   "file_extension": ".py",
   "mimetype": "text/x-python",
   "name": "python",
   "nbconvert_exporter": "python",
   "pygments_lexer": "ipython3",
   "version": "3.10.2"
  }
 },
 "nbformat": 4,
 "nbformat_minor": 5
}
