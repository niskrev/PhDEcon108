{
 "cells": [
  {
   "cell_type": "markdown",
   "id": "fafef622-fd25-43ae-ba01-779a2dff1267",
   "metadata": {},
   "source": [
    "# Algebra of AR, MA models"
   ]
  },
  {
   "cell_type": "code",
   "execution_count": 3,
   "id": "a2d366da-91ba-45a2-aaef-a77a7fd59220",
   "metadata": {
    "slideshow": {
     "slide_type": "skip"
    },
    "tags": [
     "hide-input"
    ]
   },
   "outputs": [],
   "source": [
    "import warnings\n",
    "warnings.simplefilter(\"ignore\", FutureWarning)\n",
    "import matplotlib.pyplot as plt\n",
    "import numpy as np\n",
    "from statsmodels.tsa.arima_process import arma_acovf, ArmaProcess\n",
    "from scipy.linalg import toeplitz\n",
    "\n",
    "from matplotlib import rc\n",
    "rc('font',**{'family':'serif','serif':['Palatino']})\n",
    "rc('text', usetex=True)\n",
    "\n",
    "\n",
    "plt.rcParams.update({'ytick.left' : True,\n",
    "                     \"xtick.bottom\" : True,\n",
    "                     \"ytick.major.size\": 0,\n",
    "                     \"ytick.major.width\": 0,\n",
    "                     \"xtick.major.size\": 0,\n",
    "                     \"xtick.major.width\": 0,\n",
    "                     \"ytick.direction\": 'in',\n",
    "                     \"xtick.direction\": 'in',\n",
    "                     'ytick.major.right': False,\n",
    "                     'xtick.major.top': True,\n",
    "                     'xtick.top': True,\n",
    "                     'ytick.right': True,\n",
    "                     'ytick.labelsize': 18,\n",
    "                     'xtick.labelsize': 18\n",
    "                    })\n",
    "\n",
    "np.random.seed(12345)"
   ]
  },
  {
   "cell_type": "markdown",
   "id": "b6adbaac",
   "metadata": {
    "slideshow": {
     "slide_type": "subslide"
    }
   },
   "source": [
    "## MA models"
   ]
  },
  {
   "cell_type": "markdown",
   "id": "00eb3d83",
   "metadata": {
    "slideshow": {
     "slide_type": "subslide"
    }
   },
   "source": [
    "__Example__:\n",
    "\n",
    "$$z_t = \\varepsilon_t + 0.4 \\varepsilon_{t-1}$$\n",
    "\n",
    "define in Python"
   ]
  },
  {
   "cell_type": "code",
   "execution_count": 45,
   "id": "6821ed2b",
   "metadata": {
    "slideshow": {
     "slide_type": "subslide"
    }
   },
   "outputs": [
    {
     "name": "stdout",
     "output_type": "stream",
     "text": [
      "ArmaProcess\n",
      "AR: [1.0]\n",
      "MA: [1.0, 0.4]\n"
     ]
    }
   ],
   "source": [
    "theta = np.array([.4])\n",
    "ar = np.r_[1] # coefficient on z_t\n",
    "ma = np.r_[1, theta]  # coefficients on e(t) and e(t-1)\n",
    "ma1_process = ArmaProcess(ar, ma)\n",
    "\n",
    "print(ma1_process)"
   ]
  },
  {
   "cell_type": "code",
   "execution_count": 46,
   "id": "33497700",
   "metadata": {
    "slideshow": {
     "slide_type": "subslide"
    }
   },
   "outputs": [
    {
     "data": {
      "text/plain": [
       "statsmodels.tsa.arima_process.ArmaProcess"
      ]
     },
     "execution_count": 46,
     "metadata": {},
     "output_type": "execute_result"
    }
   ],
   "source": [
    "# what is ma1_process?\n",
    "\n",
    "type(ma1_process)"
   ]
  },
  {
   "cell_type": "code",
   "execution_count": 47,
   "id": "215fcded",
   "metadata": {
    "slideshow": {
     "slide_type": "subslide"
    }
   },
   "outputs": [
    {
     "data": {
      "text/plain": [
       "['acf',\n",
       " 'acovf',\n",
       " 'ar',\n",
       " 'arcoefs',\n",
       " 'arma2ar',\n",
       " 'arma2ma',\n",
       " 'arpoly',\n",
       " 'arroots',\n",
       " 'from_coeffs',\n",
       " 'from_estimation',\n",
       " 'from_roots',\n",
       " 'generate_sample',\n",
       " 'impulse_response',\n",
       " 'invertroots',\n",
       " 'isinvertible',\n",
       " 'isstationary',\n",
       " 'ma',\n",
       " 'macoefs',\n",
       " 'mapoly',\n",
       " 'maroots',\n",
       " 'nobs',\n",
       " 'pacf',\n",
       " 'periodogram']"
      ]
     },
     "execution_count": 47,
     "metadata": {},
     "output_type": "execute_result"
    }
   ],
   "source": [
    "# what are ma1_process's attributes?\n",
    "\n",
    "[x for x in dir(ma1_process) if not x.startswith('__')]"
   ]
  },
  {
   "cell_type": "code",
   "execution_count": 48,
   "id": "eda71c70",
   "metadata": {
    "slideshow": {
     "slide_type": "subslide"
    }
   },
   "outputs": [
    {
     "data": {
      "text/latex": [
       "$x \\mapsto \\text{1.0} + \\text{0.4}\\,x$"
      ],
      "text/plain": [
       "Polynomial([1. , 0.4], domain=[-1,  1], window=[-1,  1])"
      ]
     },
     "execution_count": 48,
     "metadata": {},
     "output_type": "execute_result"
    }
   ],
   "source": [
    "ma1_process.mapoly # MA polynomial"
   ]
  },
  {
   "cell_type": "code",
   "execution_count": 49,
   "id": "cd0245dc",
   "metadata": {
    "slideshow": {
     "slide_type": "fragment"
    }
   },
   "outputs": [
    {
     "data": {
      "text/plain": [
       "array([-2.5])"
      ]
     },
     "execution_count": 49,
     "metadata": {},
     "output_type": "execute_result"
    }
   ],
   "source": [
    "ma1_process.maroots # MA roots"
   ]
  },
  {
   "cell_type": "markdown",
   "id": "830f48cc",
   "metadata": {
    "slideshow": {
     "slide_type": "subslide"
    }
   },
   "source": [
    "the MA root(s) solve the MA poly(nomial)"
   ]
  },
  {
   "cell_type": "code",
   "execution_count": 50,
   "id": "9999debb",
   "metadata": {
    "slideshow": {
     "slide_type": "fragment"
    }
   },
   "outputs": [
    {
     "data": {
      "text/plain": [
       "0.0"
      ]
     },
     "execution_count": 50,
     "metadata": {},
     "output_type": "execute_result"
    }
   ],
   "source": [
    "ma_root = -2.5\n",
    "1.0 + 0.4 * ma_root"
   ]
  },
  {
   "cell_type": "markdown",
   "id": "cd32410d-25aa-4850-81a1-36002036744b",
   "metadata": {},
   "source": [
    "Consider a MA(2) model"
   ]
  },
  {
   "cell_type": "code",
   "execution_count": 51,
   "id": "0d587412",
   "metadata": {
    "slideshow": {
     "slide_type": "subslide"
    }
   },
   "outputs": [],
   "source": [
    "theta = np.array([.6, -.3]) # coefficients on e(t-1) and e(t-2)\n",
    "ar = np.r_[1]  # coefficient on z_t\n",
    "ma = np.r_[1, theta]\n",
    "ma2_process = ArmaProcess(ar, ma)"
   ]
  },
  {
   "cell_type": "code",
   "execution_count": 52,
   "id": "9507c9ae",
   "metadata": {
    "slideshow": {
     "slide_type": "subslide"
    }
   },
   "outputs": [
    {
     "data": {
      "text/latex": [
       "$x \\mapsto \\text{1.0} + \\text{0.6}\\,x - \\text{0.3}\\,x^{2}$"
      ],
      "text/plain": [
       "Polynomial([ 1. ,  0.6, -0.3], domain=[-1,  1], window=[-1,  1])"
      ]
     },
     "execution_count": 52,
     "metadata": {},
     "output_type": "execute_result"
    }
   ],
   "source": [
    "ma2_process.mapoly"
   ]
  },
  {
   "cell_type": "code",
   "execution_count": 53,
   "id": "7d76e2c3",
   "metadata": {
    "slideshow": {
     "slide_type": "fragment"
    }
   },
   "outputs": [
    {
     "data": {
      "text/plain": [
       "array([-1.081666,  3.081666])"
      ]
     },
     "execution_count": 53,
     "metadata": {},
     "output_type": "execute_result"
    }
   ],
   "source": [
    "ma2_process.maroots"
   ]
  },
  {
   "cell_type": "code",
   "execution_count": 54,
   "id": "a7fe7a9f",
   "metadata": {
    "slideshow": {
     "slide_type": "fragment"
    }
   },
   "outputs": [
    {
     "data": {
      "text/plain": [
       "1.6653345369377348e-16"
      ]
     },
     "execution_count": 54,
     "metadata": {},
     "output_type": "execute_result"
    }
   ],
   "source": [
    "ma_root1 = ma2_process.maroots[0]\n",
    "expression1 = 1.0 + (0.6) * (ma_root1) - (0.3)*(ma_root1)**2    \n",
    "expression1"
   ]
  },
  {
   "cell_type": "markdown",
   "id": "6b23e78e",
   "metadata": {
    "slideshow": {
     "slide_type": "subslide"
    }
   },
   "source": [
    "```{admonition} **An aside**: \n",
    "Numerically, it is often difficult to distinguish very small numbers from exectly 0. We can confirm that the value is almost zero using the following assertion:\n",
    "```\n",
    "\n"
   ]
  },
  {
   "cell_type": "code",
   "execution_count": 55,
   "id": "c7deef3a",
   "metadata": {
    "slideshow": {
     "slide_type": "fragment"
    }
   },
   "outputs": [],
   "source": [
    "# using numpy\n",
    "from numpy.testing import assert_almost_equal   \n",
    "\n",
    "assert_almost_equal(0,expression1, err_msg=\"expression1 is NOT almost equal to 0!\")"
   ]
  },
  {
   "cell_type": "code",
   "execution_count": 69,
   "id": "46765159-893b-4884-94a3-5e440232ac07",
   "metadata": {},
   "outputs": [
    {
     "ename": "AssertionError",
     "evalue": "\nArrays are not almost equal to 7 decimals expression1 is NOT almost equal to 0!\n ACTUAL: 0.01\n DESIRED: 4.440892098500626e-16",
     "output_type": "error",
     "traceback": [
      "\u001b[1;31m---------------------------------------------------------------------------\u001b[0m",
      "\u001b[1;31mAssertionError\u001b[0m                            Traceback (most recent call last)",
      "Input \u001b[1;32mIn [69]\u001b[0m, in \u001b[0;36m<module>\u001b[1;34m\u001b[0m\n\u001b[0;32m      1\u001b[0m \u001b[38;5;66;03m#  here is what happens when the assertion is false\u001b[39;00m\n\u001b[1;32m----> 2\u001b[0m \u001b[43massert_almost_equal\u001b[49m\u001b[43m(\u001b[49m\u001b[38;5;241;43m0.01\u001b[39;49m\u001b[43m,\u001b[49m\u001b[43mexpression1\u001b[49m\u001b[43m,\u001b[49m\u001b[43m \u001b[49m\u001b[43merr_msg\u001b[49m\u001b[38;5;241;43m=\u001b[39;49m\u001b[38;5;124;43m\"\u001b[39;49m\u001b[38;5;124;43mexpression1 is NOT almost equal to 0!\u001b[39;49m\u001b[38;5;124;43m\"\u001b[39;49m\u001b[43m)\u001b[49m\n",
      "File \u001b[1;32m~\\AppData\\Local\\Continuum\\anaconda3\\envs\\teaching\\lib\\site-packages\\numpy\\testing\\_private\\utils.py:599\u001b[0m, in \u001b[0;36massert_almost_equal\u001b[1;34m(actual, desired, decimal, err_msg, verbose)\u001b[0m\n\u001b[0;32m    597\u001b[0m     \u001b[38;5;28;01mpass\u001b[39;00m\n\u001b[0;32m    598\u001b[0m \u001b[38;5;28;01mif\u001b[39;00m \u001b[38;5;28mabs\u001b[39m(desired \u001b[38;5;241m-\u001b[39m actual) \u001b[38;5;241m>\u001b[39m\u001b[38;5;241m=\u001b[39m \u001b[38;5;241m1.5\u001b[39m \u001b[38;5;241m*\u001b[39m \u001b[38;5;241m10.0\u001b[39m\u001b[38;5;241m*\u001b[39m\u001b[38;5;241m*\u001b[39m(\u001b[38;5;241m-\u001b[39mdecimal):\n\u001b[1;32m--> 599\u001b[0m     \u001b[38;5;28;01mraise\u001b[39;00m \u001b[38;5;167;01mAssertionError\u001b[39;00m(_build_err_msg())\n",
      "\u001b[1;31mAssertionError\u001b[0m: \nArrays are not almost equal to 7 decimals expression1 is NOT almost equal to 0!\n ACTUAL: 0.01\n DESIRED: 4.440892098500626e-16"
     ]
    }
   ],
   "source": [
    "#  here is what happens when the assertion is false\n",
    "assert_almost_equal(0.01,expression1, err_msg=\"expression1 is NOT almost equal to 0!\")"
   ]
  },
  {
   "cell_type": "code",
   "execution_count": 70,
   "id": "9f0de76b",
   "metadata": {
    "slideshow": {
     "slide_type": "fragment"
    }
   },
   "outputs": [],
   "source": [
    "# using standard python\n",
    "very_small_number = 0.00000001\n",
    "assert expression1 < very_small_number, \"expression1 is NOT larger than the 'very_small_number'!\""
   ]
  },
  {
   "cell_type": "code",
   "execution_count": 71,
   "id": "cccbe78d-d3a6-444f-a9a7-90d4f26cb98f",
   "metadata": {
    "slideshow": {
     "slide_type": "subslide"
    }
   },
   "outputs": [
    {
     "ename": "AssertionError",
     "evalue": "expression1 is NOT larger than the 'very_small_number'!",
     "output_type": "error",
     "traceback": [
      "\u001b[1;31m---------------------------------------------------------------------------\u001b[0m",
      "\u001b[1;31mAssertionError\u001b[0m                            Traceback (most recent call last)",
      "Input \u001b[1;32mIn [71]\u001b[0m, in \u001b[0;36m<module>\u001b[1;34m\u001b[0m\n\u001b[0;32m      1\u001b[0m \u001b[38;5;66;03m# here is what happens when the assertion is false\u001b[39;00m\n\u001b[0;32m      2\u001b[0m very_small_number \u001b[38;5;241m=\u001b[39m \u001b[38;5;241m0.00000001\u001b[39m\n\u001b[1;32m----> 3\u001b[0m \u001b[38;5;28;01massert\u001b[39;00m expression1 \u001b[38;5;241m>\u001b[39m very_small_number, \u001b[38;5;124m\"\u001b[39m\u001b[38;5;124mexpression1 is NOT larger than the \u001b[39m\u001b[38;5;124m'\u001b[39m\u001b[38;5;124mvery_small_number\u001b[39m\u001b[38;5;124m'\u001b[39m\u001b[38;5;124m!\u001b[39m\u001b[38;5;124m\"\u001b[39m\n",
      "\u001b[1;31mAssertionError\u001b[0m: expression1 is NOT larger than the 'very_small_number'!"
     ]
    }
   ],
   "source": [
    "# here is what happens when the assertion is false\n",
    "very_small_number = 0.00000001\n",
    "assert expression1 > very_small_number, \"expression1 is NOT larger than the 'very_small_number'!\""
   ]
  },
  {
   "cell_type": "code",
   "execution_count": 72,
   "id": "61ea0548",
   "metadata": {
    "slideshow": {
     "slide_type": "subslide"
    }
   },
   "outputs": [
    {
     "data": {
      "text/plain": [
       "0.0"
      ]
     },
     "execution_count": 72,
     "metadata": {},
     "output_type": "execute_result"
    }
   ],
   "source": [
    "ma_root2 = ma2_process.maroots[1]\n",
    "\n",
    "expression2 = 1.0 + (0.6) * (ma_root2) - (0.3)*(ma_root2)**2\n",
    "expression2"
   ]
  },
  {
   "cell_type": "markdown",
   "id": "32b22a1d",
   "metadata": {
    "slideshow": {
     "slide_type": "subslide"
    }
   },
   "source": [
    "## AR models"
   ]
  },
  {
   "cell_type": "markdown",
   "id": "da3c63cb",
   "metadata": {
    "slideshow": {
     "slide_type": "subslide"
    }
   },
   "source": [
    "__Example__:\n",
    "\n",
    "$$z_t = 0.8 z_{t-1} + \\varepsilon_t$$\n",
    "\n",
    "Define in Python"
   ]
  },
  {
   "cell_type": "code",
   "execution_count": 73,
   "id": "b3495bbc",
   "metadata": {
    "slideshow": {
     "slide_type": "subslide"
    }
   },
   "outputs": [
    {
     "name": "stdout",
     "output_type": "stream",
     "text": [
      "ArmaProcess\n",
      "AR: [1.0, -0.8]\n",
      "MA: [1.0]\n"
     ]
    }
   ],
   "source": [
    "alpha = .8 # coefficient on z(t-1)\n",
    "ar = np.r_[1, -alpha] \n",
    "ma = np.r_[1] # coefficient on e(t)\n",
    "ar1_process = ArmaProcess(ar, ma)\n",
    "\n",
    "print(ar1_process)"
   ]
  },
  {
   "cell_type": "code",
   "execution_count": 60,
   "id": "97bbda93",
   "metadata": {
    "slideshow": {
     "slide_type": "subslide"
    }
   },
   "outputs": [
    {
     "data": {
      "text/latex": [
       "$x \\mapsto \\text{1.0} - \\text{0.8}\\,x$"
      ],
      "text/plain": [
       "Polynomial([ 1. , -0.8], domain=[-1,  1], window=[-1,  1])"
      ]
     },
     "execution_count": 60,
     "metadata": {},
     "output_type": "execute_result"
    }
   ],
   "source": [
    "ar1_process.arpoly "
   ]
  },
  {
   "cell_type": "code",
   "execution_count": 61,
   "id": "e18b5120",
   "metadata": {
    "slideshow": {
     "slide_type": "fragment"
    }
   },
   "outputs": [
    {
     "data": {
      "text/plain": [
       "array([1.25])"
      ]
     },
     "execution_count": 61,
     "metadata": {},
     "output_type": "execute_result"
    }
   ],
   "source": [
    "ar1_process.arroots"
   ]
  },
  {
   "cell_type": "markdown",
   "id": "94717378",
   "metadata": {
    "slideshow": {
     "slide_type": "fragment"
    }
   },
   "source": [
    "the AR root(s) solves the AR poly(nomial)"
   ]
  },
  {
   "cell_type": "code",
   "execution_count": 62,
   "id": "dbf35b5c",
   "metadata": {
    "slideshow": {
     "slide_type": "fragment"
    }
   },
   "outputs": [
    {
     "data": {
      "text/plain": [
       "0.0"
      ]
     },
     "execution_count": 62,
     "metadata": {},
     "output_type": "execute_result"
    }
   ],
   "source": [
    "ar_root = 1.25\n",
    "1.0 - 0.8 * (ar_root)"
   ]
  },
  {
   "cell_type": "code",
   "execution_count": 63,
   "id": "9e4d1fdc",
   "metadata": {
    "slideshow": {
     "slide_type": "subslide"
    }
   },
   "outputs": [],
   "source": [
    "alpha = np.array([.4, .1]) \n",
    "ar = np.r_[1, -alpha]\n",
    "ma = np.r_[1] \n",
    "ar2_process = ArmaProcess(ar, ma)"
   ]
  },
  {
   "cell_type": "code",
   "execution_count": 64,
   "id": "68162645",
   "metadata": {
    "slideshow": {
     "slide_type": "fragment"
    }
   },
   "outputs": [
    {
     "data": {
      "text/latex": [
       "$x \\mapsto \\text{1.0} - \\text{0.4}\\,x - \\text{0.1}\\,x^{2}$"
      ],
      "text/plain": [
       "Polynomial([ 1. , -0.4, -0.1], domain=[-1,  1], window=[-1,  1])"
      ]
     },
     "execution_count": 64,
     "metadata": {},
     "output_type": "execute_result"
    }
   ],
   "source": [
    "ar2_process.arpoly"
   ]
  },
  {
   "cell_type": "code",
   "execution_count": 65,
   "id": "536fe2cd",
   "metadata": {
    "slideshow": {
     "slide_type": "fragment"
    }
   },
   "outputs": [
    {
     "data": {
      "text/plain": [
       "array([-5.74165739,  1.74165739])"
      ]
     },
     "execution_count": 65,
     "metadata": {},
     "output_type": "execute_result"
    }
   ],
   "source": [
    "ar2_process.arroots"
   ]
  },
  {
   "cell_type": "code",
   "execution_count": 66,
   "id": "2af0960d",
   "metadata": {
    "slideshow": {
     "slide_type": "subslide"
    }
   },
   "outputs": [
    {
     "data": {
      "text/plain": [
       "4.440892098500626e-16"
      ]
     },
     "execution_count": 66,
     "metadata": {},
     "output_type": "execute_result"
    }
   ],
   "source": [
    "ar_root1 = ar2_process.arroots[0]\n",
    "\n",
    "expression1 = 1.0 - (0.4) * (ar_root1) - (0.1)*(ar_root1)**2    \n",
    "expression1"
   ]
  },
  {
   "cell_type": "code",
   "execution_count": 67,
   "id": "5059245b",
   "metadata": {
    "slideshow": {
     "slide_type": "fragment"
    }
   },
   "outputs": [
    {
     "data": {
      "text/plain": [
       "-1.6653345369377348e-16"
      ]
     },
     "execution_count": 67,
     "metadata": {},
     "output_type": "execute_result"
    }
   ],
   "source": [
    "ar_root2 = ar2_process.arroots[1]\n",
    "\n",
    "expression2 = 1.0 - (0.4) * (ar_root2) - (0.1)*(ar_root2)**2    \n",
    "expression2"
   ]
  },
  {
   "cell_type": "markdown",
   "id": "463f3879",
   "metadata": {
    "slideshow": {
     "slide_type": "subslide"
    }
   },
   "source": [
    "## Lag operator \n",
    "\n",
    "$$ L z_{t} = z_{t-1} $$\n",
    "\n",
    "$$ L^2 z_{t} = L(L z_t) = Lz_{t-1} = z_{t-2} $$\n",
    "\n",
    "$$ L^n z_{t} = z_{t-n} $$\n",
    "\n",
    "```{note}\n",
    "aka Backshift operator\n",
    "```\n",
    "\n",
    "* polynomial of order $p$ in the lag operator\n",
    "\n",
    "$$ \\alpha(L) = \\alpha_0  + \\alpha_1 L + \\alpha_2 L^2 + \\cdots + \\alpha_p L^p$$\n",
    "\n",
    "* weighted moving average of $z_t$\n",
    "\n",
    "$$ \n",
    "\\begin{align}\n",
    "\\alpha(L)z_t &= z_t(\\alpha_0  + \\alpha_1 L + \\alpha_2 L^2 + \\cdots + \\alpha_p L^p) \\\\\n",
    "             &= \\alpha_0 z_t + \\alpha_1 z_{t-1} + \\alpha_2 z_{t-2} + \\cdots + \\alpha_p z_{t-p}\n",
    "\\end{align}\n",
    "$$"
   ]
  },
  {
   "cell_type": "markdown",
   "id": "f351dc32",
   "metadata": {
    "slideshow": {
     "slide_type": "slide"
    }
   },
   "source": [
    "### AR models in lag operator notation\n",
    "\n",
    "#### AR(1)\n",
    "$$\n",
    " z_{t} = \\alpha z_{t-1} + \\varepsilon_{t}\n",
    "$$\n",
    "\n",
    "$$\n",
    "(1- \\alpha L) z_{t} = \\varepsilon_{t}\n",
    "$$\n",
    "\n",
    "$$\n",
    " \\text{if } |\\alpha|< 1 \\rightarrow z_{t} = \\frac{1}{(1- \\alpha L)}\\varepsilon_{t}\n",
    "$$"
   ]
  },
  {
   "cell_type": "markdown",
   "id": "e2c035e5",
   "metadata": {
    "slideshow": {
     "slide_type": "fragment"
    }
   },
   "source": [
    "* geometric series result\n",
    "\n",
    "$$ \\sum_{j=0}^{\\infty} x^j = 1 + x + x^2+\\cdots= \\frac{1}{1-x}, \\;\\;\\; \\text{if } |x|<1$$"
   ]
  },
  {
   "cell_type": "markdown",
   "id": "513c93b6",
   "metadata": {
    "slideshow": {
     "slide_type": "subslide"
    }
   },
   "source": [
    "* in our case $x = \\alpha L$\n",
    "\n",
    "$$ \\frac{1}{(1- \\alpha L)} = \\sum_{j=0}^{\\infty} (\\alpha L)^j = 1 + \\alpha L + \\alpha^2 L^2+\\cdots$$"
   ]
  },
  {
   "cell_type": "markdown",
   "id": "5fc7d91c",
   "metadata": {
    "slideshow": {
     "slide_type": "fragment"
    }
   },
   "source": [
    "$$\n",
    " z_{t} = \\frac{1}{(1- \\alpha L)}\\varepsilon_{t} = \\varepsilon_{t} + \\alpha \\varepsilon_{t-1} + \\alpha^2 \\varepsilon_{t-2}+\\cdots = \\sum_{i=0}^{\\infty} \\alpha^i \\varepsilon_{t-i}\n",
    "$$\n",
    "\n",
    "* AR(1) is a MA($\\infty$)"
   ]
  },
  {
   "cell_type": "markdown",
   "id": "5df4c1de",
   "metadata": {
    "slideshow": {
     "slide_type": "subslide"
    }
   },
   "source": [
    "* another derivation of the variance of AR(1)"
   ]
  },
  {
   "cell_type": "markdown",
   "id": "74d95919",
   "metadata": {
    "slideshow": {
     "slide_type": "fragment"
    }
   },
   "source": [
    "$$\n",
    " z_{t} = \\varepsilon_{t} + \\alpha \\varepsilon_{t-1} + \\alpha^2 \\varepsilon_{t-2}+\\cdots \n",
    "$$\n",
    "\n",
    "$$\n",
    " \\operatorname{var}(z_{t}) =  \\operatorname{var}(\\varepsilon_{t}) + \\alpha^2  \\operatorname{var}(\\varepsilon_{t-1}) + \\alpha^4 \\operatorname{var}(\\varepsilon_{t-2}) + \\cdots = \\sigma^2 \\sum_{i=0}^{\\infty} (\\alpha^2)^i = \\frac{\\sigma^2}{1-\\alpha^2}\n",
    "$$"
   ]
  },
  {
   "cell_type": "markdown",
   "id": "60507f31",
   "metadata": {
    "slideshow": {
     "slide_type": "subslide"
    }
   },
   "source": [
    "* AR(1) is stationary if $|\\alpha|<1$"
   ]
  },
  {
   "cell_type": "markdown",
   "id": "4643d0eb",
   "metadata": {
    "slideshow": {
     "slide_type": "fragment"
    }
   },
   "source": [
    "* equivalent to polynomilal \n",
    "\n",
    "$$\\alpha(x) = 1 - \\alpha x$$\n",
    "\n",
    "having all roots $|x|>1$ (outside the unit circle)"
   ]
  },
  {
   "cell_type": "code",
   "execution_count": 27,
   "id": "e7e27c2e",
   "metadata": {
    "slideshow": {
     "slide_type": "subslide"
    }
   },
   "outputs": [
    {
     "data": {
      "text/latex": [
       "$x \\mapsto \\text{1.0} - \\text{0.8}\\,x$"
      ],
      "text/plain": [
       "Polynomial([ 1. , -0.8], domain=[-1,  1], window=[-1,  1])"
      ]
     },
     "execution_count": 27,
     "metadata": {},
     "output_type": "execute_result"
    }
   ],
   "source": [
    "ar1_process.arpoly"
   ]
  },
  {
   "cell_type": "code",
   "execution_count": 28,
   "id": "829eb1f0",
   "metadata": {
    "slideshow": {
     "slide_type": "fragment"
    }
   },
   "outputs": [
    {
     "data": {
      "text/plain": [
       "array([1.25])"
      ]
     },
     "execution_count": 28,
     "metadata": {},
     "output_type": "execute_result"
    }
   ],
   "source": [
    "ar1_process.arroots "
   ]
  },
  {
   "cell_type": "code",
   "execution_count": 29,
   "id": "16678d31",
   "metadata": {
    "slideshow": {
     "slide_type": "fragment"
    }
   },
   "outputs": [
    {
     "data": {
      "text/plain": [
       "array([ True])"
      ]
     },
     "execution_count": 29,
     "metadata": {},
     "output_type": "execute_result"
    }
   ],
   "source": [
    "np.abs(ar1_process.arroots)>1"
   ]
  },
  {
   "cell_type": "code",
   "execution_count": 30,
   "id": "edb6f09a",
   "metadata": {
    "slideshow": {
     "slide_type": "fragment"
    }
   },
   "outputs": [
    {
     "name": "stdout",
     "output_type": "stream",
     "text": [
      "True\n"
     ]
    }
   ],
   "source": [
    "print(ar1_process.isstationary)  "
   ]
  },
  {
   "cell_type": "markdown",
   "id": "b97a6d86",
   "metadata": {
    "slideshow": {
     "slide_type": "subslide"
    }
   },
   "source": [
    "* AR(q) process is stationary if <u>all</u> roots $z$ of the polynomial \n",
    "\n",
    "$$ \\alpha(x) = 1 - \\alpha_1 x - \\alpha_2 x^2 - \\cdots - \\alpha_q x^q$$\n",
    "\n",
    "are outside the unit circle ($|x|>1$)"
   ]
  },
  {
   "cell_type": "code",
   "execution_count": 31,
   "id": "1ae69532",
   "metadata": {
    "slideshow": {
     "slide_type": "subslide"
    }
   },
   "outputs": [
    {
     "data": {
      "text/latex": [
       "$x \\mapsto \\text{1.0} - \\text{0.4}\\,x - \\text{0.1}\\,x^{2}$"
      ],
      "text/plain": [
       "Polynomial([ 1. , -0.4, -0.1], domain=[-1,  1], window=[-1,  1])"
      ]
     },
     "execution_count": 31,
     "metadata": {},
     "output_type": "execute_result"
    }
   ],
   "source": [
    "ar2_process.arpoly"
   ]
  },
  {
   "cell_type": "code",
   "execution_count": 32,
   "id": "5147a6cf",
   "metadata": {
    "slideshow": {
     "slide_type": "fragment"
    }
   },
   "outputs": [
    {
     "data": {
      "text/plain": [
       "array([-5.74165739,  1.74165739])"
      ]
     },
     "execution_count": 32,
     "metadata": {},
     "output_type": "execute_result"
    }
   ],
   "source": [
    "ar2_process.arroots"
   ]
  },
  {
   "cell_type": "code",
   "execution_count": 33,
   "id": "e45e6fa9",
   "metadata": {
    "slideshow": {
     "slide_type": "fragment"
    }
   },
   "outputs": [
    {
     "data": {
      "text/plain": [
       "True"
      ]
     },
     "execution_count": 33,
     "metadata": {},
     "output_type": "execute_result"
    }
   ],
   "source": [
    "all(np.abs(ar2_process.arroots)>1)"
   ]
  },
  {
   "cell_type": "code",
   "execution_count": 34,
   "id": "f5264fe3",
   "metadata": {
    "slideshow": {
     "slide_type": "fragment"
    }
   },
   "outputs": [
    {
     "name": "stdout",
     "output_type": "stream",
     "text": [
      "True\n"
     ]
    }
   ],
   "source": [
    "print(ar2_process.isstationary) "
   ]
  },
  {
   "cell_type": "markdown",
   "id": "7186ac81",
   "metadata": {
    "slideshow": {
     "slide_type": "slide"
    }
   },
   "source": [
    "### MA models in lag operator notation"
   ]
  },
  {
   "cell_type": "markdown",
   "id": "d2a59058",
   "metadata": {
    "slideshow": {
     "slide_type": "subslide"
    }
   },
   "source": [
    "#### MA(1)\n",
    "\n",
    "$$\n",
    "z_{t} = \\varepsilon_{t} + \\theta  \\varepsilon_{t-1} \n",
    "$$"
   ]
  },
  {
   "cell_type": "markdown",
   "id": "bf66ec3c",
   "metadata": {
    "slideshow": {
     "slide_type": "fragment"
    }
   },
   "source": [
    "$$\n",
    "z_{t} = (1 + \\theta  L) \\varepsilon_{t} \n",
    "$$"
   ]
  },
  {
   "cell_type": "markdown",
   "id": "bcbd81fc",
   "metadata": {
    "slideshow": {
     "slide_type": "fragment"
    }
   },
   "source": [
    "$$\n",
    "\\varepsilon_{t} = \\frac{1}{(1 + \\theta  L)} z_{t} = z_{t} - \\theta z_{t-1} + \\theta^2 z_{t-2}+\\cdots = \\sum_{i=0}^{\\infty} (-\\theta)^i z_{t-i}, \\;\\;\\; \\textbf{if } |\\theta|<1\n",
    "$$"
   ]
  },
  {
   "cell_type": "markdown",
   "id": "898e398c",
   "metadata": {
    "slideshow": {
     "slide_type": "subslide"
    }
   },
   "source": [
    "* if $|\\theta|<1$ then $\\varepsilon_t$ can be represented in terms of the current and past values of $z_t$"
   ]
  },
  {
   "cell_type": "markdown",
   "id": "677e33a8",
   "metadata": {
    "slideshow": {
     "slide_type": "fragment"
    }
   },
   "source": [
    "* the process is __invertible__"
   ]
  },
  {
   "cell_type": "markdown",
   "id": "7c1d708a",
   "metadata": {
    "slideshow": {
     "slide_type": "fragment"
    }
   },
   "source": [
    "* MA(1) process for $z_t$ is a __stable__ AR(1) process for $\\varepsilon$"
   ]
  },
  {
   "cell_type": "markdown",
   "id": "d3f432c6",
   "metadata": {
    "slideshow": {
     "slide_type": "subslide"
    }
   },
   "source": [
    "#### MA models are <u>unidentified</u>"
   ]
  },
  {
   "cell_type": "markdown",
   "id": "827b151a",
   "metadata": {
    "slideshow": {
     "slide_type": "subslide"
    }
   },
   "source": [
    "__MA(1)__\n",
    "\n",
    "* model 1\n",
    "\n",
    "$$\n",
    "\\begin{align} \n",
    "z_{t} = \\varepsilon_{t} &+ \\theta  \\varepsilon_{t-1} ,  \\; \\operatorname{var} (\\varepsilon_{t})=\\sigma^2 \\\\\n",
    "&\\operatorname{var} (z) = \\sigma^2 + \\theta^2 \\sigma^2\\\\\n",
    "&\\operatorname{cov}(z_t, z_{t-1}) = \\theta \\sigma^2\\\\\n",
    "&\\operatorname{cov}(z_t, z_{t-h}) = 0\n",
    "\\end{align}\n",
    "$$"
   ]
  },
  {
   "cell_type": "markdown",
   "id": "74ff7990",
   "metadata": {
    "slideshow": {
     "slide_type": "subslide"
    }
   },
   "source": [
    "* model 2\n",
    "\n",
    "$$\n",
    "\\hat{z}_{t} = \\hat{\\varepsilon}_{t} + \\frac{1}{\\theta}  \\hat{\\varepsilon}_{t-1}, \\;\\;\\; \\operatorname{var} (\\hat{\\varepsilon}_{t})=\\sigma^2 \\theta^2\n",
    "$$"
   ]
  },
  {
   "cell_type": "markdown",
   "id": "3c0b474d",
   "metadata": {
    "slideshow": {
     "slide_type": "fragment"
    }
   },
   "source": [
    "equivalent to:\n",
    "\n",
    "$$\n",
    "\\hat{z}_{t} = \\theta \\varepsilon_{t} +  \\varepsilon_{t-1}, \\;\\;\\; \\operatorname{var} (\\varepsilon_{t})=\\sigma^2\n",
    "$$"
   ]
  },
  {
   "cell_type": "markdown",
   "id": "bad0f6da",
   "metadata": {
    "slideshow": {
     "slide_type": "fragment"
    }
   },
   "source": [
    "$$\n",
    "\\operatorname{var} (\\hat{z}) = \\theta^2 \\sigma^2 + \\frac{1}{\\theta^2}\\theta^2\\sigma^2 = \\theta^2 \\sigma^2 + \\sigma^2 =\\operatorname{var} (z)\n",
    "$$"
   ]
  },
  {
   "cell_type": "markdown",
   "id": "225eecb5",
   "metadata": {
    "slideshow": {
     "slide_type": "fragment"
    }
   },
   "source": [
    "$$\n",
    "\\operatorname{cov}(\\hat{z}_t, \\hat{z}_{t-1}) = \\frac{1}{\\theta} \\sigma^2 \\theta^2 = \\sigma^2 \\theta = \\operatorname{cov}(z_t, z_{t-1})\n",
    "$$"
   ]
  },
  {
   "cell_type": "markdown",
   "id": "edd07093",
   "metadata": {
    "slideshow": {
     "slide_type": "subslide"
    }
   },
   "source": [
    "* model 1 and model 2 are indistinguishable from variances and autocovariances\n",
    "* two different values of the parameters ($\\theta$ and $\\sigma$) produce the same value of the likelihood\n",
    "* if model 1 is invertable ($|\\theta|<1$), model 2 is not ($\\frac{1}{|\\theta|}>1$)\n",
    "* the invertible condition may be desirable to impose: think of $\\varepsilon_t$ as an economic shock (e.g. TFP). From the data ($z$) we observe only the effect of the shock, <u>not</u> the shock itself. Inverability implies that the values of the shock can be recovered from past values of $z_t$"
   ]
  },
  {
   "cell_type": "code",
   "execution_count": 35,
   "id": "34188ad2",
   "metadata": {
    "slideshow": {
     "slide_type": "subslide"
    }
   },
   "outputs": [
    {
     "data": {
      "text/plain": [
       "ArmaProcess([1.0], [1.0, 0.4], nobs=100) at 0x2297a713460"
      ]
     },
     "execution_count": 35,
     "metadata": {},
     "output_type": "execute_result"
    }
   ],
   "source": [
    "ma1_process"
   ]
  },
  {
   "cell_type": "code",
   "execution_count": 36,
   "id": "6d9c25b4",
   "metadata": {
    "slideshow": {
     "slide_type": "fragment"
    }
   },
   "outputs": [
    {
     "data": {
      "text/plain": [
       "True"
      ]
     },
     "execution_count": 36,
     "metadata": {},
     "output_type": "execute_result"
    }
   ],
   "source": [
    "ma1_process.isinvertible"
   ]
  },
  {
   "cell_type": "markdown",
   "id": "4ce3f7ef-5fd3-453f-a1c8-83bbc04d707f",
   "metadata": {},
   "source": [
    "Here is an example of a non-invertible MA(1) process"
   ]
  },
  {
   "cell_type": "code",
   "execution_count": 38,
   "id": "f4fdcb15",
   "metadata": {
    "slideshow": {
     "slide_type": "subslide"
    }
   },
   "outputs": [
    {
     "data": {
      "text/plain": [
       "ArmaProcess([1.0], [0.4, 1.0], nobs=100) at 0x2297e62ff10"
      ]
     },
     "execution_count": 38,
     "metadata": {},
     "output_type": "execute_result"
    }
   ],
   "source": [
    "non_invertible_ma1_process = ArmaProcess(1, [0.4, 1], )\n",
    "non_invertible_ma1_process"
   ]
  },
  {
   "cell_type": "markdown",
   "id": "029aa3b4-7cf2-44d3-b653-dd7b257d6aec",
   "metadata": {},
   "source": [
    "Compare the covariances with the one of the MA(1) process defined above:"
   ]
  },
  {
   "cell_type": "code",
   "execution_count": 39,
   "id": "51a89d78",
   "metadata": {
    "slideshow": {
     "slide_type": "fragment"
    }
   },
   "outputs": [
    {
     "data": {
      "text/plain": [
       "array([1.16, 0.4 , 0.  ])"
      ]
     },
     "execution_count": 39,
     "metadata": {},
     "output_type": "execute_result"
    }
   ],
   "source": [
    "non_invertible_ma1_process.acovf(3)"
   ]
  },
  {
   "cell_type": "code",
   "execution_count": 40,
   "id": "0e94c14b",
   "metadata": {
    "slideshow": {
     "slide_type": "fragment"
    }
   },
   "outputs": [
    {
     "data": {
      "text/plain": [
       "array([1.16, 0.4 , 0.  ])"
      ]
     },
     "execution_count": 40,
     "metadata": {},
     "output_type": "execute_result"
    }
   ],
   "source": [
    "ma1_process.acovf(3)"
   ]
  },
  {
   "cell_type": "markdown",
   "id": "4b0d8ca0-803e-46b2-bddf-679a7174eb68",
   "metadata": {},
   "source": [
    "The non-invertible process is __not__ invertible"
   ]
  },
  {
   "cell_type": "code",
   "execution_count": 41,
   "id": "8201d019",
   "metadata": {
    "slideshow": {
     "slide_type": "fragment"
    }
   },
   "outputs": [
    {
     "data": {
      "text/plain": [
       "False"
      ]
     },
     "execution_count": 41,
     "metadata": {},
     "output_type": "execute_result"
    }
   ],
   "source": [
    "non_invertible_ma1_process.isinvertible"
   ]
  },
  {
   "cell_type": "markdown",
   "id": "d34ce143-50e2-45c2-8710-3cb12553cf79",
   "metadata": {},
   "source": [
    "For a AR(2) models with coefficients $\\alpha_1$ and $\\alpha_2$, the stability conditions are the following:\n",
    "$$\n",
    "\\begin{align}\n",
    "\\alpha_1 + \\alpha_2 &< 1\\\\\n",
    "\\alpha_2 - \\alpha_1 &< 1\\\\\n",
    "-1<\\alpha_2 &<1\n",
    "\\end{align}\n",
    "$$\n",
    "\n",
    "This is known as the stability triangle."
   ]
  },
  {
   "cell_type": "code",
   "execution_count": 44,
   "id": "abd77a40",
   "metadata": {
    "slideshow": {
     "slide_type": "skip"
    }
   },
   "outputs": [
    {
     "data": {
      "text/plain": [
       "(True, True, True)"
      ]
     },
     "execution_count": 44,
     "metadata": {},
     "output_type": "execute_result"
    }
   ],
   "source": [
    "# stability triangle\n",
    "ar2_process.arcoefs.sum()<1, ar2_process.arcoefs[1] - ar2_process.arcoefs[0]<1, np.abs(ar2_process.arcoefs[1])<1"
   ]
  }
 ],
 "metadata": {
  "celltoolbar": "Slideshow",
  "kernelspec": {
   "display_name": "Python 3 (ipykernel)",
   "language": "python",
   "name": "python3"
  },
  "language_info": {
   "codemirror_mode": {
    "name": "ipython",
    "version": 3
   },
   "file_extension": ".py",
   "mimetype": "text/x-python",
   "name": "python",
   "nbconvert_exporter": "python",
   "pygments_lexer": "ipython3",
   "version": "3.10.2"
  }
 },
 "nbformat": 4,
 "nbformat_minor": 5
}
